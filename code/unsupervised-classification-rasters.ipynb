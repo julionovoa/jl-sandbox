{
 "cells": [
  {
   "cell_type": "code",
   "execution_count": 49,
   "metadata": {},
   "outputs": [],
   "source": [
    "using DataFrames, MLJ, Rasters, Plots"
   ]
  },
  {
   "cell_type": "code",
   "execution_count": 5,
   "metadata": {},
   "outputs": [
    {
     "data": {
      "text/plain": [
       "1748×1124×13 Raster{UInt16,3}\u001b[90m with dimensions: \u001b[39m\n",
       "  \u001b[31mX\u001b[39m Projected \u001b[36mrange(443690.0, stop=461160.0, length=1748)\u001b[39m ForwardOrdered Regular Intervals crs: WellKnownText,\n",
       "  \u001b[31mY\u001b[39m Projected \u001b[36mrange(5.38158e6, stop=5.37035e6, length=1124)\u001b[39m ReverseOrdered Regular Intervals crs: WellKnownText,\n",
       "  \u001b[31mBand\u001b[39m Categorical \u001b[36m1:13\u001b[39m ForwardOrdered\n",
       "\n",
       "\u001b[90mfrom file:\u001b[39m\n",
       "../../sentinel2_subset.tif"
      ]
     },
     "metadata": {},
     "output_type": "display_data"
    }
   ],
   "source": [
    "# Read raster\n",
    "s2 = Raster(\"../../sentinel2_subset.tif\")"
   ]
  },
  {
   "cell_type": "code",
   "execution_count": 56,
   "metadata": {},
   "outputs": [
    {
     "data": {
      "text/plain": [
       "4"
      ]
     },
     "metadata": {},
     "output_type": "display_data"
    }
   ],
   "source": [
    "# Subset\n",
    "img = s2[:,:,[2,3,4,8]]\n",
    "nrows = size(img)[1]\n",
    "ncols = size(img)[2]\n",
    "nbands = size(img)[3]"
   ]
  },
  {
   "cell_type": "code",
   "execution_count": 57,
   "metadata": {},
   "outputs": [
    {
     "data": {
      "text/html": [
       "<div class=\"data-frame\"><p>1,964,752 rows × 4 columns</p><table class=\"data-frame\"><thead><tr><th></th><th>x1</th><th>x2</th><th>x3</th><th>x4</th></tr><tr><th></th><th title=\"UInt16\">UInt16</th><th title=\"UInt16\">UInt16</th><th title=\"UInt16\">UInt16</th><th title=\"UInt16\">UInt16</th></tr></thead><tbody><tr><th>1</th><td>881</td><td>658</td><td>527</td><td>2203</td></tr><tr><th>2</th><td>835</td><td>675</td><td>429</td><td>2429</td></tr><tr><th>3</th><td>806</td><td>599</td><td>349</td><td>2033</td></tr><tr><th>4</th><td>806</td><td>619</td><td>327</td><td>1985</td></tr><tr><th>5</th><td>824</td><td>652</td><td>355</td><td>2142</td></tr><tr><th>6</th><td>853</td><td>643</td><td>365</td><td>2031</td></tr><tr><th>7</th><td>815</td><td>618</td><td>345</td><td>1815</td></tr><tr><th>8</th><td>814</td><td>579</td><td>332</td><td>1420</td></tr><tr><th>9</th><td>795</td><td>550</td><td>308</td><td>1372</td></tr><tr><th>10</th><td>825</td><td>599</td><td>327</td><td>1733</td></tr><tr><th>11</th><td>852</td><td>637</td><td>349</td><td>1700</td></tr><tr><th>12</th><td>853</td><td>620</td><td>364</td><td>1620</td></tr><tr><th>13</th><td>823</td><td>664</td><td>359</td><td>1622</td></tr><tr><th>14</th><td>868</td><td>648</td><td>410</td><td>1563</td></tr><tr><th>15</th><td>890</td><td>678</td><td>514</td><td>1563</td></tr><tr><th>16</th><td>840</td><td>668</td><td>455</td><td>1640</td></tr><tr><th>17</th><td>816</td><td>596</td><td>335</td><td>1987</td></tr><tr><th>18</th><td>809</td><td>617</td><td>311</td><td>2345</td></tr><tr><th>19</th><td>816</td><td>602</td><td>315</td><td>2251</td></tr><tr><th>20</th><td>805</td><td>558</td><td>298</td><td>2220</td></tr><tr><th>21</th><td>798</td><td>580</td><td>309</td><td>2104</td></tr><tr><th>22</th><td>804</td><td>565</td><td>320</td><td>1736</td></tr><tr><th>23</th><td>813</td><td>620</td><td>338</td><td>1739</td></tr><tr><th>24</th><td>810</td><td>599</td><td>333</td><td>1954</td></tr><tr><th>&vellip;</th><td>&vellip;</td><td>&vellip;</td><td>&vellip;</td><td>&vellip;</td></tr></tbody></table></div>"
      ],
      "text/latex": [
       "\\begin{tabular}{r|cccc}\n",
       "\t& x1 & x2 & x3 & x4\\\\\n",
       "\t\\hline\n",
       "\t& UInt16 & UInt16 & UInt16 & UInt16\\\\\n",
       "\t\\hline\n",
       "\t1 & 881 & 658 & 527 & 2203 \\\\\n",
       "\t2 & 835 & 675 & 429 & 2429 \\\\\n",
       "\t3 & 806 & 599 & 349 & 2033 \\\\\n",
       "\t4 & 806 & 619 & 327 & 1985 \\\\\n",
       "\t5 & 824 & 652 & 355 & 2142 \\\\\n",
       "\t6 & 853 & 643 & 365 & 2031 \\\\\n",
       "\t7 & 815 & 618 & 345 & 1815 \\\\\n",
       "\t8 & 814 & 579 & 332 & 1420 \\\\\n",
       "\t9 & 795 & 550 & 308 & 1372 \\\\\n",
       "\t10 & 825 & 599 & 327 & 1733 \\\\\n",
       "\t11 & 852 & 637 & 349 & 1700 \\\\\n",
       "\t12 & 853 & 620 & 364 & 1620 \\\\\n",
       "\t13 & 823 & 664 & 359 & 1622 \\\\\n",
       "\t14 & 868 & 648 & 410 & 1563 \\\\\n",
       "\t15 & 890 & 678 & 514 & 1563 \\\\\n",
       "\t16 & 840 & 668 & 455 & 1640 \\\\\n",
       "\t17 & 816 & 596 & 335 & 1987 \\\\\n",
       "\t18 & 809 & 617 & 311 & 2345 \\\\\n",
       "\t19 & 816 & 602 & 315 & 2251 \\\\\n",
       "\t20 & 805 & 558 & 298 & 2220 \\\\\n",
       "\t21 & 798 & 580 & 309 & 2104 \\\\\n",
       "\t22 & 804 & 565 & 320 & 1736 \\\\\n",
       "\t23 & 813 & 620 & 338 & 1739 \\\\\n",
       "\t24 & 810 & 599 & 333 & 1954 \\\\\n",
       "\t$\\dots$ & $\\dots$ & $\\dots$ & $\\dots$ & $\\dots$ \\\\\n",
       "\\end{tabular}\n"
      ],
      "text/plain": [
       "\u001b[1m1964752×4 DataFrame\u001b[0m\n",
       "\u001b[1m     Row \u001b[0m│\u001b[1m x1     \u001b[0m\u001b[1m x2     \u001b[0m\u001b[1m x3     \u001b[0m\u001b[1m x4     \u001b[0m\n",
       "\u001b[1m         \u001b[0m│\u001b[90m UInt16 \u001b[0m\u001b[90m UInt16 \u001b[0m\u001b[90m UInt16 \u001b[0m\u001b[90m UInt16 \u001b[0m\n",
       "─────────┼────────────────────────────────\n",
       "       1 │    881     658     527    2203\n",
       "       2 │    835     675     429    2429\n",
       "       3 │    806     599     349    2033\n",
       "       4 │    806     619     327    1985\n",
       "       5 │    824     652     355    2142\n",
       "       6 │    853     643     365    2031\n",
       "       7 │    815     618     345    1815\n",
       "       8 │    814     579     332    1420\n",
       "    ⋮    │   ⋮       ⋮       ⋮       ⋮\n",
       " 1964746 │    953     896     482    4338\n",
       " 1964747 │    969     943     523    4683\n",
       " 1964748 │   1018     964     577    4841\n",
       " 1964749 │    993     927     561    4668\n",
       " 1964750 │    917     784     455    2841\n",
       " 1964751 │    915     736     421    2331\n",
       " 1964752 │    991     829     592    2817\n",
       "\u001b[36m                      1964737 rows omitted\u001b[0m"
      ]
     },
     "metadata": {},
     "output_type": "display_data"
    }
   ],
   "source": [
    "# Create a dataframe\n",
    "df = img |>\n",
    "□ -> reshape(Array(□), (size(□)[1]*size(□)[2], size(□)[3])) |>\n",
    "□ -> DataFrame(□, :auto)"
   ]
  },
  {
   "cell_type": "code",
   "execution_count": 51,
   "metadata": {},
   "outputs": [
    {
     "name": "stdout",
     "output_type": "stream",
     "text": [
      "import MLJClusteringInterfaceimport MLJClusteringInterface ✔\n"
     ]
    },
    {
     "name": "stderr",
     "output_type": "stream",
     "text": [
      "┌ Info: For silent loading, specify `verbosity=0`. \n",
      "└ @ Main C:\\Users\\julio\\.julia\\packages\\MLJModels\\Ci1zC\\src\\loading.jl:168\n",
      "┌ Info: For silent loading, specify `verbosity=0`. \n",
      "└ @ Main C:\\Users\\julio\\.julia\\packages\\MLJModels\\Ci1zC\\src\\loading.jl:168\n"
     ]
    },
    {
     "data": {
      "text/plain": [
       "Pipeline295(\n",
       "    standardizer = Standardizer(\n",
       "            features = Symbol[],\n",
       "            ignore = false,\n",
       "            ordered_factor = false,\n",
       "            count = true),\n",
       "    k_means = KMeans(\n",
       "            k = 10,\n",
       "            metric = Distances.SqEuclidean(0.0)))"
      ]
     },
     "metadata": {},
     "output_type": "display_data"
    }
   ],
   "source": [
    "# K-Means pipeline\n",
    "model_kmeans = @load KMeans pkg=Clustering\n",
    "pipe_kmeans = @pipeline Standardizer(count=true) model_kmeans(k=10)"
   ]
  },
  {
   "cell_type": "code",
   "execution_count": 53,
   "metadata": {},
   "outputs": [
    {
     "name": "stderr",
     "output_type": "stream",
     "text": [
      "┌ Info: Training Machine{Pipeline295,…}.\n",
      "└ @ MLJBase C:\\Users\\julio\\.julia\\packages\\MLJBase\\pCiRR\\src\\machines.jl:464\n",
      "┌ Info: Training Machine{Standardizer,…}.\n",
      "└ @ MLJBase C:\\Users\\julio\\.julia\\packages\\MLJBase\\pCiRR\\src\\machines.jl:464\n",
      "┌ Info: Training Machine{KMeans,…}.\n",
      "└ @ MLJBase C:\\Users\\julio\\.julia\\packages\\MLJBase\\pCiRR\\src\\machines.jl:464\n"
     ]
    },
    {
     "data": {
      "text/plain": [
       "(k_means = (assignments = [1, 4, 6, 6, 4, 4, 6, 10, 10, 6  …  8, 8, 8, 8, 8, 7, 8, 8, 8, 7],\n",
       "            cluster_labels = CategoricalArrays.CategoricalValue{Int64, UInt32}[1, 2, 3, 4, 5, 6, 7, 8, 9, 10],),\n",
       " standardizer = (features_fit = [:x2, :x3, :x4, :x1],),\n",
       " machines = Machine[Machine{Standardizer,…}, Machine{KMeans,…}],\n",
       " report_given_machine = OrderedCollections.LittleDict{Any, Any, Vector{Any}, Vector{Any}}(Machine{Standardizer,…} => (features_fit = [:x2, :x3, :x4, :x1],), Machine{KMeans,…} => (assignments = [1, 4, 6, 6, 4, 4, 6, 10, 10, 6  …  8, 8, 8, 8, 8, 7, 8, 8, 8, 7], cluster_labels = CategoricalArrays.CategoricalValue{Int64, UInt32}[1, 2, 3, 4, 5, 6, 7, 8, 9, 10])),)"
      ]
     },
     "metadata": {},
     "output_type": "display_data"
    }
   ],
   "source": [
    "# Fit the model and get the report\n",
    "machine_kmeans = machine(pipe_kmeans, df) |> fit!\n",
    "report_kmeans = report(machine_kmeans)"
   ]
  },
  {
   "cell_type": "code",
   "execution_count": 55,
   "metadata": {},
   "outputs": [],
   "source": [
    "# Add a new column with the clusters\n",
    "clusters = collect(report_kmeans.k_means.assignments);"
   ]
  },
  {
   "cell_type": "code",
   "execution_count": 59,
   "metadata": {},
   "outputs": [
    {
     "data": {
      "text/plain": [
       "Vector{Int64} (alias for Array{Int64, 1})"
      ]
     },
     "metadata": {},
     "output_type": "display_data"
    }
   ],
   "source": [
    "typeof(clusters)"
   ]
  },
  {
   "cell_type": "code",
   "execution_count": 60,
   "metadata": {},
   "outputs": [
    {
     "data": {
      "text/plain": [
       "1748×1124×1 Array{Int64, 3}:\n",
       "[:, :, 1] =\n",
       "  1   1   7   1   6  10  10  10  10  10  …   1   8  8  7  7  1  6  4  4  4  4\n",
       "  4   1   1   6   6  10  10  10   6  10      1   4  8  8  8  6  4  4  4  4  4\n",
       "  6   6   6  10  10  10  10   6   4   4      8   8  8  4  8  4  4  8  4  8  4\n",
       "  6   6   6   6  10  10   6   4   4   4      8   8  1  1  8  4  4  8  8  8  6\n",
       "  4   6   6  10  10   6   6   6   4   6      8   8  1  6  4  4  8  8  8  8  6\n",
       "  4   6  10  10  10   6   6   6   6   4  …   8   8  4  4  8  8  8  8  8  8  4\n",
       "  6   6   6   6   6   6   4   4   6   4      1   1  4  8  8  8  8  8  8  8  6\n",
       " 10   6   6   6   6   6   6   4   4   6      1   8  8  8  8  8  8  8  8  8  6\n",
       " 10  10  10   6   6   6   6   4   4   6      7   8  4  8  8  8  4  8  8  7  1\n",
       "  6  10   6   1   1   1   6   6   4   4      7   7  1  8  8  8  8  8  8  8  4\n",
       "  ⋮                   ⋮                  ⋱          ⋮              ⋮        \n",
       "  6   6   6   6  10  10   6   6   6   6     10  10  6  6  4  8  7  7  1  1  8\n",
       "  6   4   6   6  10  10   6  10   6   6  …   6   6  6  4  4  8  7  7  8  8  8\n",
       "  6   6   6   6   6  10  10  10   6   6      6   6  4  4  8  8  8  8  8  8  8\n",
       "  6   6  10   6  10  10   6  10  10  10      6   6  4  4  4  8  8  7  7  7  8\n",
       "  1   1  10  10  10  10   6  10  10  10      4   8  4  4  6  4  8  7  3  3  7\n",
       "  8   1   9   9  10   6  10  10   6  10      8   8  1  1  1  1  8  8  7  3  8\n",
       "  8   1  10  10  10  10  10  10   6   6  …   8   8  8  7  7  7  7  7  3  7  8\n",
       "  1   1   5   9   9   9  10  10   6   6      8   7  1  1  7  7  7  3  3  7  8\n",
       "  5   5   5   9   9   9  10  10   6   6      8   7  1  1  8  7  7  7  3  7  7"
      ]
     },
     "metadata": {},
     "output_type": "display_data"
    }
   ],
   "source": [
    "# Create the output raster\n",
    "kmeans_raster = reshape(clusters, (nrows, ncols, 1)) \n",
    "# |>\n",
    "# □ -> reverse(□, dims=2) |>\n",
    "# □ -> Raster(□)\n",
    "#  |>\n",
    "# □ -> GeoArrays.bbox!(□, boundary_box) |>\n",
    "# □ -> GeoArrays.epsg!(□, 32610)"
   ]
  }
 ],
 "metadata": {
  "kernelspec": {
   "display_name": "Julia 1.7.1",
   "language": "julia",
   "name": "julia-1.7"
  },
  "language_info": {
   "file_extension": ".jl",
   "mimetype": "application/julia",
   "name": "julia",
   "version": "1.7.1"
  },
  "orig_nbformat": 4
 },
 "nbformat": 4,
 "nbformat_minor": 2
}
