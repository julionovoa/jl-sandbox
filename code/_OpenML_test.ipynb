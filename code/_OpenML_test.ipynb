{
 "cells": [
  {
   "cell_type": "code",
   "execution_count": 14,
   "metadata": {},
   "outputs": [],
   "source": [
    "using CairoMakie\n",
    "using CSV\n",
    "using DataFrames\n",
    "using MLJ\n",
    "using MLJOpenML"
   ]
  },
  {
   "cell_type": "code",
   "execution_count": 12,
   "metadata": {},
   "outputs": [
    {
     "data": {
      "text/html": [
       "<div class=\"data-frame\"><p>7 rows × 7 columns</p><table class=\"data-frame\"><thead><tr><th></th><th>variable</th><th>mean</th><th>min</th><th>median</th><th>max</th><th>nmissing</th><th>eltype</th></tr><tr><th></th><th title=\"Symbol\">Symbol</th><th title=\"Nothing\">Nothing</th><th title=\"SubString{String}\">SubStrin…</th><th title=\"Nothing\">Nothing</th><th title=\"SubString{String}\">SubStrin…</th><th title=\"Int64\">Int64</th><th title=\"DataType\">DataType</th></tr></thead><tbody><tr><th>1</th><td>species</td><td></td><td>&quot;Adelie&quot;</td><td></td><td>&quot;Gentoo&quot;</td><td>0</td><td>SubString{String}</td></tr><tr><th>2</th><td>island</td><td></td><td>&quot;Biscoe&quot;</td><td></td><td>&quot;Torgersen&quot;</td><td>0</td><td>SubString{String}</td></tr><tr><th>3</th><td>culmen_length_mm</td><td></td><td>32.1</td><td></td><td>?</td><td>0</td><td>SubString{String}</td></tr><tr><th>4</th><td>culmen_depth_mm</td><td></td><td>13.1</td><td></td><td>?</td><td>0</td><td>SubString{String}</td></tr><tr><th>5</th><td>flipper_length_mm</td><td></td><td>172.0</td><td></td><td>?</td><td>0</td><td>SubString{String}</td></tr><tr><th>6</th><td>body_mass_g</td><td></td><td>2700.0</td><td></td><td>?</td><td>0</td><td>SubString{String}</td></tr><tr><th>7</th><td>sex</td><td></td><td>&quot;FEMALE&quot;</td><td></td><td>?</td><td>0</td><td>SubString{String}</td></tr></tbody></table></div>"
      ],
      "text/latex": [
       "\\begin{tabular}{r|ccccccc}\n",
       "\t& variable & mean & min & median & max & nmissing & eltype\\\\\n",
       "\t\\hline\n",
       "\t& Symbol & Nothing & SubStrin… & Nothing & SubStrin… & Int64 & DataType\\\\\n",
       "\t\\hline\n",
       "\t1 & species &  & \"Adelie\" &  & \"Gentoo\" & 0 & SubString\\{String\\} \\\\\n",
       "\t2 & island &  & \"Biscoe\" &  & \"Torgersen\" & 0 & SubString\\{String\\} \\\\\n",
       "\t3 & culmen\\_length\\_mm &  & 32.1 &  & ? & 0 & SubString\\{String\\} \\\\\n",
       "\t4 & culmen\\_depth\\_mm &  & 13.1 &  & ? & 0 & SubString\\{String\\} \\\\\n",
       "\t5 & flipper\\_length\\_mm &  & 172.0 &  & ? & 0 & SubString\\{String\\} \\\\\n",
       "\t6 & body\\_mass\\_g &  & 2700.0 &  & ? & 0 & SubString\\{String\\} \\\\\n",
       "\t7 & sex &  & \"FEMALE\" &  & ? & 0 & SubString\\{String\\} \\\\\n",
       "\\end{tabular}\n"
      ],
      "text/plain": [
       "\u001b[1m7×7 DataFrame\u001b[0m\n",
       "\u001b[1m Row \u001b[0m│\u001b[1m variable          \u001b[0m\u001b[1m mean    \u001b[0m\u001b[1m min       \u001b[0m\u001b[1m median  \u001b[0m\u001b[1m max         \u001b[0m\u001b[1m nmissing \u001b[0m\u001b[1m \u001b[0m ⋯\n",
       "\u001b[1m     \u001b[0m│\u001b[90m Symbol            \u001b[0m\u001b[90m Nothing \u001b[0m\u001b[90m SubStrin… \u001b[0m\u001b[90m Nothing \u001b[0m\u001b[90m SubStrin…   \u001b[0m\u001b[90m Int64    \u001b[0m\u001b[90m \u001b[0m ⋯\n",
       "─────┼──────────────────────────────────────────────────────────────────────────\n",
       "   1 │ species           \u001b[90m         \u001b[0m \"Adelie\"  \u001b[90m         \u001b[0m \"Gentoo\"            0   ⋯\n",
       "   2 │ island            \u001b[90m         \u001b[0m \"Biscoe\"  \u001b[90m         \u001b[0m \"Torgersen\"         0\n",
       "   3 │ culmen_length_mm  \u001b[90m         \u001b[0m 32.1      \u001b[90m         \u001b[0m ?                   0\n",
       "   4 │ culmen_depth_mm   \u001b[90m         \u001b[0m 13.1      \u001b[90m         \u001b[0m ?                   0\n",
       "   5 │ flipper_length_mm \u001b[90m         \u001b[0m 172.0     \u001b[90m         \u001b[0m ?                   0   ⋯\n",
       "   6 │ body_mass_g       \u001b[90m         \u001b[0m 2700.0    \u001b[90m         \u001b[0m ?                   0\n",
       "   7 │ sex               \u001b[90m         \u001b[0m \"FEMALE\"  \u001b[90m         \u001b[0m ?                   0\n",
       "\u001b[36m                                                                1 column omitted\u001b[0m"
      ]
     },
     "metadata": {},
     "output_type": "display_data"
    }
   ],
   "source": [
    "p = DataFrame(load(42585))\n",
    "describe(p)"
   ]
  },
  {
   "cell_type": "code",
   "execution_count": 15,
   "metadata": {},
   "outputs": [
    {
     "data": {
      "text/plain": [
       "get_data (generic function with 1 method)"
      ]
     },
     "metadata": {},
     "output_type": "display_data"
    }
   ],
   "source": [
    "# Import and unpack training dataset function\n",
    "function get_data(csv_path, col_names, new_col_names, response_var)\n",
    "    df = CSV.read(csv_path, DataFrame, missingstring=\"NA\") |>\n",
    "    x -> select(x, col_names) |>\n",
    "    x -> rename(x, new_col_names) |>\n",
    "    dropmissing |>\n",
    "    x -> coerce(x, :pl=>Continuous, :sx=>Continuous, :snr=>Multiclass, :smr=>Multiclass)\n",
    "    # Split predictors/responde variable\n",
    "    y, X = unpack(df, ==(Symbol(response_var)), _->true; rng=1010)\n",
    "    return y, X\n",
    "end\n"
   ]
  },
  {
   "cell_type": "code",
   "execution_count": 16,
   "metadata": {},
   "outputs": [],
   "source": [
    "csv_path = \"C:/Users/julio/Downloads/lichen_training.csv\"\n",
    "col_names = [\"Total.lichen\", \"basal_area\", \"PL\", \"mean_Long\", \"mean_Lat\", \"Aspect_south\", \"SNR\", \"SMR\", \"SX\"]\n",
    "new_col_names = [\"biomass\", \"basalarea\", \"pl\", \"lon\", \"lat\", \"south\", \"snr\", \"smr\", \"sx\"]\n",
    "response_var = \"biomass\"\n",
    "\n",
    "y, X = get_data(csv_path, col_names, new_col_names, response_var);"
   ]
  },
  {
   "cell_type": "code",
   "execution_count": 17,
   "metadata": {},
   "outputs": [
    {
     "ename": "ErrorException",
     "evalue": "type String has no field scitype",
     "output_type": "error",
     "traceback": [
      "type String has no field scitype\n",
      "\n",
      "Stacktrace:\n",
      "  [1] getproperty\n",
      "    @ .\\Base.jl:42 [inlined]\n",
      "  [2] (::var\"#11#12\")(col::String)\n",
      "    @ Main .\\none:0\n",
      "  [3] iterate\n",
      "    @ .\\iterators.jl:447 [inlined]\n",
      "  [4] iterate\n",
      "    @ .\\generator.jl:44 [inlined]\n",
      "  [5] grow_to!\n",
      "    @ .\\array.jl:797 [inlined]\n",
      "  [6] collect(itr::Base.Generator{Base.Iterators.Filter{var\"#11#12\", Vector{String}}, typeof(identity)})\n",
      "    @ Base .\\array.jl:721\n",
      "  [7] top-level scope\n",
      "    @ c:\\Users\\julio\\Desktop\\jl-sandbox\\code\\lichen-functions-linear-randomforest.ipynb:1\n",
      "  [8] eval\n",
      "    @ .\\boot.jl:373 [inlined]\n",
      "  [9] include_string(mapexpr::typeof(REPL.softscope), mod::Module, code::String, filename::String)\n",
      "    @ Base .\\loading.jl:1196\n",
      " [10] #invokelatest#2\n",
      "    @ .\\essentials.jl:716 [inlined]\n",
      " [11] invokelatest\n",
      "    @ .\\essentials.jl:714 [inlined]\n",
      " [12] (::VSCodeServer.var\"#150#151\"{VSCodeServer.NotebookRunCellArguments, String})()\n",
      "    @ VSCodeServer c:\\Users\\julio\\.vscode\\extensions\\julialang.language-julia-1.5.6\\scripts\\packages\\VSCodeServer\\src\\serve_notebook.jl:18\n",
      " [13] withpath(f::VSCodeServer.var\"#150#151\"{VSCodeServer.NotebookRunCellArguments, String}, path::String)\n",
      "    @ VSCodeServer c:\\Users\\julio\\.vscode\\extensions\\julialang.language-julia-1.5.6\\scripts\\packages\\VSCodeServer\\src\\repl.jl:185\n",
      " [14] notebook_runcell_request(conn::VSCodeServer.JSONRPC.JSONRPCEndpoint{Base.PipeEndpoint, Base.PipeEndpoint}, params::VSCodeServer.NotebookRunCellArguments)\n",
      "    @ VSCodeServer c:\\Users\\julio\\.vscode\\extensions\\julialang.language-julia-1.5.6\\scripts\\packages\\VSCodeServer\\src\\serve_notebook.jl:14\n",
      " [15] dispatch_msg(x::VSCodeServer.JSONRPC.JSONRPCEndpoint{Base.PipeEndpoint, Base.PipeEndpoint}, dispatcher::VSCodeServer.JSONRPC.MsgDispatcher, msg::Dict{String, Any})\n",
      "    @ VSCodeServer.JSONRPC c:\\Users\\julio\\.vscode\\extensions\\julialang.language-julia-1.5.6\\scripts\\packages\\JSONRPC\\src\\typed.jl:67\n",
      " [16] serve_notebook(pipename::String; crashreporting_pipename::String)\n",
      "    @ VSCodeServer c:\\Users\\julio\\.vscode\\extensions\\julialang.language-julia-1.5.6\\scripts\\packages\\VSCodeServer\\src\\serve_notebook.jl:94\n",
      " [17] top-level scope\n",
      "    @ c:\\Users\\julio\\.vscode\\extensions\\julialang.language-julia-1.5.6\\scripts\\notebook\\notebook.jl:12\n",
      " [18] include(mod::Module, _path::String)\n",
      "    @ Base .\\Base.jl:418\n",
      " [19] exec_options(opts::Base.JLOptions)\n",
      "    @ Base .\\client.jl:292\n",
      " [20] _start()\n",
      "    @ Base .\\client.jl:495"
     ]
    }
   ],
   "source": [
    "[col for col in names(X) if col.scitype <: Continuous]\n",
    "# ohe = OneHotEncoder()"
   ]
  },
  {
   "cell_type": "code",
   "execution_count": 27,
   "metadata": {},
   "outputs": [
    {
     "ename": "LoadError",
     "evalue": "LoadError: UndefVarError: model not defined\nin expression starting at c:\\Users\\julio\\Desktop\\jl-sandbox\\code\\lichen-functions-linear-randomforest.ipynb:5",
     "output_type": "error",
     "traceback": [
      "LoadError: UndefVarError: model not defined\n",
      "in expression starting at c:\\Users\\julio\\Desktop\\jl-sandbox\\code\\lichen-functions-linear-randomforest.ipynb:5\n",
      "\n",
      "Stacktrace:\n",
      "  [1] top-level scope\n",
      "    @ none:1\n",
      "  [2] eval\n",
      "    @ .\\boot.jl:373 [inlined]\n",
      "  [3] eval(x::Expr)\n",
      "    @ Base.MainInclude .\\client.jl:453\n",
      "  [4] pipeline_preprocess(::Module, ::Symbol, ::Vararg{Any})\n",
      "    @ MLJBase C:\\Users\\julio\\.julia\\packages\\MLJBase\\QXObv\\src\\composition\\models\\pipelines.jl:288\n",
      "  [5] pipeline_(::Module, ::Symbol, ::Vararg{Any})\n",
      "    @ MLJBase C:\\Users\\julio\\.julia\\packages\\MLJBase\\QXObv\\src\\composition\\models\\pipelines.jl:417\n",
      "  [6] var\"@pipeline\"(__source__::LineNumberNode, __module__::Module, exs::Vararg{Any})\n",
      "    @ MLJBase C:\\Users\\julio\\.julia\\packages\\MLJBase\\QXObv\\src\\composition\\models\\pipelines.jl:541\n",
      "  [7] eval\n",
      "    @ .\\boot.jl:373 [inlined]\n",
      "  [8] include_string(mapexpr::typeof(REPL.softscope), mod::Module, code::String, filename::String)\n",
      "    @ Base .\\loading.jl:1196\n",
      "  [9] #invokelatest#2\n",
      "    @ .\\essentials.jl:716 [inlined]\n",
      " [10] invokelatest\n",
      "    @ .\\essentials.jl:714 [inlined]\n",
      " [11] (::VSCodeServer.var\"#150#151\"{VSCodeServer.NotebookRunCellArguments, String})()\n",
      "    @ VSCodeServer c:\\Users\\julio\\.vscode\\extensions\\julialang.language-julia-1.5.6\\scripts\\packages\\VSCodeServer\\src\\serve_notebook.jl:18\n",
      " [12] withpath(f::VSCodeServer.var\"#150#151\"{VSCodeServer.NotebookRunCellArguments, String}, path::String)\n",
      "    @ VSCodeServer c:\\Users\\julio\\.vscode\\extensions\\julialang.language-julia-1.5.6\\scripts\\packages\\VSCodeServer\\src\\repl.jl:185\n",
      " [13] notebook_runcell_request(conn::VSCodeServer.JSONRPC.JSONRPCEndpoint{Base.PipeEndpoint, Base.PipeEndpoint}, params::VSCodeServer.NotebookRunCellArguments)\n",
      "    @ VSCodeServer c:\\Users\\julio\\.vscode\\extensions\\julialang.language-julia-1.5.6\\scripts\\packages\\VSCodeServer\\src\\serve_notebook.jl:14\n",
      " [14] dispatch_msg(x::VSCodeServer.JSONRPC.JSONRPCEndpoint{Base.PipeEndpoint, Base.PipeEndpoint}, dispatcher::VSCodeServer.JSONRPC.MsgDispatcher, msg::Dict{String, Any})\n",
      "    @ VSCodeServer.JSONRPC c:\\Users\\julio\\.vscode\\extensions\\julialang.language-julia-1.5.6\\scripts\\packages\\JSONRPC\\src\\typed.jl:67\n",
      " [15] serve_notebook(pipename::String; crashreporting_pipename::String)\n",
      "    @ VSCodeServer c:\\Users\\julio\\.vscode\\extensions\\julialang.language-julia-1.5.6\\scripts\\packages\\VSCodeServer\\src\\serve_notebook.jl:94\n",
      " [16] top-level scope\n",
      "    @ c:\\Users\\julio\\.vscode\\extensions\\julialang.language-julia-1.5.6\\scripts\\notebook\\notebook.jl:12\n",
      " [17] include(mod::Module, _path::String)\n",
      "    @ Base .\\Base.jl:418\n",
      " [18] exec_options(opts::Base.JLOptions)\n",
      "    @ Base .\\client.jl:292\n",
      " [19] _start()\n",
      "    @ Base .\\client.jl:495"
     ]
    }
   ],
   "source": [
    "# Create a train a model\n",
    "function model_data(X, y)\n",
    "    # Load model and create pipeline\n",
    "    model = @load RandomForestRegressor pkg=DecisionTree verbosity=0\n",
    "    continuous_cols = [col for names(X) if col.scitype <: Continuous]\n",
    "    data_std = Standardizer(X)\n",
    "    pipe = @pipeline Standardizer OneHotEncoder model target=v->log.(v) inverse=v->exp.(v)\n",
    "    # Create a machine\n",
    "    pipe.random_forest_regressor.n_trees = 50\n",
    "    m = machine(pipe, X, y)\n",
    "\n",
    "    return m\n",
    "end"
   ]
  },
  {
   "cell_type": "code",
   "execution_count": null,
   "metadata": {},
   "outputs": [],
   "source": [
    "# Split predictors (X) and response variable (y)\n",
    "y, X = unpack(lichen_training, ==(:biomass_log), _ -> true);"
   ]
  },
  {
   "cell_type": "code",
   "execution_count": null,
   "metadata": {},
   "outputs": [],
   "source": [
    "# Load a linear regressor and a random forest regressor\n",
    "LinearRegressor = @load LinearRegressor pkg=MLJLinearModels\n",
    "RFRegressor = @load RandomForestRegressor pkg=DecisionTree"
   ]
  },
  {
   "cell_type": "code",
   "execution_count": null,
   "metadata": {},
   "outputs": [],
   "source": [
    "# Instantiate a pipeline\n",
    "RegressorPipe = @pipeline(Standardizer(), LinearRegressor(), RFRegressor())"
   ]
  },
  {
   "cell_type": "code",
   "execution_count": null,
   "metadata": {},
   "outputs": [],
   "source": []
  }
 ],
 "metadata": {
  "kernelspec": {
   "display_name": "Julia 1.7.0",
   "language": "julia",
   "name": "julia-1.7"
  },
  "language_info": {
   "file_extension": ".jl",
   "mimetype": "application/julia",
   "name": "julia",
   "version": "1.7.0"
  },
  "orig_nbformat": 4
 },
 "nbformat": 4,
 "nbformat_minor": 2
}
