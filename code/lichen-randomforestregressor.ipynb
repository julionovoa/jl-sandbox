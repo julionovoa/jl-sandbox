{
 "cells": [
  {
   "cell_type": "code",
   "execution_count": 1,
   "metadata": {},
   "outputs": [],
   "source": [
    "using DataFrames, CSV, MLJ, VegaLite"
   ]
  },
  {
   "cell_type": "code",
   "execution_count": 2,
   "metadata": {},
   "outputs": [
    {
     "data": {
      "text/html": [
       "<div class=\"data-frame\"><p>213,821 rows × 4 columns</p><table class=\"data-frame\"><thead><tr><th></th><th>biomass_log</th><th>BASAL_AREA</th><th>PL</th><th>LON</th></tr><tr><th></th><th title=\"Float64\">Float64</th><th title=\"Float64\">Float64</th><th title=\"Float64\">Float64</th><th title=\"Float64\">Float64</th></tr></thead><tbody><tr><th>1</th><td>675.195</td><td>29.1059</td><td>95.0</td><td>-125.514</td></tr><tr><th>2</th><td>270.647</td><td>33.2638</td><td>75.0</td><td>-125.46</td></tr><tr><th>3</th><td>441.115</td><td>32.757</td><td>95.0</td><td>-125.335</td></tr><tr><th>4</th><td>755.119</td><td>15.1756</td><td>80.0</td><td>-125.356</td></tr><tr><th>5</th><td>2008.27</td><td>8.77539</td><td>100.0</td><td>-125.361</td></tr><tr><th>6</th><td>391.87</td><td>37.5881</td><td>100.0</td><td>-125.331</td></tr><tr><th>7</th><td>389.608</td><td>37.5881</td><td>100.0</td><td>-125.326</td></tr><tr><th>8</th><td>482.739</td><td>35.5002</td><td>100.0</td><td>-125.405</td></tr><tr><th>9</th><td>353.893</td><td>37.5944</td><td>95.0</td><td>-125.373</td></tr><tr><th>10</th><td>602.184</td><td>27.9706</td><td>95.0</td><td>-125.371</td></tr><tr><th>11</th><td>298.396</td><td>13.9532</td><td>54.0</td><td>-125.2</td></tr><tr><th>12</th><td>530.117</td><td>20.6458</td><td>82.0</td><td>-125.266</td></tr><tr><th>13</th><td>341.481</td><td>23.1199</td><td>71.0</td><td>-125.295</td></tr><tr><th>14</th><td>121.334</td><td>28.4153</td><td>49.0</td><td>-125.245</td></tr><tr><th>15</th><td>254.618</td><td>36.9762</td><td>85.0</td><td>-125.329</td></tr><tr><th>16</th><td>210.83</td><td>37.1911</td><td>80.0</td><td>-125.311</td></tr><tr><th>17</th><td>217.325</td><td>27.5914</td><td>60.0</td><td>-125.404</td></tr><tr><th>18</th><td>1035.62</td><td>15.405</td><td>90.0</td><td>-125.372</td></tr><tr><th>19</th><td>670.731</td><td>27.9562</td><td>99.0</td><td>-125.358</td></tr><tr><th>20</th><td>1390.49</td><td>18.661</td><td>100.0</td><td>-125.505</td></tr><tr><th>21</th><td>165.243</td><td>23.0365</td><td>38.0</td><td>-125.526</td></tr><tr><th>22</th><td>308.035</td><td>19.1475</td><td>49.0</td><td>-125.58</td></tr><tr><th>23</th><td>356.782</td><td>21.7917</td><td>73.0</td><td>-125.222</td></tr><tr><th>24</th><td>328.465</td><td>29.0596</td><td>83.0</td><td>-125.231</td></tr><tr><th>&vellip;</th><td>&vellip;</td><td>&vellip;</td><td>&vellip;</td><td>&vellip;</td></tr></tbody></table></div>"
      ],
      "text/latex": [
       "\\begin{tabular}{r|cccc}\n",
       "\t& biomass\\_log & BASAL\\_AREA & PL & LON\\\\\n",
       "\t\\hline\n",
       "\t& Float64 & Float64 & Float64 & Float64\\\\\n",
       "\t\\hline\n",
       "\t1 & 675.195 & 29.1059 & 95.0 & -125.514 \\\\\n",
       "\t2 & 270.647 & 33.2638 & 75.0 & -125.46 \\\\\n",
       "\t3 & 441.115 & 32.757 & 95.0 & -125.335 \\\\\n",
       "\t4 & 755.119 & 15.1756 & 80.0 & -125.356 \\\\\n",
       "\t5 & 2008.27 & 8.77539 & 100.0 & -125.361 \\\\\n",
       "\t6 & 391.87 & 37.5881 & 100.0 & -125.331 \\\\\n",
       "\t7 & 389.608 & 37.5881 & 100.0 & -125.326 \\\\\n",
       "\t8 & 482.739 & 35.5002 & 100.0 & -125.405 \\\\\n",
       "\t9 & 353.893 & 37.5944 & 95.0 & -125.373 \\\\\n",
       "\t10 & 602.184 & 27.9706 & 95.0 & -125.371 \\\\\n",
       "\t11 & 298.396 & 13.9532 & 54.0 & -125.2 \\\\\n",
       "\t12 & 530.117 & 20.6458 & 82.0 & -125.266 \\\\\n",
       "\t13 & 341.481 & 23.1199 & 71.0 & -125.295 \\\\\n",
       "\t14 & 121.334 & 28.4153 & 49.0 & -125.245 \\\\\n",
       "\t15 & 254.618 & 36.9762 & 85.0 & -125.329 \\\\\n",
       "\t16 & 210.83 & 37.1911 & 80.0 & -125.311 \\\\\n",
       "\t17 & 217.325 & 27.5914 & 60.0 & -125.404 \\\\\n",
       "\t18 & 1035.62 & 15.405 & 90.0 & -125.372 \\\\\n",
       "\t19 & 670.731 & 27.9562 & 99.0 & -125.358 \\\\\n",
       "\t20 & 1390.49 & 18.661 & 100.0 & -125.505 \\\\\n",
       "\t21 & 165.243 & 23.0365 & 38.0 & -125.526 \\\\\n",
       "\t22 & 308.035 & 19.1475 & 49.0 & -125.58 \\\\\n",
       "\t23 & 356.782 & 21.7917 & 73.0 & -125.222 \\\\\n",
       "\t24 & 328.465 & 29.0596 & 83.0 & -125.231 \\\\\n",
       "\t$\\dots$ & $\\dots$ & $\\dots$ & $\\dots$ & $\\dots$ \\\\\n",
       "\\end{tabular}\n"
      ],
      "text/plain": [
       "\u001b[1m213821×4 DataFrame\u001b[0m\n",
       "\u001b[1m    Row \u001b[0m│\u001b[1m biomass_log \u001b[0m\u001b[1m BASAL_AREA \u001b[0m\u001b[1m PL      \u001b[0m\u001b[1m LON      \u001b[0m\n",
       "\u001b[1m        \u001b[0m│\u001b[90m Float64     \u001b[0m\u001b[90m Float64    \u001b[0m\u001b[90m Float64 \u001b[0m\u001b[90m Float64  \u001b[0m\n",
       "────────┼────────────────────────────────────────────\n",
       "      1 │    675.195     29.1059      95.0  -125.514\n",
       "      2 │    270.647     33.2638      75.0  -125.46\n",
       "      3 │    441.115     32.757       95.0  -125.335\n",
       "      4 │    755.119     15.1756      80.0  -125.356\n",
       "      5 │   2008.27       8.77539    100.0  -125.361\n",
       "      6 │    391.87      37.5881     100.0  -125.331\n",
       "      7 │    389.608     37.5881     100.0  -125.326\n",
       "      8 │    482.739     35.5002     100.0  -125.405\n",
       "   ⋮    │      ⋮           ⋮          ⋮        ⋮\n",
       " 213815 │    283.639      3.0          0.0  -126.009\n",
       " 213816 │     87.5557    25.0          0.0  -126.045\n",
       " 213817 │     39.3593    39.0461       0.0  -126.028\n",
       " 213818 │     19.7913    49.8828       0.0  -125.958\n",
       " 213819 │     37.7391    39.8889       0.0  -126.031\n",
       " 213820 │    122.056     18.4829       0.0  -126.021\n",
       " 213821 │    144.144     14.9725       0.0  -125.999\n",
       "\u001b[36m                                  213806 rows omitted\u001b[0m"
      ]
     },
     "metadata": {},
     "output_type": "display_data"
    }
   ],
   "source": [
    "# Import CSV to dataframe, select some columns\n",
    "lichen = CSV.read(\"C:/Users/julio/Downloads/predicted_biomass_Nov2021.csv\", DataFrame; missingstring=\"\") |>\n",
    "x -> select(x, :biomass_log, :BASAL_AREA, :PL, :LON) "
   ]
  },
  {
   "cell_type": "code",
   "execution_count": 3,
   "metadata": {},
   "outputs": [
    {
     "data": {
      "text/plain": [
       "┌─────────────┬─────────┬────────────┐\n",
       "│\u001b[22m _.names     \u001b[0m│\u001b[22m _.types \u001b[0m│\u001b[22m _.scitypes \u001b[0m│\n",
       "├─────────────┼─────────┼────────────┤\n",
       "│ biomass_log │ Float64 │ Continuous │\n",
       "│ BASAL_AREA  │ Float64 │ Continuous │\n",
       "│ PL          │ Float64 │ Continuous │\n",
       "│ LON         │ Float64 │ Continuous │\n",
       "└─────────────┴─────────┴────────────┘\n",
       "_.nrows = 213821\n"
      ]
     },
     "metadata": {},
     "output_type": "display_data"
    }
   ],
   "source": [
    "# schema \n",
    "schema(lichen)"
   ]
  },
  {
   "cell_type": "code",
   "execution_count": 4,
   "metadata": {},
   "outputs": [],
   "source": [
    "# Split predictors (X) and response variable (y)\n",
    "y, X = unpack(lichen, ==(:biomass_log), _ -> true; rng=1010);"
   ]
  },
  {
   "cell_type": "code",
   "execution_count": 5,
   "metadata": {},
   "outputs": [
    {
     "name": "stdout",
     "output_type": "stream",
     "text": [
      "ConstantRegressor                       (MLJModels)\n",
      "DecisionTreeRegressor                   (BetaML)\n",
      "DecisionTreeRegressor                   (DecisionTree)\n",
      "DeterministicConstantRegressor          (MLJModels)\n",
      "ElasticNetRegressor                     (MLJLinearModels)\n",
      "EvoTreeGaussian                         (EvoTrees)\n",
      "EvoTreeRegressor                        (EvoTrees)\n",
      "HuberRegressor                          (MLJLinearModels)\n",
      "KNNRegressor                            (NearestNeighborModels)\n",
      "KPLSRegressor                           (PartialLeastSquaresRegressor)\n",
      "LADRegressor                            (MLJLinearModels)\n",
      "LassoRegressor                          (MLJLinearModels)\n",
      "LinearRegressor                         (GLM)\n",
      "LinearRegressor                         (MLJLinearModels)\n",
      "LinearRegressor                         (MultivariateStats)\n"
     ]
    },
    {
     "name": "stdout",
     "output_type": "stream",
     "text": [
      "NeuralNetworkRegressor                  (MLJFlux)\n",
      "PLSRegressor                            (PartialLeastSquaresRegressor)\n",
      "QuantileRegressor                       (MLJLinearModels)\n",
      "RandomForestRegressor                   (BetaML)\n",
      "RandomForestRegressor                   (DecisionTree)\n",
      "RidgeRegressor                          (MLJLinearModels)\n",
      "RidgeRegressor                          (MultivariateStats)\n",
      "RobustRegressor                         (MLJLinearModels)\n"
     ]
    }
   ],
   "source": [
    "# Search for models that match the data scitype and are pure Julia\n",
    "for m in models(matching(X, y))\n",
    "    if m.is_pure_julia == true\n",
    "        println(rpad(m.name, 40), \"($(m.package_name))\")\n",
    "    end\n",
    "end"
   ]
  },
  {
   "cell_type": "code",
   "execution_count": 6,
   "metadata": {},
   "outputs": [
    {
     "name": "stderr",
     "output_type": "stream",
     "text": [
      "\u001b[32m\u001b[1m    Updating\u001b[22m\u001b[39m registry at `C:\\Users\\julio\\.julia\\registries\\General`\n"
     ]
    },
    {
     "name": "stderr",
     "output_type": "stream",
     "text": [
      "\u001b[32m\u001b[1m    Updating\u001b[22m\u001b[39m git-repo `https://github.com/JuliaRegistries/General.git`\n"
     ]
    },
    {
     "name": "stderr",
     "output_type": "stream",
     "text": [
      "\u001b[32m\u001b[1m   Resolving\u001b[22m\u001b[39m package versions..."
     ]
    },
    {
     "name": "stderr",
     "output_type": "stream",
     "text": [
      "\n",
      "\u001b[32m\u001b[1m    Updating\u001b[22m\u001b[39m `C:\\Users\\julio\\.julia\\environments\\v1.6\\Project.toml`\n",
      " \u001b[90m [c6f25543] \u001b[39m"
     ]
    },
    {
     "name": "stderr",
     "output_type": "stream",
     "text": [
      "\u001b[92m+ MLJDecisionTreeInterface v0.1.3\u001b[39m\n",
      "\u001b[32m\u001b[1m    Updating\u001b[22m\u001b[39m `C:\\Users\\julio\\.julia\\environments\\v1.6\\Manifest.toml`\n",
      " \u001b[90m [7806a523] \u001b[39m\u001b[92m+ DecisionTree v0.10.11\u001b[39m\n",
      " \u001b[90m [c6f25543] \u001b[39m\u001b[92m+ MLJDecisionTreeInterface v0.1.3\u001b[39m\n",
      " \u001b[90m [6e75b9c4] \u001b[39m\u001b[92m+ ScikitLearnBase v0.5.0\u001b[39m\n"
     ]
    },
    {
     "data": {
      "text/plain": [
       "MLJDecisionTreeInterface.RandomForestRegressor"
      ]
     },
     "metadata": {},
     "output_type": "display_data"
    }
   ],
   "source": [
    "# Load a RandomForestRegressor model using the DecisionTree package\n",
    "model = @load RandomForestRegressor pkg=\"DecisionTree\" add=true verbosity=0"
   ]
  },
  {
   "cell_type": "code",
   "execution_count": 7,
   "metadata": {},
   "outputs": [
    {
     "data": {
      "text/plain": [
       "\u001b[35mRandom forest regressor.\u001b[39m\n",
       "\u001b[35m→ based on [DecisionTree](https://github.com/bensadeghi/DecisionTree.jl).\u001b[39m\n",
       "\u001b[35m→ do `@load RandomForestRegressor pkg=\"DecisionTree\"` to use the model.\u001b[39m\n",
       "\u001b[35m→ do `?RandomForestRegressor` for documentation.\u001b[39m\n",
       "(name = \"RandomForestRegressor\",\n",
       " package_name = \"DecisionTree\",\n",
       " is_supervised = true,\n",
       " abstract_type = Deterministic,\n",
       " deep_properties = (),\n",
       " docstring = \"Random forest regressor.\\n→ based on [DecisionTree](https://github.com/bensadeghi/DecisionTree.jl).\\n→ do `@load RandomForestRegressor pkg=\\\"DecisionTree\\\"` to use the model.\\n→ do `?RandomForestRegressor` for documentation.\",\n",
       " fit_data_scitype = Tuple{Table{var\"#s53\"} where var\"#s53\"<:Union{AbstractVector{var\"#s52\"} where var\"#s52\"<:Count, AbstractVector{var\"#s52\"} where var\"#s52\"<:OrderedFactor, AbstractVector{var\"#s52\"} where var\"#s52\"<:Continuous}, AbstractVector{Continuous}},\n",
       " hyperparameter_ranges = (nothing, nothing, nothing, nothing, nothing, nothing, nothing, nothing, nothing),\n",
       " hyperparameter_types = (\"Int64\", \"Int64\", \"Int64\", \"Float64\", \"Int64\", \"Int64\", \"Float64\", \"Float64\", \"Union{Integer, Random.AbstractRNG}\"),\n",
       " hyperparameters = (:max_depth, :min_samples_leaf, :min_samples_split, :min_purity_increase, :n_subfeatures, :n_trees, :sampling_fraction, :pdf_smoothing, :rng),\n",
       " implemented_methods = [:clean!, :fit, :fitted_params, :predict],\n",
       " inverse_transform_scitype = Unknown,\n",
       " is_pure_julia = true,\n",
       " is_wrapper = false,\n",
       " iteration_parameter = nothing,\n",
       " load_path = \"MLJDecisionTreeInterface.RandomForestRegressor\",\n",
       " package_license = \"MIT\",\n",
       " package_url = \"https://github.com/bensadeghi/DecisionTree.jl\",\n",
       " package_uuid = \"7806a523-6efd-50cb-b5f6-3fa6f1930dbb\",\n",
       " predict_scitype = AbstractVector{Continuous},\n",
       " prediction_type = :deterministic,\n",
       " supports_class_weights = false,\n",
       " supports_online = false,\n",
       " supports_training_losses = false,\n",
       " supports_weights = false,\n",
       " transform_scitype = Unknown,\n",
       " input_scitype = Table{var\"#s53\"} where var\"#s53\"<:Union{AbstractVector{var\"#s52\"} where var\"#s52\"<:Count, AbstractVector{var\"#s52\"} where var\"#s52\"<:OrderedFactor, AbstractVector{var\"#s52\"} where var\"#s52\"<:Continuous},\n",
       " target_scitype = AbstractVector{Continuous},\n",
       " output_scitype = Unknown,)"
      ]
     },
     "metadata": {},
     "output_type": "display_data"
    }
   ],
   "source": [
    "# Get model info\n",
    "info(model)"
   ]
  },
  {
   "cell_type": "code",
   "execution_count": 8,
   "metadata": {},
   "outputs": [
    {
     "data": {
      "text/plain": [
       "RandomForestRegressor(\n",
       "    max_depth = -1,\n",
       "    min_samples_leaf = 1,\n",
       "    min_samples_split = 2,\n",
       "    min_purity_increase = 0.0,\n",
       "    n_subfeatures = -1,\n",
       "    n_trees = 50,\n",
       "    sampling_fraction = 0.7,\n",
       "    pdf_smoothing = 0.0,\n",
       "    rng = Random._GLOBAL_RNG())"
      ]
     },
     "metadata": {},
     "output_type": "display_data"
    }
   ],
   "source": [
    "# Instantiate a random forest regressor model\n",
    "model_rf = model(n_trees=50)"
   ]
  },
  {
   "cell_type": "code",
   "execution_count": 9,
   "metadata": {},
   "outputs": [
    {
     "data": {
      "text/plain": [
       "Machine{RandomForestRegressor,…} trained 0 times; caches data\n",
       "  args: \n",
       "    1:\tSource @103 ⏎ `Table{AbstractVector{Continuous}}`\n",
       "    2:\tSource @424 ⏎ `AbstractVector{Continuous}`\n"
      ]
     },
     "metadata": {},
     "output_type": "display_data"
    }
   ],
   "source": [
    "# Create an MLJ machine (model + data)\n",
    "mach_rf = machine(model_rf, X, y)"
   ]
  },
  {
   "cell_type": "code",
   "execution_count": 10,
   "metadata": {},
   "outputs": [
    {
     "data": {
      "text/plain": [
       "([147639, 177698, 91889, 34295, 48724, 125313, 119613, 148157, 57157, 191173  …  171075, 44873, 201843, 85709, 126579, 48495, 169544, 63318, 180986, 115741], [177578, 21749, 148862, 163174, 165760, 95349, 195482, 75326, 180782, 17438  …  34885, 49657, 113535, 166407, 112955, 52881, 124062, 41582, 55339, 192691])"
      ]
     },
     "metadata": {},
     "output_type": "display_data"
    }
   ],
   "source": [
    "# Split into train/test datasets\n",
    "train, test = partition(eachindex(y), 0.7, shuffle=true, rng=1010)"
   ]
  },
  {
   "cell_type": "code",
   "execution_count": 11,
   "metadata": {},
   "outputs": [
    {
     "name": "stderr",
     "output_type": "stream",
     "text": [
      "┌ Info: Training Machine{RandomForestRegressor,…}.\n",
      "└ @ MLJBase C:\\Users\\julio\\.julia\\packages\\MLJBase\\QXObv\\src\\machines.jl:403\n"
     ]
    },
    {
     "data": {
      "text/plain": [
       "Machine{RandomForestRegressor,…} trained 1 time; caches data\n",
       "  args: \n",
       "    1:\tSource @103 ⏎ `Table{AbstractVector{Continuous}}`\n",
       "    2:\tSource @424 ⏎ `AbstractVector{Continuous}`\n"
      ]
     },
     "metadata": {},
     "output_type": "display_data"
    }
   ],
   "source": [
    "# Fit the machine\n",
    "fit!(mach_rf, rows=train)"
   ]
  },
  {
   "cell_type": "code",
   "execution_count": 12,
   "metadata": {},
   "outputs": [
    {
     "data": {
      "text/plain": [
       "(forest = Ensemble of Decision Trees\n",
       "Trees:      50\n",
       "Avg Leaves: 75250.82\n",
       "Avg Depth:  30.88,)"
      ]
     },
     "metadata": {},
     "output_type": "display_data"
    }
   ],
   "source": [
    "# Check trained parameters\n",
    "fitted_params(mach_rf)"
   ]
  },
  {
   "cell_type": "code",
   "execution_count": 13,
   "metadata": {},
   "outputs": [
    {
     "data": {
      "text/plain": [
       "64146-element Vector{Float64}:\n",
       "  345.90909316884296\n",
       "   40.85744981503151\n",
       "   52.22712952730869\n",
       "   51.94727156592433\n",
       "   73.02638432847881\n",
       "  102.24555000774224\n",
       "  306.818678813781\n",
       "  542.1554043029845\n",
       "   71.74544182696063\n",
       "  141.74636732545682\n",
       "    ⋮\n",
       "   32.697064211941886\n",
       "   15.918151952175776\n",
       "  142.96103602856704\n",
       "   97.95152686190634\n",
       "   40.41504104221105\n",
       "  103.64116298061818\n",
       " 1085.4341340748072\n",
       "   46.00926678814909\n",
       "   29.855037935233995"
      ]
     },
     "metadata": {},
     "output_type": "display_data"
    }
   ],
   "source": [
    "# Make predictions\n",
    "y_test_pred = predict(mach_rf, rows=test)"
   ]
  },
  {
   "cell_type": "code",
   "execution_count": 14,
   "metadata": {},
   "outputs": [
    {
     "name": "stdout",
     "output_type": "stream",
     "text": [
      "[\"LPLoss\", \"LogCoshLoss\", \"Accuracy\", \"BalancedAccuracy\", \"ConfusionMatrix\", \"FScore\", \"FalseDiscoveryRate\", \"FalseNegative\", \"FalseNegativeRate\", \"FalsePositive\", \"FalsePositiveRate\", \"MatthewsCorrelation\", \"MeanAbsoluteError\", \"MeanAbsoluteProportionalError\", \"MisclassificationRate\", \"MulticlassFScore\", \"MulticlassFalseDiscoveryRate\", \"MulticlassFalseNegative\", \"MulticlassFalseNegativeRate\", \"MulticlassFalsePositive\", \"MulticlassFalsePositiveRate\", \"MulticlassNegativePredictiveValue\", \"MulticlassPrecision\", \"MulticlassTrueNegative\", \"MulticlassTrueNegativeRate\", \"MulticlassTruePositive\", \"MulticlassTruePositiveRate\", \"NegativePredictiveValue\", \"Precision\", \"RSquared\", \"RootMeanSquaredError\", \"RootMeanSquaredLogError\", \"RootMeanSquaredLogProportionalError\", \"RootMeanSquaredProportionalError\", \"TrueNegative\", \"TrueNegativeRate\", \"TruePositive\", \"TruePositiveRate\", \"HuberLoss\", \"L1EpsilonInsLoss\", \"L2EpsilonInsLoss\", \"LPDistLoss\", \"LogitDistLoss\", \"PeriodicLoss\", \"QuantileLoss\"]\n"
     ]
    }
   ],
   "source": [
    "# Get list of accuracy measures\n",
    "# [m.name for m in measures() if m.target_scitype <: scitype(y)]\n",
    "println([(m.name) for m in measures() if m.prediction_type == :deterministic])"
   ]
  },
  {
   "cell_type": "code",
   "execution_count": 15,
   "metadata": {},
   "outputs": [
    {
     "name": "stdout",
     "output_type": "stream",
     "text": [
      "rms(y_test_pred, y[test]) = 31.72304784769363"
     ]
    },
    {
     "name": "stdout",
     "output_type": "stream",
     "text": [
      "\n",
      "l1(y_test_pred, y[test]) |> mean = 4.751955310945135\n",
      "l2(y_test_pred, y[test]) |> mean = 1006.3517647470552"
     ]
    },
    {
     "name": "stdout",
     "output_type": "stream",
     "text": [
      "\n",
      "mav(y_test_pred, y[test]) = 4.751955310945115"
     ]
    },
    {
     "name": "stdout",
     "output_type": "stream",
     "text": [
      "\n",
      "rmsl(y_test_pred, y[test]) = 0.020049349192033973\n"
     ]
    }
   ],
   "source": [
    "# Show some accuracy measures\n",
    "@show rms(y_test_pred, y[test], sigdigits=3)\n",
    "@show l1(y_test_pred, y[test]) |> mean\n",
    "@show l2(y_test_pred, y[test]) |> mean\n",
    "@show mav(y_test_pred, y[test])\n",
    "@show rmsl(y_test_pred, y[test]);"
   ]
  },
  {
   "cell_type": "code",
   "execution_count": 16,
   "metadata": {},
   "outputs": [
    {
     "name": "stderr",
     "output_type": "stream",
     "text": [
      "\r\u001b[33mEvaluating over 3 folds:  67%[================>        ]  ETA: 0:00:19\u001b[39m\u001b[K"
     ]
    },
    {
     "name": "stderr",
     "output_type": "stream",
     "text": [
      "\r\u001b[33mEvaluating over 3 folds: 100%[=========================] Time: 0:00:57\u001b[39m\u001b[K\n"
     ]
    },
    {
     "data": {
      "text/plain": [
       "PerformanceEvaluation object with these fields:\n",
       "  measure, measurement, operation, per_fold,\n",
       "  per_observation, fitted_params_per_fold,\n",
       "  report_per_fold, train_test_pairs\n",
       "Extract:\n",
       "┌────────────────────────┬─────────────┬───────────┬────────────────────┐\n",
       "│\u001b[22m measure                \u001b[0m│\u001b[22m measurement \u001b[0m│\u001b[22m operation \u001b[0m│\u001b[22m per_fold           \u001b[0m│\n",
       "├────────────────────────┼─────────────┼───────────┼────────────────────┤\n",
       "│ RootMeanSquaredError() │ 39.5        │ predict   │ [39.4, 36.2, 42.5] │\n",
       "└────────────────────────┴─────────────┴───────────┴────────────────────┘\n"
      ]
     },
     "metadata": {},
     "output_type": "display_data"
    }
   ],
   "source": [
    "# Evaluate the model\n",
    "evaluate(model_rf, X, y,\n",
    "         resampling=CV(nfolds=3, shuffle=true),\n",
    "         measure=rms, verbosity=1)"
   ]
  },
  {
   "cell_type": "code",
   "execution_count": 17,
   "metadata": {},
   "outputs": [
    {
     "name": "stderr",
     "output_type": "stream",
     "text": [
      "\r\u001b[33mEvaluating over 3 folds:  67%[================>        ]  ETA: 0:00:19\u001b[39m\u001b[K"
     ]
    },
    {
     "name": "stderr",
     "output_type": "stream",
     "text": [
      "\r\u001b[33mEvaluating over 3 folds: 100%[=========================] Time: 0:00:56\u001b[39m\u001b[K\n"
     ]
    },
    {
     "data": {
      "text/plain": [
       "PerformanceEvaluation object with these fields:\n",
       "  measure, measurement, operation, per_fold,\n",
       "  per_observation, fitted_params_per_fold,\n",
       "  report_per_fold, train_test_pairs\n",
       "Extract:\n",
       "┌────────────────────────┬─────────────┬───────────┬────────────────────┐\n",
       "│\u001b[22m measure                \u001b[0m│\u001b[22m measurement \u001b[0m│\u001b[22m operation \u001b[0m│\u001b[22m per_fold           \u001b[0m│\n",
       "├────────────────────────┼─────────────┼───────────┼────────────────────┤\n",
       "│ RootMeanSquaredError() │ 38.6        │ predict   │ [40.9, 39.1, 35.7] │\n",
       "└────────────────────────┴─────────────┴───────────┴────────────────────┘\n"
      ]
     },
     "metadata": {},
     "output_type": "display_data"
    }
   ],
   "source": [
    "# Evaluate the machine\n",
    "# evaluate!(mach_rf,\n",
    "#           resampling=Holdout(fraction_train=0.7, shuffle=true),\n",
    "#           measure=rms, verbosity=1)\n",
    "evaluate!(mach_rf,\n",
    "          resampling=CV(nfolds=3, shuffle=true),\n",
    "          measure=rms, verbosity=1)"
   ]
  },
  {
   "cell_type": "code",
   "execution_count": 18,
   "metadata": {},
   "outputs": [
    {
     "data": {
      "text/plain": [
       "PerformanceEvaluation object with these fields:\n",
       "  measure, measurement, operation, per_fold,\n",
       "  per_observation, fitted_params_per_fold,\n",
       "  report_per_fold, train_test_pairs\n",
       "Extract:\n",
       "┌────────────────────────┬─────────────┬───────────┬──────────┐\n",
       "│\u001b[22m measure                \u001b[0m│\u001b[22m measurement \u001b[0m│\u001b[22m operation \u001b[0m│\u001b[22m per_fold \u001b[0m│\n",
       "├────────────────────────┼─────────────┼───────────┼──────────┤\n",
       "│ RootMeanSquaredError() │ 41.5        │ predict   │ [41.5]   │\n",
       "└────────────────────────┴─────────────┴───────────┴──────────┘\n"
      ]
     },
     "metadata": {},
     "output_type": "display_data"
    }
   ],
   "source": [
    "# Increase number of trees and re-evaluate the machine\n",
    "model_rf.n_trees = 100\n",
    "evaluate!(mach_rf,\n",
    "          resampling=Holdout(fraction_train=0.7, shuffle=true),\n",
    "          measure=rms, verbosity=1)"
   ]
  }
 ],
 "metadata": {
  "kernelspec": {
   "display_name": "Julia 1.6.3",
   "language": "julia",
   "name": "julia-1.6"
  },
  "language_info": {
   "file_extension": ".jl",
   "mimetype": "application/julia",
   "name": "julia",
   "version": "1.6.3"
  },
  "orig_nbformat": 4
 },
 "nbformat": 4,
 "nbformat_minor": 2
}
