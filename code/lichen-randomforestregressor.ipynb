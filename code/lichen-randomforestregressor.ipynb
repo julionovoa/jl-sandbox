{
 "cells": [
  {
   "cell_type": "code",
   "execution_count": 1,
   "metadata": {},
   "outputs": [],
   "source": [
    "using DataFrames, CSV, MLJ, VegaLite"
   ]
  },
  {
   "cell_type": "code",
   "execution_count": 2,
   "metadata": {},
   "outputs": [],
   "source": [
    "# Import training dataset\n",
    "lichen_training = CSV.read(\"C:/Users/julio/Downloads/lichen_training.csv\", DataFrame) |>\n",
    "x -> select(x, \"Total.lichen\", \"basal_area\", \"PL\", \"mean_Long\") |>\n",
    "x -> rename(x, [\"biomass\", \"basalarea\", \"pl\", \"lon\"]) |>\n",
    "x -> coerce(x, Count => Continuous);"
   ]
  },
  {
   "cell_type": "code",
   "execution_count": 3,
   "metadata": {},
   "outputs": [],
   "source": [
    "lichen_training[!, \"biomass_log\"] = log.(lichen_training[!, :biomass])\n",
    "select!(lichen_training, Not(:biomass));"
   ]
  },
  {
   "cell_type": "code",
   "execution_count": 4,
   "metadata": {},
   "outputs": [
    {
     "data": {
      "text/plain": [
       "┌─────────────┬─────────┬────────────┐\n",
       "│\u001b[22m _.names     \u001b[0m│\u001b[22m _.types \u001b[0m│\u001b[22m _.scitypes \u001b[0m│\n",
       "├─────────────┼─────────┼────────────┤\n",
       "│ basalarea   │ Float64 │ Continuous │\n",
       "│ pl          │ Float64 │ Continuous │\n",
       "│ lon         │ Float64 │ Continuous │\n",
       "│ biomass_log │ Float64 │ Continuous │\n",
       "└─────────────┴─────────┴────────────┘\n",
       "_.nrows = 78\n"
      ]
     },
     "metadata": {},
     "output_type": "display_data"
    }
   ],
   "source": [
    "schema(lichen_training)"
   ]
  },
  {
   "cell_type": "code",
   "execution_count": 5,
   "metadata": {},
   "outputs": [],
   "source": [
    "# Split predictors (X) and response variable (y)\n",
    "y, X = unpack(lichen_training, ==(:biomass_log), _ -> true);"
   ]
  },
  {
   "cell_type": "code",
   "execution_count": 6,
   "metadata": {},
   "outputs": [
    {
     "name": "stderr",
     "output_type": "stream",
     "text": [
      "┌ Info: For silent loading, specify `verbosity=0`. \n",
      "└ @ Main C:\\Users\\julio\\.julia\\packages\\MLJModels\\GKDnU\\src\\loading.jl:168\n"
     ]
    },
    {
     "name": "stdout",
     "output_type": "stream",
     "text": [
      "import MLJDecisionTreeInterface"
     ]
    },
    {
     "name": "stdout",
     "output_type": "stream",
     "text": [
      " ✔\n"
     ]
    },
    {
     "data": {
      "text/plain": [
       "MLJDecisionTreeInterface.RandomForestRegressor"
      ]
     },
     "metadata": {},
     "output_type": "display_data"
    }
   ],
   "source": [
    "# Load a RandomForestRegressor\n",
    "RandomForestRegressor = @load RandomForestRegressor pkg=DecisionTree"
   ]
  },
  {
   "cell_type": "code",
   "execution_count": 7,
   "metadata": {},
   "outputs": [
    {
     "data": {
      "text/plain": [
       "Pipeline259(\n",
       "    standardizer = Standardizer(\n",
       "            features = Symbol[],\n",
       "            ignore = false,\n",
       "            ordered_factor = false,\n",
       "            count = false),\n",
       "    random_forest_regressor = RandomForestRegressor(\n",
       "            max_depth = -1,\n",
       "            min_samples_leaf = 1,\n",
       "            min_samples_split = 2,\n",
       "            min_purity_increase = 0.0,\n",
       "            n_subfeatures = -1,\n",
       "            n_trees = 10,\n",
       "            sampling_fraction = 0.7,\n",
       "            pdf_smoothing = 0.0,\n",
       "            rng = Random._GLOBAL_RNG()))"
      ]
     },
     "metadata": {},
     "output_type": "display_data"
    }
   ],
   "source": [
    "# Instantiate a random forest regressor model using a pipeline\n",
    "RandomForestRegressorPipe = @pipeline(Standardizer(), RandomForestRegressor())"
   ]
  },
  {
   "cell_type": "code",
   "execution_count": 8,
   "metadata": {},
   "outputs": [
    {
     "data": {
      "text/plain": [
       "Machine{Pipeline259,…} trained 0 times; caches data\n",
       "  args: \n",
       "    1:\tSource @357 ⏎ `Table{AbstractVector{Continuous}}`\n",
       "    2:\tSource @251 ⏎ `AbstractVector{Continuous}`\n"
      ]
     },
     "metadata": {},
     "output_type": "display_data"
    }
   ],
   "source": [
    "# Create an MLJ machine (model + data)\n",
    "RandomForestModel = machine(RandomForestRegressorPipe, X, y)"
   ]
  },
  {
   "cell_type": "code",
   "execution_count": 9,
   "metadata": {},
   "outputs": [
    {
     "data": {
      "text/plain": [
       "([66, 63, 5, 22, 49, 15, 47, 64, 35, 12  …  61, 57, 21, 14, 78, 40, 27, 74, 68, 18], [2, 53, 50, 39, 38, 46, 77, 29, 69, 7, 60, 59, 17, 30, 43, 51])"
      ]
     },
     "metadata": {},
     "output_type": "display_data"
    }
   ],
   "source": [
    "# Split into train/test datasets\n",
    "train, test = partition(eachindex(y), 0.8, shuffle=true, rng=1010)"
   ]
  },
  {
   "cell_type": "code",
   "execution_count": 10,
   "metadata": {},
   "outputs": [
    {
     "name": "stderr",
     "output_type": "stream",
     "text": [
      "┌ Info: Training Machine{Pipeline259,…}.\n",
      "└ @ MLJBase C:\\Users\\julio\\.julia\\packages\\MLJBase\\QXObv\\src\\machines.jl:403\n"
     ]
    },
    {
     "name": "stderr",
     "output_type": "stream",
     "text": [
      "┌ Info: Training Machine{Standardizer,…}.\n",
      "└ @ MLJBase C:\\Users\\julio\\.julia\\packages\\MLJBase\\QXObv\\src\\machines.jl:403\n",
      "┌ In"
     ]
    },
    {
     "name": "stderr",
     "output_type": "stream",
     "text": [
      "fo: Training Machine{RandomForestRegressor,…}.\n",
      "└ @ MLJBase C:\\Users\\julio\\.julia\\packages\\MLJBase\\QXObv\\src\\machines.jl:403\n"
     ]
    },
    {
     "data": {
      "text/plain": [
       "Machine{Pipeline259,…} trained 1 time; caches data\n",
       "  args: \n",
       "    1:\tSource @357 ⏎ `Table{AbstractVector{Continuous}}`\n",
       "    2:\tSource @251 ⏎ `AbstractVector{Continuous}`\n"
      ]
     },
     "metadata": {},
     "output_type": "display_data"
    }
   ],
   "source": [
    "# Fit the machine\n",
    "fit!(RandomForestModel, rows=train)"
   ]
  },
  {
   "cell_type": "code",
   "execution_count": 11,
   "metadata": {},
   "outputs": [
    {
     "data": {
      "text/plain": [
       "(random_forest_regressor = (forest = Ensemble of Decision Trees\n",
       "Trees:      10\n",
       "Avg Leaves: 29.5\n",
       "Avg Depth:  8.7,),\n",
       " standardizer = Dict(:basalarea => (19.78467741935484, 9.711812769575257), :pl => (54.33870967741935, 44.014879581083505), :lon => (-125.36747067741938, 0.8869067414269242)),\n",
       " machines = Machine[Machine{Standardizer,…}, Machine{RandomForestRegressor,…}],\n",
       " fitted_params_given_machine = OrderedCollections.LittleDict{Any, Any, Vector{Any}, Vector{Any}}(Machine{Standardizer,…} => Dict(:basalarea => (19.78467741935484, 9.711812769575257), :pl => (54.33870967741935, 44.014879581083505), :lon => (-125.36747067741938, 0.8869067414269242)), Machine{RandomForestRegressor,…} => (forest = Ensemble of Decision Trees\n",
       "Trees:      10\n",
       "Avg Leaves: 29.5\n",
       "Avg Depth:  8.7,)),)"
      ]
     },
     "metadata": {},
     "output_type": "display_data"
    }
   ],
   "source": [
    "# Check trained parameters\n",
    "fp = fitted_params(RandomForestModel)"
   ]
  },
  {
   "cell_type": "code",
   "execution_count": 17,
   "metadata": {},
   "outputs": [
    {
     "data": {
      "text/plain": [
       "62-element Vector{Float64}:\n",
       " 6.016877710814443\n",
       " 3.1097445792067786\n",
       " 2.43752654364511\n",
       " 7.406584534293003\n",
       " 4.856494661066178\n",
       " 6.588666431210854\n",
       " 2.617576843906628\n",
       " 6.6340548393663195\n",
       " 4.657778993757758\n",
       " 4.749622373920719\n",
       " ⋮\n",
       " 5.5034924566883685\n",
       " 2.5341119407455657\n",
       " 5.590940431003202\n",
       " 5.117753995684475\n",
       " 5.93708859692901\n",
       " 7.712083104707693\n",
       " 5.758074420784136\n",
       " 3.9206836924875423\n",
       " 6.221175201713558"
      ]
     },
     "metadata": {},
     "output_type": "display_data"
    }
   ],
   "source": [
    "# Make predictions on test and train subsets\n",
    "y_test_pred = predict(RandomForestModel, rows=test)\n",
    "y_train_pred = predict(RandomForestModel, rows=train)"
   ]
  },
  {
   "cell_type": "code",
   "execution_count": 18,
   "metadata": {},
   "outputs": [
    {
     "data": {
      "text/plain": [
       "2.7544949013787776"
      ]
     },
     "metadata": {},
     "output_type": "display_data"
    }
   ],
   "source": [
    "rms(y_test_pred, y[test])"
   ]
  },
  {
   "cell_type": "code",
   "execution_count": 19,
   "metadata": {},
   "outputs": [
    {
     "data": {
      "application/vnd.vegalite.v4+json": {
       "data": {
        "values": [
         {
          "x": 3.399491288247487
         },
         {
          "x": 3.6742587380537675
         },
         {
          "x": 3.7833939391847236
         },
         {
          "x": 3.7239477240039287
         },
         {
          "x": -0.04310160791568407
         },
         {
          "x": -2.9200821581164362
         },
         {
          "x": 0.7359905520906
         },
         {
          "x": -2.3848355115685598
         },
         {
          "x": -2.264635039262198
         },
         {
          "x": 0.9494624308112546
         },
         {
          "x": 2.915911017037476
         },
         {
          "x": 2.0207191155475632
         },
         {
          "x": -0.7997773190975428
         },
         {
          "x": -0.6087059020583996
         },
         {
          "x": 1.4742930291055227
         },
         {
          "x": 5.62137347387358
         }
        ]
       },
       "encoding": {
        "x": {
         "bin": true,
         "field": "x",
         "title": null,
         "type": "quantitative"
        },
        "y": {
         "aggregate": "count",
         "type": "quantitative"
        }
       },
       "height": 300,
       "mark": "bar",
       "width": 500
      },
      "image/png": "[encoded data removed]",
      "image/svg+xml": "<?xml version=\"1.0\" encoding=\"utf-8\"?>\n<!DOCTYPE svg PUBLIC \"-//W3C//DTD SVG 1.1//EN\" \"http://www.w3.org/Graphics/SVG/1.1/DTD/svg11.dtd\">\n<svg xmlns=\"http://www.w3.org/2000/svg\" xmlns:xlink=\"http://www.w3.org/1999/xlink\" version=\"1.1\" class=\"marks\" width=\"546\" height=\"332\" viewBox=\"0 0 546 332\"><rect width=\"546\" height=\"332\" fill=\"white\"/><g fill=\"none\" stroke-miterlimit=\"10\" transform=\"translate(40,10)\"><g class=\"mark-group role-frame root\" role=\"graphics-object\" aria-roledescription=\"group mark container\"><g transform=\"translate(0,0)\"><path class=\"background\" aria-hidden=\"true\" d=\"M0.5,0.5h500v300h-500Z\" stroke=\"#ddd\"/><g><g class=\"mark-group role-axis\" aria-hidden=\"true\"><g transform=\"translate(0.5,0.5)\"><path class=\"background\" aria-hidden=\"true\" d=\"M0,0h0v0h0Z\" pointer-events=\"none\"/><g><g class=\"mark-rule role-axis-grid\" pointer-events=\"none\"><line transform=\"translate(0,300)\" x2=\"500\" y2=\"0\" stroke=\"#ddd\" stroke-width=\"1\" opacity=\"1\"/><line transform=\"translate(0,263)\" x2=\"500\" y2=\"0\" stroke=\"#ddd\" stroke-width=\"1\" opacity=\"1\"/><line transform=\"translate(0,225)\" x2=\"500\" y2=\"0\" stroke=\"#ddd\" stroke-width=\"1\" opacity=\"1\"/><line transform=\"translate(0,188)\" x2=\"500\" y2=\"0\" stroke=\"#ddd\" stroke-width=\"1\" opacity=\"1\"/><line transform=\"translate(0,150)\" x2=\"500\" y2=\"0\" stroke=\"#ddd\" stroke-width=\"1\" opacity=\"1\"/><line transform=\"translate(0,113)\" x2=\"500\" y2=\"0\" stroke=\"#ddd\" stroke-width=\"1\" opacity=\"1\"/><line transform=\"translate(0,75)\" x2=\"500\" y2=\"0\" stroke=\"#ddd\" stroke-width=\"1\" opacity=\"1\"/><line transform=\"translate(0,38)\" x2=\"500\" y2=\"0\" stroke=\"#ddd\" stroke-width=\"1\" opacity=\"1\"/><line transform=\"translate(0,0)\" x2=\"500\" y2=\"0\" stroke=\"#ddd\" stroke-width=\"1\" opacity=\"1\"/></g></g><path class=\"foreground\" aria-hidden=\"true\" d=\"\" pointer-events=\"none\" display=\"none\"/></g></g><g class=\"mark-group role-axis\" role=\"graphics-symbol\" aria-roledescription=\"axis\" aria-label=\"X-axis for a linear scale with values from −3 to 6\"><g transform=\"translate(0.5,300.5)\"><path class=\"background\" aria-hidden=\"true\" d=\"M0,0h0v0h0Z\" pointer-events=\"none\"/><g><g class=\"mark-rule role-axis-tick\" pointer-events=\"none\"><line transform=\"translate(0,0)\" x2=\"0\" y2=\"5\" stroke=\"#888\" stroke-width=\"1\" opacity=\"1\"/><line transform=\"translate(56,0)\" x2=\"0\" y2=\"5\" stroke=\"#888\" stroke-width=\"1\" opacity=\"1\"/><line transform=\"translate(111,0)\" x2=\"0\" y2=\"5\" stroke=\"#888\" stroke-width=\"1\" opacity=\"1\"/><line transform=\"translate(167,0)\" x2=\"0\" y2=\"5\" stroke=\"#888\" stroke-width=\"1\" opacity=\"1\"/><line transform=\"translate(222,0)\" x2=\"0\" y2=\"5\" stroke=\"#888\" stroke-width=\"1\" opacity=\"1\"/><line transform=\"translate(278,0)\" x2=\"0\" y2=\"5\" stroke=\"#888\" stroke-width=\"1\" opacity=\"1\"/><line transform=\"translate(333,0)\" x2=\"0\" y2=\"5\" stroke=\"#888\" stroke-width=\"1\" opacity=\"1\"/><line transform=\"translate(389,0)\" x2=\"0\" y2=\"5\" stroke=\"#888\" stroke-width=\"1\" opacity=\"1\"/><line transform=\"translate(444,0)\" x2=\"0\" y2=\"5\" stroke=\"#888\" stroke-width=\"1\" opacity=\"1\"/><line transform=\"translate(500,0)\" x2=\"0\" y2=\"5\" stroke=\"#888\" stroke-width=\"1\" opacity=\"1\"/></g><g class=\"mark-text role-axis-label\" pointer-events=\"none\"><text text-anchor=\"start\" transform=\"translate(0,15)\" font-family=\"sans-serif\" font-size=\"10px\" fill=\"#000\" opacity=\"1\">−3.0</text><text text-anchor=\"middle\" transform=\"translate(55.55555555555555,15)\" font-family=\"sans-serif\" font-size=\"10px\" fill=\"#000\" opacity=\"1\">−2.0</text><text text-anchor=\"middle\" transform=\"translate(111.1111111111111,15)\" font-family=\"sans-serif\" font-size=\"10px\" fill=\"#000\" opacity=\"1\">−1.0</text><text text-anchor=\"middle\" transform=\"translate(166.66666666666666,15)\" font-family=\"sans-serif\" font-size=\"10px\" fill=\"#000\" opacity=\"1\">0.0</text><text text-anchor=\"middle\" transform=\"translate(222.2222222222222,15)\" font-family=\"sans-serif\" font-size=\"10px\" fill=\"#000\" opacity=\"1\">1.0</text><text text-anchor=\"middle\" transform=\"translate(277.77777777777777,15)\" font-family=\"sans-serif\" font-size=\"10px\" fill=\"#000\" opacity=\"1\">2.0</text><text text-anchor=\"middle\" transform=\"translate(333.3333333333333,15)\" font-family=\"sans-serif\" font-size=\"10px\" fill=\"#000\" opacity=\"1\">3.0</text><text text-anchor=\"middle\" transform=\"translate(388.8888888888889,15)\" font-family=\"sans-serif\" font-size=\"10px\" fill=\"#000\" opacity=\"1\">4.0</text><text text-anchor=\"middle\" transform=\"translate(444.4444444444444,15)\" font-family=\"sans-serif\" font-size=\"10px\" fill=\"#000\" opacity=\"1\">5.0</text><text text-anchor=\"end\" transform=\"translate(500,15)\" font-family=\"sans-serif\" font-size=\"10px\" fill=\"#000\" opacity=\"1\">6.0</text></g><g class=\"mark-rule role-axis-domain\" pointer-events=\"none\"><line transform=\"translate(0,0)\" x2=\"500\" y2=\"0\" stroke=\"#888\" stroke-width=\"1\" opacity=\"1\"/></g></g><path class=\"foreground\" aria-hidden=\"true\" d=\"\" pointer-events=\"none\" display=\"none\"/></g></g><g class=\"mark-group role-axis\" role=\"graphics-symbol\" aria-roledescription=\"axis\" aria-label=\"Y-axis titled 'Count of Records' for a linear scale with values from 0 to 4\"><g transform=\"translate(0.5,0.5)\"><path class=\"background\" aria-hidden=\"true\" d=\"M0,0h0v0h0Z\" pointer-events=\"none\"/><g><g class=\"mark-rule role-axis-tick\" pointer-events=\"none\"><line transform=\"translate(0,300)\" x2=\"-5\" y2=\"0\" stroke=\"#888\" stroke-width=\"1\" opacity=\"1\"/><line transform=\"translate(0,263)\" x2=\"-5\" y2=\"0\" stroke=\"#888\" stroke-width=\"1\" opacity=\"1\"/><line transform=\"translate(0,225)\" x2=\"-5\" y2=\"0\" stroke=\"#888\" stroke-width=\"1\" opacity=\"1\"/><line transform=\"translate(0,188)\" x2=\"-5\" y2=\"0\" stroke=\"#888\" stroke-width=\"1\" opacity=\"1\"/><line transform=\"translate(0,150)\" x2=\"-5\" y2=\"0\" stroke=\"#888\" stroke-width=\"1\" opacity=\"1\"/><line transform=\"translate(0,113)\" x2=\"-5\" y2=\"0\" stroke=\"#888\" stroke-width=\"1\" opacity=\"1\"/><line transform=\"translate(0,75)\" x2=\"-5\" y2=\"0\" stroke=\"#888\" stroke-width=\"1\" opacity=\"1\"/><line transform=\"translate(0,38)\" x2=\"-5\" y2=\"0\" stroke=\"#888\" stroke-width=\"1\" opacity=\"1\"/><line transform=\"translate(0,0)\" x2=\"-5\" y2=\"0\" stroke=\"#888\" stroke-width=\"1\" opacity=\"1\"/></g><g class=\"mark-text role-axis-label\" pointer-events=\"none\"><text text-anchor=\"end\" transform=\"translate(-7,303)\" font-family=\"sans-serif\" font-size=\"10px\" fill=\"#000\" opacity=\"1\">0.0</text><text text-anchor=\"end\" transform=\"translate(-7,265.5)\" font-family=\"sans-serif\" font-size=\"10px\" fill=\"#000\" opacity=\"1\">0.5</text><text text-anchor=\"end\" transform=\"translate(-7,228)\" font-family=\"sans-serif\" font-size=\"10px\" fill=\"#000\" opacity=\"1\">1.0</text><text text-anchor=\"end\" transform=\"translate(-7,190.5)\" font-family=\"sans-serif\" font-size=\"10px\" fill=\"#000\" opacity=\"1\">1.5</text><text text-anchor=\"end\" transform=\"translate(-7,153)\" font-family=\"sans-serif\" font-size=\"10px\" fill=\"#000\" opacity=\"1\">2.0</text><text text-anchor=\"end\" transform=\"translate(-7,115.5)\" font-family=\"sans-serif\" font-size=\"10px\" fill=\"#000\" opacity=\"1\">2.5</text><text text-anchor=\"end\" transform=\"translate(-7,78)\" font-family=\"sans-serif\" font-size=\"10px\" fill=\"#000\" opacity=\"1\">3.0</text><text text-anchor=\"end\" transform=\"translate(-7,40.5)\" font-family=\"sans-serif\" font-size=\"10px\" fill=\"#000\" opacity=\"1\">3.5</text><text text-anchor=\"end\" transform=\"translate(-7,3)\" font-family=\"sans-serif\" font-size=\"10px\" fill=\"#000\" opacity=\"1\">4.0</text></g><g class=\"mark-rule role-axis-domain\" pointer-events=\"none\"><line transform=\"translate(0,300)\" x2=\"0\" y2=\"-300\" stroke=\"#888\" stroke-width=\"1\" opacity=\"1\"/></g><g class=\"mark-text role-axis-title\" pointer-events=\"none\"><text text-anchor=\"middle\" transform=\"translate(-24,150) rotate(-90) translate(0,-2)\" font-family=\"sans-serif\" font-size=\"11px\" font-weight=\"bold\" fill=\"#000\" opacity=\"1\">Count of Records</text></g></g><path class=\"foreground\" aria-hidden=\"true\" d=\"\" pointer-events=\"none\" display=\"none\"/></g></g><g class=\"mark-rect role-mark marks\" role=\"graphics-object\" aria-roledescription=\"rect mark container\"><path aria-label=\"x (binned): 3 – 4; Count of Records: 4\" role=\"graphics-symbol\" aria-roledescription=\"bar\" d=\"M334.3333333333333,0h54.5555555555556v300h-54.5555555555556Z\" fill=\"#4c78a8\"/><path aria-label=\"x (binned): −1 – 0; Count of Records: 3\" role=\"graphics-symbol\" aria-roledescription=\"bar\" d=\"M112.1111111111111,75h54.55555555555556v225h-54.55555555555556Z\" fill=\"#4c78a8\"/><path aria-label=\"x (binned): −3 – −2; Count of Records: 3\" role=\"graphics-symbol\" aria-roledescription=\"bar\" d=\"M1,75h54.55555555555555v225h-54.55555555555555Z\" fill=\"#4c78a8\"/><path aria-label=\"x (binned): 0 – 1; Count of Records: 2\" role=\"graphics-symbol\" aria-roledescription=\"bar\" d=\"M167.66666666666666,150h54.55555555555554v150h-54.55555555555554Z\" fill=\"#4c78a8\"/><path aria-label=\"x (binned): 2 – 3; Count of Records: 2\" role=\"graphics-symbol\" aria-roledescription=\"bar\" d=\"M278.77777777777777,150h54.55555555555554v150h-54.55555555555554Z\" fill=\"#4c78a8\"/><path aria-label=\"x (binned): 1 – 2; Count of Records: 1\" role=\"graphics-symbol\" aria-roledescription=\"bar\" d=\"M223.2222222222222,225h54.55555555555557v75h-54.55555555555557Z\" fill=\"#4c78a8\"/><path aria-label=\"x (binned): 5 – 6; Count of Records: 1\" role=\"graphics-symbol\" aria-roledescription=\"bar\" d=\"M445.4444444444444,225h54.5555555555556v75h-54.5555555555556Z\" fill=\"#4c78a8\"/></g></g><path class=\"foreground\" aria-hidden=\"true\" d=\"\" display=\"none\"/></g></g></g></svg>\n",
      "text/plain": [
       "@vlplot(\n",
       "    width=500,\n",
       "    height=300,\n",
       "    mark=\"bar\",\n",
       "    encoding={\n",
       "        x={\n",
       "            bin=true,\n",
       "            field=\"x\",\n",
       "            title=nothing\n",
       "        },\n",
       "        y={\n",
       "            aggregate=\"count\",\n",
       "            type=\"quantitative\"\n",
       "        }\n",
       "    },\n",
       "    data={\n",
       "        values=...\n",
       "    }\n",
       ")"
      ]
     },
     "metadata": {},
     "output_type": "display_data"
    }
   ],
   "source": [
    "residuals = y_test_pred - y[test]\n",
    "@vlplot(\n",
    "    width=500,\n",
    "    height=300,\n",
    "    :bar, x={residuals, bin=true}, y=\"count()\")"
   ]
  },
  {
   "cell_type": "code",
   "execution_count": 20,
   "metadata": {},
   "outputs": [
    {
     "data": {
      "application/vnd.vegalite.v4+json": {
       "data": {
        "values": [
         {
          "x": 6.308244150383459,
          "y": 6.016877710814443
         },
         {
          "x": 5.902114072925917,
          "y": 3.1097445792067786
         },
         {
          "x": 0.5423242908253617,
          "y": 2.43752654364511
         },
         {
          "x": 6.7936903226941645,
          "y": 7.406584534293003
         },
         {
          "x": 4.522766359733276,
          "y": 4.856494661066178
         },
         {
          "x": 7.558918331673045,
          "y": 6.588666431210854
         },
         {
          "x": 4.286753954166449,
          "y": 2.617576843906628
         },
         {
          "x": 6.835388866355948,
          "y": 6.6340548393663195
         },
         {
          "x": 0.6780335427498971,
          "y": 4.657778993757758
         },
         {
          "x": 4.210051369934071,
          "y": 4.749622373920719
         },
         {
          "x": 4.645544080126364,
          "y": 3.383408426177904
         },
         {
          "x": 8.149763478865312,
          "y": 7.606317379988274
         },
         {
          "x": 5.660561772201637,
          "y": 6.425147145893537
         },
         {
          "x": 0.4382549309311553,
          "y": 1.7009692856655605
         },
         {
          "x": 1.2612978709452054,
          "y": 1.074058421299974
         },
         {
          "x": 0.3987761199573678,
          "y": 0.5869557627201397
         },
         {
          "x": 6.12225155234404,
          "y": 6.105573977763957
         },
         {
          "x": 5.539575847287417,
          "y": 4.862019806887443
         },
         {
          "x": 8.03823115519814,
          "y": 7.657390762955029
         },
         {
          "x": 5.664348405410794,
          "y": 6.189591975999514
         },
         {
          "x": 5.754760719420831,
          "y": 6.289785150527996
         },
         {
          "x": 5.710095836712793,
          "y": 6.773036844328084
         },
         {
          "x": 4.645832167706981,
          "y": 4.435517221014264
         },
         {
          "x": 7.0073471881770955,
          "y": 5.073014678348402
         },
         {
          "x": 1.1939224684724346,
          "y": 3.94220496702593
         },
         {
          "x": 8.11699021398173,
          "y": 7.0137262820549795
         },
         {
          "x": 6.2339792601014485,
          "y": 4.89438030563512
         },
         {
          "x": 3.079613757534693,
          "y": 2.815327890518938
         },
         {
          "x": 6.492239835020471,
          "y": 6.142629995812982
         },
         {
          "x": 7.060158718988807,
          "y": 5.115452217129205
         },
         {
          "x": 6.91818074446572,
          "y": 5.927053330442626
         },
         {
          "x": 6.2648067939549374,
          "y": 5.820430853264302
         },
         {
          "x": -0.616186139423817,
          "y": 0.43891586017728323
         },
         {
          "x": 6.149920232799955,
          "y": 6.786768362225961
         },
         {
          "x": 7.706855799444887,
          "y": 7.680534177318222
         },
         {
          "x": 7.0548986074264795,
          "y": 7.206147908374193
         },
         {
          "x": 7.166358633933251,
          "y": 6.00326644322672
         },
         {
          "x": 0.44468582126144574,
          "y": 0.5304807543824144
         },
         {
          "x": 5.41418746259045,
          "y": 5.9813924430354914
         },
         {
          "x": 6.789917241813198,
          "y": 5.336252753386131
         },
         {
          "x": 5.276685066420923,
          "y": 5.653601806959804
         },
         {
          "x": 4.6480380862152675,
          "y": 4.451351938872498
         },
         {
          "x": 5.686500667421674,
          "y": 5.303639582143932
         },
         {
          "x": 3.0851158346886765,
          "y": 3.630022984277872
         },
         {
          "x": 4.475858449507752,
          "y": 5.180158844502927
         },
         {
          "x": 3.21124679770371,
          "y": 3.6143134572217632
         },
         {
          "x": 7.827743167940527,
          "y": 6.281722204448591
         },
         {
          "x": -1.0498221244986778,
          "y": 0.3810299598064019
         },
         {
          "x": 6.839872505394165,
          "y": 5.693432571561415
         },
         {
          "x": 5.469830724625388,
          "y": 4.7726166301713375
         },
         {
          "x": 8.153237521484783,
          "y": 8.108251945018846
         },
         {
          "x": -1.0788096613719298,
          "y": 2.1456604893826974
         },
         {
          "x": 6.677133837811969,
          "y": 6.668927446772234
         },
         {
          "x": 5.253999685896911,
          "y": 5.5034924566883685
         },
         {
          "x": 1.0260415958332743,
          "y": 2.5341119407455657
         },
         {
          "x": 6.42749119079849,
          "y": 5.590940431003202
         },
         {
          "x": 4.478131952817368,
          "y": 5.117753995684475
         },
         {
          "x": 7.176575581392709,
          "y": 5.93708859692901
         },
         {
          "x": 7.946670640392119,
          "y": 7.712083104707693
         },
         {
          "x": 5.92844487193968,
          "y": 5.758074420784136
         },
         {
          "x": 6.448541232279725,
          "y": 3.9206836924875423
         },
         {
          "x": 7.150575959521895,
          "y": 6.221175201713558
         }
        ]
       },
       "encoding": {
        "x": {
         "field": "x",
         "title": null,
         "type": "quantitative"
        },
        "y": {
         "field": "y",
         "title": null,
         "type": "quantitative"
        }
       },
       "height": 300,
       "mark": "point",
       "title": "Training",
       "width": 500
      },
      "image/png": "[encoded data removed]",
      "image/svg+xml": "<?xml version=\"1.0\" encoding=\"utf-8\"?>\n<!DOCTYPE svg PUBLIC \"-//W3C//DTD SVG 1.1//EN\" \"http://www.w3.org/Graphics/SVG/1.1/DTD/svg11.dtd\">\n<svg xmlns=\"http://www.w3.org/2000/svg\" xmlns:xlink=\"http://www.w3.org/1999/xlink\" version=\"1.1\" class=\"marks\" width=\"523\" height=\"349\" viewBox=\"0 0 523 349\"><rect width=\"523\" height=\"349\" fill=\"white\"/><g fill=\"none\" stroke-miterlimit=\"10\" transform=\"translate(17,27)\"><g class=\"mark-group role-frame root\" role=\"graphics-object\" aria-roledescription=\"group mark container\"><g transform=\"translate(0,0)\"><path class=\"background\" aria-hidden=\"true\" d=\"M0.5,0.5h500v300h-500Z\" stroke=\"#ddd\"/><g><g class=\"mark-group role-axis\" aria-hidden=\"true\"><g transform=\"translate(0.5,300.5)\"><path class=\"background\" aria-hidden=\"true\" d=\"M0,0h0v0h0Z\" pointer-events=\"none\"/><g><g class=\"mark-rule role-axis-grid\" pointer-events=\"none\"><line transform=\"translate(0,-300)\" x2=\"0\" y2=\"300\" stroke=\"#ddd\" stroke-width=\"1\" opacity=\"1\"/><line transform=\"translate(45,-300)\" x2=\"0\" y2=\"300\" stroke=\"#ddd\" stroke-width=\"1\" opacity=\"1\"/><line transform=\"translate(91,-300)\" x2=\"0\" y2=\"300\" stroke=\"#ddd\" stroke-width=\"1\" opacity=\"1\"/><line transform=\"translate(136,-300)\" x2=\"0\" y2=\"300\" stroke=\"#ddd\" stroke-width=\"1\" opacity=\"1\"/><line transform=\"translate(182,-300)\" x2=\"0\" y2=\"300\" stroke=\"#ddd\" stroke-width=\"1\" opacity=\"1\"/><line transform=\"translate(227,-300)\" x2=\"0\" y2=\"300\" stroke=\"#ddd\" stroke-width=\"1\" opacity=\"1\"/><line transform=\"translate(273,-300)\" x2=\"0\" y2=\"300\" stroke=\"#ddd\" stroke-width=\"1\" opacity=\"1\"/><line transform=\"translate(318,-300)\" x2=\"0\" y2=\"300\" stroke=\"#ddd\" stroke-width=\"1\" opacity=\"1\"/><line transform=\"translate(364,-300)\" x2=\"0\" y2=\"300\" stroke=\"#ddd\" stroke-width=\"1\" opacity=\"1\"/><line transform=\"translate(409,-300)\" x2=\"0\" y2=\"300\" stroke=\"#ddd\" stroke-width=\"1\" opacity=\"1\"/><line transform=\"translate(455,-300)\" x2=\"0\" y2=\"300\" stroke=\"#ddd\" stroke-width=\"1\" opacity=\"1\"/><line transform=\"translate(500,-300)\" x2=\"0\" y2=\"300\" stroke=\"#ddd\" stroke-width=\"1\" opacity=\"1\"/></g></g><path class=\"foreground\" aria-hidden=\"true\" d=\"\" pointer-events=\"none\" display=\"none\"/></g></g><g class=\"mark-group role-axis\" aria-hidden=\"true\"><g transform=\"translate(0.5,0.5)\"><path class=\"background\" aria-hidden=\"true\" d=\"M0,0h0v0h0Z\" pointer-events=\"none\"/><g><g class=\"mark-rule role-axis-grid\" pointer-events=\"none\"><line transform=\"translate(0,300)\" x2=\"500\" y2=\"0\" stroke=\"#ddd\" stroke-width=\"1\" opacity=\"1\"/><line transform=\"translate(0,267)\" x2=\"500\" y2=\"0\" stroke=\"#ddd\" stroke-width=\"1\" opacity=\"1\"/><line transform=\"translate(0,233)\" x2=\"500\" y2=\"0\" stroke=\"#ddd\" stroke-width=\"1\" opacity=\"1\"/><line transform=\"translate(0,200)\" x2=\"500\" y2=\"0\" stroke=\"#ddd\" stroke-width=\"1\" opacity=\"1\"/><line transform=\"translate(0,167)\" x2=\"500\" y2=\"0\" stroke=\"#ddd\" stroke-width=\"1\" opacity=\"1\"/><line transform=\"translate(0,133)\" x2=\"500\" y2=\"0\" stroke=\"#ddd\" stroke-width=\"1\" opacity=\"1\"/><line transform=\"translate(0,100)\" x2=\"500\" y2=\"0\" stroke=\"#ddd\" stroke-width=\"1\" opacity=\"1\"/><line transform=\"translate(0,67)\" x2=\"500\" y2=\"0\" stroke=\"#ddd\" stroke-width=\"1\" opacity=\"1\"/><line transform=\"translate(0,33)\" x2=\"500\" y2=\"0\" stroke=\"#ddd\" stroke-width=\"1\" opacity=\"1\"/><line transform=\"translate(0,0)\" x2=\"500\" y2=\"0\" stroke=\"#ddd\" stroke-width=\"1\" opacity=\"1\"/></g></g><path class=\"foreground\" aria-hidden=\"true\" d=\"\" pointer-events=\"none\" display=\"none\"/></g></g><g class=\"mark-group role-axis\" role=\"graphics-symbol\" aria-roledescription=\"axis\" aria-label=\"X-axis for a linear scale with values from −2 to 9\"><g transform=\"translate(0.5,300.5)\"><path class=\"background\" aria-hidden=\"true\" d=\"M0,0h0v0h0Z\" pointer-events=\"none\"/><g><g class=\"mark-rule role-axis-tick\" pointer-events=\"none\"><line transform=\"translate(0,0)\" x2=\"0\" y2=\"5\" stroke=\"#888\" stroke-width=\"1\" opacity=\"1\"/><line transform=\"translate(45,0)\" x2=\"0\" y2=\"5\" stroke=\"#888\" stroke-width=\"1\" opacity=\"1\"/><line transform=\"translate(91,0)\" x2=\"0\" y2=\"5\" stroke=\"#888\" stroke-width=\"1\" opacity=\"1\"/><line transform=\"translate(136,0)\" x2=\"0\" y2=\"5\" stroke=\"#888\" stroke-width=\"1\" opacity=\"1\"/><line transform=\"translate(182,0)\" x2=\"0\" y2=\"5\" stroke=\"#888\" stroke-width=\"1\" opacity=\"1\"/><line transform=\"translate(227,0)\" x2=\"0\" y2=\"5\" stroke=\"#888\" stroke-width=\"1\" opacity=\"1\"/><line transform=\"translate(273,0)\" x2=\"0\" y2=\"5\" stroke=\"#888\" stroke-width=\"1\" opacity=\"1\"/><line transform=\"translate(318,0)\" x2=\"0\" y2=\"5\" stroke=\"#888\" stroke-width=\"1\" opacity=\"1\"/><line transform=\"translate(364,0)\" x2=\"0\" y2=\"5\" stroke=\"#888\" stroke-width=\"1\" opacity=\"1\"/><line transform=\"translate(409,0)\" x2=\"0\" y2=\"5\" stroke=\"#888\" stroke-width=\"1\" opacity=\"1\"/><line transform=\"translate(455,0)\" x2=\"0\" y2=\"5\" stroke=\"#888\" stroke-width=\"1\" opacity=\"1\"/><line transform=\"translate(500,0)\" x2=\"0\" y2=\"5\" stroke=\"#888\" stroke-width=\"1\" opacity=\"1\"/></g><g class=\"mark-text role-axis-label\" pointer-events=\"none\"><text text-anchor=\"start\" transform=\"translate(0,15)\" font-family=\"sans-serif\" font-size=\"10px\" fill=\"#000\" opacity=\"1\">−2</text><text text-anchor=\"middle\" transform=\"translate(45.45454545454545,15)\" font-family=\"sans-serif\" font-size=\"10px\" fill=\"#000\" opacity=\"1\">−1</text><text text-anchor=\"middle\" transform=\"translate(90.9090909090909,15)\" font-family=\"sans-serif\" font-size=\"10px\" fill=\"#000\" opacity=\"1\">0</text><text text-anchor=\"middle\" transform=\"translate(136.36363636363635,15)\" font-family=\"sans-serif\" font-size=\"10px\" fill=\"#000\" opacity=\"1\">1</text><text text-anchor=\"middle\" transform=\"translate(181.8181818181818,15)\" font-family=\"sans-serif\" font-size=\"10px\" fill=\"#000\" opacity=\"1\">2</text><text text-anchor=\"middle\" transform=\"translate(227.27272727272725,15)\" font-family=\"sans-serif\" font-size=\"10px\" fill=\"#000\" opacity=\"1\">3</text><text text-anchor=\"middle\" transform=\"translate(272.7272727272727,15)\" font-family=\"sans-serif\" font-size=\"10px\" fill=\"#000\" opacity=\"1\">4</text><text text-anchor=\"middle\" transform=\"translate(318.1818181818182,15)\" font-family=\"sans-serif\" font-size=\"10px\" fill=\"#000\" opacity=\"1\">5</text><text text-anchor=\"middle\" transform=\"translate(363.6363636363636,15)\" font-family=\"sans-serif\" font-size=\"10px\" fill=\"#000\" opacity=\"1\">6</text><text text-anchor=\"middle\" transform=\"translate(409.0909090909091,15)\" font-family=\"sans-serif\" font-size=\"10px\" fill=\"#000\" opacity=\"1\">7</text><text text-anchor=\"middle\" transform=\"translate(454.5454545454545,15)\" font-family=\"sans-serif\" font-size=\"10px\" fill=\"#000\" opacity=\"1\">8</text><text text-anchor=\"end\" transform=\"translate(500,15)\" font-family=\"sans-serif\" font-size=\"10px\" fill=\"#000\" opacity=\"1\">9</text></g><g class=\"mark-rule role-axis-domain\" pointer-events=\"none\"><line transform=\"translate(0,0)\" x2=\"500\" y2=\"0\" stroke=\"#888\" stroke-width=\"1\" opacity=\"1\"/></g></g><path class=\"foreground\" aria-hidden=\"true\" d=\"\" pointer-events=\"none\" display=\"none\"/></g></g><g class=\"mark-group role-axis\" role=\"graphics-symbol\" aria-roledescription=\"axis\" aria-label=\"Y-axis for a linear scale with values from 0 to 9\"><g transform=\"translate(0.5,0.5)\"><path class=\"background\" aria-hidden=\"true\" d=\"M0,0h0v0h0Z\" pointer-events=\"none\"/><g><g class=\"mark-rule role-axis-tick\" pointer-events=\"none\"><line transform=\"translate(0,300)\" x2=\"-5\" y2=\"0\" stroke=\"#888\" stroke-width=\"1\" opacity=\"1\"/><line transform=\"translate(0,267)\" x2=\"-5\" y2=\"0\" stroke=\"#888\" stroke-width=\"1\" opacity=\"1\"/><line transform=\"translate(0,233)\" x2=\"-5\" y2=\"0\" stroke=\"#888\" stroke-width=\"1\" opacity=\"1\"/><line transform=\"translate(0,200)\" x2=\"-5\" y2=\"0\" stroke=\"#888\" stroke-width=\"1\" opacity=\"1\"/><line transform=\"translate(0,167)\" x2=\"-5\" y2=\"0\" stroke=\"#888\" stroke-width=\"1\" opacity=\"1\"/><line transform=\"translate(0,133)\" x2=\"-5\" y2=\"0\" stroke=\"#888\" stroke-width=\"1\" opacity=\"1\"/><line transform=\"translate(0,100)\" x2=\"-5\" y2=\"0\" stroke=\"#888\" stroke-width=\"1\" opacity=\"1\"/><line transform=\"translate(0,67)\" x2=\"-5\" y2=\"0\" stroke=\"#888\" stroke-width=\"1\" opacity=\"1\"/><line transform=\"translate(0,33)\" x2=\"-5\" y2=\"0\" stroke=\"#888\" stroke-width=\"1\" opacity=\"1\"/><line transform=\"translate(0,0)\" x2=\"-5\" y2=\"0\" stroke=\"#888\" stroke-width=\"1\" opacity=\"1\"/></g><g class=\"mark-text role-axis-label\" pointer-events=\"none\"><text text-anchor=\"end\" transform=\"translate(-7,303)\" font-family=\"sans-serif\" font-size=\"10px\" fill=\"#000\" opacity=\"1\">0</text><text text-anchor=\"end\" transform=\"translate(-7,269.66666666666663)\" font-family=\"sans-serif\" font-size=\"10px\" fill=\"#000\" opacity=\"1\">1</text><text text-anchor=\"end\" transform=\"translate(-7,236.33333333333334)\" font-family=\"sans-serif\" font-size=\"10px\" fill=\"#000\" opacity=\"1\">2</text><text text-anchor=\"end\" transform=\"translate(-7,203.00000000000003)\" font-family=\"sans-serif\" font-size=\"10px\" fill=\"#000\" opacity=\"1\">3</text><text text-anchor=\"end\" transform=\"translate(-7,169.66666666666669)\" font-family=\"sans-serif\" font-size=\"10px\" fill=\"#000\" opacity=\"1\">4</text><text text-anchor=\"end\" transform=\"translate(-7,136.33333333333331)\" font-family=\"sans-serif\" font-size=\"10px\" fill=\"#000\" opacity=\"1\">5</text><text text-anchor=\"end\" transform=\"translate(-7,103.00000000000001)\" font-family=\"sans-serif\" font-size=\"10px\" fill=\"#000\" opacity=\"1\">6</text><text text-anchor=\"end\" transform=\"translate(-7,69.66666666666666)\" font-family=\"sans-serif\" font-size=\"10px\" fill=\"#000\" opacity=\"1\">7</text><text text-anchor=\"end\" transform=\"translate(-7,36.33333333333335)\" font-family=\"sans-serif\" font-size=\"10px\" fill=\"#000\" opacity=\"1\">8</text><text text-anchor=\"end\" transform=\"translate(-7,3)\" font-family=\"sans-serif\" font-size=\"10px\" fill=\"#000\" opacity=\"1\">9</text></g><g class=\"mark-rule role-axis-domain\" pointer-events=\"none\"><line transform=\"translate(0,300)\" x2=\"0\" y2=\"-300\" stroke=\"#888\" stroke-width=\"1\" opacity=\"1\"/></g></g><path class=\"foreground\" aria-hidden=\"true\" d=\"\" pointer-events=\"none\" display=\"none\"/></g></g><g class=\"mark-symbol role-mark marks\" role=\"graphics-object\" aria-roledescription=\"symbol mark container\"><path aria-label=\"x: 6.30824415038; y: 6.01687771081\" role=\"graphics-symbol\" aria-roledescription=\"point\" transform=\"translate(377.6474613810663,99.43740963951856)\" d=\"M2.7386127875258306,0A2.7386127875258306,2.7386127875258306,0,1,1,-2.7386127875258306,0A2.7386127875258306,2.7386127875258306,0,1,1,2.7386127875258306,0\" stroke=\"#4c78a8\" stroke-width=\"2\" opacity=\"0.7\"/><path aria-label=\"x: 5.90211407293; y: 3.10974457921\" role=\"graphics-symbol\" aria-roledescription=\"point\" transform=\"translate(359.1870033148144,196.34184735977405)\" d=\"M2.7386127875258306,0A2.7386127875258306,2.7386127875258306,0,1,1,-2.7386127875258306,0A2.7386127875258306,2.7386127875258306,0,1,1,2.7386127875258306,0\" stroke=\"#4c78a8\" stroke-width=\"2\" opacity=\"0.7\"/><path aria-label=\"x: 0.542324290825; y: 2.43752654365\" role=\"graphics-symbol\" aria-roledescription=\"point\" transform=\"translate(115.56019503751645,218.7491152118297)\" d=\"M2.7386127875258306,0A2.7386127875258306,2.7386127875258306,0,1,1,-2.7386127875258306,0A2.7386127875258306,2.7386127875258306,0,1,1,2.7386127875258306,0\" stroke=\"#4c78a8\" stroke-width=\"2\" opacity=\"0.7\"/><path aria-label=\"x: 6.79369032269; y: 7.40658453429\" role=\"graphics-symbol\" aria-roledescription=\"point\" transform=\"translate(399.71319648609835,53.11384885689991)\" d=\"M2.7386127875258306,0A2.7386127875258306,2.7386127875258306,0,1,1,-2.7386127875258306,0A2.7386127875258306,2.7386127875258306,0,1,1,2.7386127875258306,0\" stroke=\"#4c78a8\" stroke-width=\"2\" opacity=\"0.7\"/><path aria-label=\"x: 4.52276635973; y: 4.85649466107\" role=\"graphics-symbol\" aria-roledescription=\"point\" transform=\"translate(296.4893799878762,138.11684463112738)\" d=\"M2.7386127875258306,0A2.7386127875258306,2.7386127875258306,0,1,1,-2.7386127875258306,0A2.7386127875258306,2.7386127875258306,0,1,1,2.7386127875258306,0\" stroke=\"#4c78a8\" stroke-width=\"2\" opacity=\"0.7\"/><path aria-label=\"x: 7.55891833167; y: 6.58866643121\" role=\"graphics-symbol\" aria-roledescription=\"point\" transform=\"translate(434.49628780332023,80.37778562630487)\" d=\"M2.7386127875258306,0A2.7386127875258306,2.7386127875258306,0,1,1,-2.7386127875258306,0A2.7386127875258306,2.7386127875258306,0,1,1,2.7386127875258306,0\" stroke=\"#4c78a8\" stroke-width=\"2\" opacity=\"0.7\"/><path aria-label=\"x: 4.28675395417; y: 2.61757684391\" role=\"graphics-symbol\" aria-roledescription=\"point\" transform=\"translate(285.76154337120227,212.74743853644574)\" d=\"M2.7386127875258306,0A2.7386127875258306,2.7386127875258306,0,1,1,-2.7386127875258306,0A2.7386127875258306,2.7386127875258306,0,1,1,2.7386127875258306,0\" stroke=\"#4c78a8\" stroke-width=\"2\" opacity=\"0.7\"/><path aria-label=\"x: 6.83538886636; y: 6.63405483937\" role=\"graphics-symbol\" aria-roledescription=\"point\" transform=\"translate(401.6085848343613,78.86483868778936)\" d=\"M2.7386127875258306,0A2.7386127875258306,2.7386127875258306,0,1,1,-2.7386127875258306,0A2.7386127875258306,2.7386127875258306,0,1,1,2.7386127875258306,0\" stroke=\"#4c78a8\" stroke-width=\"2\" opacity=\"0.7\"/><path aria-label=\"x: 0.67803354275; y: 4.65777899376\" role=\"graphics-symbol\" aria-roledescription=\"point\" transform=\"translate(121.72879739772259,144.74070020807474)\" d=\"M2.7386127875258306,0A2.7386127875258306,2.7386127875258306,0,1,1,-2.7386127875258306,0A2.7386127875258306,2.7386127875258306,0,1,1,2.7386127875258306,0\" stroke=\"#4c78a8\" stroke-width=\"2\" opacity=\"0.7\"/><path aria-label=\"x: 4.21005136993; y: 4.74962237392\" role=\"graphics-symbol\" aria-roledescription=\"point\" transform=\"translate(282.2750622697305,141.6792542026427)\" d=\"M2.7386127875258306,0A2.7386127875258306,2.7386127875258306,0,1,1,-2.7386127875258306,0A2.7386127875258306,2.7386127875258306,0,1,1,2.7386127875258306,0\" stroke=\"#4c78a8\" stroke-width=\"2\" opacity=\"0.7\"/><path aria-label=\"x: 4.64554408013; y: 3.38340842618\" role=\"graphics-symbol\" aria-roledescription=\"point\" transform=\"translate(302.0701854602893,187.21971912740318)\" d=\"M2.7386127875258306,0A2.7386127875258306,2.7386127875258306,0,1,1,-2.7386127875258306,0A2.7386127875258306,2.7386127875258306,0,1,1,2.7386127875258306,0\" stroke=\"#4c78a8\" stroke-width=\"2\" opacity=\"0.7\"/><path aria-label=\"x: 8.14976347887; y: 7.60631737999\" role=\"graphics-symbol\" aria-roledescription=\"point\" transform=\"translate(461.3528854029687,46.45608733372417)\" d=\"M2.7386127875258306,0A2.7386127875258306,2.7386127875258306,0,1,1,-2.7386127875258306,0A2.7386127875258306,2.7386127875258306,0,1,1,2.7386127875258306,0\" stroke=\"#4c78a8\" stroke-width=\"2\" opacity=\"0.7\"/><path aria-label=\"x: 5.6605617722; y: 6.42514714589\" role=\"graphics-symbol\" aria-roledescription=\"point\" transform=\"translate(348.2073532818926,85.82842847021543)\" d=\"M2.7386127875258306,0A2.7386127875258306,2.7386127875258306,0,1,1,-2.7386127875258306,0A2.7386127875258306,2.7386127875258306,0,1,1,2.7386127875258306,0\" stroke=\"#4c78a8\" stroke-width=\"2\" opacity=\"0.7\"/><path aria-label=\"x: 0.438254930931; y: 1.70096928567\" role=\"graphics-symbol\" aria-roledescription=\"point\" transform=\"translate(110.8297695877798,243.30102381114799)\" d=\"M2.7386127875258306,0A2.7386127875258306,2.7386127875258306,0,1,1,-2.7386127875258306,0A2.7386127875258306,2.7386127875258306,0,1,1,2.7386127875258306,0\" stroke=\"#4c78a8\" stroke-width=\"2\" opacity=\"0.7\"/><path aria-label=\"x: 1.26129787095; y: 1.0740584213\" role=\"graphics-symbol\" aria-roledescription=\"point\" transform=\"translate(148.24081231569116,264.1980526233342)\" d=\"M2.7386127875258306,0A2.7386127875258306,2.7386127875258306,0,1,1,-2.7386127875258306,0A2.7386127875258306,2.7386127875258306,0,1,1,2.7386127875258306,0\" stroke=\"#4c78a8\" stroke-width=\"2\" opacity=\"0.7\"/><path aria-label=\"x: 0.398776119957; y: 0.58695576272\" role=\"graphics-symbol\" aria-roledescription=\"point\" transform=\"translate(109.03527817988036,280.4348079093287)\" d=\"M2.7386127875258306,0A2.7386127875258306,2.7386127875258306,0,1,1,-2.7386127875258306,0A2.7386127875258306,2.7386127875258306,0,1,1,2.7386127875258306,0\" stroke=\"#4c78a8\" stroke-width=\"2\" opacity=\"0.7\"/><path aria-label=\"x: 6.12225155234; y: 6.10557397776\" role=\"graphics-symbol\" aria-roledescription=\"point\" transform=\"translate(369.19325237927455,96.4808674078681)\" d=\"M2.7386127875258306,0A2.7386127875258306,2.7386127875258306,0,1,1,-2.7386127875258306,0A2.7386127875258306,2.7386127875258306,0,1,1,2.7386127875258306,0\" stroke=\"#4c78a8\" stroke-width=\"2\" opacity=\"0.7\"/><path aria-label=\"x: 5.53957584729; y: 4.86201980689\" role=\"graphics-symbol\" aria-roledescription=\"point\" transform=\"translate(342.707993058519,137.93267310375188)\" d=\"M2.7386127875258306,0A2.7386127875258306,2.7386127875258306,0,1,1,-2.7386127875258306,0A2.7386127875258306,2.7386127875258306,0,1,1,2.7386127875258306,0\" stroke=\"#4c78a8\" stroke-width=\"2\" opacity=\"0.7\"/><path aria-label=\"x: 8.0382311552; y: 7.65739076296\" role=\"graphics-symbol\" aria-roledescription=\"point\" transform=\"translate(456.2832343271882,44.75364123483235)\" d=\"M2.7386127875258306,0A2.7386127875258306,2.7386127875258306,0,1,1,-2.7386127875258306,0A2.7386127875258306,2.7386127875258306,0,1,1,2.7386127875258306,0\" stroke=\"#4c78a8\" stroke-width=\"2\" opacity=\"0.7\"/><path aria-label=\"x: 5.66434840541; y: 6.189591976\" role=\"graphics-symbol\" aria-roledescription=\"point\" transform=\"translate(348.3794729732179,93.68026746668288)\" d=\"M2.7386127875258306,0A2.7386127875258306,2.7386127875258306,0,1,1,-2.7386127875258306,0A2.7386127875258306,2.7386127875258306,0,1,1,2.7386127875258306,0\" stroke=\"#4c78a8\" stroke-width=\"2\" opacity=\"0.7\"/><path aria-label=\"x: 5.75476071942; y: 6.28978515053\" role=\"graphics-symbol\" aria-roledescription=\"point\" transform=\"translate(352.4891236100378,90.34049498240014)\" d=\"M2.7386127875258306,0A2.7386127875258306,2.7386127875258306,0,1,1,-2.7386127875258306,0A2.7386127875258306,2.7386127875258306,0,1,1,2.7386127875258306,0\" stroke=\"#4c78a8\" stroke-width=\"2\" opacity=\"0.7\"/><path aria-label=\"x: 5.71009583671; y: 6.77303684433\" role=\"graphics-symbol\" aria-roledescription=\"point\" transform=\"translate(350.4589016687633,74.23210518906386)\" d=\"M2.7386127875258306,0A2.7386127875258306,2.7386127875258306,0,1,1,-2.7386127875258306,0A2.7386127875258306,2.7386127875258306,0,1,1,2.7386127875258306,0\" stroke=\"#4c78a8\" stroke-width=\"2\" opacity=\"0.7\"/><path aria-label=\"x: 4.64583216771; y: 4.43551722101\" role=\"graphics-symbol\" aria-roledescription=\"point\" transform=\"translate(302.08328035031735,152.14942596619122)\" d=\"M2.7386127875258306,0A2.7386127875258306,2.7386127875258306,0,1,1,-2.7386127875258306,0A2.7386127875258306,2.7386127875258306,0,1,1,2.7386127875258306,0\" stroke=\"#4c78a8\" stroke-width=\"2\" opacity=\"0.7\"/><path aria-label=\"x: 7.00734718818; y: 5.07301467835\" role=\"graphics-symbol\" aria-roledescription=\"point\" transform=\"translate(409.424872189868,130.89951072171993)\" d=\"M2.7386127875258306,0A2.7386127875258306,2.7386127875258306,0,1,1,-2.7386127875258306,0A2.7386127875258306,2.7386127875258306,0,1,1,2.7386127875258306,0\" stroke=\"#4c78a8\" stroke-width=\"2\" opacity=\"0.7\"/><path aria-label=\"x: 1.19392246847; y: 3.94220496703\" role=\"graphics-symbol\" aria-roledescription=\"point\" transform=\"translate(145.1782940214743,168.59316776580235)\" d=\"M2.7386127875258306,0A2.7386127875258306,2.7386127875258306,0,1,1,-2.7386127875258306,0A2.7386127875258306,2.7386127875258306,0,1,1,2.7386127875258306,0\" stroke=\"#4c78a8\" stroke-width=\"2\" opacity=\"0.7\"/><path aria-label=\"x: 8.11699021398; y: 7.01372628205\" role=\"graphics-symbol\" aria-roledescription=\"point\" transform=\"translate(459.8631915446241,66.20912393150068)\" d=\"M2.7386127875258306,0A2.7386127875258306,2.7386127875258306,0,1,1,-2.7386127875258306,0A2.7386127875258306,2.7386127875258306,0,1,1,2.7386127875258306,0\" stroke=\"#4c78a8\" stroke-width=\"2\" opacity=\"0.7\"/><path aria-label=\"x: 6.2339792601; y: 4.89438030564\" role=\"graphics-symbol\" aria-roledescription=\"point\" transform=\"translate(374.2717845500659,136.85398981216267)\" d=\"M2.7386127875258306,0A2.7386127875258306,2.7386127875258306,0,1,1,-2.7386127875258306,0A2.7386127875258306,2.7386127875258306,0,1,1,2.7386127875258306,0\" stroke=\"#4c78a8\" stroke-width=\"2\" opacity=\"0.7\"/><path aria-label=\"x: 3.07961375753; y: 2.81532789052\" role=\"graphics-symbol\" aria-roledescription=\"point\" transform=\"translate(230.89153443339512,206.15573698270205)\" d=\"M2.7386127875258306,0A2.7386127875258306,2.7386127875258306,0,1,1,-2.7386127875258306,0A2.7386127875258306,2.7386127875258306,0,1,1,2.7386127875258306,0\" stroke=\"#4c78a8\" stroke-width=\"2\" opacity=\"0.7\"/><path aria-label=\"x: 6.49223983502; y: 6.14262999581\" role=\"graphics-symbol\" aria-roledescription=\"point\" transform=\"translate(386.0109015918395,95.24566680623393)\" d=\"M2.7386127875258306,0A2.7386127875258306,2.7386127875258306,0,1,1,-2.7386127875258306,0A2.7386127875258306,2.7386127875258306,0,1,1,2.7386127875258306,0\" stroke=\"#4c78a8\" stroke-width=\"2\" opacity=\"0.7\"/><path aria-label=\"x: 7.06015871899; y: 5.11545221713\" role=\"graphics-symbol\" aria-roledescription=\"point\" transform=\"translate(411.825396317673,129.4849260956932)\" d=\"M2.7386127875258306,0A2.7386127875258306,2.7386127875258306,0,1,1,-2.7386127875258306,0A2.7386127875258306,2.7386127875258306,0,1,1,2.7386127875258306,0\" stroke=\"#4c78a8\" stroke-width=\"2\" opacity=\"0.7\"/><path aria-label=\"x: 6.91818074447; y: 5.92705333044\" role=\"graphics-symbol\" aria-roledescription=\"point\" transform=\"translate(405.37185202116905,102.43155565191246)\" d=\"M2.7386127875258306,0A2.7386127875258306,2.7386127875258306,0,1,1,-2.7386127875258306,0A2.7386127875258306,2.7386127875258306,0,1,1,2.7386127875258306,0\" stroke=\"#4c78a8\" stroke-width=\"2\" opacity=\"0.7\"/><path aria-label=\"x: 6.26480679395; y: 5.82043085326\" role=\"graphics-symbol\" aria-roledescription=\"point\" transform=\"translate(375.6730360888608,105.98563822452329)\" d=\"M2.7386127875258306,0A2.7386127875258306,2.7386127875258306,0,1,1,-2.7386127875258306,0A2.7386127875258306,2.7386127875258306,0,1,1,2.7386127875258306,0\" stroke=\"#4c78a8\" stroke-width=\"2\" opacity=\"0.7\"/><path aria-label=\"x: −0.616186139424; y: 0.438915860177\" role=\"graphics-symbol\" aria-roledescription=\"point\" transform=\"translate(62.90063002619014,285.3694713274239)\" d=\"M2.7386127875258306,0A2.7386127875258306,2.7386127875258306,0,1,1,-2.7386127875258306,0A2.7386127875258306,2.7386127875258306,0,1,1,2.7386127875258306,0\" stroke=\"#4c78a8\" stroke-width=\"2\" opacity=\"0.7\"/><path aria-label=\"x: 6.1499202328; y: 6.78676836223\" role=\"graphics-symbol\" aria-roledescription=\"point\" transform=\"translate(370.45091967272526,73.7743879258013)\" d=\"M2.7386127875258306,0A2.7386127875258306,2.7386127875258306,0,1,1,-2.7386127875258306,0A2.7386127875258306,2.7386127875258306,0,1,1,2.7386127875258306,0\" stroke=\"#4c78a8\" stroke-width=\"2\" opacity=\"0.7\"/><path aria-label=\"x: 7.70685579944; y: 7.68053417732\" role=\"graphics-symbol\" aria-roledescription=\"point\" transform=\"translate(441.2207181565858,43.98219408939259)\" d=\"M2.7386127875258306,0A2.7386127875258306,2.7386127875258306,0,1,1,-2.7386127875258306,0A2.7386127875258306,2.7386127875258306,0,1,1,2.7386127875258306,0\" stroke=\"#4c78a8\" stroke-width=\"2\" opacity=\"0.7\"/><path aria-label=\"x: 7.05489860743; y: 7.20614790837\" role=\"graphics-symbol\" aria-roledescription=\"point\" transform=\"translate(411.58630033756725,59.795069720860226)\" d=\"M2.7386127875258306,0A2.7386127875258306,2.7386127875258306,0,1,1,-2.7386127875258306,0A2.7386127875258306,2.7386127875258306,0,1,1,2.7386127875258306,0\" stroke=\"#4c78a8\" stroke-width=\"2\" opacity=\"0.7\"/><path aria-label=\"x: 7.16635863393; y: 6.00326644323\" role=\"graphics-symbol\" aria-roledescription=\"point\" transform=\"translate(416.6526651787841,99.89111855910933)\" d=\"M2.7386127875258306,0A2.7386127875258306,2.7386127875258306,0,1,1,-2.7386127875258306,0A2.7386127875258306,2.7386127875258306,0,1,1,2.7386127875258306,0\" stroke=\"#4c78a8\" stroke-width=\"2\" opacity=\"0.7\"/><path aria-label=\"x: 0.444685821261; y: 0.530480754382\" role=\"graphics-symbol\" aria-roledescription=\"point\" transform=\"translate(111.12208278461117,282.3173081872528)\" d=\"M2.7386127875258306,0A2.7386127875258306,2.7386127875258306,0,1,1,-2.7386127875258306,0A2.7386127875258306,2.7386127875258306,0,1,1,2.7386127875258306,0\" stroke=\"#4c78a8\" stroke-width=\"2\" opacity=\"0.7\"/><path aria-label=\"x: 5.41418746259; y: 5.98139244304\" role=\"graphics-symbol\" aria-roledescription=\"point\" transform=\"translate(337.0085210268386,100.62025189881695)\" d=\"M2.7386127875258306,0A2.7386127875258306,2.7386127875258306,0,1,1,-2.7386127875258306,0A2.7386127875258306,2.7386127875258306,0,1,1,2.7386127875258306,0\" stroke=\"#4c78a8\" stroke-width=\"2\" opacity=\"0.7\"/><path aria-label=\"x: 6.78991724181; y: 5.33625275339\" role=\"graphics-symbol\" aria-roledescription=\"point\" transform=\"translate(399.5416928096908,122.1249082204623)\" d=\"M2.7386127875258306,0A2.7386127875258306,2.7386127875258306,0,1,1,-2.7386127875258306,0A2.7386127875258306,2.7386127875258306,0,1,1,2.7386127875258306,0\" stroke=\"#4c78a8\" stroke-width=\"2\" opacity=\"0.7\"/><path aria-label=\"x: 5.27668506642; y: 5.65360180696\" role=\"graphics-symbol\" aria-roledescription=\"point\" transform=\"translate(330.75841211004195,111.5466064346732)\" d=\"M2.7386127875258306,0A2.7386127875258306,2.7386127875258306,0,1,1,-2.7386127875258306,0A2.7386127875258306,2.7386127875258306,0,1,1,2.7386127875258306,0\" stroke=\"#4c78a8\" stroke-width=\"2\" opacity=\"0.7\"/><path aria-label=\"x: 4.64803808622; y: 4.45135193887\" role=\"graphics-symbol\" aria-roledescription=\"point\" transform=\"translate(302.1835493734212,151.62160203758341)\" d=\"M2.7386127875258306,0A2.7386127875258306,2.7386127875258306,0,1,1,-2.7386127875258306,0A2.7386127875258306,2.7386127875258306,0,1,1,2.7386127875258306,0\" stroke=\"#4c78a8\" stroke-width=\"2\" opacity=\"0.7\"/><path aria-label=\"x: 5.68650066742; y: 5.30363958214\" role=\"graphics-symbol\" aria-roledescription=\"point\" transform=\"translate(349.3863939737125,123.21201392853563)\" d=\"M2.7386127875258306,0A2.7386127875258306,2.7386127875258306,0,1,1,-2.7386127875258306,0A2.7386127875258306,2.7386127875258306,0,1,1,2.7386127875258306,0\" stroke=\"#4c78a8\" stroke-width=\"2\" opacity=\"0.7\"/><path aria-label=\"x: 3.08511583469; y: 3.63002298428\" role=\"graphics-symbol\" aria-roledescription=\"point\" transform=\"translate(231.1416288494853,178.99923385740428)\" d=\"M2.7386127875258306,0A2.7386127875258306,2.7386127875258306,0,1,1,-2.7386127875258306,0A2.7386127875258306,2.7386127875258306,0,1,1,2.7386127875258306,0\" stroke=\"#4c78a8\" stroke-width=\"2\" opacity=\"0.7\"/><path aria-label=\"x: 4.47585844951; y: 5.1801588445\" role=\"graphics-symbol\" aria-roledescription=\"point\" transform=\"translate(294.3572022503523,127.32803851656912)\" d=\"M2.7386127875258306,0A2.7386127875258306,2.7386127875258306,0,1,1,-2.7386127875258306,0A2.7386127875258306,2.7386127875258306,0,1,1,2.7386127875258306,0\" stroke=\"#4c78a8\" stroke-width=\"2\" opacity=\"0.7\"/><path aria-label=\"x: 3.2112467977; y: 3.61431345722\" role=\"graphics-symbol\" aria-roledescription=\"point\" transform=\"translate(236.87485444107773,179.52288475927455)\" d=\"M2.7386127875258306,0A2.7386127875258306,2.7386127875258306,0,1,1,-2.7386127875258306,0A2.7386127875258306,2.7386127875258306,0,1,1,2.7386127875258306,0\" stroke=\"#4c78a8\" stroke-width=\"2\" opacity=\"0.7\"/><path aria-label=\"x: 7.82774316794; y: 6.28172220445\" role=\"graphics-symbol\" aria-roledescription=\"point\" transform=\"translate(446.71559854275125,90.60925985171366)\" d=\"M2.7386127875258306,0A2.7386127875258306,2.7386127875258306,0,1,1,-2.7386127875258306,0A2.7386127875258306,2.7386127875258306,0,1,1,2.7386127875258306,0\" stroke=\"#4c78a8\" stroke-width=\"2\" opacity=\"0.7\"/><path aria-label=\"x: −1.0498221245; y: 0.381029959806\" role=\"graphics-symbol\" aria-roledescription=\"point\" transform=\"translate(43.18990343187828,287.2990013397866)\" d=\"M2.7386127875258306,0A2.7386127875258306,2.7386127875258306,0,1,1,-2.7386127875258306,0A2.7386127875258306,2.7386127875258306,0,1,1,2.7386127875258306,0\" stroke=\"#4c78a8\" stroke-width=\"2\" opacity=\"0.7\"/><path aria-label=\"x: 6.83987250539; y: 5.69343257156\" role=\"graphics-symbol\" aria-roledescription=\"point\" transform=\"translate(401.8123866088257,110.21891428128619)\" d=\"M2.7386127875258306,0A2.7386127875258306,2.7386127875258306,0,1,1,-2.7386127875258306,0A2.7386127875258306,2.7386127875258306,0,1,1,2.7386127875258306,0\" stroke=\"#4c78a8\" stroke-width=\"2\" opacity=\"0.7\"/><path aria-label=\"x: 5.46983072463; y: 4.77261663017\" role=\"graphics-symbol\" aria-roledescription=\"point\" transform=\"translate(339.5377602102449,140.91277899428874)\" d=\"M2.7386127875258306,0A2.7386127875258306,2.7386127875258306,0,1,1,-2.7386127875258306,0A2.7386127875258306,2.7386127875258306,0,1,1,2.7386127875258306,0\" stroke=\"#4c78a8\" stroke-width=\"2\" opacity=\"0.7\"/><path aria-label=\"x: 8.15323752148; y: 8.10825194502\" role=\"graphics-symbol\" aria-roledescription=\"point\" transform=\"translate(461.51079643112655,29.724935166038456)\" d=\"M2.7386127875258306,0A2.7386127875258306,2.7386127875258306,0,1,1,-2.7386127875258306,0A2.7386127875258306,2.7386127875258306,0,1,1,2.7386127875258306,0\" stroke=\"#4c78a8\" stroke-width=\"2\" opacity=\"0.7\"/><path aria-label=\"x: −1.07880966137; y: 2.14566048938\" role=\"graphics-symbol\" aria-roledescription=\"point\" transform=\"translate(41.872288119457735,228.47798368724344)\" d=\"M2.7386127875258306,0A2.7386127875258306,2.7386127875258306,0,1,1,-2.7386127875258306,0A2.7386127875258306,2.7386127875258306,0,1,1,2.7386127875258306,0\" stroke=\"#4c78a8\" stroke-width=\"2\" opacity=\"0.7\"/><path aria-label=\"x: 6.67713383781; y: 6.66892744677\" role=\"graphics-symbol\" aria-roledescription=\"point\" transform=\"translate(394.41517444599856,77.70241844092553)\" d=\"M2.7386127875258306,0A2.7386127875258306,2.7386127875258306,0,1,1,-2.7386127875258306,0A2.7386127875258306,2.7386127875258306,0,1,1,2.7386127875258306,0\" stroke=\"#4c78a8\" stroke-width=\"2\" opacity=\"0.7\"/><path aria-label=\"x: 5.2539996859; y: 5.50349245669\" role=\"graphics-symbol\" aria-roledescription=\"point\" transform=\"translate(329.7272584498596,116.55025144372107)\" d=\"M2.7386127875258306,0A2.7386127875258306,2.7386127875258306,0,1,1,-2.7386127875258306,0A2.7386127875258306,2.7386127875258306,0,1,1,2.7386127875258306,0\" stroke=\"#4c78a8\" stroke-width=\"2\" opacity=\"0.7\"/><path aria-label=\"x: 1.02604159583; y: 2.53411194075\" role=\"graphics-symbol\" aria-roledescription=\"point\" transform=\"translate(137.54734526514883,215.52960197514784)\" d=\"M2.7386127875258306,0A2.7386127875258306,2.7386127875258306,0,1,1,-2.7386127875258306,0A2.7386127875258306,2.7386127875258306,0,1,1,2.7386127875258306,0\" stroke=\"#4c78a8\" stroke-width=\"2\" opacity=\"0.7\"/><path aria-label=\"x: 6.4274911908; y: 5.590940431\" role=\"graphics-symbol\" aria-roledescription=\"point\" transform=\"translate(383.06778139993133,113.63531896655994)\" d=\"M2.7386127875258306,0A2.7386127875258306,2.7386127875258306,0,1,1,-2.7386127875258306,0A2.7386127875258306,2.7386127875258306,0,1,1,2.7386127875258306,0\" stroke=\"#4c78a8\" stroke-width=\"2\" opacity=\"0.7\"/><path aria-label=\"x: 4.47813195282; y: 5.11775399568\" role=\"graphics-symbol\" aria-roledescription=\"point\" transform=\"translate(294.46054330988034,129.40820014385085)\" d=\"M2.7386127875258306,0A2.7386127875258306,2.7386127875258306,0,1,1,-2.7386127875258306,0A2.7386127875258306,2.7386127875258306,0,1,1,2.7386127875258306,0\" stroke=\"#4c78a8\" stroke-width=\"2\" opacity=\"0.7\"/><path aria-label=\"x: 7.17657558139; y: 5.93708859693\" role=\"graphics-symbol\" aria-roledescription=\"point\" transform=\"translate(417.1170718814867,102.09704676903297)\" d=\"M2.7386127875258306,0A2.7386127875258306,2.7386127875258306,0,1,1,-2.7386127875258306,0A2.7386127875258306,2.7386127875258306,0,1,1,2.7386127875258306,0\" stroke=\"#4c78a8\" stroke-width=\"2\" opacity=\"0.7\"/><path aria-label=\"x: 7.94667064039; y: 7.71208310471\" role=\"graphics-symbol\" aria-roledescription=\"point\" transform=\"translate(452.12139274509633,42.93056317641024)\" d=\"M2.7386127875258306,0A2.7386127875258306,2.7386127875258306,0,1,1,-2.7386127875258306,0A2.7386127875258306,2.7386127875258306,0,1,1,2.7386127875258306,0\" stroke=\"#4c78a8\" stroke-width=\"2\" opacity=\"0.7\"/><path aria-label=\"x: 5.92844487194; y: 5.75807442078\" role=\"graphics-symbol\" aria-roledescription=\"point\" transform=\"translate(360.38385781544,108.06418597386212)\" d=\"M2.7386127875258306,0A2.7386127875258306,2.7386127875258306,0,1,1,-2.7386127875258306,0A2.7386127875258306,2.7386127875258306,0,1,1,2.7386127875258306,0\" stroke=\"#4c78a8\" stroke-width=\"2\" opacity=\"0.7\"/><path aria-label=\"x: 6.44854123228; y: 3.92068369249\" role=\"graphics-symbol\" aria-roledescription=\"point\" transform=\"translate(384.0246014672602,169.3105435837486)\" d=\"M2.7386127875258306,0A2.7386127875258306,2.7386127875258306,0,1,1,-2.7386127875258306,0A2.7386127875258306,2.7386127875258306,0,1,1,2.7386127875258306,0\" stroke=\"#4c78a8\" stroke-width=\"2\" opacity=\"0.7\"/><path aria-label=\"x: 7.15057595952; y: 6.22117520171\" role=\"graphics-symbol\" aria-roledescription=\"point\" transform=\"translate(415.93527088735885,92.62749327621471)\" d=\"M2.7386127875258306,0A2.7386127875258306,2.7386127875258306,0,1,1,-2.7386127875258306,0A2.7386127875258306,2.7386127875258306,0,1,1,2.7386127875258306,0\" stroke=\"#4c78a8\" stroke-width=\"2\" opacity=\"0.7\"/></g><g class=\"mark-group role-title\"><g transform=\"translate(250,-22)\"><path class=\"background\" aria-hidden=\"true\" d=\"M0,0h0v0h0Z\" pointer-events=\"none\"/><g><g class=\"mark-text role-title-text\" role=\"graphics-symbol\" aria-roledescription=\"title\" aria-label=\"Title text 'Training'\" pointer-events=\"none\"><text text-anchor=\"middle\" transform=\"translate(0,10)\" font-family=\"sans-serif\" font-size=\"13px\" font-weight=\"bold\" fill=\"#000\" opacity=\"1\">Training</text></g></g><path class=\"foreground\" aria-hidden=\"true\" d=\"\" pointer-events=\"none\" display=\"none\"/></g></g></g><path class=\"foreground\" aria-hidden=\"true\" d=\"\" display=\"none\"/></g></g></g></svg>\n",
      "text/plain": [
       "@vlplot(\n",
       "    width=500,\n",
       "    height=300,\n",
       "    title=\"Training\",\n",
       "    mark=\"point\",\n",
       "    encoding={\n",
       "        x={\n",
       "            field=\"x\",\n",
       "            title=nothing\n",
       "        },\n",
       "        y={\n",
       "            field=\"y\",\n",
       "            title=nothing\n",
       "        }\n",
       "    },\n",
       "    data={\n",
       "        values=...\n",
       "    }\n",
       ")"
      ]
     },
     "metadata": {},
     "output_type": "display_data"
    }
   ],
   "source": [
    "@vlplot(\n",
    "    width=500,\n",
    "    height=300,\n",
    "    :point,\n",
    "    x=y[train],\n",
    "    y=y_train_pred,\n",
    "    title=\"Training\"\n",
    ")"
   ]
  },
  {
   "cell_type": "markdown",
   "metadata": {},
   "source": [
    "# Predict on new dataset"
   ]
  },
  {
   "cell_type": "code",
   "execution_count": 21,
   "metadata": {},
   "outputs": [
    {
     "name": "stderr",
     "output_type": "stream",
     "text": [
      "┌ Info: Training Machine{Pipeline259,…}.\n",
      "└ @ MLJBase C:\\Users\\julio\\.julia\\packages\\MLJBase\\QXObv\\src\\machines.jl:403\n",
      "┌ Info: Training Machine{Standardizer,…}.\n",
      "└ @ MLJBase C:\\Users\\julio\\.julia\\packages\\MLJBase\\QXObv\\src\\machines.jl:403\n",
      "┌ Info: Training Machine{RandomForestRegressor,…}.\n",
      "└ @ MLJBase C:\\Users\\julio\\.julia\\packages\\MLJBase\\QXObv\\src\\machines.jl:403\n"
     ]
    },
    {
     "data": {
      "text/plain": [
       "Machine{Pipeline259,…} trained 2 times; caches data\n",
       "  args: \n",
       "    1:\tSource @357 ⏎ `Table{AbstractVector{Continuous}}`\n",
       "    2:\tSource @251 ⏎ `AbstractVector{Continuous}`\n"
      ]
     },
     "metadata": {},
     "output_type": "display_data"
    }
   ],
   "source": [
    "# Fit the machine using the complete training dataset\n",
    "fit!(RandomForestModel)"
   ]
  },
  {
   "cell_type": "code",
   "execution_count": 22,
   "metadata": {},
   "outputs": [],
   "source": [
    "# Import CSV to dataframe, select the same columns used for training\n",
    "lichen = CSV.read(\"C:/Users/julio/Downloads/predicted_biomass_Nov2021.csv\", DataFrame) |>\n",
    "x -> select(x, :BASAL_AREA, :PL, :LON) |>\n",
    "x -> rename(x, [\"basalarea\", \"pl\", \"lon\"]);"
   ]
  },
  {
   "cell_type": "code",
   "execution_count": 23,
   "metadata": {},
   "outputs": [
    {
     "data": {
      "text/plain": [
       "213821-element Vector{Float64}:\n",
       "  420.08888026680995\n",
       "  330.3987020452265\n",
       "  825.1394886795508\n",
       "  623.8194848895803\n",
       " 1329.8791801550403\n",
       "  776.4454533334522\n",
       "  776.4454533334522\n",
       "  691.5844939761066\n",
       "  978.5201395967265\n",
       "  777.0616626493974\n",
       "    ⋮\n",
       "   67.73044457142227\n",
       "  166.55268905606243\n",
       "  169.76543608584518\n",
       "   49.49864521272861\n",
       "  182.92707083694015\n",
       "  194.4472011465715\n",
       "  182.92707083694015\n",
       "   36.16012462262812\n",
       "   50.64537204120837"
      ]
     },
     "metadata": {},
     "output_type": "display_data"
    }
   ],
   "source": [
    "# Predict on a new dataset\n",
    "biomass = exp.(predict(RandomForestModel, lichen))"
   ]
  },
  {
   "cell_type": "code",
   "execution_count": 30,
   "metadata": {},
   "outputs": [
    {
     "data": {
      "text/html": [
       "<div class=\"data-frame\"><p>213,821 rows × 4 columns</p><table class=\"data-frame\"><thead><tr><th></th><th>basalarea</th><th>pl</th><th>lon</th><th>x1</th></tr><tr><th></th><th title=\"Float64\">Float64</th><th title=\"Float64\">Float64</th><th title=\"Float64\">Float64</th><th title=\"Float64\">Float64</th></tr></thead><tbody><tr><th>1</th><td>29.1059</td><td>95.0</td><td>-125.514</td><td>420.089</td></tr><tr><th>2</th><td>33.2638</td><td>75.0</td><td>-125.46</td><td>330.399</td></tr><tr><th>3</th><td>32.757</td><td>95.0</td><td>-125.335</td><td>825.139</td></tr><tr><th>4</th><td>15.1756</td><td>80.0</td><td>-125.356</td><td>623.819</td></tr><tr><th>5</th><td>8.77539</td><td>100.0</td><td>-125.361</td><td>1329.88</td></tr><tr><th>6</th><td>37.5881</td><td>100.0</td><td>-125.331</td><td>776.445</td></tr><tr><th>7</th><td>37.5881</td><td>100.0</td><td>-125.326</td><td>776.445</td></tr><tr><th>8</th><td>35.5002</td><td>100.0</td><td>-125.405</td><td>691.584</td></tr><tr><th>9</th><td>37.5944</td><td>95.0</td><td>-125.373</td><td>978.52</td></tr><tr><th>10</th><td>27.9706</td><td>95.0</td><td>-125.371</td><td>777.062</td></tr><tr><th>11</th><td>13.9532</td><td>54.0</td><td>-125.2</td><td>204.158</td></tr><tr><th>12</th><td>20.6458</td><td>82.0</td><td>-125.266</td><td>103.961</td></tr><tr><th>13</th><td>23.1199</td><td>71.0</td><td>-125.295</td><td>26.0229</td></tr><tr><th>14</th><td>28.4153</td><td>49.0</td><td>-125.245</td><td>11.4543</td></tr><tr><th>15</th><td>36.9762</td><td>85.0</td><td>-125.329</td><td>290.329</td></tr><tr><th>16</th><td>37.1911</td><td>80.0</td><td>-125.311</td><td>136.894</td></tr><tr><th>17</th><td>27.5914</td><td>60.0</td><td>-125.404</td><td>23.5373</td></tr><tr><th>18</th><td>15.405</td><td>90.0</td><td>-125.372</td><td>1263.86</td></tr><tr><th>19</th><td>27.9562</td><td>99.0</td><td>-125.358</td><td>616.59</td></tr><tr><th>20</th><td>18.661</td><td>100.0</td><td>-125.505</td><td>325.507</td></tr><tr><th>21</th><td>23.0365</td><td>38.0</td><td>-125.526</td><td>18.1812</td></tr><tr><th>22</th><td>19.1475</td><td>49.0</td><td>-125.58</td><td>13.2638</td></tr><tr><th>23</th><td>21.7917</td><td>73.0</td><td>-125.222</td><td>24.6246</td></tr><tr><th>24</th><td>29.0596</td><td>83.0</td><td>-125.231</td><td>204.734</td></tr><tr><th>&vellip;</th><td>&vellip;</td><td>&vellip;</td><td>&vellip;</td><td>&vellip;</td></tr></tbody></table></div>"
      ],
      "text/latex": [
       "\\begin{tabular}{r|cccc}\n",
       "\t& basalarea & pl & lon & x1\\\\\n",
       "\t\\hline\n",
       "\t& Float64 & Float64 & Float64 & Float64\\\\\n",
       "\t\\hline\n",
       "\t1 & 29.1059 & 95.0 & -125.514 & 420.089 \\\\\n",
       "\t2 & 33.2638 & 75.0 & -125.46 & 330.399 \\\\\n",
       "\t3 & 32.757 & 95.0 & -125.335 & 825.139 \\\\\n",
       "\t4 & 15.1756 & 80.0 & -125.356 & 623.819 \\\\\n",
       "\t5 & 8.77539 & 100.0 & -125.361 & 1329.88 \\\\\n",
       "\t6 & 37.5881 & 100.0 & -125.331 & 776.445 \\\\\n",
       "\t7 & 37.5881 & 100.0 & -125.326 & 776.445 \\\\\n",
       "\t8 & 35.5002 & 100.0 & -125.405 & 691.584 \\\\\n",
       "\t9 & 37.5944 & 95.0 & -125.373 & 978.52 \\\\\n",
       "\t10 & 27.9706 & 95.0 & -125.371 & 777.062 \\\\\n",
       "\t11 & 13.9532 & 54.0 & -125.2 & 204.158 \\\\\n",
       "\t12 & 20.6458 & 82.0 & -125.266 & 103.961 \\\\\n",
       "\t13 & 23.1199 & 71.0 & -125.295 & 26.0229 \\\\\n",
       "\t14 & 28.4153 & 49.0 & -125.245 & 11.4543 \\\\\n",
       "\t15 & 36.9762 & 85.0 & -125.329 & 290.329 \\\\\n",
       "\t16 & 37.1911 & 80.0 & -125.311 & 136.894 \\\\\n",
       "\t17 & 27.5914 & 60.0 & -125.404 & 23.5373 \\\\\n",
       "\t18 & 15.405 & 90.0 & -125.372 & 1263.86 \\\\\n",
       "\t19 & 27.9562 & 99.0 & -125.358 & 616.59 \\\\\n",
       "\t20 & 18.661 & 100.0 & -125.505 & 325.507 \\\\\n",
       "\t21 & 23.0365 & 38.0 & -125.526 & 18.1812 \\\\\n",
       "\t22 & 19.1475 & 49.0 & -125.58 & 13.2638 \\\\\n",
       "\t23 & 21.7917 & 73.0 & -125.222 & 24.6246 \\\\\n",
       "\t24 & 29.0596 & 83.0 & -125.231 & 204.734 \\\\\n",
       "\t$\\dots$ & $\\dots$ & $\\dots$ & $\\dots$ & $\\dots$ \\\\\n",
       "\\end{tabular}\n"
      ],
      "text/plain": [
       "\u001b[1m213821×4 DataFrame\u001b[0m\n",
       "\u001b[1m    Row \u001b[0m│\u001b[1m basalarea \u001b[0m\u001b[1m pl      \u001b[0m\u001b[1m lon      \u001b[0m\u001b[1m x1        \u001b[0m\n",
       "\u001b[1m        \u001b[0m│\u001b[90m Float64   \u001b[0m\u001b[90m Float64 \u001b[0m\u001b[90m Float64  \u001b[0m\u001b[90m Float64   \u001b[0m\n",
       "────────┼─────────────────────────────────────────\n",
       "      1 │  29.1059      95.0  -125.514   420.089\n",
       "      2 │  33.2638      75.0  -125.46    330.399\n",
       "      3 │  32.757       95.0  -125.335   825.139\n",
       "      4 │  15.1756      80.0  -125.356   623.819\n",
       "      5 │   8.77539    100.0  -125.361  1329.88\n",
       "      6 │  37.5881     100.0  -125.331   776.445\n",
       "      7 │  37.5881     100.0  -125.326   776.445\n",
       "      8 │  35.5002     100.0  -125.405   691.584\n",
       "   ⋮    │     ⋮         ⋮        ⋮          ⋮\n",
       " 213815 │   3.0          0.0  -126.009   169.765\n",
       " 213816 │  25.0          0.0  -126.045    49.4986\n",
       " 213817 │  39.0461       0.0  -126.028   182.927\n",
       " 213818 │  49.8828       0.0  -125.958   194.447\n",
       " 213819 │  39.8889       0.0  -126.031   182.927\n",
       " 213820 │  18.4829       0.0  -126.021    36.1601\n",
       " 213821 │  14.9725       0.0  -125.999    50.6454\n",
       "\u001b[36m                               213806 rows omitted\u001b[0m"
      ]
     },
     "metadata": {},
     "output_type": "display_data"
    }
   ],
   "source": [
    "# Combine new dataset with predictions\n",
    "results = hcat(lichen, biomass)"
   ]
  },
  {
   "cell_type": "code",
   "execution_count": 32,
   "metadata": {},
   "outputs": [
    {
     "data": {
      "text/plain": [
       "\"C:/Users/julio/Downloads/predicted_biomass_rf.csv\""
      ]
     },
     "metadata": {},
     "output_type": "display_data"
    }
   ],
   "source": [
    "# Export results to CSV\n",
    "CSV.write(\"C:/Users/julio/Downloads/predicted_biomass_rf.csv\", results)"
   ]
  }
 ],
 "metadata": {
  "kernelspec": {
   "display_name": "Julia 1.6.3",
   "language": "julia",
   "name": "julia-1.6"
  },
  "language_info": {
   "file_extension": ".jl",
   "mimetype": "application/julia",
   "name": "julia",
   "version": "1.6.3"
  },
  "orig_nbformat": 4
 },
 "nbformat": 4,
 "nbformat_minor": 2
}
