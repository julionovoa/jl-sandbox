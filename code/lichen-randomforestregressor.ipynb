{
 "cells": [
  {
   "cell_type": "code",
   "execution_count": 1,
   "metadata": {},
   "outputs": [],
   "source": [
    "using CairoMakie\n",
    "using CSV\n",
    "using DataFrames\n",
    "using MLJ\n",
    "using MLJBase"
   ]
  },
  {
   "cell_type": "code",
   "execution_count": 2,
   "metadata": {},
   "outputs": [],
   "source": [
    "# Import training dataset\n",
    "lichen_training = CSV.read(\"C:/Users/julio/Downloads/lichen_training.csv\", DataFrame, missingstring=\"NA\") |>\n",
    "x -> DataFrames.select(x, \"Total.lichen\", \"basal_area\", \"PL\", \"mean_Long\", \"mean_Lat\", \"Aspect_south\", \"SNR\", \"SMR\", \"SX\") |>\n",
    "x -> rename(x, [\"biomass\", \"basalarea\", \"pl\", \"lon\", \"lat\", \"south\", \"snr\", \"smr\", \"sx\"]) |>\n",
    "dropmissing |>\n",
    "x -> coerce(x, :pl=>Continuous, :sx=>Continuous, :snr=>Multiclass, :smr=>Multiclass);"
   ]
  },
  {
   "cell_type": "code",
   "execution_count": 3,
   "metadata": {},
   "outputs": [
    {
     "data": {
      "text/plain": [
       "┌───────────┬───────────────────────────────────┬───────────────┐\n",
       "│\u001b[22m _.names   \u001b[0m│\u001b[22m _.types                           \u001b[0m│\u001b[22m _.scitypes    \u001b[0m│\n",
       "├───────────┼───────────────────────────────────┼───────────────┤\n",
       "│ biomass   │ Float64                           │ Continuous    │\n",
       "│ basalarea │ Float64                           │ Continuous    │\n",
       "│ pl        │ Float64                           │ Continuous    │\n",
       "│ lon       │ Float64                           │ Continuous    │\n",
       "│ lat       │ Float64                           │ Continuous    │\n",
       "│ south     │ Float64                           │ Continuous    │\n",
       "│ snr       │ CategoricalValue{String1, UInt32} │ Multiclass{3} │\n",
       "│ smr       │ CategoricalValue{Int64, UInt32}   │ Multiclass{5} │\n",
       "│ sx        │ Float64                           │ Continuous    │\n",
       "└───────────┴───────────────────────────────────┴───────────────┘\n",
       "_.nrows = 77\n"
      ]
     },
     "metadata": {},
     "output_type": "display_data"
    }
   ],
   "source": [
    "# schema \n",
    "schema(lichen_training)"
   ]
  },
  {
   "cell_type": "code",
   "execution_count": 4,
   "metadata": {},
   "outputs": [],
   "source": [
    "# Split predictors/responde variable\n",
    "y, X = unpack(lichen_training, ==(:biomass), _->true; rng=1010)\n",
    "\n",
    "# Split into train/test datasets\n",
    "train, test = partition(eachindex(y), 0.7, shuffle=true, rng=1010);"
   ]
  },
  {
   "cell_type": "code",
   "execution_count": 5,
   "metadata": {},
   "outputs": [
    {
     "name": "stderr",
     "output_type": "stream",
     "text": [
      "┌ Info: Treating pipeline as a `Deterministic` predictor.\n",
      "│ To override, specify `prediction_type=...` (options: :deterministic, :probabilistic, :interval). \n",
      "└ @ MLJBase C:\\Users\\julio\\.julia\\packages\\MLJBase\\QXObv\\src\\composition\\models\\pipelines.jl:372\n"
     ]
    },
    {
     "data": {
      "text/plain": [
       "Pipeline281(\n",
       "    standardizer = Standardizer(\n",
       "            features = Symbol[],\n",
       "            ignore = false,\n",
       "            ordered_factor = false,\n",
       "            count = false),\n",
       "    one_hot_encoder = OneHotEncoder(\n",
       "            features = Symbol[],\n",
       "            drop_last = false,\n",
       "            ordered_factor = true,\n",
       "            ignore = false),\n",
       "    random_forest_regressor = RandomForestRegressor(\n",
       "            max_depth = -1,\n",
       "            min_samples_leaf = 1,\n",
       "            min_samples_split = 2,\n",
       "            min_purity_increase = 0.0,\n",
       "            n_subfeatures = -1,\n",
       "            n_trees = 10,\n",
       "            sampling_fraction = 0.7,\n",
       "            pdf_smoothing = 0.0,\n",
       "            rng = Random._GLOBAL_RNG()),\n",
       "    target = WrappedFunction(\n",
       "            f = var\"#11#12\"()),\n",
       "    inverse = WrappedFunction(\n",
       "            f = var\"#13#14\"()))"
      ]
     },
     "metadata": {},
     "output_type": "display_data"
    }
   ],
   "source": [
    "# Load a model and create a pipeline\n",
    "model = @load RandomForestRegressor pkg=DecisionTree verbosity=0\n",
    "pipe = @pipeline Standardizer OneHotEncoder model target=v->log.(v) inverse=v->exp.(v)"
   ]
  },
  {
   "cell_type": "code",
   "execution_count": 8,
   "metadata": {},
   "outputs": [
    {
     "name": "stderr",
     "output_type": "stream",
     "text": [
      "┌ Info: Training Machine{DeterministicTunedModel{Grid,…},…}.\n",
      "└ @ MLJBase C:\\Users\\julio\\.julia\\packages\\MLJBase\\QXObv\\src\\machines.jl:403\n",
      "┌ Info: Attempting to evaluate 55 models.\n",
      "└ @ MLJTuning C:\\Users\\julio\\.julia\\packages\\MLJTuning\\bjRHJ\\src\\tuned_models.jl:680\n",
      "┌ Error: Problem fitting the machine Machine{Resampler{CV},…}. \n",
      "└ @ MLJBase C:\\Users\\julio\\.julia\\packages\\MLJBase\\QXObv\\src\\machines.jl:533\n",
      "┌ Info: Running type checks... \n",
      "└ @ MLJBase C:\\Users\\julio\\.julia\\packages\\MLJBase\\QXObv\\src\\machines.jl:539\n",
      "┌ Info: Type checks okay. \n",
      "└ @ MLJBase C:\\Users\\julio\\.julia\\packages\\MLJBase\\QXObv\\src\\machines.jl:542\n",
      "┌ Error: Problem fitting the machine Machine{DeterministicTunedModel{Grid,…},…}. \n",
      "└ @ MLJBase C:\\Users\\julio\\.julia\\packages\\MLJBase\\QXObv\\src\\machines.jl:533\n",
      "┌ Info: Running type checks... \n",
      "└ @ MLJBase C:\\Users\\julio\\.julia\\packages\\MLJBase\\QXObv\\src\\machines.jl:539\n",
      "┌ Info: Type checks okay. \n",
      "└ @ MLJBase C:\\Users\\julio\\.julia\\packages\\MLJBase\\QXObv\\src\\machines.jl:542\n"
     ]
    },
    {
     "data": {
      "text/plain": [
       "Machine{DeterministicTunedModel{Grid,…},…} trained 0 times; caches data\n",
       "  args: \n",
       "    1:\tSource @178 ⏎ `Table{Union{AbstractVector{Continuous}, AbstractVector{Multiclass{3}}, AbstractVector{Multiclass{5}}}}`\n",
       "    2:\tSource @319 ⏎ `AbstractVector{Continuous}`\n"
      ]
     },
     "metadata": {},
     "output_type": "display_data"
    }
   ],
   "source": [
    "# Model tunning\n",
    "r = [\n",
    "     range(pipe, :(random_forest_regressor.max_depth), lower=1, upper=5),\n",
    "     range(pipe, :(random_forest_regressor.n_trees), lower=10, upper=20)\n",
    "]\n",
    "\n",
    "tuned_model = TunedModel(\n",
    "     model=pipe,\n",
    "     tuning=Grid(resolution=20),\n",
    "     resampling=CV(),\n",
    "     range=r,\n",
    "     measures=mae,\n",
    "     train_best=true\n",
    ")\n",
    "\n",
    "m = machine(tuned_model, X, y)\n"
   ]
  },
  {
   "cell_type": "code",
   "execution_count": 9,
   "metadata": {},
   "outputs": [
    {
     "name": "stderr",
     "output_type": "stream",
     "text": [
      "┌ Info: Training Machine{DeterministicTunedModel{Grid,…},…}.\n",
      "└ @ MLJBase C:\\Users\\julio\\.julia\\packages\\MLJBase\\QXObv\\src\\machines.jl:403\n",
      "┌ Info: Attempting to evaluate 55 models.\n",
      "└ @ MLJTuning C:\\Users\\julio\\.julia\\packages\\MLJTuning\\bjRHJ\\src\\tuned_models.jl:680\n",
      "\r\u001b[33mEvaluating over 55 metamodels:   4%[>                        ]  ETA: 0:11:53\u001b[39m\u001b[K"
     ]
    },
    {
     "name": "stderr",
     "output_type": "stream",
     "text": [
      "\r\u001b[33mEvaluating over 55 metamodels:  53%[=============>           ]  ETA: 0:00:26\u001b[39m\u001b[K"
     ]
    },
    {
     "name": "stderr",
     "output_type": "stream",
     "text": [
      "\r\u001b[33mEvaluating over 55 metamodels:  55%[=============>           ]  ETA: 0:00:24\u001b[39m\u001b[K"
     ]
    },
    {
     "name": "stderr",
     "output_type": "stream",
     "text": [
      "\r\u001b[33mEvaluating over 55 metamodels:  56%[==============>          ]  ETA: 0:00:22\u001b[39m\u001b[K"
     ]
    },
    {
     "name": "stderr",
     "output_type": "stream",
     "text": [
      "\r\u001b[33mEvaluating over 55 metamodels:  58%[==============>          ]  ETA: 0:00:21\u001b[39m\u001b[K"
     ]
    },
    {
     "name": "stderr",
     "output_type": "stream",
     "text": [
      "\r\u001b[33mEvaluating over 55 metamodels:  60%[===============>         ]  ETA: 0:00:19\u001b[39m\u001b[K"
     ]
    },
    {
     "name": "stderr",
     "output_type": "stream",
     "text": [
      "\r\u001b[33mEvaluating over 55 metamodels:  62%[===============>         ]  ETA: 0:00:18\u001b[39m\u001b[K"
     ]
    },
    {
     "name": "stderr",
     "output_type": "stream",
     "text": [
      "\r\u001b[33mEvaluating over 55 metamodels:  64%[===============>         ]  ETA: 0:00:16\u001b[39m\u001b[K"
     ]
    },
    {
     "name": "stderr",
     "output_type": "stream",
     "text": [
      "\r\u001b[33mEvaluating over 55 metamodels:  65%[================>        ]  ETA: 0:00:15\u001b[39m\u001b[K"
     ]
    },
    {
     "name": "stderr",
     "output_type": "stream",
     "text": [
      "\r\u001b[33mEvaluating over 55 metamodels:  67%[================>        ]  ETA: 0:00:14\u001b[39m\u001b[K"
     ]
    },
    {
     "name": "stderr",
     "output_type": "stream",
     "text": [
      "\r\u001b[33mEvaluating over 55 metamodels:  69%[=================>       ]  ETA: 0:00:13\u001b[39m\u001b[K"
     ]
    },
    {
     "name": "stderr",
     "output_type": "stream",
     "text": [
      "\r\u001b[33mEvaluating over 55 metamodels:  71%[=================>       ]  ETA: 0:00:12\u001b[39m\u001b[K"
     ]
    },
    {
     "name": "stderr",
     "output_type": "stream",
     "text": [
      "\r\u001b[33mEvaluating over 55 metamodels:  73%[==================>      ]  ETA: 0:00:11\u001b[39m\u001b[K"
     ]
    },
    {
     "name": "stderr",
     "output_type": "stream",
     "text": [
      "\r\u001b[33mEvaluating over 55 metamodels:  75%[==================>      ]  ETA: 0:00:10\u001b[39m\u001b[K"
     ]
    },
    {
     "name": "stderr",
     "output_type": "stream",
     "text": [
      "\r\u001b[33mEvaluating over 55 metamodels:  76%[===================>     ]  ETA: 0:00:09\u001b[39m\u001b[K"
     ]
    },
    {
     "name": "stderr",
     "output_type": "stream",
     "text": [
      "\r\u001b[33mEvaluating over 55 metamodels:  78%[===================>     ]  ETA: 0:00:08\u001b[39m\u001b[K"
     ]
    },
    {
     "name": "stderr",
     "output_type": "stream",
     "text": [
      "\r\u001b[33mEvaluating over 55 metamodels:  80%[====================>    ]  ETA: 0:00:07\u001b[39m\u001b[K"
     ]
    },
    {
     "name": "stderr",
     "output_type": "stream",
     "text": [
      "\r\u001b[33mEvaluating over 55 metamodels:  82%[====================>    ]  ETA: 0:00:06\u001b[39m\u001b[K"
     ]
    },
    {
     "name": "stderr",
     "output_type": "stream",
     "text": [
      "\r\u001b[33mEvaluating over 55 metamodels:  84%[====================>    ]  ETA: 0:00:06\u001b[39m\u001b[K"
     ]
    },
    {
     "name": "stderr",
     "output_type": "stream",
     "text": [
      "\r\u001b[33mEvaluating over 55 metamodels:  85%[=====================>   ]  ETA: 0:00:05\u001b[39m\u001b[K"
     ]
    },
    {
     "name": "stderr",
     "output_type": "stream",
     "text": [
      "\r\u001b[33mEvaluating over 55 metamodels:  87%[=====================>   ]  ETA: 0:00:04\u001b[39m\u001b[K"
     ]
    },
    {
     "name": "stderr",
     "output_type": "stream",
     "text": [
      "\r\u001b[33mEvaluating over 55 metamodels:  89%[======================>  ]  ETA: 0:00:04\u001b[39m\u001b[K"
     ]
    },
    {
     "name": "stderr",
     "output_type": "stream",
     "text": [
      "\r\u001b[33mEvaluating over 55 metamodels:  91%[======================>  ]  ETA: 0:00:03\u001b[39m\u001b[K"
     ]
    },
    {
     "name": "stderr",
     "output_type": "stream",
     "text": [
      "\r\u001b[33mEvaluating over 55 metamodels:  93%[=======================> ]  ETA: 0:00:02\u001b[39m\u001b[K"
     ]
    },
    {
     "name": "stderr",
     "output_type": "stream",
     "text": [
      "\r\u001b[33mEvaluating over 55 metamodels:  95%[=======================> ]  ETA: 0:00:02\u001b[39m\u001b[K"
     ]
    },
    {
     "name": "stderr",
     "output_type": "stream",
     "text": [
      "\r\u001b[33mEvaluating over 55 metamodels:  96%[========================>]  ETA: 0:00:01\u001b[39m\u001b[K"
     ]
    },
    {
     "name": "stderr",
     "output_type": "stream",
     "text": [
      "\r\u001b[33mEvaluating over 55 metamodels:  98%[========================>]  ETA: 0:00:01\u001b[39m\u001b[K"
     ]
    },
    {
     "name": "stderr",
     "output_type": "stream",
     "text": [
      "\r\u001b[33mEvaluating over 55 metamodels: 100%[=========================] Time: 0:00:29\u001b[39m\u001b[K\n"
     ]
    }
   ],
   "source": [
    "fit!(m, rows=train);"
   ]
  },
  {
   "cell_type": "code",
   "execution_count": 10,
   "metadata": {},
   "outputs": [
    {
     "data": {
      "text/plain": [
       "(best_model = Pipeline281,\n",
       " best_fitted_params = (inverse = (fitresult = nothing,),\n",
       "                       random_forest_regressor = (forest = Ensemble of Decision Trees\n",
       "Trees:      19\n",
       "Avg Leaves: 16.789473684210527\n",
       "Avg Depth:  5.0,),\n",
       "                       one_hot_encoder = (fitresult = OneHotEncoderResult,),\n",
       "                       standardizer = Dict(:basalarea => (19.488518518518518, 9.427699734935528), :sx => (9.74074074074074, 24.10369515646237), :lat => (55.90763463888889, 0.5439431472868074), :pl => (57.0, 43.93348316940311), :south => (0.7064814814814816, 0.20270954597145266), :lon => (-125.2643763888889, 0.855948240752152)),\n",
       "                       target = (fitresult = nothing,),\n",
       "                       machines = Machine[Machine{WrappedFunction,…}, Machine{Standardizer,…}, Machine{OneHotEncoder,…}, Machine{RandomForestRegressor,…}, Machine{WrappedFunction,…}],\n",
       "                       fitted_params_given_machine = LittleDict{Any, Any, Vector{Any}, Vector{Any}}(Machine{WrappedFunction,…} => (fitresult = nothing,), Machine{Standardizer,…} => Dict(:basalarea => (19.488518518518518, 9.427699734935528), :sx => (9.74074074074074, 24.10369515646237), :lat => (55.90763463888889, 0.5439431472868074), :pl => (57.0, 43.93348316940311), :south => (0.7064814814814816, 0.20270954597145266), :lon => (-125.2643763888889, 0.855948240752152)), Machine{OneHotEncoder,…} => (fitresult = OneHotEncoderResult,), Machine{RandomForestRegressor,…} => (forest = Ensemble of Decision Trees\n",
       "Trees:      19\n",
       "Avg Leaves: 16.789473684210527\n",
       "Avg Depth:  5.0,), Machine{WrappedFunction,…} => (fitresult = nothing,)),),)"
      ]
     },
     "metadata": {},
     "output_type": "display_data"
    }
   ],
   "source": [
    "# Check fitted parameters\n",
    "fp = fitted_params(m)"
   ]
  },
  {
   "cell_type": "code",
   "execution_count": 11,
   "metadata": {},
   "outputs": [
    {
     "data": {
      "text/plain": [
       "(model = Pipeline281,\n",
       " measure = [MeanAbsoluteError()],\n",
       " measurement = [476.13518987741094],\n",
       " per_fold = [[307.8196616368084, 1402.7655965976057, 112.62393928393242, 289.3609250860561, 326.1948276071842, 418.04618905287805]],)"
      ]
     },
     "metadata": {},
     "output_type": "display_data"
    }
   ],
   "source": [
    "m.report.best_history_entry"
   ]
  },
  {
   "cell_type": "code",
   "execution_count": 12,
   "metadata": {},
   "outputs": [
    {
     "data": {
      "text/plain": [
       "Pipeline281(\n",
       "    standardizer = Standardizer(\n",
       "            features = Symbol[],\n",
       "            ignore = false,\n",
       "            ordered_factor = false,\n",
       "            count = false),\n",
       "    one_hot_encoder = OneHotEncoder(\n",
       "            features = Symbol[],\n",
       "            drop_last = false,\n",
       "            ordered_factor = true,\n",
       "            ignore = false),\n",
       "    random_forest_regressor = RandomForestRegressor(\n",
       "            max_depth = 5,\n",
       "            min_samples_leaf = 1,\n",
       "            min_samples_split = 2,\n",
       "            min_purity_increase = 0.0,\n",
       "            n_subfeatures = -1,\n",
       "            n_trees = 19,\n",
       "            sampling_fraction = 0.7,\n",
       "            pdf_smoothing = 0.0,\n",
       "            rng = Random._GLOBAL_RNG()),\n",
       "    target = WrappedFunction(\n",
       "            f = var\"#11#12\"()),\n",
       "    inverse = WrappedFunction(\n",
       "            f = var\"#13#14\"()))"
      ]
     },
     "metadata": {},
     "output_type": "display_data"
    }
   ],
   "source": [
    "m.report.best_model"
   ]
  },
  {
   "cell_type": "code",
   "execution_count": 13,
   "metadata": {},
   "outputs": [
    {
     "data": {
      "text/plain": [
       "(parameter_names = [\"random_forest_regressor.max_depth\", \"random_forest_regressor.n_trees\"],\n",
       " parameter_scales = [:linear, :linear],\n",
       " parameter_values = Any[2 13; 2 15; … ; 1 12; 3 14],\n",
       " measurements = [514.710202787897, 515.8474797842115, 535.7437779154736, 524.9499527632807, 512.2575013893864, 487.23634532202226, 499.93932549235234, 524.4561936610952, 507.4320731887587, 521.470806583327  …  485.11684505593576, 520.2386318978017, 524.7235647834831, 510.70585522495986, 500.8699662234673, 505.98409313326994, 506.49901141238314, 523.2907667400304, 520.7553256859306, 506.2322495908033],)"
      ]
     },
     "metadata": {},
     "output_type": "display_data"
    }
   ],
   "source": [
    "m.report.plotting"
   ]
  },
  {
   "cell_type": "code",
   "execution_count": 14,
   "metadata": {},
   "outputs": [],
   "source": [
    "ŷ = predict(m, rows=train);"
   ]
  },
  {
   "cell_type": "code",
   "execution_count": 20,
   "metadata": {},
   "outputs": [
    {
     "data": {
      "image/png": "[encoded data removed]",
      "text/plain": [
       "Scene (800px, 600px):\n",
       "  54 Plots:\n",
       "    ├ Combined{Makie.poly, Tuple{Vector{Vector{Point{2, Float32}}}}}\n",
       "    ├ LineSegments{Tuple{Vector{Point{2, Float32}}}}\n",
       "    ├ LineSegments{Tuple{Vector{Point{2, Float32}}}}\n",
       "    ├ LineSegments{Tuple{Vector{Point{2, Float32}}}}\n",
       "    ├ LineSegments{Tuple{Vector{Point{2, Float32}}}}\n",
       "    ├ LineSegments{Tuple{Vector{Point{2, Float32}}}}\n",
       "    ├ LineSegments{Tuple{Vector{Point{2, Float32}}}}\n",
       "    ├ MakieCore.Text{Tuple{String}}\n",
       "    ├ Lines{Tuple{Vector{Point{2, Float32}}}}\n",
       "    ├ MakieCore.Text{Tuple{Vector{Tuple{AbstractString, Point{2, Float32}}}}}\n",
       "    ├ LineSegments{Tuple{Vector{Point{2, Float32}}}}\n",
       "    ├ LineSegments{Tuple{Vector{Point{2, Float32}}}}\n",
       "    ├ MakieCore.Text{Tuple{String}}\n",
       "    ├ Lines{Tuple{Vector{Point{2, Float32}}}}\n",
       "    ├ MakieCore.Text{Tuple{Vector{Tuple{AbstractString, Point{2, Float32}}}}}\n",
       "    ├ Lines{Tuple{Vector{Point{2, Float32}}}}\n",
       "    ├ Lines{Tuple{Vector{Point{2, Float32}}}}\n",
       "    ├ MakieCore.Text{Tuple{String}}\n",
       "    ├ Combined{Makie.poly, Tuple{Vector{Vector{Point{2, Float32}}}}}\n",
       "    ├ LineSegments{Tuple{Vector{Point{2, Float32}}}}\n",
       "    ├ LineSegments{Tuple{Vector{Point{2, Float32}}}}\n",
       "    ├ LineSegments{Tuple{Vector{Point{2, Float32}}}}\n",
       "    ├ LineSegments{Tuple{Vector{Point{2, Float32}}}}\n",
       "    ├ LineSegments{Tuple{Vector{Point{2, Float32}}}}\n",
       "    ├ LineSegments{Tuple{Vector{Point{2, Float32}}}}\n",
       "    ├ MakieCore.Text{Tuple{String}}\n",
       "    ├ Lines{Tuple{Vector{Point{2, Float32}}}}\n",
       "    ├ MakieCore.Text{Tuple{Vector{Tuple{AbstractString, Point{2, Float32}}}}}\n",
       "    ├ LineSegments{Tuple{Vector{Point{2, Float32}}}}\n",
       "    ├ LineSegments{Tuple{Vector{Point{2, Float32}}}}\n",
       "    ├ MakieCore.Text{Tuple{String}}\n",
       "    ├ Lines{Tuple{Vector{Point{2, Float32}}}}\n",
       "    ├ MakieCore.Text{Tuple{Vector{Tuple{AbstractString, Point{2, Float32}}}}}\n",
       "    ├ Lines{Tuple{Vector{Point{2, Float32}}}}\n",
       "    ├ Lines{Tuple{Vector{Point{2, Float32}}}}\n",
       "    ├ MakieCore.Text{Tuple{String}}\n",
       "    ├ Combined{Makie.poly, Tuple{Vector{Vector{Point{2, Float32}}}}}\n",
       "    ├ LineSegments{Tuple{Vector{Point{2, Float32}}}}\n",
       "    ├ LineSegments{Tuple{Vector{Point{2, Float32}}}}\n",
       "    ├ LineSegments{Tuple{Vector{Point{2, Float32}}}}\n",
       "    ├ LineSegments{Tuple{Vector{Point{2, Float32}}}}\n",
       "    ├ LineSegments{Tuple{Vector{Point{2, Float32}}}}\n",
       "    ├ LineSegments{Tuple{Vector{Point{2, Float32}}}}\n",
       "    ├ MakieCore.Text{Tuple{String}}\n",
       "    ├ Lines{Tuple{Vector{Point{2, Float32}}}}\n",
       "    ├ MakieCore.Text{Tuple{Vector{Tuple{AbstractString, Point{2, Float32}}}}}\n",
       "    ├ LineSegments{Tuple{Vector{Point{2, Float32}}}}\n",
       "    ├ LineSegments{Tuple{Vector{Point{2, Float32}}}}\n",
       "    ├ MakieCore.Text{Tuple{String}}\n",
       "    ├ Lines{Tuple{Vector{Point{2, Float32}}}}\n",
       "    ├ MakieCore.Text{Tuple{Vector{Tuple{AbstractString, Point{2, Float32}}}}}\n",
       "    ├ Lines{Tuple{Vector{Point{2, Float32}}}}\n",
       "    ├ Lines{Tuple{Vector{Point{2, Float32}}}}\n",
       "    └ MakieCore.Text{Tuple{String}}\n",
       "  3 Child Scenes:\n",
       "    ├ Scene (690px, 132px)\n",
       "    ├ Scene (690px, 132px)\n",
       "    └ Scene (690px, 133px)"
      ]
     },
     "metadata": {},
     "output_type": "display_data"
    }
   ],
   "source": [
    "f = Figure()\n",
    "\n",
    "ax1 = Axis(f[1, 1])\n",
    "ax1.ylabel = \"residuals\"\n",
    "stem!(ax1, ŷ - y[train])\n",
    "\n",
    "ax2 = Axis(f[2, 1])\n",
    "ax2.xlabel = \"max_depth\"\n",
    "ax2.ylabel = \"mae\"\n",
    "scatter!(ax2, Float64.(m.report.plotting.parameter_values[:, 1]), m.report.plotting.measurements)\n",
    "\n",
    "ax3 = Axis(f[3, 1])\n",
    "ax3.xlabel = \"n_trees\"\n",
    "ax3.ylabel = \"mae\"\n",
    "scatter!(ax3, Float64.(m.report.plotting.parameter_values[:, 2]), m.report.plotting.measurements)\n",
    "\n",
    "f"
   ]
  },
  {
   "cell_type": "code",
   "execution_count": 16,
   "metadata": {},
   "outputs": [],
   "source": [
    "# Make predictions on test and train subsets\n",
    "ŷ_test = predict(m, rows=test)\n",
    "ŷ_train = predict(m, rows=train);"
   ]
  },
  {
   "cell_type": "code",
   "execution_count": 17,
   "metadata": {},
   "outputs": [
    {
     "name": "stdout",
     "output_type": "stream",
     "text": [
      "mae(ŷ_test, y[test]) = 763.4160680971996\n",
      "mae(ŷ_train, y[train]) = 404.29489145664616\n"
     ]
    }
   ],
   "source": [
    "@show mae(ŷ_test, y[test])\n",
    "@show mae(ŷ_train, y[train]);"
   ]
  },
  {
   "cell_type": "code",
   "execution_count": 18,
   "metadata": {},
   "outputs": [
    {
     "data": {
      "text/plain": [
       "46×2 Matrix{Float64}:\n",
       " 1.0  1530.02\n",
       " 1.0   165.325\n",
       " 1.0   193.293\n",
       " 1.0    18.5115\n",
       " 1.0     9.09964\n",
       " 1.0   205.667\n",
       " 1.0   184.58\n",
       " 1.0    33.8873\n",
       " 1.0   203.088\n",
       " 1.0   110.158\n",
       " ⋮    \n",
       " 2.0   104.12\n",
       " 2.0  3209.72\n",
       " 2.0   254.57\n",
       " 2.0  1274.84\n",
       " 2.0   631.78\n",
       " 2.0   455.89\n",
       " 2.0   685.08\n",
       " 2.0     1.87\n",
       " 2.0   934.37"
      ]
     },
     "metadata": {},
     "output_type": "display_data"
    }
   ],
   "source": [
    "results = vcat(\n",
    "    hcat(fill(1, length(ŷ_test)), ŷ_test),\n",
    "    hcat(fill(2, length(y[test])), y[test])\n",
    ")"
   ]
  },
  {
   "cell_type": "code",
   "execution_count": 19,
   "metadata": {},
   "outputs": [
    {
     "data": {
      "image/png": "[encoded data removed]",
      "text/plain": [
       "Scene (800px, 600px):\n",
       "  18 Plots:\n",
       "    ├ Combined{Makie.poly, Tuple{Vector{Vector{Point{2, Float32}}}}}\n",
       "    ├ LineSegments{Tuple{Vector{Point{2, Float32}}}}\n",
       "    ├ LineSegments{Tuple{Vector{Point{2, Float32}}}}\n",
       "    ├ LineSegments{Tuple{Vector{Point{2, Float32}}}}\n",
       "    ├ LineSegments{Tuple{Vector{Point{2, Float32}}}}\n",
       "    ├ LineSegments{Tuple{Vector{Point{2, Float32}}}}\n",
       "    ├ LineSegments{Tuple{Vector{Point{2, Float32}}}}\n",
       "    ├ MakieCore.Text{Tuple{String}}\n",
       "    ├ Lines{Tuple{Vector{Point{2, Float32}}}}\n",
       "    ├ MakieCore.Text{Tuple{Vector{Tuple{AbstractString, Point{2, Float32}}}}}\n",
       "    ├ LineSegments{Tuple{Vector{Point{2, Float32}}}}\n",
       "    ├ LineSegments{Tuple{Vector{Point{2, Float32}}}}\n",
       "    ├ MakieCore.Text{Tuple{String}}\n",
       "    ├ Lines{Tuple{Vector{Point{2, Float32}}}}\n",
       "    ├ MakieCore.Text{Tuple{Vector{Tuple{AbstractString, Point{2, Float32}}}}}\n",
       "    ├ Lines{Tuple{Vector{Point{2, Float32}}}}\n",
       "    ├ Lines{Tuple{Vector{Point{2, Float32}}}}\n",
       "    └ MakieCore.Text{Tuple{String}}\n",
       "  1 Child Scene:\n",
       "    └ Scene (720px, 541px)"
      ]
     },
     "metadata": {},
     "output_type": "display_data"
    }
   ],
   "source": [
    "f = Figure()\n",
    "\n",
    "ax1 = Axis(f[1, 1])\n",
    "boxplot!(ax1, results[:, 1], results[:, 2])\n",
    "\n",
    "f"
   ]
  },
  {
   "cell_type": "markdown",
   "metadata": {},
   "source": [
    "# Predict on new dataset"
   ]
  },
  {
   "cell_type": "code",
   "execution_count": null,
   "metadata": {},
   "outputs": [],
   "source": [
    "# Import CSV to dataframe, select the same columns used for training\n",
    "lichen = CSV.read(\"C:/Users/jnovoa/Downloads/predicted_biomass_Nov2021.csv\", DataFrame) |>\n",
    "x -> select(x, :BASAL_AREA, :PL, :LON) |>\n",
    "x -> rename(x, [\"basalarea\", \"pl\", \"lon\"]);"
   ]
  },
  {
   "cell_type": "code",
   "execution_count": null,
   "metadata": {},
   "outputs": [],
   "source": [
    "# Predict on a new dataset\n",
    "biomass = exp.(predict(m, lichen))"
   ]
  },
  {
   "cell_type": "code",
   "execution_count": null,
   "metadata": {},
   "outputs": [],
   "source": [
    "# Combine new dataset with predictions\n",
    "results = hcat(lichen, biomass)"
   ]
  },
  {
   "cell_type": "code",
   "execution_count": null,
   "metadata": {},
   "outputs": [],
   "source": [
    "# Export results to CSV\n",
    "CSV.write(\"C:/Users/julio/Downloads/predicted_biomass_rf.csv\", results)"
   ]
  }
 ],
 "metadata": {
  "kernelspec": {
   "display_name": "Julia 1.7.0",
   "language": "julia",
   "name": "julia-1.7"
  },
  "language_info": {
   "file_extension": ".jl",
   "mimetype": "application/julia",
   "name": "julia",
   "version": "1.7.0"
  },
  "orig_nbformat": 4
 },
 "nbformat": 4,
 "nbformat_minor": 2
}
