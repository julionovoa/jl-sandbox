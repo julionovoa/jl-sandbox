{
 "cells": [
  {
   "cell_type": "code",
   "execution_count": 1,
   "metadata": {},
   "outputs": [],
   "source": [
    "using CairoMakie\n",
    "using CSV\n",
    "using DataFrames\n",
    "using MLJ\n",
    "using MLJBase"
   ]
  },
  {
   "cell_type": "code",
   "execution_count": 2,
   "metadata": {},
   "outputs": [],
   "source": [
    "# Import training dataset\n",
    "lichen_training = CSV.read(\"C:/Users/julio/Downloads/lichen_training.csv\", DataFrame, missingstring=\"NA\") |>\n",
    "x -> DataFrames.select(x, \"Total.lichen\", \"basal_area\", \"PL\", \"mean_Long\", \"mean_Lat\", \"Aspect_south\", \"SNR\", \"SMR\", \"SX\") |>\n",
    "x -> rename(x, [\"biomass\", \"basalarea\", \"pl\", \"lon\", \"lat\", \"south\", \"snr\", \"smr\", \"sx\"]) |>\n",
    "dropmissing |>\n",
    "x -> coerce(x, :pl=>Continuous, :sx=>Continuous, :snr=>Multiclass, :smr=>Multiclass);"
   ]
  },
  {
   "cell_type": "code",
   "execution_count": 3,
   "metadata": {},
   "outputs": [
    {
     "data": {
      "text/plain": [
       "┌───────────┬───────────────────────────────────┬───────────────┐\n",
       "│\u001b[22m _.names   \u001b[0m│\u001b[22m _.types                           \u001b[0m│\u001b[22m _.scitypes    \u001b[0m│\n",
       "├───────────┼───────────────────────────────────┼───────────────┤\n",
       "│ biomass   │ Float64                           │ Continuous    │\n",
       "│ basalarea │ Float64                           │ Continuous    │\n",
       "│ pl        │ Float64                           │ Continuous    │\n",
       "│ lon       │ Float64                           │ Continuous    │\n",
       "│ lat       │ Float64                           │ Continuous    │\n",
       "│ south     │ Float64                           │ Continuous    │\n",
       "│ snr       │ CategoricalValue{String1, UInt32} │ Multiclass{3} │\n",
       "│ smr       │ CategoricalValue{Int64, UInt32}   │ Multiclass{5} │\n",
       "│ sx        │ Float64                           │ Continuous    │\n",
       "└───────────┴───────────────────────────────────┴───────────────┘\n",
       "_.nrows = 77\n"
      ]
     },
     "metadata": {},
     "output_type": "display_data"
    }
   ],
   "source": [
    "# schema \n",
    "schema(lichen_training)"
   ]
  },
  {
   "cell_type": "code",
   "execution_count": 4,
   "metadata": {},
   "outputs": [
    {
     "data": {
      "text/plain": [
       "([2.43, 0.34, 1.72, 288.4, 1.49, 1917.77, 254.57, 3044.13, 1.55, 67.36  …  41.94, 3209.72, 294.86, 1.93, 794.04, 2.99, 523.83, 50.19, 1164.63, 21.75], \u001b[1m77×8 DataFrame\u001b[0m\n",
       "\u001b[1m Row \u001b[0m│\u001b[1m basalarea \u001b[0m\u001b[1m pl      \u001b[0m\u001b[1m lon      \u001b[0m\u001b[1m lat     \u001b[0m\u001b[1m south   \u001b[0m\u001b[1m snr  \u001b[0m\u001b[1m smr  \u001b[0m\u001b[1m sx      \u001b[0m\n",
       "\u001b[1m     \u001b[0m│\u001b[90m Float64   \u001b[0m\u001b[90m Float64 \u001b[0m\u001b[90m Float64  \u001b[0m\u001b[90m Float64 \u001b[0m\u001b[90m Float64 \u001b[0m\u001b[90m Cat… \u001b[0m\u001b[90m Cat… \u001b[0m\u001b[90m Float64 \u001b[0m\n",
       "─────┼─────────────────────────────────────────────────────────────────────\n",
       "   1 │     31.17     78.0  -124.62   56.2372     1.0   C     4         0.0\n",
       "   2 │     30.08     50.0  -125.133  56.0107     0.55  C     3         0.0\n",
       "   3 │     22.54      0.0  -124.625  55.4193     0.39  C     4        60.0\n",
       "   4 │     11.71     79.0  -125.446  56.0079     0.59  B     3         0.0\n",
       "   5 │     24.79     80.0  -125.487  55.7387     0.67  C     4         0.0\n",
       "   6 │     19.94    100.0  -124.691  55.6586     0.78  B     4         0.0\n",
       "   7 │     27.86      0.0  -125.83   55.807      0.96  B     4         0.0\n",
       "   8 │      2.49    100.0  -124.244  55.5477     0.43  C     3         0.0\n",
       "  ⋮  │     ⋮         ⋮        ⋮         ⋮        ⋮      ⋮     ⋮       ⋮\n",
       "  71 │     30.54      0.0  -124.33   55.3043     0.74  C     4         0.0\n",
       "  72 │     15.31    100.0  -125.229  55.9515     0.78  B     3         0.0\n",
       "  73 │     20.72     64.0  -125.393  56.0504     1.0   C     4         0.0\n",
       "  74 │     34.04     89.0  -124.681  55.6625     0.79  C     4         0.0\n",
       "  75 │     28.0      80.0  -125.68   55.7488     0.74  C     4         0.0\n",
       "  76 │      5.17      0.0  -124.158  55.5458     0.81  C     4         0.0\n",
       "  77 │     40.22     55.0  -124.551  56.1746     0.62  C     5         0.0\n",
       "\u001b[36m                                                            62 rows omitted\u001b[0m)"
      ]
     },
     "metadata": {},
     "output_type": "display_data"
    }
   ],
   "source": [
    "# Split predictors/responde variable\n",
    "y, X = unpack(lichen_training, ==(:biomass), _->true; rng=1010);"
   ]
  },
  {
   "cell_type": "code",
   "execution_count": 5,
   "metadata": {},
   "outputs": [
    {
     "name": "stderr",
     "output_type": "stream",
     "text": [
      "┌ Info: Treating pipeline as a `Deterministic` predictor.\n",
      "│ To override, specify `prediction_type=...` (options: :deterministic, :probabilistic, :interval). \n",
      "└ @ MLJBase C:\\Users\\julio\\.julia\\packages\\MLJBase\\QXObv\\src\\composition\\models\\pipelines.jl:372\n"
     ]
    },
    {
     "data": {
      "text/plain": [
       "Pipeline281(\n",
       "    standardizer = Standardizer(\n",
       "            features = Symbol[],\n",
       "            ignore = false,\n",
       "            ordered_factor = false,\n",
       "            count = false),\n",
       "    one_hot_encoder = OneHotEncoder(\n",
       "            features = Symbol[],\n",
       "            drop_last = false,\n",
       "            ordered_factor = true,\n",
       "            ignore = false),\n",
       "    random_forest_regressor = RandomForestRegressor(\n",
       "            max_depth = -1,\n",
       "            min_samples_leaf = 1,\n",
       "            min_samples_split = 2,\n",
       "            min_purity_increase = 0.0,\n",
       "            n_subfeatures = -1,\n",
       "            n_trees = 10,\n",
       "            sampling_fraction = 0.7,\n",
       "            pdf_smoothing = 0.0,\n",
       "            rng = Random._GLOBAL_RNG()),\n",
       "    target = WrappedFunction(\n",
       "            f = var\"#11#12\"()),\n",
       "    inverse = WrappedFunction(\n",
       "            f = var\"#13#14\"()))"
      ]
     },
     "metadata": {},
     "output_type": "display_data"
    }
   ],
   "source": [
    "# Load a model and create a pipeline\n",
    "model = @load RandomForestRegressor pkg=DecisionTree verbosity=0\n",
    "pipe = @pipeline Standardizer OneHotEncoder model target=v->log.(v) inverse=v->exp.(v)"
   ]
  },
  {
   "cell_type": "code",
   "execution_count": null,
   "metadata": {},
   "outputs": [],
   "source": [
    "# Model tunning\n",
    "# r = [\n",
    "#      range(pipe, :(random_forest_regressor.max_depth), lower=1, upper=5),\n",
    "#      range(pipe, :(random_forest_regressor.n_trees), lower=10, upper=20)\n",
    "# ]\n",
    "\n",
    "# tuned_model = TunedModel(\n",
    "#      model=pipe,\n",
    "#      tuning=Grid(resolution=20),\n",
    "#      resampling=CV(),\n",
    "#      range=r,\n",
    "#      measures=mae,\n",
    "#      train_best=true\n",
    "# )\n",
    "\n",
    "# m = machine(tuned_model, X, y) |> fit!\n"
   ]
  },
  {
   "cell_type": "code",
   "execution_count": 6,
   "metadata": {},
   "outputs": [
    {
     "data": {
      "text/plain": [
       "Machine{Pipeline281,…} trained 0 times; caches data\n",
       "  args: \n",
       "    1:\tSource @034 ⏎ `Table{Union{AbstractVector{Continuous}, AbstractVector{Multiclass{3}}, AbstractVector{Multiclass{5}}}}`\n",
       "    2:\tSource @964 ⏎ `AbstractVector{Continuous}`\n"
      ]
     },
     "metadata": {},
     "output_type": "display_data"
    }
   ],
   "source": [
    "\n",
    "# Create a machine\n",
    "pipe.random_forest_regressor.n_trees = 50\n",
    "m = machine(pipe, X, y)"
   ]
  },
  {
   "cell_type": "code",
   "execution_count": 7,
   "metadata": {},
   "outputs": [
    {
     "data": {
      "text/plain": [
       "PerformanceEvaluation object with these fields:\n",
       "  measure, measurement, operation, per_fold,\n",
       "  per_observation, fitted_params_per_fold,\n",
       "  report_per_fold, train_test_pairs\n",
       "Extract:\n",
       "┌────────────────────────┬─────────────┬───────────┬────────────────────────────\n",
       "│\u001b[22m measure                \u001b[0m│\u001b[22m measurement \u001b[0m│\u001b[22m operation \u001b[0m│\u001b[22m per_fold                 \u001b[0m ⋯\n",
       "├────────────────────────┼─────────────┼───────────┼────────────────────────────\n",
       "│ MeanAbsoluteError()    │ 559.0       │ predict   │ [620.0, 680.0, 393.0, 625 ⋯\n",
       "│ RootMeanSquaredError() │ 956.0       │ predict   │ [1170.0, 1120.0, 524.0, 1 ⋯\n",
       "└────────────────────────┴─────────────┴───────────┴────────────────────────────\n",
       "\u001b[36m                                                                1 column omitted\u001b[0m\n"
      ]
     },
     "metadata": {},
     "output_type": "display_data"
    }
   ],
   "source": [
    "# Evaluate the model\n",
    "evaluate!(\n",
    "    m,\n",
    "    resampling=CV(nfolds=10),\n",
    "    measure=[mae, rms],\n",
    "    verbosity=0\n",
    ")"
   ]
  },
  {
   "cell_type": "code",
   "execution_count": 8,
   "metadata": {},
   "outputs": [
    {
     "name": "stderr",
     "output_type": "stream",
     "text": [
      "┌ Info: Training Machine{Pipeline281,…}.\n",
      "└ @ MLJBase C:\\Users\\julio\\.julia\\packages\\MLJBase\\QXObv\\src\\machines.jl:403\n",
      "┌ Info: Training Machine{WrappedFunction,…}.\n",
      "└ @ MLJBase C:\\Users\\julio\\.julia\\packages\\MLJBase\\QXObv\\src\\machines.jl:403\n",
      "┌ Info: Training Machine{Standardizer,…}.\n",
      "└ @ MLJBase C:\\Users\\julio\\.julia\\packages\\MLJBase\\QXObv\\src\\machines.jl:403\n",
      "┌ Info: Training Machine{WrappedFunction,…}.\n",
      "└ @ MLJBase C:\\Users\\julio\\.julia\\packages\\MLJBase\\QXObv\\src\\machines.jl:403\n",
      "┌ Info: Training Machine{OneHotEncoder,…}.\n",
      "└ @ MLJBase C:\\Users\\julio\\.julia\\packages\\MLJBase\\QXObv\\src\\machines.jl:403\n",
      "┌ Info: Spawning 3 sub-features to one-hot encode feature :snr.\n",
      "└ @ MLJModels C:\\Users\\julio\\.julia\\packages\\MLJModels\\GKDnU\\src\\builtins\\Transformers.jl:1142\n",
      "┌ Info: Spawning 5 sub-features to one-hot encode feature :smr.\n",
      "└ @ MLJModels C:\\Users\\julio\\.julia\\packages\\MLJModels\\GKDnU\\src\\builtins\\Transformers.jl:1142\n",
      "┌ Info: Training Machine{RandomForestRegressor,…}.\n",
      "└ @ MLJBase C:\\Users\\julio\\.julia\\packages\\MLJBase\\QXObv\\src\\machines.jl:403\n"
     ]
    },
    {
     "data": {
      "text/plain": [
       "(inverse = (fitresult = nothing,),\n",
       " random_forest_regressor = (forest = Ensemble of Decision Trees\n",
       "Trees:      50\n",
       "Avg Leaves: 38.7\n",
       "Avg Depth:  10.4,),\n",
       " one_hot_encoder = (fitresult = OneHotEncoderResult,),\n",
       " standardizer = Dict(:basalarea => (19.90597402597402, 9.59526339559761), :sx => (9.883116883116884, 23.760301935201667), :lat => (55.97332400649351, 0.5664634649325856), :pl => (57.05194805194805, 43.025052709193105), :south => (0.7041558441558441, 0.19658499333253884), :lon => (-125.32716337662336, 0.881650658304238)),\n",
       " target = (fitresult = nothing,),\n",
       " machines = Machine[Machine{WrappedFunction,…}, Machine{Standardizer,…}, Machine{OneHotEncoder,…}, Machine{RandomForestRegressor,…}, Machine{WrappedFunction,…}],\n",
       " fitted_params_given_machine = LittleDict{Any, Any, Vector{Any}, Vector{Any}}(Machine{WrappedFunction,…} => (fitresult = nothing,), Machine{Standardizer,…} => Dict(:basalarea => (19.90597402597402, 9.59526339559761), :sx => (9.883116883116884, 23.760301935201667), :lat => (55.97332400649351, 0.5664634649325856), :pl => (57.05194805194805, 43.025052709193105), :south => (0.7041558441558441, 0.19658499333253884), :lon => (-125.32716337662336, 0.881650658304238)), Machine{OneHotEncoder,…} => (fitresult = OneHotEncoderResult,), Machine{RandomForestRegressor,…} => (forest = Ensemble of Decision Trees\n",
       "Trees:      50\n",
       "Avg Leaves: 38.7\n",
       "Avg Depth:  10.4,), Machine{WrappedFunction,…} => (fitresult = nothing,)),)"
      ]
     },
     "metadata": {},
     "output_type": "display_data"
    }
   ],
   "source": [
    "# Fit the model\n",
    "fit!(m)\n",
    "\n",
    "# Check fitted parameters\n",
    "fp = fitted_params(m)"
   ]
  },
  {
   "cell_type": "code",
   "execution_count": 10,
   "metadata": {},
   "outputs": [
    {
     "data": {
      "text/plain": [
       "(machines = Machine[Machine{WrappedFunction,…}, Machine{Standardizer,…}, Machine{OneHotEncoder,…}, Machine{RandomForestRegressor,…}, Machine{WrappedFunction,…}],\n",
       " report_given_machine = LittleDict{Any, Any, Vector{Any}, Vector{Any}}(Machine{WrappedFunction,…} => nothing, Machine{Standardizer,…} => (features_fit = [:basalarea, :sx, :lat, :pl, :south, :lon],), Machine{OneHotEncoder,…} => (features_to_be_encoded = [:snr, :smr], new_features = [:basalarea, :pl, :lon, :lat, :south, :snr__A, :snr__B, :snr__C, :smr__2, :smr__3, :smr__4, :smr__5, :smr__6, :sx]), Machine{RandomForestRegressor,…} => NamedTuple(), Machine{WrappedFunction,…} => nothing),)"
      ]
     },
     "metadata": {},
     "output_type": "display_data"
    }
   ],
   "source": [
    "m.report"
   ]
  },
  {
   "cell_type": "code",
   "execution_count": 12,
   "metadata": {},
   "outputs": [],
   "source": [
    "ŷ = predict(m);"
   ]
  },
  {
   "cell_type": "code",
   "execution_count": 13,
   "metadata": {},
   "outputs": [
    {
     "data": {
      "image/png": "[encoded data removed]",
      "text/plain": [
       "Scene (800px, 600px):\n",
       "  18 Plots:\n",
       "    ├ Combined{Makie.poly, Tuple{Vector{Vector{Point{2, Float32}}}}}\n",
       "    ├ LineSegments{Tuple{Vector{Point{2, Float32}}}}\n",
       "    ├ LineSegments{Tuple{Vector{Point{2, Float32}}}}\n",
       "    ├ LineSegments{Tuple{Vector{Point{2, Float32}}}}\n",
       "    ├ LineSegments{Tuple{Vector{Point{2, Float32}}}}\n",
       "    ├ LineSegments{Tuple{Vector{Point{2, Float32}}}}\n",
       "    ├ LineSegments{Tuple{Vector{Point{2, Float32}}}}\n",
       "    ├ MakieCore.Text{Tuple{String}}\n",
       "    ├ Lines{Tuple{Vector{Point{2, Float32}}}}\n",
       "    ├ MakieCore.Text{Tuple{Vector{Tuple{AbstractString, Point{2, Float32}}}}}\n",
       "    ├ LineSegments{Tuple{Vector{Point{2, Float32}}}}\n",
       "    ├ LineSegments{Tuple{Vector{Point{2, Float32}}}}\n",
       "    ├ MakieCore.Text{Tuple{String}}\n",
       "    ├ Lines{Tuple{Vector{Point{2, Float32}}}}\n",
       "    ├ MakieCore.Text{Tuple{Vector{Tuple{AbstractString, Point{2, Float32}}}}}\n",
       "    ├ Lines{Tuple{Vector{Point{2, Float32}}}}\n",
       "    ├ Lines{Tuple{Vector{Point{2, Float32}}}}\n",
       "    └ MakieCore.Text{Tuple{String}}\n",
       "  1 Child Scene:\n",
       "    └ Scene (690px, 541px)"
      ]
     },
     "metadata": {},
     "output_type": "display_data"
    }
   ],
   "source": [
    "f = Figure()\n",
    "\n",
    "ax1 = Axis(f[1, 1])\n",
    "ax1.ylabel = \"residuals\"\n",
    "stem!(ax1, ŷ - y)\n",
    "\n",
    "# ax2 = Axis(f[2, 1])\n",
    "# ax2.xlabel = \"max_depth\"\n",
    "# ax2.ylabel = \"mae\"\n",
    "# scatter!(ax2, Float64.(m.report.plotting.parameter_values[:, 1]), m.report.plotting.measurements)\n",
    "\n",
    "# ax3 = Axis(f[3, 1])\n",
    "# ax3.xlabel = \"n_trees\"\n",
    "# ax3.ylabel = \"mae\"\n",
    "# scatter!(ax3, Float64.(m.report.plotting.parameter_values[:, 2]), m.report.plotting.measurements)\n",
    "\n",
    "f"
   ]
  },
  {
   "cell_type": "code",
   "execution_count": 15,
   "metadata": {},
   "outputs": [
    {
     "name": "stdout",
     "output_type": "stream",
     "text": [
      "rms(ŷ, y) = 759.3089616601005\n",
      "mae(ŷ, y) = 397.7461170969398\n"
     ]
    }
   ],
   "source": [
    "@show rms(ŷ, y)\n",
    "@show mae(ŷ, y);"
   ]
  },
  {
   "cell_type": "code",
   "execution_count": 16,
   "metadata": {},
   "outputs": [
    {
     "data": {
      "text/plain": [
       "154×2 Matrix{Float64}:\n",
       " 1.0    11.7823\n",
       " 1.0     5.25457\n",
       " 1.0     5.27638\n",
       " 1.0   430.871\n",
       " 1.0     7.46584\n",
       " 1.0  1194.63\n",
       " 1.0   165.269\n",
       " 1.0   388.421\n",
       " 1.0    10.6976\n",
       " 1.0   137.759\n",
       " ⋮    \n",
       " 2.0  3209.72\n",
       " 2.0   294.86\n",
       " 2.0     1.93\n",
       " 2.0   794.04\n",
       " 2.0     2.99\n",
       " 2.0   523.83\n",
       " 2.0    50.19\n",
       " 2.0  1164.63\n",
       " 2.0    21.75"
      ]
     },
     "metadata": {},
     "output_type": "display_data"
    }
   ],
   "source": [
    "results = vcat(\n",
    "    hcat(fill(1, length(ŷ)), ŷ),\n",
    "    hcat(fill(2, length(y)), y)\n",
    ")"
   ]
  },
  {
   "cell_type": "code",
   "execution_count": 19,
   "metadata": {},
   "outputs": [
    {
     "data": {
      "image/png": "[encoded data removed]",
      "text/plain": [
       "Scene (800px, 600px):\n",
       "  18 Plots:\n",
       "    ├ Combined{Makie.poly, Tuple{Vector{Vector{Point{2, Float32}}}}}\n",
       "    ├ LineSegments{Tuple{Vector{Point{2, Float32}}}}\n",
       "    ├ LineSegments{Tuple{Vector{Point{2, Float32}}}}\n",
       "    ├ LineSegments{Tuple{Vector{Point{2, Float32}}}}\n",
       "    ├ LineSegments{Tuple{Vector{Point{2, Float32}}}}\n",
       "    ├ LineSegments{Tuple{Vector{Point{2, Float32}}}}\n",
       "    ├ LineSegments{Tuple{Vector{Point{2, Float32}}}}\n",
       "    ├ MakieCore.Text{Tuple{String}}\n",
       "    ├ Lines{Tuple{Vector{Point{2, Float32}}}}\n",
       "    ├ MakieCore.Text{Tuple{Vector{Tuple{AbstractString, Point{2, Float32}}}}}\n",
       "    ├ LineSegments{Tuple{Vector{Point{2, Float32}}}}\n",
       "    ├ LineSegments{Tuple{Vector{Point{2, Float32}}}}\n",
       "    ├ MakieCore.Text{Tuple{String}}\n",
       "    ├ Lines{Tuple{Vector{Point{2, Float32}}}}\n",
       "    ├ MakieCore.Text{Tuple{Vector{Tuple{AbstractString, Point{2, Float32}}}}}\n",
       "    ├ Lines{Tuple{Vector{Point{2, Float32}}}}\n",
       "    ├ Lines{Tuple{Vector{Point{2, Float32}}}}\n",
       "    └ MakieCore.Text{Tuple{String}}\n",
       "  1 Child Scene:\n",
       "    └ Scene (720px, 541px)"
      ]
     },
     "metadata": {},
     "output_type": "display_data"
    }
   ],
   "source": [
    "f = Figure()\n",
    "\n",
    "ax1 = Axis(f[1, 1])\n",
    "boxplot!(ax1, results[:, 1], results[:, 2])\n",
    "\n",
    "f"
   ]
  },
  {
   "cell_type": "markdown",
   "metadata": {},
   "source": [
    "# Predict on new dataset"
   ]
  },
  {
   "cell_type": "code",
   "execution_count": null,
   "metadata": {},
   "outputs": [],
   "source": [
    "# Import CSV to dataframe, select the same columns used for training\n",
    "lichen = CSV.read(\"C:/Users/julio/Downloads/predicted_biomass_Nov2021.csv\", DataFrame) |>\n",
    "x -> select(x, :BASAL_AREA, :PL, :LON) |>\n",
    "x -> rename(x, [\"basalarea\", \"pl\", \"lon\"]);"
   ]
  },
  {
   "cell_type": "code",
   "execution_count": null,
   "metadata": {},
   "outputs": [],
   "source": [
    "# Predict on a new dataset\n",
    "biomass = exp.(predict(m, lichen))"
   ]
  },
  {
   "cell_type": "code",
   "execution_count": null,
   "metadata": {},
   "outputs": [],
   "source": [
    "# Combine new dataset with predictions\n",
    "results = hcat(lichen, biomass)"
   ]
  },
  {
   "cell_type": "code",
   "execution_count": null,
   "metadata": {},
   "outputs": [],
   "source": [
    "# Export results to CSV\n",
    "CSV.write(\"C:/Users/julio/Downloads/predicted_biomass_rf.csv\", results)"
   ]
  }
 ],
 "metadata": {
  "kernelspec": {
   "display_name": "Julia 1.7.0",
   "language": "julia",
   "name": "julia-1.7"
  },
  "language_info": {
   "file_extension": ".jl",
   "mimetype": "application/julia",
   "name": "julia",
   "version": "1.7.0"
  },
  "orig_nbformat": 4
 },
 "nbformat": 4,
 "nbformat_minor": 2
}
