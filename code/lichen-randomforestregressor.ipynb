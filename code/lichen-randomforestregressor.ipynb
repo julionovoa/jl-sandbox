{
 "cells": [
  {
   "cell_type": "code",
   "execution_count": null,
   "metadata": {},
   "outputs": [],
   "source": [
    "using DataFrames, CSV, MLJ, VegaLite"
   ]
  },
  {
   "cell_type": "code",
   "execution_count": null,
   "metadata": {},
   "outputs": [],
   "source": [
    "# Import CSV to dataframe, select some columns\n",
    "lichen = CSV.read(\"C:/Users/julio/Downloads/predicted_biomass_Nov2021.csv\", DataFrame; missingstring=\"\") |>\n",
    "x -> select(x, :biomass_log, :BASAL_AREA, :PL, :LON) "
   ]
  },
  {
   "cell_type": "code",
   "execution_count": null,
   "metadata": {},
   "outputs": [],
   "source": [
    "# schema \n",
    "schema(lichen)"
   ]
  },
  {
   "cell_type": "code",
   "execution_count": null,
   "metadata": {},
   "outputs": [],
   "source": [
    "# Split predictors (X) and response variable (y)\n",
    "y, X = unpack(lichen, ==(:biomass_log), _ -> true; rng=1010);"
   ]
  },
  {
   "cell_type": "code",
   "execution_count": null,
   "metadata": {},
   "outputs": [],
   "source": [
    "# Search for models that match the data scitype and are pure Julia\n",
    "for m in models(matching(X, y))\n",
    "    if m.is_pure_julia == true\n",
    "        println(rpad(m.name, 40), \"($(m.package_name))\")\n",
    "    end\n",
    "end"
   ]
  },
  {
   "cell_type": "code",
   "execution_count": null,
   "metadata": {},
   "outputs": [],
   "source": [
    "# Load a RandomForestRegressor model using the DecisionTree package\n",
    "model = @load RandomForestRegressor pkg=\"DecisionTree\" add=true verbosity=0"
   ]
  },
  {
   "cell_type": "code",
   "execution_count": null,
   "metadata": {},
   "outputs": [],
   "source": [
    "# Get model info\n",
    "info(model)"
   ]
  },
  {
   "cell_type": "code",
   "execution_count": null,
   "metadata": {},
   "outputs": [],
   "source": [
    "# Instantiate a random forest regressor model\n",
    "model_rf = model(n_trees=50)"
   ]
  },
  {
   "cell_type": "code",
   "execution_count": null,
   "metadata": {},
   "outputs": [],
   "source": [
    "# Create an MLJ machine (model + data)\n",
    "mach_rf = machine(model_rf, X, y)"
   ]
  },
  {
   "cell_type": "code",
   "execution_count": null,
   "metadata": {},
   "outputs": [],
   "source": [
    "# Split into train/test datasets\n",
    "train, test = partition(eachindex(y), 0.7, shuffle=true, rng=1010)"
   ]
  },
  {
   "cell_type": "code",
   "execution_count": null,
   "metadata": {},
   "outputs": [],
   "source": [
    "# Fit the machine\n",
    "fit!(mach_rf, rows=train)"
   ]
  },
  {
   "cell_type": "code",
   "execution_count": null,
   "metadata": {},
   "outputs": [],
   "source": [
    "# Check trained parameters\n",
    "fitted_params(mach_rf)"
   ]
  },
  {
   "cell_type": "code",
   "execution_count": null,
   "metadata": {},
   "outputs": [],
   "source": [
    "# Make predictions\n",
    "y_test_pred = predict(mach_rf, rows=test)"
   ]
  },
  {
   "cell_type": "code",
   "execution_count": null,
   "metadata": {},
   "outputs": [],
   "source": [
    "# Get list of accuracy measures\n",
    "# [m.name for m in measures() if m.target_scitype <: scitype(y)]\n",
    "println([(m.name) for m in measures() if m.prediction_type == :deterministic])"
   ]
  },
  {
   "cell_type": "code",
   "execution_count": null,
   "metadata": {},
   "outputs": [],
   "source": [
    "# Show some accuracy measures\n",
    "@show rms(y_test_pred, y[test])\n",
    "@show l1(y_test_pred, y[test]) |> mean\n",
    "@show l2(y_test_pred, y[test]) |> mean\n",
    "@show mav(y_test_pred, y[test])\n",
    "@show rmsl(y_test_pred, y[test]);"
   ]
  },
  {
   "cell_type": "code",
   "execution_count": null,
   "metadata": {},
   "outputs": [],
   "source": [
    "# Evaluate the model\n",
    "evaluate(model_rf, X, y,\n",
    "         resampling=CV(nfolds=3, shuffle=true),\n",
    "         measure=rms, verbosity=1)"
   ]
  },
  {
   "cell_type": "code",
   "execution_count": null,
   "metadata": {},
   "outputs": [],
   "source": [
    "# Evaluate the machine\n",
    "# evaluate!(mach_rf,\n",
    "#           resampling=Holdout(fraction_train=0.7, shuffle=true),\n",
    "#           measure=rms, verbosity=1)\n",
    "evaluate!(mach_rf,\n",
    "          resampling=CV(nfolds=3, shuffle=true),\n",
    "          measure=rms, verbosity=1)"
   ]
  },
  {
   "cell_type": "code",
   "execution_count": null,
   "metadata": {},
   "outputs": [],
   "source": [
    "# Increase number of trees and re-evaluate the machine\n",
    "model_rf.n_trees = 100\n",
    "evaluate!(mach_rf,\n",
    "          resampling=Holdout(fraction_train=0.7, shuffle=true),\n",
    "          measure=rms, verbosity=1)"
   ]
  }
 ],
 "metadata": {
  "kernelspec": {
   "display_name": "Julia 1.6.3",
   "language": "julia",
   "name": "julia-1.6"
  },
  "language_info": {
   "file_extension": ".jl",
   "mimetype": "application/julia",
   "name": "julia",
   "version": "1.6.3"
  },
  "orig_nbformat": 4
 },
 "nbformat": 4,
 "nbformat_minor": 2
}
