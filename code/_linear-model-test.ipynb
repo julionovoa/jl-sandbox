{
 "cells": [
  {
   "cell_type": "code",
   "execution_count": 1,
   "metadata": {},
   "outputs": [],
   "source": [
    "using DataFrames\n",
    "using CSV\n",
    "using MLJ"
   ]
  },
  {
   "cell_type": "code",
   "execution_count": 2,
   "metadata": {},
   "outputs": [
    {
     "name": "stderr",
     "output_type": "stream",
     "text": [
      "┌ Warning: thread = 1 warning: only found 31 / 154 columns around data row: 19102. Filling remaining columns with `missing`\n",
      "└ @ CSV C:\\Users\\julio\\.julia\\packages\\CSV\\9LsxT\\src\\file.jl:634\n"
     ]
    },
    {
     "data": {
      "text/html": [
       "<div class=\"data-frame\"><p>19,102 rows × 154 columns (omitted printing of 151 columns)</p><table class=\"data-frame\"><thead><tr><th></th><th>Respondent</th><th>Professional</th><th>ProgramHobby</th></tr><tr><th></th><th title=\"Int64\">Int64</th><th title=\"String63\">String63</th><th title=\"String63\">String63</th></tr></thead><tbody><tr><th>1</th><td>1</td><td>Student</td><td>Yes, both</td></tr><tr><th>2</th><td>2</td><td>Student</td><td>Yes, both</td></tr><tr><th>3</th><td>3</td><td>Professional developer</td><td>Yes, both</td></tr><tr><th>4</th><td>4</td><td>Professional non-developer who sometimes writes code</td><td>Yes, both</td></tr><tr><th>5</th><td>5</td><td>Professional developer</td><td>Yes, I program as a hobby</td></tr><tr><th>6</th><td>6</td><td>Student</td><td>Yes, both</td></tr><tr><th>7</th><td>7</td><td>Professional non-developer who sometimes writes code</td><td>Yes, both</td></tr><tr><th>8</th><td>8</td><td>Professional developer</td><td>Yes, both</td></tr><tr><th>9</th><td>9</td><td>Professional developer</td><td>Yes, I program as a hobby</td></tr><tr><th>10</th><td>10</td><td>Professional developer</td><td>Yes, I program as a hobby</td></tr><tr><th>11</th><td>11</td><td>Professional non-developer who sometimes writes code</td><td>Yes, I program as a hobby</td></tr><tr><th>12</th><td>12</td><td>Professional developer</td><td>No</td></tr><tr><th>13</th><td>13</td><td>Used to be a professional developer</td><td>Yes, I program as a hobby</td></tr><tr><th>14</th><td>14</td><td>Professional developer</td><td>Yes, both</td></tr><tr><th>15</th><td>15</td><td>Professional developer</td><td>Yes, I program as a hobby</td></tr><tr><th>16</th><td>16</td><td>Professional developer</td><td>Yes, I program as a hobby</td></tr><tr><th>17</th><td>17</td><td>Professional developer</td><td>Yes, both</td></tr><tr><th>18</th><td>18</td><td>Professional developer</td><td>Yes, both</td></tr><tr><th>19</th><td>19</td><td>Professional developer</td><td>Yes, I program as a hobby</td></tr><tr><th>20</th><td>20</td><td>Professional developer</td><td>Yes, I program as a hobby</td></tr><tr><th>21</th><td>21</td><td>Professional developer</td><td>Yes, I program as a hobby</td></tr><tr><th>22</th><td>22</td><td>Professional developer</td><td>Yes, I program as a hobby</td></tr><tr><th>23</th><td>23</td><td>Professional developer</td><td>No</td></tr><tr><th>24</th><td>24</td><td>Professional developer</td><td>Yes, both</td></tr><tr><th>&vellip;</th><td>&vellip;</td><td>&vellip;</td><td>&vellip;</td></tr></tbody></table></div>"
      ],
      "text/latex": [
       "\\begin{tabular}{r|cccc}\n",
       "\t& Respondent & Professional & ProgramHobby & \\\\\n",
       "\t\\hline\n",
       "\t& Int64 & String63 & String63 & \\\\\n",
       "\t\\hline\n",
       "\t1 & 1 & Student & Yes, both & $\\dots$ \\\\\n",
       "\t2 & 2 & Student & Yes, both & $\\dots$ \\\\\n",
       "\t3 & 3 & Professional developer & Yes, both & $\\dots$ \\\\\n",
       "\t4 & 4 & Professional non-developer who sometimes writes code & Yes, both & $\\dots$ \\\\\n",
       "\t5 & 5 & Professional developer & Yes, I program as a hobby & $\\dots$ \\\\\n",
       "\t6 & 6 & Student & Yes, both & $\\dots$ \\\\\n",
       "\t7 & 7 & Professional non-developer who sometimes writes code & Yes, both & $\\dots$ \\\\\n",
       "\t8 & 8 & Professional developer & Yes, both & $\\dots$ \\\\\n",
       "\t9 & 9 & Professional developer & Yes, I program as a hobby & $\\dots$ \\\\\n",
       "\t10 & 10 & Professional developer & Yes, I program as a hobby & $\\dots$ \\\\\n",
       "\t11 & 11 & Professional non-developer who sometimes writes code & Yes, I program as a hobby & $\\dots$ \\\\\n",
       "\t12 & 12 & Professional developer & No & $\\dots$ \\\\\n",
       "\t13 & 13 & Used to be a professional developer & Yes, I program as a hobby & $\\dots$ \\\\\n",
       "\t14 & 14 & Professional developer & Yes, both & $\\dots$ \\\\\n",
       "\t15 & 15 & Professional developer & Yes, I program as a hobby & $\\dots$ \\\\\n",
       "\t16 & 16 & Professional developer & Yes, I program as a hobby & $\\dots$ \\\\\n",
       "\t17 & 17 & Professional developer & Yes, both & $\\dots$ \\\\\n",
       "\t18 & 18 & Professional developer & Yes, both & $\\dots$ \\\\\n",
       "\t19 & 19 & Professional developer & Yes, I program as a hobby & $\\dots$ \\\\\n",
       "\t20 & 20 & Professional developer & Yes, I program as a hobby & $\\dots$ \\\\\n",
       "\t21 & 21 & Professional developer & Yes, I program as a hobby & $\\dots$ \\\\\n",
       "\t22 & 22 & Professional developer & Yes, I program as a hobby & $\\dots$ \\\\\n",
       "\t23 & 23 & Professional developer & No & $\\dots$ \\\\\n",
       "\t24 & 24 & Professional developer & Yes, both & $\\dots$ \\\\\n",
       "\t$\\dots$ & $\\dots$ & $\\dots$ & $\\dots$ &  \\\\\n",
       "\\end{tabular}\n"
      ],
      "text/plain": [
       "\u001b[1m19102×154 DataFrame\u001b[0m\n",
       "\u001b[1m   Row \u001b[0m│\u001b[1m Respondent \u001b[0m\u001b[1m Professional                      \u001b[0m\u001b[1m ProgramHobby          \u001b[0m ⋯\n",
       "\u001b[1m       \u001b[0m│\u001b[90m Int64      \u001b[0m\u001b[90m String63                          \u001b[0m\u001b[90m String63              \u001b[0m ⋯\n",
       "───────┼────────────────────────────────────────────────────────────────────────\n",
       "     1 │          1  Student                            Yes, both              ⋯\n",
       "     2 │          2  Student                            Yes, both\n",
       "     3 │          3  Professional developer             Yes, both\n",
       "     4 │          4  Professional non-developer who s…  Yes, both\n",
       "     5 │          5  Professional developer             Yes, I program as a ho ⋯\n",
       "     6 │          6  Student                            Yes, both\n",
       "     7 │          7  Professional non-developer who s…  Yes, both\n",
       "     8 │          8  Professional developer             Yes, both\n",
       "   ⋮   │     ⋮                       ⋮                              ⋮          ⋱\n",
       " 19096 │      19096  Professional developer             Yes, both              ⋯\n",
       " 19097 │      19097  Professional developer             No\n",
       " 19098 │      19098  Professional developer             Yes, I program as a ho\n",
       " 19099 │      19099  Student                            Yes, I program as a ho\n",
       " 19100 │      19100  Professional non-developer who s…  Yes, I program as a ho ⋯\n",
       " 19101 │      19101  Professional developer             Yes, I program as a ho\n",
       " 19102 │      19102  Professional developer             Yes, I program as a ho\n",
       "\u001b[36m                                              152 columns and 19087 rows omitted\u001b[0m"
      ]
     },
     "metadata": {},
     "output_type": "display_data"
    }
   ],
   "source": [
    "\n",
    "df = CSV.read(\"../data/survey_results_public.csv\", missingstring = \"NA\", DataFrame)"
   ]
  },
  {
   "cell_type": "code",
   "execution_count": 3,
   "metadata": {},
   "outputs": [
    {
     "data": {
      "text/html": [
       "<div class=\"data-frame\"><p>5,009 rows × 154 columns (omitted printing of 149 columns)</p><table class=\"data-frame\"><thead><tr><th></th><th>Respondent</th><th>Professional</th><th>ProgramHobby</th><th>Country</th><th>University</th></tr><tr><th></th><th title=\"Int64\">Int64</th><th title=\"String63\">String63</th><th title=\"String63\">String63</th><th title=\"String31\">String31</th><th title=\"String31\">String31</th></tr></thead><tbody><tr><th>1</th><td>3</td><td>Professional developer</td><td>Yes, both</td><td>United Kingdom</td><td>No</td></tr><tr><th>2</th><td>15</td><td>Professional developer</td><td>Yes, I program as a hobby</td><td>United Kingdom</td><td>No</td></tr><tr><th>3</th><td>18</td><td>Professional developer</td><td>Yes, both</td><td>United States</td><td>Yes, part-time</td></tr><tr><th>4</th><td>19</td><td>Professional developer</td><td>Yes, I program as a hobby</td><td>United States</td><td>No</td></tr><tr><th>5</th><td>23</td><td>Professional developer</td><td>No</td><td>Israel</td><td>No</td></tr><tr><th>6</th><td>26</td><td>Professional developer</td><td>Yes, I program as a hobby</td><td>United States</td><td>No</td></tr><tr><th>7</th><td>35</td><td>Professional developer</td><td>Yes, I program as a hobby</td><td>Croatia</td><td>Yes, full-time</td></tr><tr><th>8</th><td>37</td><td>Professional developer</td><td>Yes, I program as a hobby</td><td>Argentina</td><td>No</td></tr><tr><th>9</th><td>38</td><td>Professional developer</td><td>Yes, both</td><td>Germany</td><td>No</td></tr><tr><th>10</th><td>53</td><td>Professional developer</td><td>Yes, I program as a hobby</td><td>Brazil</td><td>No</td></tr><tr><th>11</th><td>55</td><td>Professional developer</td><td>No</td><td>Germany</td><td>No</td></tr><tr><th>12</th><td>58</td><td>Professional developer</td><td>Yes, both</td><td>Italy</td><td>No</td></tr><tr><th>13</th><td>62</td><td>Professional developer</td><td>Yes, I program as a hobby</td><td>India</td><td>No</td></tr><tr><th>14</th><td>65</td><td>Professional developer</td><td>No</td><td>Netherlands</td><td>No</td></tr><tr><th>15</th><td>66</td><td>Professional developer</td><td>Yes, I program as a hobby</td><td>Poland</td><td>No</td></tr><tr><th>16</th><td>70</td><td>Professional developer</td><td>Yes, I program as a hobby</td><td>Spain</td><td>No</td></tr><tr><th>17</th><td>71</td><td>Professional developer</td><td>Yes, I program as a hobby</td><td>United States</td><td>No</td></tr><tr><th>18</th><td>73</td><td>Professional developer</td><td>Yes, both</td><td>United States</td><td>No</td></tr><tr><th>19</th><td>76</td><td>Professional developer</td><td>Yes, both</td><td>France</td><td>No</td></tr><tr><th>20</th><td>77</td><td>Professional developer</td><td>Yes, both</td><td>United States</td><td>No</td></tr><tr><th>21</th><td>82</td><td>Professional developer</td><td>Yes, I program as a hobby</td><td>United States</td><td>No</td></tr><tr><th>22</th><td>84</td><td>Professional developer</td><td>Yes, both</td><td>United States</td><td>No</td></tr><tr><th>23</th><td>90</td><td>Professional developer</td><td>Yes, I program as a hobby</td><td>Brazil</td><td>No</td></tr><tr><th>24</th><td>91</td><td>Professional developer</td><td>Yes, both</td><td>Croatia</td><td>No</td></tr><tr><th>&vellip;</th><td>&vellip;</td><td>&vellip;</td><td>&vellip;</td><td>&vellip;</td><td>&vellip;</td></tr></tbody></table></div>"
      ],
      "text/latex": [
       "\\begin{tabular}{r|cccccc}\n",
       "\t& Respondent & Professional & ProgramHobby & Country & University & \\\\\n",
       "\t\\hline\n",
       "\t& Int64 & String63 & String63 & String31 & String31 & \\\\\n",
       "\t\\hline\n",
       "\t1 & 3 & Professional developer & Yes, both & United Kingdom & No & $\\dots$ \\\\\n",
       "\t2 & 15 & Professional developer & Yes, I program as a hobby & United Kingdom & No & $\\dots$ \\\\\n",
       "\t3 & 18 & Professional developer & Yes, both & United States & Yes, part-time & $\\dots$ \\\\\n",
       "\t4 & 19 & Professional developer & Yes, I program as a hobby & United States & No & $\\dots$ \\\\\n",
       "\t5 & 23 & Professional developer & No & Israel & No & $\\dots$ \\\\\n",
       "\t6 & 26 & Professional developer & Yes, I program as a hobby & United States & No & $\\dots$ \\\\\n",
       "\t7 & 35 & Professional developer & Yes, I program as a hobby & Croatia & Yes, full-time & $\\dots$ \\\\\n",
       "\t8 & 37 & Professional developer & Yes, I program as a hobby & Argentina & No & $\\dots$ \\\\\n",
       "\t9 & 38 & Professional developer & Yes, both & Germany & No & $\\dots$ \\\\\n",
       "\t10 & 53 & Professional developer & Yes, I program as a hobby & Brazil & No & $\\dots$ \\\\\n",
       "\t11 & 55 & Professional developer & No & Germany & No & $\\dots$ \\\\\n",
       "\t12 & 58 & Professional developer & Yes, both & Italy & No & $\\dots$ \\\\\n",
       "\t13 & 62 & Professional developer & Yes, I program as a hobby & India & No & $\\dots$ \\\\\n",
       "\t14 & 65 & Professional developer & No & Netherlands & No & $\\dots$ \\\\\n",
       "\t15 & 66 & Professional developer & Yes, I program as a hobby & Poland & No & $\\dots$ \\\\\n",
       "\t16 & 70 & Professional developer & Yes, I program as a hobby & Spain & No & $\\dots$ \\\\\n",
       "\t17 & 71 & Professional developer & Yes, I program as a hobby & United States & No & $\\dots$ \\\\\n",
       "\t18 & 73 & Professional developer & Yes, both & United States & No & $\\dots$ \\\\\n",
       "\t19 & 76 & Professional developer & Yes, both & France & No & $\\dots$ \\\\\n",
       "\t20 & 77 & Professional developer & Yes, both & United States & No & $\\dots$ \\\\\n",
       "\t21 & 82 & Professional developer & Yes, I program as a hobby & United States & No & $\\dots$ \\\\\n",
       "\t22 & 84 & Professional developer & Yes, both & United States & No & $\\dots$ \\\\\n",
       "\t23 & 90 & Professional developer & Yes, I program as a hobby & Brazil & No & $\\dots$ \\\\\n",
       "\t24 & 91 & Professional developer & Yes, both & Croatia & No & $\\dots$ \\\\\n",
       "\t$\\dots$ & $\\dots$ & $\\dots$ & $\\dots$ & $\\dots$ & $\\dots$ &  \\\\\n",
       "\\end{tabular}\n"
      ],
      "text/plain": [
       "\u001b[1m5009×154 DataFrame\u001b[0m\n",
       "\u001b[1m  Row \u001b[0m│\u001b[1m Respondent \u001b[0m\u001b[1m Professional           \u001b[0m\u001b[1m ProgramHobby              \u001b[0m\u001b[1m Country\u001b[0m ⋯\n",
       "\u001b[1m      \u001b[0m│\u001b[90m Int64      \u001b[0m\u001b[90m String63               \u001b[0m\u001b[90m String63                  \u001b[0m\u001b[90m String3\u001b[0m ⋯\n",
       "──────┼─────────────────────────────────────────────────────────────────────────\n",
       "    1 │          3  Professional developer  Yes, both                  United  ⋯\n",
       "    2 │         15  Professional developer  Yes, I program as a hobby  United\n",
       "    3 │         18  Professional developer  Yes, both                  United\n",
       "    4 │         19  Professional developer  Yes, I program as a hobby  United\n",
       "    5 │         23  Professional developer  No                         Israel  ⋯\n",
       "    6 │         26  Professional developer  Yes, I program as a hobby  United\n",
       "    7 │         35  Professional developer  Yes, I program as a hobby  Croatia\n",
       "    8 │         37  Professional developer  Yes, I program as a hobby  Argenti\n",
       "  ⋮   │     ⋮                 ⋮                         ⋮                    ⋮ ⋱\n",
       " 5003 │      19056  Professional developer  Yes, both                  United  ⋯\n",
       " 5004 │      19074  Professional developer  Yes, I program as a hobby  United\n",
       " 5005 │      19080  Professional developer  Yes, I program as a hobby  United\n",
       " 5006 │      19087  Professional developer  No                         Germany\n",
       " 5007 │      19089  Professional developer  Yes, I program as a hobby  United  ⋯\n",
       " 5008 │      19090  Professional developer  Yes, I program as a hobby  United\n",
       " 5009 │      19101  Professional developer  Yes, I program as a hobby  United\n",
       "\u001b[36m                                               151 columns and 4994 rows omitted\u001b[0m"
      ]
     },
     "metadata": {},
     "output_type": "display_data"
    }
   ],
   "source": [
    "dropmissing!(df, :Salary)"
   ]
  },
  {
   "cell_type": "code",
   "execution_count": 4,
   "metadata": {},
   "outputs": [
    {
     "data": {
      "text/html": [
       "<div class=\"data-frame\"><p>154 rows × 7 columns (omitted printing of 3 columns)</p><table class=\"data-frame\"><thead><tr><th></th><th>variable</th><th>mean</th><th>min</th><th>median</th></tr><tr><th></th><th title=\"Symbol\">Symbol</th><th title=\"Union{Nothing, Float64}\">Union…</th><th title=\"Any\">Any</th><th title=\"Union{Nothing, Float64}\">Union…</th></tr></thead><tbody><tr><th>1</th><td>Respondent</td><td>9245.04</td><td>3</td><td>9679.0</td></tr><tr><th>2</th><td>Professional</td><td></td><td>Professional developer</td><td></td></tr><tr><th>3</th><td>ProgramHobby</td><td></td><td>No</td><td></td></tr><tr><th>4</th><td>Country</td><td></td><td>Afghanistan</td><td></td></tr><tr><th>5</th><td>University</td><td></td><td>I prefer not to say</td><td></td></tr><tr><th>6</th><td>EmploymentStatus</td><td></td><td>Employed full-time</td><td></td></tr><tr><th>7</th><td>FormalEducation</td><td></td><td>Bachelor&apos;s degree</td><td></td></tr><tr><th>8</th><td>MajorUndergrad</td><td></td><td>A business discipline</td><td></td></tr><tr><th>9</th><td>HomeRemote</td><td></td><td>A few days each month</td><td></td></tr><tr><th>10</th><td>CompanySize</td><td></td><td>1,000 to 4,999 employees</td><td></td></tr><tr><th>11</th><td>CompanyType</td><td></td><td>Government agency or public school/university</td><td></td></tr><tr><th>12</th><td>YearsProgram</td><td></td><td>1 to 2 years</td><td></td></tr><tr><th>13</th><td>YearsCodedJob</td><td></td><td>1 to 2 years</td><td></td></tr><tr><th>14</th><td>YearsCodedJobPast</td><td></td><td>1 to 2 years</td><td></td></tr><tr><th>15</th><td>DeveloperType</td><td></td><td>Data scientist</td><td></td></tr><tr><th>16</th><td>WebDeveloperType</td><td></td><td>Back-end Web developer</td><td></td></tr><tr><th>17</th><td>MobileDeveloperType</td><td></td><td>Android</td><td></td></tr><tr><th>18</th><td>NonDeveloperType</td><td></td><td></td><td></td></tr><tr><th>19</th><td>CareerSatisfaction</td><td>7.53491</td><td>0</td><td>8.0</td></tr><tr><th>20</th><td>JobSatisfaction</td><td>7.02482</td><td>0</td><td>7.0</td></tr><tr><th>21</th><td>ExCoderReturn</td><td></td><td>Strongly disagree</td><td></td></tr><tr><th>22</th><td>ExCoderNotForMe</td><td></td><td></td><td></td></tr><tr><th>23</th><td>ExCoderBalance</td><td></td><td></td><td></td></tr><tr><th>24</th><td>ExCoder10Years</td><td></td><td>Disagree</td><td></td></tr><tr><th>&vellip;</th><td>&vellip;</td><td>&vellip;</td><td>&vellip;</td><td>&vellip;</td></tr></tbody></table></div>"
      ],
      "text/latex": [
       "\\begin{tabular}{r|ccccc}\n",
       "\t& variable & mean & min & median & \\\\\n",
       "\t\\hline\n",
       "\t& Symbol & Union… & Any & Union… & \\\\\n",
       "\t\\hline\n",
       "\t1 & Respondent & 9245.04 & 3 & 9679.0 & $\\dots$ \\\\\n",
       "\t2 & Professional &  & Professional developer &  & $\\dots$ \\\\\n",
       "\t3 & ProgramHobby &  & No &  & $\\dots$ \\\\\n",
       "\t4 & Country &  & Afghanistan &  & $\\dots$ \\\\\n",
       "\t5 & University &  & I prefer not to say &  & $\\dots$ \\\\\n",
       "\t6 & EmploymentStatus &  & Employed full-time &  & $\\dots$ \\\\\n",
       "\t7 & FormalEducation &  & Bachelor's degree &  & $\\dots$ \\\\\n",
       "\t8 & MajorUndergrad &  & A business discipline &  & $\\dots$ \\\\\n",
       "\t9 & HomeRemote &  & A few days each month &  & $\\dots$ \\\\\n",
       "\t10 & CompanySize &  & 1,000 to 4,999 employees &  & $\\dots$ \\\\\n",
       "\t11 & CompanyType &  & Government agency or public school/university &  & $\\dots$ \\\\\n",
       "\t12 & YearsProgram &  & 1 to 2 years &  & $\\dots$ \\\\\n",
       "\t13 & YearsCodedJob &  & 1 to 2 years &  & $\\dots$ \\\\\n",
       "\t14 & YearsCodedJobPast &  & 1 to 2 years &  & $\\dots$ \\\\\n",
       "\t15 & DeveloperType &  & Data scientist &  & $\\dots$ \\\\\n",
       "\t16 & WebDeveloperType &  & Back-end Web developer &  & $\\dots$ \\\\\n",
       "\t17 & MobileDeveloperType &  & Android &  & $\\dots$ \\\\\n",
       "\t18 & NonDeveloperType &  &  &  & $\\dots$ \\\\\n",
       "\t19 & CareerSatisfaction & 7.53491 & 0 & 8.0 & $\\dots$ \\\\\n",
       "\t20 & JobSatisfaction & 7.02482 & 0 & 7.0 & $\\dots$ \\\\\n",
       "\t21 & ExCoderReturn &  & Strongly disagree &  & $\\dots$ \\\\\n",
       "\t22 & ExCoderNotForMe &  &  &  & $\\dots$ \\\\\n",
       "\t23 & ExCoderBalance &  &  &  & $\\dots$ \\\\\n",
       "\t24 & ExCoder10Years &  & Disagree &  & $\\dots$ \\\\\n",
       "\t$\\dots$ & $\\dots$ & $\\dots$ & $\\dots$ & $\\dots$ &  \\\\\n",
       "\\end{tabular}\n"
      ],
      "text/plain": [
       "\u001b[1m154×7 DataFrame\u001b[0m\n",
       "\u001b[1m Row \u001b[0m│\u001b[1m variable                \u001b[0m\u001b[1m mean    \u001b[0m\u001b[1m min                               \u001b[0m\u001b[1m me\u001b[0m ⋯\n",
       "\u001b[1m     \u001b[0m│\u001b[90m Symbol                  \u001b[0m\u001b[90m Union…  \u001b[0m\u001b[90m Any                               \u001b[0m\u001b[90m Un\u001b[0m ⋯\n",
       "─────┼──────────────────────────────────────────────────────────────────────────\n",
       "   1 │ Respondent               9245.04  3                                  96 ⋯\n",
       "   2 │ Professional            \u001b[90m         \u001b[0m Professional developer            \u001b[90m\u001b[0m\n",
       "   3 │ ProgramHobby            \u001b[90m         \u001b[0m No                                \u001b[90m\u001b[0m\n",
       "   4 │ Country                 \u001b[90m         \u001b[0m Afghanistan                       \u001b[90m\u001b[0m\n",
       "   5 │ University              \u001b[90m         \u001b[0m I prefer not to say               \u001b[90m   \u001b[0m ⋯\n",
       "   6 │ EmploymentStatus        \u001b[90m         \u001b[0m Employed full-time                \u001b[90m\u001b[0m\n",
       "   7 │ FormalEducation         \u001b[90m         \u001b[0m Bachelor's degree                 \u001b[90m\u001b[0m\n",
       "   8 │ MajorUndergrad          \u001b[90m         \u001b[0m A business discipline             \u001b[90m\u001b[0m\n",
       "  ⋮  │            ⋮                ⋮                     ⋮                     ⋱\n",
       " 148 │ Race                    \u001b[90m         \u001b[0m Black or of African descent       \u001b[90m   \u001b[0m ⋯\n",
       " 149 │ SurveyLong              \u001b[90m         \u001b[0m Agree                             \u001b[90m\u001b[0m\n",
       " 150 │ QuestionsInteresting    \u001b[90m         \u001b[0m Agree                             \u001b[90m\u001b[0m\n",
       " 151 │ QuestionsConfusing      \u001b[90m         \u001b[0m Agree                             \u001b[90m\u001b[0m\n",
       " 152 │ InterestedAnswers       \u001b[90m         \u001b[0m Agree                             \u001b[90m   \u001b[0m ⋯\n",
       " 153 │ Salary                   58341.4  0.0                                51\n",
       " 154 │ ExpectedSalary           NaN     \u001b[90m                                   \u001b[0m\u001b[90m\u001b[0m\n",
       "\u001b[36m                                                  4 columns and 139 rows omitted\u001b[0m"
      ]
     },
     "metadata": {},
     "output_type": "display_data"
    }
   ],
   "source": [
    "describe(df)"
   ]
  },
  {
   "cell_type": "code",
   "execution_count": 8,
   "metadata": {},
   "outputs": [
    {
     "name": "stdout",
     "output_type": "stream",
     "text": [
      "154\n"
     ]
    },
    {
     "name": "stdout",
     "output_type": "stream",
     "text": [
      "30\n",
      "2\n"
     ]
    }
   ],
   "source": [
    "# d = Dict(names(df) .=> string(eltype.(eachcol(df))))\n",
    "println(length(names(df)))\n",
    "df_string = names(df[!,[i for i in names(df) if Base.nonmissingtype(eltype(df[!,i])) <: String]])\n",
    "println(length(df_string))\n",
    "df_number = names(df[!,[i for i in names(df) if Base.nonmissingtype(eltype(df[!,i])) <: AbstractFloat]])\n",
    "println(length(df_number))"
   ]
  }
 ],
 "metadata": {
  "kernelspec": {
   "display_name": "Julia 1.6.3",
   "language": "julia",
   "name": "julia-1.6"
  },
  "language_info": {
   "file_extension": ".jl",
   "mimetype": "application/julia",
   "name": "julia",
   "version": "1.6.3"
  },
  "orig_nbformat": 4
 },
 "nbformat": 4,
 "nbformat_minor": 2
}
