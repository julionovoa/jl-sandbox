{
 "cells": [
  {
   "cell_type": "code",
   "execution_count": 4,
   "metadata": {},
   "outputs": [],
   "source": [
    "using DataFrames, DataFramesMeta\n",
    "using CSV\n",
    "using MLJ"
   ]
  },
  {
   "cell_type": "code",
   "execution_count": 7,
   "metadata": {},
   "outputs": [
    {
     "name": "stderr",
     "output_type": "stream",
     "text": [
      "┌ Warning: thread = 1 warning: only found 31 / 154 columns around data row: 19102. Filling remaining columns with `missing`\n",
      "└ @ CSV C:\\Users\\julio\\.julia\\packages\\CSV\\9LsxT\\src\\file.jl:634\n"
     ]
    },
    {
     "data": {
      "text/html": [
       "<div class=\"data-frame\"><p>5,009 rows × 154 columns (omitted printing of 149 columns)</p><table class=\"data-frame\"><thead><tr><th></th><th>Respondent</th><th>Professional</th><th>ProgramHobby</th><th>Country</th><th>University</th></tr><tr><th></th><th title=\"Int64\">Int64</th><th title=\"String63\">String63</th><th title=\"String63\">String63</th><th title=\"String31\">String31</th><th title=\"String31\">String31</th></tr></thead><tbody><tr><th>1</th><td>3</td><td>Professional developer</td><td>Yes, both</td><td>United Kingdom</td><td>No</td></tr><tr><th>2</th><td>15</td><td>Professional developer</td><td>Yes, I program as a hobby</td><td>United Kingdom</td><td>No</td></tr><tr><th>3</th><td>18</td><td>Professional developer</td><td>Yes, both</td><td>United States</td><td>Yes, part-time</td></tr><tr><th>4</th><td>19</td><td>Professional developer</td><td>Yes, I program as a hobby</td><td>United States</td><td>No</td></tr><tr><th>5</th><td>23</td><td>Professional developer</td><td>No</td><td>Israel</td><td>No</td></tr><tr><th>6</th><td>26</td><td>Professional developer</td><td>Yes, I program as a hobby</td><td>United States</td><td>No</td></tr><tr><th>7</th><td>35</td><td>Professional developer</td><td>Yes, I program as a hobby</td><td>Croatia</td><td>Yes, full-time</td></tr><tr><th>8</th><td>37</td><td>Professional developer</td><td>Yes, I program as a hobby</td><td>Argentina</td><td>No</td></tr><tr><th>9</th><td>38</td><td>Professional developer</td><td>Yes, both</td><td>Germany</td><td>No</td></tr><tr><th>10</th><td>53</td><td>Professional developer</td><td>Yes, I program as a hobby</td><td>Brazil</td><td>No</td></tr><tr><th>11</th><td>55</td><td>Professional developer</td><td>No</td><td>Germany</td><td>No</td></tr><tr><th>12</th><td>58</td><td>Professional developer</td><td>Yes, both</td><td>Italy</td><td>No</td></tr><tr><th>13</th><td>62</td><td>Professional developer</td><td>Yes, I program as a hobby</td><td>India</td><td>No</td></tr><tr><th>14</th><td>65</td><td>Professional developer</td><td>No</td><td>Netherlands</td><td>No</td></tr><tr><th>15</th><td>66</td><td>Professional developer</td><td>Yes, I program as a hobby</td><td>Poland</td><td>No</td></tr><tr><th>16</th><td>70</td><td>Professional developer</td><td>Yes, I program as a hobby</td><td>Spain</td><td>No</td></tr><tr><th>17</th><td>71</td><td>Professional developer</td><td>Yes, I program as a hobby</td><td>United States</td><td>No</td></tr><tr><th>18</th><td>73</td><td>Professional developer</td><td>Yes, both</td><td>United States</td><td>No</td></tr><tr><th>19</th><td>76</td><td>Professional developer</td><td>Yes, both</td><td>France</td><td>No</td></tr><tr><th>20</th><td>77</td><td>Professional developer</td><td>Yes, both</td><td>United States</td><td>No</td></tr><tr><th>21</th><td>82</td><td>Professional developer</td><td>Yes, I program as a hobby</td><td>United States</td><td>No</td></tr><tr><th>22</th><td>84</td><td>Professional developer</td><td>Yes, both</td><td>United States</td><td>No</td></tr><tr><th>23</th><td>90</td><td>Professional developer</td><td>Yes, I program as a hobby</td><td>Brazil</td><td>No</td></tr><tr><th>24</th><td>91</td><td>Professional developer</td><td>Yes, both</td><td>Croatia</td><td>No</td></tr><tr><th>&vellip;</th><td>&vellip;</td><td>&vellip;</td><td>&vellip;</td><td>&vellip;</td><td>&vellip;</td></tr></tbody></table></div>"
      ],
      "text/latex": [
       "\\begin{tabular}{r|cccccc}\n",
       "\t& Respondent & Professional & ProgramHobby & Country & University & \\\\\n",
       "\t\\hline\n",
       "\t& Int64 & String63 & String63 & String31 & String31 & \\\\\n",
       "\t\\hline\n",
       "\t1 & 3 & Professional developer & Yes, both & United Kingdom & No & $\\dots$ \\\\\n",
       "\t2 & 15 & Professional developer & Yes, I program as a hobby & United Kingdom & No & $\\dots$ \\\\\n",
       "\t3 & 18 & Professional developer & Yes, both & United States & Yes, part-time & $\\dots$ \\\\\n",
       "\t4 & 19 & Professional developer & Yes, I program as a hobby & United States & No & $\\dots$ \\\\\n",
       "\t5 & 23 & Professional developer & No & Israel & No & $\\dots$ \\\\\n",
       "\t6 & 26 & Professional developer & Yes, I program as a hobby & United States & No & $\\dots$ \\\\\n",
       "\t7 & 35 & Professional developer & Yes, I program as a hobby & Croatia & Yes, full-time & $\\dots$ \\\\\n",
       "\t8 & 37 & Professional developer & Yes, I program as a hobby & Argentina & No & $\\dots$ \\\\\n",
       "\t9 & 38 & Professional developer & Yes, both & Germany & No & $\\dots$ \\\\\n",
       "\t10 & 53 & Professional developer & Yes, I program as a hobby & Brazil & No & $\\dots$ \\\\\n",
       "\t11 & 55 & Professional developer & No & Germany & No & $\\dots$ \\\\\n",
       "\t12 & 58 & Professional developer & Yes, both & Italy & No & $\\dots$ \\\\\n",
       "\t13 & 62 & Professional developer & Yes, I program as a hobby & India & No & $\\dots$ \\\\\n",
       "\t14 & 65 & Professional developer & No & Netherlands & No & $\\dots$ \\\\\n",
       "\t15 & 66 & Professional developer & Yes, I program as a hobby & Poland & No & $\\dots$ \\\\\n",
       "\t16 & 70 & Professional developer & Yes, I program as a hobby & Spain & No & $\\dots$ \\\\\n",
       "\t17 & 71 & Professional developer & Yes, I program as a hobby & United States & No & $\\dots$ \\\\\n",
       "\t18 & 73 & Professional developer & Yes, both & United States & No & $\\dots$ \\\\\n",
       "\t19 & 76 & Professional developer & Yes, both & France & No & $\\dots$ \\\\\n",
       "\t20 & 77 & Professional developer & Yes, both & United States & No & $\\dots$ \\\\\n",
       "\t21 & 82 & Professional developer & Yes, I program as a hobby & United States & No & $\\dots$ \\\\\n",
       "\t22 & 84 & Professional developer & Yes, both & United States & No & $\\dots$ \\\\\n",
       "\t23 & 90 & Professional developer & Yes, I program as a hobby & Brazil & No & $\\dots$ \\\\\n",
       "\t24 & 91 & Professional developer & Yes, both & Croatia & No & $\\dots$ \\\\\n",
       "\t$\\dots$ & $\\dots$ & $\\dots$ & $\\dots$ & $\\dots$ & $\\dots$ &  \\\\\n",
       "\\end{tabular}\n"
      ],
      "text/plain": [
       "\u001b[1m5009×154 DataFrame\u001b[0m\n",
       "\u001b[1m  Row \u001b[0m│\u001b[1m Respondent \u001b[0m\u001b[1m Professional           \u001b[0m\u001b[1m ProgramHobby              \u001b[0m\u001b[1m Country\u001b[0m ⋯\n",
       "\u001b[1m      \u001b[0m│\u001b[90m Int64      \u001b[0m\u001b[90m String63               \u001b[0m\u001b[90m String63                  \u001b[0m\u001b[90m String3\u001b[0m ⋯\n",
       "──────┼─────────────────────────────────────────────────────────────────────────\n",
       "    1 │          3  Professional developer  Yes, both                  United  ⋯\n",
       "    2 │         15  Professional developer  Yes, I program as a hobby  United\n",
       "    3 │         18  Professional developer  Yes, both                  United\n",
       "    4 │         19  Professional developer  Yes, I program as a hobby  United\n",
       "    5 │         23  Professional developer  No                         Israel  ⋯\n",
       "    6 │         26  Professional developer  Yes, I program as a hobby  United\n",
       "    7 │         35  Professional developer  Yes, I program as a hobby  Croatia\n",
       "    8 │         37  Professional developer  Yes, I program as a hobby  Argenti\n",
       "  ⋮   │     ⋮                 ⋮                         ⋮                    ⋮ ⋱\n",
       " 5003 │      19056  Professional developer  Yes, both                  United  ⋯\n",
       " 5004 │      19074  Professional developer  Yes, I program as a hobby  United\n",
       " 5005 │      19080  Professional developer  Yes, I program as a hobby  United\n",
       " 5006 │      19087  Professional developer  No                         Germany\n",
       " 5007 │      19089  Professional developer  Yes, I program as a hobby  United  ⋯\n",
       " 5008 │      19090  Professional developer  Yes, I program as a hobby  United\n",
       " 5009 │      19101  Professional developer  Yes, I program as a hobby  United\n",
       "\u001b[36m                                               151 columns and 4994 rows omitted\u001b[0m"
      ]
     },
     "metadata": {},
     "output_type": "display_data"
    }
   ],
   "source": [
    "\n",
    "df = CSV.read(\"../data/survey_results_public.csv\", missingstring = \"NA\", DataFrame) |>\n",
    "     x -> dropmissing(x, :Salary)"
   ]
  }
 ],
 "metadata": {
  "kernelspec": {
   "display_name": "Julia 1.6.3",
   "language": "julia",
   "name": "julia-1.6"
  },
  "language_info": {
   "file_extension": ".jl",
   "mimetype": "application/julia",
   "name": "julia",
   "version": "1.6.3"
  },
  "orig_nbformat": 4
 },
 "nbformat": 4,
 "nbformat_minor": 2
}
