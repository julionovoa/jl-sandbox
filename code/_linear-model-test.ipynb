{
 "cells": [
  {
   "cell_type": "code",
   "execution_count": 4,
   "metadata": {},
   "outputs": [],
   "source": [
    "using DataFrames, DataFramesMeta\n",
    "using CSV\n",
    "using MLJ"
   ]
  },
  {
   "cell_type": "code",
   "execution_count": 7,
   "metadata": {},
   "outputs": [
    {
     "name": "stderr",
     "output_type": "stream",
     "text": [
      "┌ Warning: thread = 1 warning: only found 31 / 154 columns around data row: 19102. Filling remaining columns with `missing`\n",
      "└ @ CSV C:\\Users\\julio\\.julia\\packages\\CSV\\9LsxT\\src\\file.jl:634\n"
     ]
    },
    {
     "data": {
      "text/html": [
       "<div class=\"data-frame\"><p>5,009 rows × 154 columns (omitted printing of 149 columns)</p><table class=\"data-frame\"><thead><tr><th></th><th>Respondent</th><th>Professional</th><th>ProgramHobby</th><th>Country</th><th>University</th></tr><tr><th></th><th title=\"Int64\">Int64</th><th title=\"String63\">String63</th><th title=\"String63\">String63</th><th title=\"String31\">String31</th><th title=\"String31\">String31</th></tr></thead><tbody><tr><th>1</th><td>3</td><td>Professional developer</td><td>Yes, both</td><td>United Kingdom</td><td>No</td></tr><tr><th>2</th><td>15</td><td>Professional developer</td><td>Yes, I program as a hobby</td><td>United Kingdom</td><td>No</td></tr><tr><th>3</th><td>18</td><td>Professional developer</td><td>Yes, both</td><td>United States</td><td>Yes, part-time</td></tr><tr><th>4</th><td>19</td><td>Professional developer</td><td>Yes, I program as a hobby</td><td>United States</td><td>No</td></tr><tr><th>5</th><td>23</td><td>Professional developer</td><td>No</td><td>Israel</td><td>No</td></tr><tr><th>6</th><td>26</td><td>Professional developer</td><td>Yes, I program as a hobby</td><td>United States</td><td>No</td></tr><tr><th>7</th><td>35</td><td>Professional developer</td><td>Yes, I program as a hobby</td><td>Croatia</td><td>Yes, full-time</td></tr><tr><th>8</th><td>37</td><td>Professional developer</td><td>Yes, I program as a hobby</td><td>Argentina</td><td>No</td></tr><tr><th>9</th><td>38</td><td>Professional developer</td><td>Yes, both</td><td>Germany</td><td>No</td></tr><tr><th>10</th><td>53</td><td>Professional developer</td><td>Yes, I program as a hobby</td><td>Brazil</td><td>No</td></tr><tr><th>11</th><td>55</td><td>Professional developer</td><td>No</td><td>Germany</td><td>No</td></tr><tr><th>12</th><td>58</td><td>Professional developer</td><td>Yes, both</td><td>Italy</td><td>No</td></tr><tr><th>13</th><td>62</td><td>Professional developer</td><td>Yes, I program as a hobby</td><td>India</td><td>No</td></tr><tr><th>14</th><td>65</td><td>Professional developer</td><td>No</td><td>Netherlands</td><td>No</td></tr><tr><th>15</th><td>66</td><td>Professional developer</td><td>Yes, I program as a hobby</td><td>Poland</td><td>No</td></tr><tr><th>16</th><td>70</td><td>Professional developer</td><td>Yes, I program as a hobby</td><td>Spain</td><td>No</td></tr><tr><th>17</th><td>71</td><td>Professional developer</td><td>Yes, I program as a hobby</td><td>United States</td><td>No</td></tr><tr><th>18</th><td>73</td><td>Professional developer</td><td>Yes, both</td><td>United States</td><td>No</td></tr><tr><th>19</th><td>76</td><td>Professional developer</td><td>Yes, both</td><td>France</td><td>No</td></tr><tr><th>20</th><td>77</td><td>Professional developer</td><td>Yes, both</td><td>United States</td><td>No</td></tr><tr><th>21</th><td>82</td><td>Professional developer</td><td>Yes, I program as a hobby</td><td>United States</td><td>No</td></tr><tr><th>22</th><td>84</td><td>Professional developer</td><td>Yes, both</td><td>United States</td><td>No</td></tr><tr><th>23</th><td>90</td><td>Professional developer</td><td>Yes, I program as a hobby</td><td>Brazil</td><td>No</td></tr><tr><th>24</th><td>91</td><td>Professional developer</td><td>Yes, both</td><td>Croatia</td><td>No</td></tr><tr><th>&vellip;</th><td>&vellip;</td><td>&vellip;</td><td>&vellip;</td><td>&vellip;</td><td>&vellip;</td></tr></tbody></table></div>"
      ],
      "text/latex": [
       "\\begin{tabular}{r|cccccc}\n",
       "\t& Respondent & Professional & ProgramHobby & Country & University & \\\\\n",
       "\t\\hline\n",
       "\t& Int64 & String63 & String63 & String31 & String31 & \\\\\n",
       "\t\\hline\n",
       "\t1 & 3 & Professional developer & Yes, both & United Kingdom & No & $\\dots$ \\\\\n",
       "\t2 & 15 & Professional developer & Yes, I program as a hobby & United Kingdom & No & $\\dots$ \\\\\n",
       "\t3 & 18 & Professional developer & Yes, both & United States & Yes, part-time & $\\dots$ \\\\\n",
       "\t4 & 19 & Professional developer & Yes, I program as a hobby & United States & No & $\\dots$ \\\\\n",
       "\t5 & 23 & Professional developer & No & Israel & No & $\\dots$ \\\\\n",
       "\t6 & 26 & Professional developer & Yes, I program as a hobby & United States & No & $\\dots$ \\\\\n",
       "\t7 & 35 & Professional developer & Yes, I program as a hobby & Croatia & Yes, full-time & $\\dots$ \\\\\n",
       "\t8 & 37 & Professional developer & Yes, I program as a hobby & Argentina & No & $\\dots$ \\\\\n",
       "\t9 & 38 & Professional developer & Yes, both & Germany & No & $\\dots$ \\\\\n",
       "\t10 & 53 & Professional developer & Yes, I program as a hobby & Brazil & No & $\\dots$ \\\\\n",
       "\t11 & 55 & Professional developer & No & Germany & No & $\\dots$ \\\\\n",
       "\t12 & 58 & Professional developer & Yes, both & Italy & No & $\\dots$ \\\\\n",
       "\t13 & 62 & Professional developer & Yes, I program as a hobby & India & No & $\\dots$ \\\\\n",
       "\t14 & 65 & Professional developer & No & Netherlands & No & $\\dots$ \\\\\n",
       "\t15 & 66 & Professional developer & Yes, I program as a hobby & Poland & No & $\\dots$ \\\\\n",
       "\t16 & 70 & Professional developer & Yes, I program as a hobby & Spain & No & $\\dots$ \\\\\n",
       "\t17 & 71 & Professional developer & Yes, I program as a hobby & United States & No & $\\dots$ \\\\\n",
       "\t18 & 73 & Professional developer & Yes, both & United States & No & $\\dots$ \\\\\n",
       "\t19 & 76 & Professional developer & Yes, both & France & No & $\\dots$ \\\\\n",
       "\t20 & 77 & Professional developer & Yes, both & United States & No & $\\dots$ \\\\\n",
       "\t21 & 82 & Professional developer & Yes, I program as a hobby & United States & No & $\\dots$ \\\\\n",
       "\t22 & 84 & Professional developer & Yes, both & United States & No & $\\dots$ \\\\\n",
       "\t23 & 90 & Professional developer & Yes, I program as a hobby & Brazil & No & $\\dots$ \\\\\n",
       "\t24 & 91 & Professional developer & Yes, both & Croatia & No & $\\dots$ \\\\\n",
       "\t$\\dots$ & $\\dots$ & $\\dots$ & $\\dots$ & $\\dots$ & $\\dots$ &  \\\\\n",
       "\\end{tabular}\n"
      ],
      "text/plain": [
       "\u001b[1m5009×154 DataFrame\u001b[0m\n",
       "\u001b[1m  Row \u001b[0m│\u001b[1m Respondent \u001b[0m\u001b[1m Professional           \u001b[0m\u001b[1m ProgramHobby              \u001b[0m\u001b[1m Country\u001b[0m ⋯\n",
       "\u001b[1m      \u001b[0m│\u001b[90m Int64      \u001b[0m\u001b[90m String63               \u001b[0m\u001b[90m String63                  \u001b[0m\u001b[90m String3\u001b[0m ⋯\n",
       "──────┼─────────────────────────────────────────────────────────────────────────\n",
       "    1 │          3  Professional developer  Yes, both                  United  ⋯\n",
       "    2 │         15  Professional developer  Yes, I program as a hobby  United\n",
       "    3 │         18  Professional developer  Yes, both                  United\n",
       "    4 │         19  Professional developer  Yes, I program as a hobby  United\n",
       "    5 │         23  Professional developer  No                         Israel  ⋯\n",
       "    6 │         26  Professional developer  Yes, I program as a hobby  United\n",
       "    7 │         35  Professional developer  Yes, I program as a hobby  Croatia\n",
       "    8 │         37  Professional developer  Yes, I program as a hobby  Argenti\n",
       "  ⋮   │     ⋮                 ⋮                         ⋮                    ⋮ ⋱\n",
       " 5003 │      19056  Professional developer  Yes, both                  United  ⋯\n",
       " 5004 │      19074  Professional developer  Yes, I program as a hobby  United\n",
       " 5005 │      19080  Professional developer  Yes, I program as a hobby  United\n",
       " 5006 │      19087  Professional developer  No                         Germany\n",
       " 5007 │      19089  Professional developer  Yes, I program as a hobby  United  ⋯\n",
       " 5008 │      19090  Professional developer  Yes, I program as a hobby  United\n",
       " 5009 │      19101  Professional developer  Yes, I program as a hobby  United\n",
       "\u001b[36m                                               151 columns and 4994 rows omitted\u001b[0m"
      ]
     },
     "metadata": {},
     "output_type": "display_data"
    }
   ],
   "source": [
    "\n",
    "df = CSV.read(\"../data/survey_results_public.csv\", missingstring = \"NA\", DataFrame) |>\n",
    "     x -> dropmissing(x, :Salary)"
   ]
  },
  {
   "cell_type": "code",
   "execution_count": 8,
   "metadata": {},
   "outputs": [
    {
     "data": {
      "text/html": [
       "<div class=\"data-frame\"><p>154 rows × 2 columns</p><table class=\"data-frame\"><thead><tr><th></th><th>variable</th><th>nmissing</th></tr><tr><th></th><th title=\"Symbol\">Symbol</th><th title=\"Int64\">Int64</th></tr></thead><tbody><tr><th>1</th><td>Respondent</td><td>0</td></tr><tr><th>2</th><td>Professional</td><td>0</td></tr><tr><th>3</th><td>ProgramHobby</td><td>0</td></tr><tr><th>4</th><td>Country</td><td>0</td></tr><tr><th>5</th><td>University</td><td>0</td></tr><tr><th>6</th><td>EmploymentStatus</td><td>0</td></tr><tr><th>7</th><td>FormalEducation</td><td>0</td></tr><tr><th>8</th><td>MajorUndergrad</td><td>375</td></tr><tr><th>9</th><td>HomeRemote</td><td>5</td></tr><tr><th>10</th><td>CompanySize</td><td>8</td></tr><tr><th>11</th><td>CompanyType</td><td>16</td></tr><tr><th>12</th><td>YearsProgram</td><td>6</td></tr><tr><th>13</th><td>YearsCodedJob</td><td>31</td></tr><tr><th>14</th><td>YearsCodedJobPast</td><td>5007</td></tr><tr><th>15</th><td>DeveloperType</td><td>1</td></tr><tr><th>16</th><td>WebDeveloperType</td><td>3390</td></tr><tr><th>17</th><td>MobileDeveloperType</td><td>4803</td></tr><tr><th>18</th><td>NonDeveloperType</td><td>5009</td></tr><tr><th>19</th><td>CareerSatisfaction</td><td>10</td></tr><tr><th>20</th><td>JobSatisfaction</td><td>14</td></tr><tr><th>21</th><td>ExCoderReturn</td><td>5008</td></tr><tr><th>22</th><td>ExCoderNotForMe</td><td>5009</td></tr><tr><th>23</th><td>ExCoderBalance</td><td>5009</td></tr><tr><th>24</th><td>ExCoder10Years</td><td>5008</td></tr><tr><th>&vellip;</th><td>&vellip;</td><td>&vellip;</td></tr></tbody></table></div>"
      ],
      "text/latex": [
       "\\begin{tabular}{r|cc}\n",
       "\t& variable & nmissing\\\\\n",
       "\t\\hline\n",
       "\t& Symbol & Int64\\\\\n",
       "\t\\hline\n",
       "\t1 & Respondent & 0 \\\\\n",
       "\t2 & Professional & 0 \\\\\n",
       "\t3 & ProgramHobby & 0 \\\\\n",
       "\t4 & Country & 0 \\\\\n",
       "\t5 & University & 0 \\\\\n",
       "\t6 & EmploymentStatus & 0 \\\\\n",
       "\t7 & FormalEducation & 0 \\\\\n",
       "\t8 & MajorUndergrad & 375 \\\\\n",
       "\t9 & HomeRemote & 5 \\\\\n",
       "\t10 & CompanySize & 8 \\\\\n",
       "\t11 & CompanyType & 16 \\\\\n",
       "\t12 & YearsProgram & 6 \\\\\n",
       "\t13 & YearsCodedJob & 31 \\\\\n",
       "\t14 & YearsCodedJobPast & 5007 \\\\\n",
       "\t15 & DeveloperType & 1 \\\\\n",
       "\t16 & WebDeveloperType & 3390 \\\\\n",
       "\t17 & MobileDeveloperType & 4803 \\\\\n",
       "\t18 & NonDeveloperType & 5009 \\\\\n",
       "\t19 & CareerSatisfaction & 10 \\\\\n",
       "\t20 & JobSatisfaction & 14 \\\\\n",
       "\t21 & ExCoderReturn & 5008 \\\\\n",
       "\t22 & ExCoderNotForMe & 5009 \\\\\n",
       "\t23 & ExCoderBalance & 5009 \\\\\n",
       "\t24 & ExCoder10Years & 5008 \\\\\n",
       "\t$\\dots$ & $\\dots$ & $\\dots$ \\\\\n",
       "\\end{tabular}\n"
      ],
      "text/plain": [
       "\u001b[1m154×2 DataFrame\u001b[0m\n",
       "\u001b[1m Row \u001b[0m│\u001b[1m variable                \u001b[0m\u001b[1m nmissing \u001b[0m\n",
       "\u001b[1m     \u001b[0m│\u001b[90m Symbol                  \u001b[0m\u001b[90m Int64    \u001b[0m\n",
       "─────┼───────────────────────────────────\n",
       "   1 │ Respondent                      0\n",
       "   2 │ Professional                    0\n",
       "   3 │ ProgramHobby                    0\n",
       "   4 │ Country                         0\n",
       "   5 │ University                      0\n",
       "   6 │ EmploymentStatus                0\n",
       "   7 │ FormalEducation                 0\n",
       "   8 │ MajorUndergrad                375\n",
       "  ⋮  │            ⋮                ⋮\n",
       " 148 │ Race                          592\n",
       " 149 │ SurveyLong                    475\n",
       " 150 │ QuestionsInteresting          490\n",
       " 151 │ QuestionsConfusing            487\n",
       " 152 │ InterestedAnswers             479\n",
       " 153 │ Salary                          0\n",
       " 154 │ ExpectedSalary               5009\n",
       "\u001b[36m                         139 rows omitted\u001b[0m"
      ]
     },
     "metadata": {},
     "output_type": "display_data"
    }
   ],
   "source": [
    "describe(df, :nmissing)"
   ]
  },
  {
   "cell_type": "code",
   "execution_count": 9,
   "metadata": {},
   "outputs": [
    {
     "name": "stdout",
     "output_type": "stream",
     "text": [
      "154"
     ]
    },
    {
     "name": "stdout",
     "output_type": "stream",
     "text": [
      "\n",
      "30\n",
      "2\n"
     ]
    }
   ],
   "source": [
    "# d = Dict(names(df) .=> string(eltype.(eachcol(df))))\n",
    "println(length(names(df)))\n",
    "df_string = names(df[!,[i for i in names(df) if Base.nonmissingtype(eltype(df[!,i])) <: String]])\n",
    "println(length(df_string))\n",
    "df_number = names(df[!,[i for i in names(df) if Base.nonmissingtype(eltype(df[!,i])) <: AbstractFloat]])\n",
    "println(length(df_number))"
   ]
  }
 ],
 "metadata": {
  "kernelspec": {
   "display_name": "Julia 1.6.3",
   "language": "julia",
   "name": "julia-1.6"
  },
  "language_info": {
   "file_extension": ".jl",
   "mimetype": "application/julia",
   "name": "julia",
   "version": "1.6.3"
  },
  "orig_nbformat": 4
 },
 "nbformat": 4,
 "nbformat_minor": 2
}
