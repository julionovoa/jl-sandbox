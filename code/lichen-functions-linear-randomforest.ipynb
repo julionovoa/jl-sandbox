{
 "cells": [
  {
   "cell_type": "code",
   "execution_count": 1,
   "metadata": {},
   "outputs": [],
   "source": [
    "using CairoMakie\n",
    "using CSV\n",
    "using DataFrames\n",
    "using MLJ\n",
    "using MLJBase"
   ]
  },
  {
   "cell_type": "code",
   "execution_count": 21,
   "metadata": {},
   "outputs": [
    {
     "data": {
      "text/plain": [
       "get_data (generic function with 3 methods)"
      ]
     },
     "metadata": {},
     "output_type": "display_data"
    }
   ],
   "source": [
    "# Import and unpack training dataset function\n",
    "function get_data(csv_path, col_names, new_col_names)\n",
    "    df = CSV.read(csv_path, DataFrame, missingstring=\"NA\") |>\n",
    "    x -> DataFrames.select(x, col_names) |>\n",
    "    x -> rename(x, new_col_names) |>\n",
    "    dropmissing |>\n",
    "    x -> coerce(x, :pl=>Continuous, :sx=>Continuous, :snr=>Multiclass, :smr=>Multiclass)\n",
    "    # Split predictors/responde variable\n",
    "    y, X = unpack(df, ==(:biomass), _->true; rng=1010)\n",
    "    return y, X\n",
    "end\n"
   ]
  },
  {
   "cell_type": "code",
   "execution_count": 22,
   "metadata": {},
   "outputs": [
    {
     "data": {
      "text/plain": [
       "([2.43, 0.34, 1.72, 288.4, 1.49, 1917.77, 254.57, 3044.13, 1.55, 67.36  …  41.94, 3209.72, 294.86, 1.93, 794.04, 2.99, 523.83, 50.19, 1164.63, 21.75], \u001b[1m77×8 DataFrame\u001b[0m\n",
       "\u001b[1m Row \u001b[0m│\u001b[1m basalarea \u001b[0m\u001b[1m pl      \u001b[0m\u001b[1m lon      \u001b[0m\u001b[1m lat     \u001b[0m\u001b[1m south   \u001b[0m\u001b[1m snr  \u001b[0m\u001b[1m smr  \u001b[0m\u001b[1m sx      \u001b[0m\n",
       "\u001b[1m     \u001b[0m│\u001b[90m Float64   \u001b[0m\u001b[90m Float64 \u001b[0m\u001b[90m Float64  \u001b[0m\u001b[90m Float64 \u001b[0m\u001b[90m Float64 \u001b[0m\u001b[90m Cat… \u001b[0m\u001b[90m Cat… \u001b[0m\u001b[90m Float64 \u001b[0m\n",
       "─────┼─────────────────────────────────────────────────────────────────────\n",
       "   1 │     31.17     78.0  -124.62   56.2372     1.0   C     4         0.0\n",
       "   2 │     30.08     50.0  -125.133  56.0107     0.55  C     3         0.0\n",
       "   3 │     22.54      0.0  -124.625  55.4193     0.39  C     4        60.0\n",
       "   4 │     11.71     79.0  -125.446  56.0079     0.59  B     3         0.0\n",
       "   5 │     24.79     80.0  -125.487  55.7387     0.67  C     4         0.0\n",
       "   6 │     19.94    100.0  -124.691  55.6586     0.78  B     4         0.0\n",
       "   7 │     27.86      0.0  -125.83   55.807      0.96  B     4         0.0\n",
       "   8 │      2.49    100.0  -124.244  55.5477     0.43  C     3         0.0\n",
       "  ⋮  │     ⋮         ⋮        ⋮         ⋮        ⋮      ⋮     ⋮       ⋮\n",
       "  71 │     30.54      0.0  -124.33   55.3043     0.74  C     4         0.0\n",
       "  72 │     15.31    100.0  -125.229  55.9515     0.78  B     3         0.0\n",
       "  73 │     20.72     64.0  -125.393  56.0504     1.0   C     4         0.0\n",
       "  74 │     34.04     89.0  -124.681  55.6625     0.79  C     4         0.0\n",
       "  75 │     28.0      80.0  -125.68   55.7488     0.74  C     4         0.0\n",
       "  76 │      5.17      0.0  -124.158  55.5458     0.81  C     4         0.0\n",
       "  77 │     40.22     55.0  -124.551  56.1746     0.62  C     5         0.0\n",
       "\u001b[36m                                                            62 rows omitted\u001b[0m)"
      ]
     },
     "metadata": {},
     "output_type": "display_data"
    }
   ],
   "source": [
    "csv_path = \"C:/Users/julio/Downloads/lichen_training.csv\"\n",
    "col_names = [\"Total.lichen\", \"basal_area\", \"PL\", \"mean_Long\", \"mean_Lat\", \"Aspect_south\", \"SNR\", \"SMR\", \"SX\"]\n",
    "new_col_names = [\"biomass\", \"basalarea\", \"pl\", \"lon\", \"lat\", \"south\", \"snr\", \"smr\", \"sx\"]\n",
    "\n",
    "y, X = get_data(csv_path, col_names, new_col_names)"
   ]
  },
  {
   "cell_type": "code",
   "execution_count": 27,
   "metadata": {},
   "outputs": [
    {
     "ename": "LoadError",
     "evalue": "LoadError: UndefVarError: model not defined\nin expression starting at c:\\Users\\julio\\Desktop\\jl-sandbox\\code\\lichen-functions-linear-randomforest.ipynb:5",
     "output_type": "error",
     "traceback": [
      "LoadError: UndefVarError: model not defined\n",
      "in expression starting at c:\\Users\\julio\\Desktop\\jl-sandbox\\code\\lichen-functions-linear-randomforest.ipynb:5\n",
      "\n",
      "Stacktrace:\n",
      "  [1] top-level scope\n",
      "    @ none:1\n",
      "  [2] eval\n",
      "    @ .\\boot.jl:373 [inlined]\n",
      "  [3] eval(x::Expr)\n",
      "    @ Base.MainInclude .\\client.jl:453\n",
      "  [4] pipeline_preprocess(::Module, ::Symbol, ::Vararg{Any})\n",
      "    @ MLJBase C:\\Users\\julio\\.julia\\packages\\MLJBase\\QXObv\\src\\composition\\models\\pipelines.jl:288\n",
      "  [5] pipeline_(::Module, ::Symbol, ::Vararg{Any})\n",
      "    @ MLJBase C:\\Users\\julio\\.julia\\packages\\MLJBase\\QXObv\\src\\composition\\models\\pipelines.jl:417\n",
      "  [6] var\"@pipeline\"(__source__::LineNumberNode, __module__::Module, exs::Vararg{Any})\n",
      "    @ MLJBase C:\\Users\\julio\\.julia\\packages\\MLJBase\\QXObv\\src\\composition\\models\\pipelines.jl:541\n",
      "  [7] eval\n",
      "    @ .\\boot.jl:373 [inlined]\n",
      "  [8] include_string(mapexpr::typeof(REPL.softscope), mod::Module, code::String, filename::String)\n",
      "    @ Base .\\loading.jl:1196\n",
      "  [9] #invokelatest#2\n",
      "    @ .\\essentials.jl:716 [inlined]\n",
      " [10] invokelatest\n",
      "    @ .\\essentials.jl:714 [inlined]\n",
      " [11] (::VSCodeServer.var\"#150#151\"{VSCodeServer.NotebookRunCellArguments, String})()\n",
      "    @ VSCodeServer c:\\Users\\julio\\.vscode\\extensions\\julialang.language-julia-1.5.6\\scripts\\packages\\VSCodeServer\\src\\serve_notebook.jl:18\n",
      " [12] withpath(f::VSCodeServer.var\"#150#151\"{VSCodeServer.NotebookRunCellArguments, String}, path::String)\n",
      "    @ VSCodeServer c:\\Users\\julio\\.vscode\\extensions\\julialang.language-julia-1.5.6\\scripts\\packages\\VSCodeServer\\src\\repl.jl:185\n",
      " [13] notebook_runcell_request(conn::VSCodeServer.JSONRPC.JSONRPCEndpoint{Base.PipeEndpoint, Base.PipeEndpoint}, params::VSCodeServer.NotebookRunCellArguments)\n",
      "    @ VSCodeServer c:\\Users\\julio\\.vscode\\extensions\\julialang.language-julia-1.5.6\\scripts\\packages\\VSCodeServer\\src\\serve_notebook.jl:14\n",
      " [14] dispatch_msg(x::VSCodeServer.JSONRPC.JSONRPCEndpoint{Base.PipeEndpoint, Base.PipeEndpoint}, dispatcher::VSCodeServer.JSONRPC.MsgDispatcher, msg::Dict{String, Any})\n",
      "    @ VSCodeServer.JSONRPC c:\\Users\\julio\\.vscode\\extensions\\julialang.language-julia-1.5.6\\scripts\\packages\\JSONRPC\\src\\typed.jl:67\n",
      " [15] serve_notebook(pipename::String; crashreporting_pipename::String)\n",
      "    @ VSCodeServer c:\\Users\\julio\\.vscode\\extensions\\julialang.language-julia-1.5.6\\scripts\\packages\\VSCodeServer\\src\\serve_notebook.jl:94\n",
      " [16] top-level scope\n",
      "    @ c:\\Users\\julio\\.vscode\\extensions\\julialang.language-julia-1.5.6\\scripts\\notebook\\notebook.jl:12\n",
      " [17] include(mod::Module, _path::String)\n",
      "    @ Base .\\Base.jl:418\n",
      " [18] exec_options(opts::Base.JLOptions)\n",
      "    @ Base .\\client.jl:292\n",
      " [19] _start()\n",
      "    @ Base .\\client.jl:495"
     ]
    }
   ],
   "source": [
    "# Create a train a model\n",
    "function model_data(X, y)\n",
    "    # Load model and create pipeline\n",
    "    model = @load RandomForestRegressor pkg=DecisionTree verbosity=0\n",
    "    pipe = @pipeline Standardizer OneHotEncoder model target=v->log.(v) inverse=v->exp.(v)\n",
    "    # Create a machine\n",
    "    pipe.random_forest_regressor.n_trees = 50\n",
    "    m = machine(pipe, X, y)\n",
    "\n",
    "    return m\n",
    "end"
   ]
  },
  {
   "cell_type": "code",
   "execution_count": null,
   "metadata": {},
   "outputs": [],
   "source": [
    "# Split predictors (X) and response variable (y)\n",
    "y, X = unpack(lichen_training, ==(:biomass_log), _ -> true);"
   ]
  },
  {
   "cell_type": "code",
   "execution_count": null,
   "metadata": {},
   "outputs": [],
   "source": [
    "# Load a linear regressor and a random forest regressor\n",
    "LinearRegressor = @load LinearRegressor pkg=MLJLinearModels\n",
    "RFRegressor = @load RandomForestRegressor pkg=DecisionTree"
   ]
  },
  {
   "cell_type": "code",
   "execution_count": null,
   "metadata": {},
   "outputs": [],
   "source": [
    "# Instantiate a pipeline\n",
    "RegressorPipe = @pipeline(Standardizer(), LinearRegressor(), RFRegressor())"
   ]
  },
  {
   "cell_type": "code",
   "execution_count": null,
   "metadata": {},
   "outputs": [],
   "source": []
  }
 ],
 "metadata": {
  "kernelspec": {
   "display_name": "Julia 1.7.0",
   "language": "julia",
   "name": "julia-1.7"
  },
  "language_info": {
   "file_extension": ".jl",
   "mimetype": "application/julia",
   "name": "julia",
   "version": "1.7.0"
  },
  "orig_nbformat": 4
 },
 "nbformat": 4,
 "nbformat_minor": 2
}
