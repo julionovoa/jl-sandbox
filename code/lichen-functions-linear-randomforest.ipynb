{
 "cells": [
  {
   "cell_type": "code",
   "execution_count": null,
   "metadata": {},
   "outputs": [],
   "source": [
    "using DataFrames, CSV, MLJ, MLJLinearModels, DecisionTree, VegaLite"
   ]
  },
  {
   "cell_type": "code",
   "execution_count": null,
   "metadata": {},
   "outputs": [],
   "source": [
    "# Import training dataset\n",
    "lichen_training = CSV.read(\"C:/Users/jnovoa/Downloads/lichen_training.csv\", DataFrame) |>\n",
    "x -> select(x, \"Total.lichen\", \"basal_area\", \"PL\", \"mean_Long\") |>\n",
    "x -> rename(x, [\"biomass\", \"basalarea\", \"pl\", \"lon\"]) |>\n",
    "x -> coerce(x, Count => Continuous);"
   ]
  },
  {
   "cell_type": "code",
   "execution_count": null,
   "metadata": {},
   "outputs": [],
   "source": [
    "# Calculate log(biomass) to avoid predicted negative values\n",
    "lichen_training[!, \"biomass_log\"] = log.(lichen_training[!, :biomass])\n",
    "select!(lichen_training, Not(:biomass))\n",
    "schema(lichen_training)"
   ]
  },
  {
   "cell_type": "code",
   "execution_count": null,
   "metadata": {},
   "outputs": [],
   "source": [
    "# Split predictors (X) and response variable (y)\n",
    "y, X = unpack(lichen_training, ==(:biomass_log), _ -> true);"
   ]
  },
  {
   "cell_type": "code",
   "execution_count": null,
   "metadata": {},
   "outputs": [],
   "source": [
    "# Load a linear regressor and a random forest regressor\n",
    "LinearRegressor = @load LinearRegressor pkg=MLJLinearModels\n",
    "RFRegressor = @load RandomForestRegressor pkg=DecisionTree"
   ]
  },
  {
   "cell_type": "code",
   "execution_count": null,
   "metadata": {},
   "outputs": [],
   "source": [
    "# Instantiate a pipeline\n",
    "RegressorPipe = @pipeline(Standardizer(), LinearRegressor(), RFRegressor())"
   ]
  },
  {
   "cell_type": "code",
   "execution_count": null,
   "metadata": {},
   "outputs": [],
   "source": []
  }
 ],
 "metadata": {
  "language_info": {
   "name": "python"
  },
  "orig_nbformat": 4
 },
 "nbformat": 4,
 "nbformat_minor": 2
}
