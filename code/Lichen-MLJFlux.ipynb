{
 "cells": [
  {
   "cell_type": "code",
   "execution_count": 64,
   "metadata": {},
   "outputs": [],
   "source": [
    "using CairoMakie\n",
    "using CSV\n",
    "using DataFrames\n",
    "using Flux\n",
    "using MLJ"
   ]
  },
  {
   "cell_type": "code",
   "execution_count": 7,
   "metadata": {},
   "outputs": [],
   "source": [
    "# datasets\n",
    "train_path = \"D:/EA4269_NorthernWoodlandCaribou/InputData/20220117_VRI_CleanUp/Train_Jan17.csv\"\n",
    "predict_path = \"D:/EA4269_NorthernWoodlandCaribou/InputData/20220117_VRI_CleanUp/Predict_Jan17.csv\";"
   ]
  },
  {
   "cell_type": "code",
   "execution_count": 31,
   "metadata": {},
   "outputs": [
    {
     "data": {
      "text/html": [
       "<div class=\"data-frame\"><p>23 rows × 7 columns (omitted printing of 1 columns)</p><table class=\"data-frame\"><thead><tr><th></th><th>variable</th><th>mean</th><th>min</th><th>median</th><th>max</th><th>nmissing</th></tr><tr><th></th><th title=\"Symbol\">Symbol</th><th title=\"Union{Nothing, Float64}\">Union…</th><th title=\"Any\">Any</th><th title=\"Union{Nothing, Float64}\">Union…</th><th title=\"Any\">Any</th><th title=\"Int64\">Int64</th></tr></thead><tbody><tr><th>1</th><td>Year</td><td>2020.11</td><td>2015</td><td>2020.0</td><td>2021</td><td>0</td></tr><tr><th>2</th><td>Plot</td><td></td><td>D1A C</td><td></td><td>LBWQ25P5</td><td>0</td></tr><tr><th>3</th><td>Lat</td><td>55.8716</td><td>55.2645</td><td>55.7367</td><td>57.1079</td><td>0</td></tr><tr><th>4</th><td>Lon</td><td>-125.106</td><td>-126.84</td><td>-125.228</td><td>-124.102</td><td>0</td></tr><tr><th>5</th><td>Total_biomass_of_arboreal_liche</td><td>86.543</td><td>0.0</td><td>52.92</td><td>677.376</td><td>1</td></tr><tr><th>6</th><td>Total_biomass_terrestrial_liche</td><td>4877.06</td><td>0.0</td><td>429.625</td><td>49981.2</td><td>0</td></tr><tr><th>7</th><td>Total_Lichen__Combined_biomass_</td><td>4914.97</td><td>0.0</td><td>376.363</td><td>50037.2</td><td>1</td></tr><tr><th>8</th><td>Total_Lichen__Combined_biomass1</td><td>4.91497e5</td><td>0.0</td><td>37636.2</td><td>5.00372e6</td><td>1</td></tr><tr><th>9</th><td>FEATURE_ID</td><td>1.32127e7</td><td>3393082</td><td>1.36854e7</td><td>18018667</td><td>0</td></tr><tr><th>10</th><td>SITE_POSITION_MESO</td><td></td><td>C</td><td></td><td>U</td><td>5</td></tr><tr><th>11</th><td>SOIL_NUTRIENT_REGIME</td><td></td><td>A</td><td></td><td>C</td><td>5</td></tr><tr><th>12</th><td>SHRUB_CROWN_CLOSURE</td><td>16.1828</td><td>5</td><td>10.0</td><td>80</td><td>47</td></tr><tr><th>13</th><td>HERB_COVER_PCT</td><td>21.8588</td><td>3</td><td>15.0</td><td>95</td><td>65</td></tr><tr><th>14</th><td>LAND_COVER_CLASS_CD_1</td><td></td><td>BR</td><td></td><td>TM</td><td>5</td></tr><tr><th>15</th><td>SOIL_MOISTURE_REGIME_1</td><td>3.33402</td><td>0</td><td>4.0</td><td>7</td><td>5</td></tr><tr><th>16</th><td>CROWN_CLOSURE</td><td>28.5751</td><td>1</td><td>30.0</td><td>75</td><td>64</td></tr><tr><th>17</th><td>BASAL_AREA</td><td>14.3979</td><td>0.0</td><td>10.7689</td><td>46.2149</td><td>45</td></tr><tr><th>18</th><td>SPECIES_CD_1</td><td></td><td>AT</td><td></td><td>SX</td><td>45</td></tr><tr><th>19</th><td>SPECIES_PCT_1</td><td>90.2948</td><td>40.1</td><td>100.0</td><td>100.0</td><td>45</td></tr><tr><th>20</th><td>ELE</td><td>1232.43</td><td>680.0</td><td>1101.0</td><td>1894.5</td><td>0</td></tr><tr><th>21</th><td>SLP</td><td>9.99055</td><td>1.28548</td><td>7.23428</td><td>36.9668</td><td>0</td></tr><tr><th>22</th><td>TWI</td><td>6.22669</td><td>4.11736</td><td>6.28848</td><td>8.49559</td><td>0</td></tr><tr><th>23</th><td>SOUTH</td><td>0.754292</td><td>0.028698</td><td>0.771657</td><td>1.0</td><td>0</td></tr></tbody></table></div>"
      ],
      "text/latex": [
       "\\begin{tabular}{r|ccccccc}\n",
       "\t& variable & mean & min & median & max & nmissing & \\\\\n",
       "\t\\hline\n",
       "\t& Symbol & Union… & Any & Union… & Any & Int64 & \\\\\n",
       "\t\\hline\n",
       "\t1 & Year & 2020.11 & 2015 & 2020.0 & 2021 & 0 & $\\dots$ \\\\\n",
       "\t2 & Plot &  & D1A C &  & LBWQ25P5 & 0 & $\\dots$ \\\\\n",
       "\t3 & Lat & 55.8716 & 55.2645 & 55.7367 & 57.1079 & 0 & $\\dots$ \\\\\n",
       "\t4 & Lon & -125.106 & -126.84 & -125.228 & -124.102 & 0 & $\\dots$ \\\\\n",
       "\t5 & Total\\_biomass\\_of\\_arboreal\\_liche & 86.543 & 0.0 & 52.92 & 677.376 & 1 & $\\dots$ \\\\\n",
       "\t6 & Total\\_biomass\\_terrestrial\\_liche & 4877.06 & 0.0 & 429.625 & 49981.2 & 0 & $\\dots$ \\\\\n",
       "\t7 & Total\\_Lichen\\_\\_Combined\\_biomass\\_ & 4914.97 & 0.0 & 376.363 & 50037.2 & 1 & $\\dots$ \\\\\n",
       "\t8 & Total\\_Lichen\\_\\_Combined\\_biomass1 & 4.91497e5 & 0.0 & 37636.2 & 5.00372e6 & 1 & $\\dots$ \\\\\n",
       "\t9 & FEATURE\\_ID & 1.32127e7 & 3393082 & 1.36854e7 & 18018667 & 0 & $\\dots$ \\\\\n",
       "\t10 & SITE\\_POSITION\\_MESO &  & C &  & U & 5 & $\\dots$ \\\\\n",
       "\t11 & SOIL\\_NUTRIENT\\_REGIME &  & A &  & C & 5 & $\\dots$ \\\\\n",
       "\t12 & SHRUB\\_CROWN\\_CLOSURE & 16.1828 & 5 & 10.0 & 80 & 47 & $\\dots$ \\\\\n",
       "\t13 & HERB\\_COVER\\_PCT & 21.8588 & 3 & 15.0 & 95 & 65 & $\\dots$ \\\\\n",
       "\t14 & LAND\\_COVER\\_CLASS\\_CD\\_1 &  & BR &  & TM & 5 & $\\dots$ \\\\\n",
       "\t15 & SOIL\\_MOISTURE\\_REGIME\\_1 & 3.33402 & 0 & 4.0 & 7 & 5 & $\\dots$ \\\\\n",
       "\t16 & CROWN\\_CLOSURE & 28.5751 & 1 & 30.0 & 75 & 64 & $\\dots$ \\\\\n",
       "\t17 & BASAL\\_AREA & 14.3979 & 0.0 & 10.7689 & 46.2149 & 45 & $\\dots$ \\\\\n",
       "\t18 & SPECIES\\_CD\\_1 &  & AT &  & SX & 45 & $\\dots$ \\\\\n",
       "\t19 & SPECIES\\_PCT\\_1 & 90.2948 & 40.1 & 100.0 & 100.0 & 45 & $\\dots$ \\\\\n",
       "\t20 & ELE & 1232.43 & 680.0 & 1101.0 & 1894.5 & 0 & $\\dots$ \\\\\n",
       "\t21 & SLP & 9.99055 & 1.28548 & 7.23428 & 36.9668 & 0 & $\\dots$ \\\\\n",
       "\t22 & TWI & 6.22669 & 4.11736 & 6.28848 & 8.49559 & 0 & $\\dots$ \\\\\n",
       "\t23 & SOUTH & 0.754292 & 0.028698 & 0.771657 & 1.0 & 0 & $\\dots$ \\\\\n",
       "\\end{tabular}\n"
      ],
      "text/plain": [
       "\u001b[1m23×7 DataFrame\u001b[0m\n",
       "\u001b[1m Row \u001b[0m│\u001b[1m variable                        \u001b[0m\u001b[1m mean      \u001b[0m\u001b[1m min      \u001b[0m\u001b[1m median    \u001b[0m\u001b[1m max   \u001b[0m ⋯\n",
       "\u001b[1m     \u001b[0m│\u001b[90m Symbol                          \u001b[0m\u001b[90m Union…    \u001b[0m\u001b[90m Any      \u001b[0m\u001b[90m Union…    \u001b[0m\u001b[90m Any   \u001b[0m ⋯\n",
       "─────┼──────────────────────────────────────────────────────────────────────────\n",
       "   1 │ Year                             2020.11    2015      2020.0     2021   ⋯\n",
       "   2 │ Plot                            \u001b[90m           \u001b[0m D1A C    \u001b[90m           \u001b[0m LBWQ25\n",
       "   3 │ Lat                              55.8716    55.2645   55.7367    57.107\n",
       "   4 │ Lon                              -125.106   -126.84   -125.228   -124.1\n",
       "   5 │ Total_biomass_of_arboreal_liche  86.543     0.0       52.92      677.37 ⋯\n",
       "   6 │ Total_biomass_terrestrial_liche  4877.06    0.0       429.625    49981.\n",
       "   7 │ Total_Lichen__Combined_biomass_  4914.97    0.0       376.363    50037.\n",
       "   8 │ Total_Lichen__Combined_biomass1  4.91497e5  0.0       37636.2    5.0037\n",
       "  ⋮  │                ⋮                     ⋮         ⋮          ⋮          ⋮  ⋱\n",
       "  17 │ BASAL_AREA                       14.3979    0.0       10.7689    46.214 ⋯\n",
       "  18 │ SPECIES_CD_1                    \u001b[90m           \u001b[0m AT       \u001b[90m           \u001b[0m SX\n",
       "  19 │ SPECIES_PCT_1                    90.2948    40.1      100.0      100.0\n",
       "  20 │ ELE                              1232.43    680.0     1101.0     1894.5\n",
       "  21 │ SLP                              9.99055    1.28548   7.23428    36.966 ⋯\n",
       "  22 │ TWI                              6.22669    4.11736   6.28848    8.4955\n",
       "  23 │ SOUTH                            0.754292   0.028698  0.771657   1.0\n",
       "\u001b[36m                                                    3 columns and 8 rows omitted\u001b[0m"
      ]
     },
     "metadata": {},
     "output_type": "display_data"
    }
   ],
   "source": [
    "t_df = CSV.read(train_path, DataFrame)\n",
    "describe(t_df)"
   ]
  },
  {
   "cell_type": "code",
   "execution_count": 21,
   "metadata": {},
   "outputs": [
    {
     "data": {
      "text/html": [
       "<div class=\"data-frame\"><p>353 rows × 17 columns (omitted printing of 12 columns)</p><table class=\"data-frame\"><thead><tr><th></th><th>Lat</th><th>Lon</th><th>Total_Lichen__Combined_biomass_</th><th>SITE_POSITION_MESO</th><th>SOIL_NUTRIENT_REGIME</th></tr><tr><th></th><th title=\"Float64\">Float64</th><th title=\"Float64\">Float64</th><th title=\"Float64\">Float64</th><th title=\"String1\">String1</th><th title=\"String1\">String1</th></tr></thead><tbody><tr><th>1</th><td>55.2708</td><td>-124.205</td><td>145.908</td><td>F</td><td>B</td></tr><tr><th>2</th><td>55.2704</td><td>-124.205</td><td>16.128</td><td>F</td><td>B</td></tr><tr><th>3</th><td>55.2701</td><td>-124.206</td><td>159.988</td><td>F</td><td>B</td></tr><tr><th>4</th><td>55.2707</td><td>-124.206</td><td>173.03</td><td>F</td><td>B</td></tr><tr><th>5</th><td>55.2702</td><td>-124.204</td><td>177.188</td><td>F</td><td>B</td></tr><tr><th>6</th><td>55.2645</td><td>-124.202</td><td>149.594</td><td>M</td><td>C</td></tr><tr><th>7</th><td>55.2649</td><td>-124.202</td><td>225.855</td><td>M</td><td>C</td></tr><tr><th>8</th><td>55.2654</td><td>-124.202</td><td>37.422</td><td>M</td><td>C</td></tr><tr><th>9</th><td>55.2648</td><td>-124.201</td><td>95.9175</td><td>M</td><td>C</td></tr><tr><th>10</th><td>55.265</td><td>-124.203</td><td>11.6235</td><td>M</td><td>C</td></tr><tr><th>11</th><td>55.4289</td><td>-124.633</td><td>194.576</td><td>F</td><td>C</td></tr><tr><th>12</th><td>55.4293</td><td>-124.633</td><td>28764.8</td><td>F</td><td>C</td></tr><tr><th>13</th><td>55.4288</td><td>-124.633</td><td>15940.7</td><td>F</td><td>C</td></tr><tr><th>14</th><td>55.4195</td><td>-124.626</td><td>114.66</td><td>M</td><td>C</td></tr><tr><th>15</th><td>55.4196</td><td>-124.625</td><td>82.215</td><td>M</td><td>C</td></tr><tr><th>16</th><td>55.4188</td><td>-124.626</td><td>68.25</td><td>M</td><td>C</td></tr><tr><th>17</th><td>55.4197</td><td>-124.625</td><td>62.559</td><td>M</td><td>C</td></tr><tr><th>18</th><td>55.4299</td><td>-124.641</td><td>50037.2</td><td>F</td><td>C</td></tr><tr><th>19</th><td>55.4299</td><td>-124.64</td><td>40709.3</td><td>F</td><td>C</td></tr><tr><th>20</th><td>55.43</td><td>-124.64</td><td>33956.9</td><td>F</td><td>C</td></tr><tr><th>21</th><td>55.4295</td><td>-124.641</td><td>22388.5</td><td>F</td><td>C</td></tr><tr><th>22</th><td>55.4303</td><td>-124.64</td><td>26553.0</td><td>F</td><td>C</td></tr><tr><th>23</th><td>55.3043</td><td>-124.33</td><td>99.981</td><td>M</td><td>C</td></tr><tr><th>24</th><td>55.3045</td><td>-124.33</td><td>139.387</td><td>M</td><td>C</td></tr><tr><th>&vellip;</th><td>&vellip;</td><td>&vellip;</td><td>&vellip;</td><td>&vellip;</td><td>&vellip;</td></tr></tbody></table></div>"
      ],
      "text/latex": [
       "\\begin{tabular}{r|cccccc}\n",
       "\t& Lat & Lon & Total\\_Lichen\\_\\_Combined\\_biomass\\_ & SITE\\_POSITION\\_MESO & SOIL\\_NUTRIENT\\_REGIME & \\\\\n",
       "\t\\hline\n",
       "\t& Float64 & Float64 & Float64 & String1 & String1 & \\\\\n",
       "\t\\hline\n",
       "\t1 & 55.2708 & -124.205 & 145.908 & F & B & $\\dots$ \\\\\n",
       "\t2 & 55.2704 & -124.205 & 16.128 & F & B & $\\dots$ \\\\\n",
       "\t3 & 55.2701 & -124.206 & 159.988 & F & B & $\\dots$ \\\\\n",
       "\t4 & 55.2707 & -124.206 & 173.03 & F & B & $\\dots$ \\\\\n",
       "\t5 & 55.2702 & -124.204 & 177.188 & F & B & $\\dots$ \\\\\n",
       "\t6 & 55.2645 & -124.202 & 149.594 & M & C & $\\dots$ \\\\\n",
       "\t7 & 55.2649 & -124.202 & 225.855 & M & C & $\\dots$ \\\\\n",
       "\t8 & 55.2654 & -124.202 & 37.422 & M & C & $\\dots$ \\\\\n",
       "\t9 & 55.2648 & -124.201 & 95.9175 & M & C & $\\dots$ \\\\\n",
       "\t10 & 55.265 & -124.203 & 11.6235 & M & C & $\\dots$ \\\\\n",
       "\t11 & 55.4289 & -124.633 & 194.576 & F & C & $\\dots$ \\\\\n",
       "\t12 & 55.4293 & -124.633 & 28764.8 & F & C & $\\dots$ \\\\\n",
       "\t13 & 55.4288 & -124.633 & 15940.7 & F & C & $\\dots$ \\\\\n",
       "\t14 & 55.4195 & -124.626 & 114.66 & M & C & $\\dots$ \\\\\n",
       "\t15 & 55.4196 & -124.625 & 82.215 & M & C & $\\dots$ \\\\\n",
       "\t16 & 55.4188 & -124.626 & 68.25 & M & C & $\\dots$ \\\\\n",
       "\t17 & 55.4197 & -124.625 & 62.559 & M & C & $\\dots$ \\\\\n",
       "\t18 & 55.4299 & -124.641 & 50037.2 & F & C & $\\dots$ \\\\\n",
       "\t19 & 55.4299 & -124.64 & 40709.3 & F & C & $\\dots$ \\\\\n",
       "\t20 & 55.43 & -124.64 & 33956.9 & F & C & $\\dots$ \\\\\n",
       "\t21 & 55.4295 & -124.641 & 22388.5 & F & C & $\\dots$ \\\\\n",
       "\t22 & 55.4303 & -124.64 & 26553.0 & F & C & $\\dots$ \\\\\n",
       "\t23 & 55.3043 & -124.33 & 99.981 & M & C & $\\dots$ \\\\\n",
       "\t24 & 55.3045 & -124.33 & 139.387 & M & C & $\\dots$ \\\\\n",
       "\t$\\dots$ & $\\dots$ & $\\dots$ & $\\dots$ & $\\dots$ & $\\dots$ &  \\\\\n",
       "\\end{tabular}\n"
      ],
      "text/plain": [
       "\u001b[1m353×17 DataFrame\u001b[0m\n",
       "\u001b[1m Row \u001b[0m│\u001b[1m Lat     \u001b[0m\u001b[1m Lon      \u001b[0m\u001b[1m Total_Lichen__Combined_biomass_ \u001b[0m\u001b[1m SITE_POSITION_MESO \u001b[0m\u001b[1m\u001b[0m ⋯\n",
       "\u001b[1m     \u001b[0m│\u001b[90m Float64 \u001b[0m\u001b[90m Float64  \u001b[0m\u001b[90m Float64                         \u001b[0m\u001b[90m String1            \u001b[0m\u001b[90m\u001b[0m ⋯\n",
       "─────┼──────────────────────────────────────────────────────────────────────────\n",
       "   1 │ 55.2708  -124.205                       145.908     F                   ⋯\n",
       "   2 │ 55.2704  -124.205                        16.128     F\n",
       "   3 │ 55.2701  -124.206                       159.988     F\n",
       "   4 │ 55.2707  -124.206                       173.03      F\n",
       "   5 │ 55.2702  -124.204                       177.188     F                   ⋯\n",
       "   6 │ 55.2645  -124.202                       149.594     M\n",
       "   7 │ 55.2649  -124.202                       225.855     M\n",
       "   8 │ 55.2654  -124.202                        37.422     M\n",
       "  ⋮  │    ⋮        ⋮                     ⋮                         ⋮           ⋱\n",
       " 347 │ 57.0045  -126.736                         0.218726  T                   ⋯\n",
       " 348 │ 56.9889  -126.738                         5.49084   M\n",
       " 349 │ 57.1021  -126.802                        25.0926    T\n",
       " 350 │ 57.0257  -126.84                          2.94857   M\n",
       " 351 │ 57.0146  -126.669                         8.88841   M                   ⋯\n",
       " 352 │ 57.0046  -126.827                         2.24571   M\n",
       " 353 │ 56.9905  -126.782                         1.95725   M\n",
       "\u001b[36m                                                 13 columns and 338 rows omitted\u001b[0m"
      ]
     },
     "metadata": {},
     "output_type": "display_data"
    }
   ],
   "source": [
    "col_subset = [\n",
    "    \"Lat\", \"Lon\", \"Total_Lichen__Combined_biomass_\", \"SITE_POSITION_MESO\",\n",
    "    \"SOIL_NUTRIENT_REGIME\", \"SHRUB_CROWN_CLOSURE\", \"HERB_COVER_PCT\",\n",
    "    \"LAND_COVER_CLASS_CD_1\", \"SOIL_MOISTURE_REGIME_1\", \"CROWN_CLOSURE\",\n",
    "    \"BASAL_AREA\", \"SPECIES_CD_1\", \"SPECIES_PCT_1\", \"ELE\", \"SLP\", \"TWI\", \"SOUTH\"\n",
    "]\n",
    "\n",
    "t_df = t_df |>\n",
    "d -> select(d, col_subset) |>\n",
    "dropmissing"
   ]
  },
  {
   "cell_type": "code",
   "execution_count": 28,
   "metadata": {},
   "outputs": [
    {
     "data": {
      "text/html": [
       "<div class=\"data-frame\"><p>17 rows × 7 columns (omitted printing of 1 columns)</p><table class=\"data-frame\"><thead><tr><th></th><th>variable</th><th>mean</th><th>min</th><th>median</th><th>max</th><th>nmissing</th></tr><tr><th></th><th title=\"Symbol\">Symbol</th><th title=\"Union{Nothing, Float64}\">Union…</th><th title=\"Any\">Any</th><th title=\"Union{Nothing, Float64}\">Union…</th><th title=\"Any\">Any</th><th title=\"Int64\">Int64</th></tr></thead><tbody><tr><th>1</th><td>Lat</td><td>55.8716</td><td>55.2645</td><td>55.7323</td><td>57.1079</td><td>0</td></tr><tr><th>2</th><td>Lon</td><td>-125.118</td><td>-126.84</td><td>-125.134</td><td>-124.13</td><td>0</td></tr><tr><th>3</th><td>Total_Lichen__Combined_biomass_</td><td>5554.9</td><td>0.0</td><td>532.25</td><td>50037.2</td><td>0</td></tr><tr><th>4</th><td>SITE_POSITION_MESO</td><td></td><td>C</td><td></td><td>U</td><td>0</td></tr><tr><th>5</th><td>SOIL_NUTRIENT_REGIME</td><td></td><td>A</td><td></td><td>C</td><td>0</td></tr><tr><th>6</th><td>SHRUB_CROWN_CLOSURE</td><td>16.5552</td><td>5</td><td>10.0</td><td>70</td><td>0</td></tr><tr><th>7</th><td>HERB_COVER_PCT</td><td>19.6402</td><td>3</td><td>10.0</td><td>88</td><td>0</td></tr><tr><th>8</th><td>LAND_COVER_CLASS_CD_1</td><td></td><td>HE</td><td></td><td>TM</td><td>0</td></tr><tr><th>9</th><td>SOIL_MOISTURE_REGIME_1</td><td>3.52691</td><td>1</td><td>4.0</td><td>7</td><td>0</td></tr><tr><th>10</th><td>CROWN_CLOSURE</td><td>27.3173</td><td>1</td><td>28.0</td><td>65</td><td>0</td></tr><tr><th>11</th><td>BASAL_AREA</td><td>13.7255</td><td>0.0</td><td>10.4362</td><td>46.2149</td><td>0</td></tr><tr><th>12</th><td>SPECIES_CD_1</td><td></td><td>BL</td><td></td><td>SX</td><td>0</td></tr><tr><th>13</th><td>SPECIES_PCT_1</td><td>89.2385</td><td>40.1</td><td>100.0</td><td>100.0</td><td>0</td></tr><tr><th>14</th><td>ELE</td><td>1205.58</td><td>680.0</td><td>1096.0</td><td>1815.0</td><td>0</td></tr><tr><th>15</th><td>SLP</td><td>9.11332</td><td>1.28548</td><td>6.16876</td><td>36.9668</td><td>0</td></tr><tr><th>16</th><td>TWI</td><td>6.35125</td><td>4.37984</td><td>6.48998</td><td>8.49559</td><td>0</td></tr><tr><th>17</th><td>SOUTH</td><td>0.758852</td><td>0.106098</td><td>0.771657</td><td>1.0</td><td>0</td></tr></tbody></table></div>"
      ],
      "text/latex": [
       "\\begin{tabular}{r|ccccccc}\n",
       "\t& variable & mean & min & median & max & nmissing & \\\\\n",
       "\t\\hline\n",
       "\t& Symbol & Union… & Any & Union… & Any & Int64 & \\\\\n",
       "\t\\hline\n",
       "\t1 & Lat & 55.8716 & 55.2645 & 55.7323 & 57.1079 & 0 & $\\dots$ \\\\\n",
       "\t2 & Lon & -125.118 & -126.84 & -125.134 & -124.13 & 0 & $\\dots$ \\\\\n",
       "\t3 & Total\\_Lichen\\_\\_Combined\\_biomass\\_ & 5554.9 & 0.0 & 532.25 & 50037.2 & 0 & $\\dots$ \\\\\n",
       "\t4 & SITE\\_POSITION\\_MESO &  & C &  & U & 0 & $\\dots$ \\\\\n",
       "\t5 & SOIL\\_NUTRIENT\\_REGIME &  & A &  & C & 0 & $\\dots$ \\\\\n",
       "\t6 & SHRUB\\_CROWN\\_CLOSURE & 16.5552 & 5 & 10.0 & 70 & 0 & $\\dots$ \\\\\n",
       "\t7 & HERB\\_COVER\\_PCT & 19.6402 & 3 & 10.0 & 88 & 0 & $\\dots$ \\\\\n",
       "\t8 & LAND\\_COVER\\_CLASS\\_CD\\_1 &  & HE &  & TM & 0 & $\\dots$ \\\\\n",
       "\t9 & SOIL\\_MOISTURE\\_REGIME\\_1 & 3.52691 & 1 & 4.0 & 7 & 0 & $\\dots$ \\\\\n",
       "\t10 & CROWN\\_CLOSURE & 27.3173 & 1 & 28.0 & 65 & 0 & $\\dots$ \\\\\n",
       "\t11 & BASAL\\_AREA & 13.7255 & 0.0 & 10.4362 & 46.2149 & 0 & $\\dots$ \\\\\n",
       "\t12 & SPECIES\\_CD\\_1 &  & BL &  & SX & 0 & $\\dots$ \\\\\n",
       "\t13 & SPECIES\\_PCT\\_1 & 89.2385 & 40.1 & 100.0 & 100.0 & 0 & $\\dots$ \\\\\n",
       "\t14 & ELE & 1205.58 & 680.0 & 1096.0 & 1815.0 & 0 & $\\dots$ \\\\\n",
       "\t15 & SLP & 9.11332 & 1.28548 & 6.16876 & 36.9668 & 0 & $\\dots$ \\\\\n",
       "\t16 & TWI & 6.35125 & 4.37984 & 6.48998 & 8.49559 & 0 & $\\dots$ \\\\\n",
       "\t17 & SOUTH & 0.758852 & 0.106098 & 0.771657 & 1.0 & 0 & $\\dots$ \\\\\n",
       "\\end{tabular}\n"
      ],
      "text/plain": [
       "\u001b[1m17×7 DataFrame\u001b[0m\n",
       "\u001b[1m Row \u001b[0m│\u001b[1m variable                        \u001b[0m\u001b[1m mean     \u001b[0m\u001b[1m min      \u001b[0m\u001b[1m median   \u001b[0m\u001b[1m max     \u001b[0m\u001b[1m\u001b[0m ⋯\n",
       "\u001b[1m     \u001b[0m│\u001b[90m Symbol                          \u001b[0m\u001b[90m Union…   \u001b[0m\u001b[90m Any      \u001b[0m\u001b[90m Union…   \u001b[0m\u001b[90m Any     \u001b[0m\u001b[90m\u001b[0m ⋯\n",
       "─────┼──────────────────────────────────────────────────────────────────────────\n",
       "   1 │ Lat                              55.8716   55.2645   55.7323   57.1079  ⋯\n",
       "   2 │ Lon                              -125.118  -126.84   -125.134  -124.13\n",
       "   3 │ Total_Lichen__Combined_biomass_  5554.9    0.0       532.25    50037.2\n",
       "   4 │ SITE_POSITION_MESO              \u001b[90m          \u001b[0m C        \u001b[90m          \u001b[0m U\n",
       "   5 │ SOIL_NUTRIENT_REGIME            \u001b[90m          \u001b[0m A        \u001b[90m          \u001b[0m C        ⋯\n",
       "   6 │ SHRUB_CROWN_CLOSURE              16.5552   5         10.0      70\n",
       "   7 │ HERB_COVER_PCT                   19.6402   3         10.0      88\n",
       "   8 │ LAND_COVER_CLASS_CD_1           \u001b[90m          \u001b[0m HE       \u001b[90m          \u001b[0m TM\n",
       "  ⋮  │                ⋮                    ⋮         ⋮         ⋮         ⋮     ⋱\n",
       "  11 │ BASAL_AREA                       13.7255   0.0       10.4362   46.2149  ⋯\n",
       "  12 │ SPECIES_CD_1                    \u001b[90m          \u001b[0m BL       \u001b[90m          \u001b[0m SX\n",
       "  13 │ SPECIES_PCT_1                    89.2385   40.1      100.0     100.0\n",
       "  14 │ ELE                              1205.58   680.0     1096.0    1815.0\n",
       "  15 │ SLP                              9.11332   1.28548   6.16876   36.9668  ⋯\n",
       "  16 │ TWI                              6.35125   4.37984   6.48998   8.49559\n",
       "  17 │ SOUTH                            0.758852  0.106098  0.771657  1.0\n",
       "\u001b[36m                                                    2 columns and 2 rows omitted\u001b[0m"
      ]
     },
     "metadata": {},
     "output_type": "display_data"
    }
   ],
   "source": [
    "describe(t_df)"
   ]
  },
  {
   "cell_type": "code",
   "execution_count": 22,
   "metadata": {},
   "outputs": [
    {
     "data": {
      "text/plain": [
       "┌─────────────────────────────────┬─────────┬────────────┐\n",
       "│\u001b[22m _.names                         \u001b[0m│\u001b[22m _.types \u001b[0m│\u001b[22m _.scitypes \u001b[0m│\n",
       "├─────────────────────────────────┼─────────┼────────────┤\n",
       "│ Lat                             │ Float64 │ Continuous │\n",
       "│ Lon                             │ Float64 │ Continuous │\n",
       "│ Total_Lichen__Combined_biomass_ │ Float64 │ Continuous │\n",
       "│ SITE_POSITION_MESO              │ String1 │ Textual    │\n",
       "│ SOIL_NUTRIENT_REGIME            │ String1 │ Textual    │\n",
       "│ SHRUB_CROWN_CLOSURE             │ Int64   │ Count      │\n",
       "│ HERB_COVER_PCT                  │ Int64   │ Count      │\n",
       "│ LAND_COVER_CLASS_CD_1           │ String3 │ Textual    │\n",
       "│ SOIL_MOISTURE_REGIME_1          │ Int64   │ Count      │\n",
       "│ CROWN_CLOSURE                   │ Int64   │ Count      │\n",
       "│ BASAL_AREA                      │ Float64 │ Continuous │\n",
       "│ SPECIES_CD_1                    │ String3 │ Textual    │\n",
       "│ SPECIES_PCT_1                   │ Float64 │ Continuous │\n",
       "│ ELE                             │ Float64 │ Continuous │\n",
       "│ SLP                             │ Float64 │ Continuous │\n",
       "│ TWI                             │ Float64 │ Continuous │\n",
       "│ SOUTH                           │ Float64 │ Continuous │\n",
       "└─────────────────────────────────┴─────────┴────────────┘\n",
       "_.nrows = 353\n"
      ]
     },
     "metadata": {},
     "output_type": "display_data"
    }
   ],
   "source": [
    "schema(t_df)"
   ]
  },
  {
   "cell_type": "code",
   "execution_count": 27,
   "metadata": {},
   "outputs": [
    {
     "data": {
      "text/plain": [
       "┌─────────────────────────────────┬───────────────────────────────────┬─────────\n",
       "│\u001b[22m _.names                         \u001b[0m│\u001b[22m _.types                           \u001b[0m│\u001b[22m _.scit\u001b[0m ⋯\n",
       "├─────────────────────────────────┼───────────────────────────────────┼─────────\n",
       "│ Lat                             │ Float64                           │ Contin ⋯\n",
       "│ Lon                             │ Float64                           │ Contin ⋯\n",
       "│ Total_Lichen__Combined_biomass_ │ Float64                           │ Contin ⋯\n",
       "│ SITE_POSITION_MESO              │ CategoricalValue{String1, UInt32} │ Multic ⋯\n",
       "│ SOIL_NUTRIENT_REGIME            │ CategoricalValue{String1, UInt32} │ Multic ⋯\n",
       "│ SHRUB_CROWN_CLOSURE             │ Float64                           │ Contin ⋯\n",
       "│ HERB_COVER_PCT                  │ Float64                           │ Contin ⋯\n",
       "│ LAND_COVER_CLASS_CD_1           │ CategoricalValue{String3, UInt32} │ Multic ⋯\n",
       "│ SOIL_MOISTURE_REGIME_1          │ CategoricalValue{Float64, UInt32} │ Multic ⋯\n",
       "│ CROWN_CLOSURE                   │ Float64                           │ Contin ⋯\n",
       "│ BASAL_AREA                      │ Float64                           │ Contin ⋯\n",
       "│ SPECIES_CD_1                    │ CategoricalValue{String3, UInt32} │ Multic ⋯\n",
       "│ SPECIES_PCT_1                   │ Float64                           │ Contin ⋯\n",
       "│ ELE                             │ Float64                           │ Contin ⋯\n",
       "│ SLP                             │ Float64                           │ Contin ⋯\n",
       "│ TWI                             │ Float64                           │ Contin ⋯\n",
       "│ SOUTH                           │ Float64                           │ Contin ⋯\n",
       "└─────────────────────────────────┴───────────────────────────────────┴─────────\n",
       "\u001b[36m                                                                1 column omitted\u001b[0m\n",
       "_.nrows = 353\n"
      ]
     },
     "metadata": {},
     "output_type": "display_data"
    }
   ],
   "source": [
    "# fix scitypes\n",
    "t_df_coerced = coerce(t_df, Count=>Continuous, Textual=>Multiclass)\n",
    "t_df_coerced = coerce(t_df_coerced, :SOIL_MOISTURE_REGIME_1=>Multiclass)\n",
    "schema(t_df_coerced)"
   ]
  },
  {
   "cell_type": "code",
   "execution_count": 29,
   "metadata": {},
   "outputs": [],
   "source": [
    "# Split predictors/responde variable\n",
    "y, X = unpack(t_df_coerced, ==(:Total_Lichen__Combined_biomass_), _->true; rng=1010);"
   ]
  },
  {
   "cell_type": "code",
   "execution_count": 49,
   "metadata": {},
   "outputs": [
    {
     "name": "stderr",
     "output_type": "stream",
     "text": [
      "┌ Info: Training Machine{Standardizer,…}.\n",
      "└ @ MLJBase C:\\Users\\jnovoa\\.julia\\packages\\MLJBase\\QXObv\\src\\machines.jl:403\n",
      "┌ Info: Training Machine{OneHotEncoder,…}.\n",
      "└ @ MLJBase C:\\Users\\jnovoa\\.julia\\packages\\MLJBase\\QXObv\\src\\machines.jl:403\n",
      "┌ Info: Spawning 6 sub-features to one-hot encode feature :SITE_POSITION_MESO.\n",
      "└ @ MLJModels C:\\Users\\jnovoa\\.julia\\packages\\MLJModels\\GKDnU\\src\\builtins\\Transformers.jl:1142\n",
      "┌ Info: Spawning 3 sub-features to one-hot encode feature :SOIL_NUTRIENT_REGIME.\n",
      "└ @ MLJModels C:\\Users\\jnovoa\\.julia\\packages\\MLJModels\\GKDnU\\src\\builtins\\Transformers.jl:1142\n",
      "┌ Info: Spawning 6 sub-features to one-hot encode feature :LAND_COVER_CLASS_CD_1.\n",
      "└ @ MLJModels C:\\Users\\jnovoa\\.julia\\packages\\MLJModels\\GKDnU\\src\\builtins\\Transformers.jl:1142\n",
      "┌ Info: Spawning 7 sub-features to one-hot encode feature :SOIL_MOISTURE_REGIME_1.\n",
      "└ @ MLJModels C:\\Users\\jnovoa\\.julia\\packages\\MLJModels\\GKDnU\\src\\builtins\\Transformers.jl:1142\n",
      "┌ Info: Spawning 7 sub-features to one-hot encode feature :SPECIES_CD_1.\n",
      "└ @ MLJModels C:\\Users\\jnovoa\\.julia\\packages\\MLJModels\\GKDnU\\src\\builtins\\Transformers.jl:1142\n"
     ]
    }
   ],
   "source": [
    "Xstd = MLJ.transform(fit!(machine(Standardizer(), X)), X)\n",
    "Xohe = MLJ.transform(fit!(machine(OneHotEncoder(), Xstd)), Xstd);"
   ]
  },
  {
   "cell_type": "code",
   "execution_count": 50,
   "metadata": {},
   "outputs": [
    {
     "data": {
      "text/html": [
       "<div class=\"data-frame\"><p>40 rows × 7 columns (omitted printing of 1 columns)</p><table class=\"data-frame\"><thead><tr><th></th><th>variable</th><th>mean</th><th>min</th><th>median</th><th>max</th><th>nmissing</th></tr><tr><th></th><th title=\"Symbol\">Symbol</th><th title=\"Float64\">Float64</th><th title=\"Float64\">Float64</th><th title=\"Float64\">Float64</th><th title=\"Float64\">Float64</th><th title=\"Int64\">Int64</th></tr></thead><tbody><tr><th>1</th><td>Lat</td><td>-1.21464e-14</td><td>-1.31336</td><td>-0.301442</td><td>2.67439</td><td>0</td></tr><tr><th>2</th><td>Lon</td><td>4.31509e-14</td><td>-2.27548</td><td>-0.0205652</td><td>1.30577</td><td>0</td></tr><tr><th>3</th><td>SITE_POSITION_MESO__C</td><td>0.0283286</td><td>0.0</td><td>0.0</td><td>1.0</td><td>0</td></tr><tr><th>4</th><td>SITE_POSITION_MESO__F</td><td>0.206799</td><td>0.0</td><td>0.0</td><td>1.0</td><td>0</td></tr><tr><th>5</th><td>SITE_POSITION_MESO__L</td><td>0.0793201</td><td>0.0</td><td>0.0</td><td>1.0</td><td>0</td></tr><tr><th>6</th><td>SITE_POSITION_MESO__M</td><td>0.498584</td><td>0.0</td><td>0.0</td><td>1.0</td><td>0</td></tr><tr><th>7</th><td>SITE_POSITION_MESO__T</td><td>0.0538244</td><td>0.0</td><td>0.0</td><td>1.0</td><td>0</td></tr><tr><th>8</th><td>SITE_POSITION_MESO__U</td><td>0.133144</td><td>0.0</td><td>0.0</td><td>1.0</td><td>0</td></tr><tr><th>9</th><td>SOIL_NUTRIENT_REGIME__A</td><td>0.0708215</td><td>0.0</td><td>0.0</td><td>1.0</td><td>0</td></tr><tr><th>10</th><td>SOIL_NUTRIENT_REGIME__B</td><td>0.271955</td><td>0.0</td><td>0.0</td><td>1.0</td><td>0</td></tr><tr><th>11</th><td>SOIL_NUTRIENT_REGIME__C</td><td>0.657224</td><td>0.0</td><td>1.0</td><td>1.0</td><td>0</td></tr><tr><th>12</th><td>SHRUB_CROWN_CLOSURE</td><td>1.06934e-17</td><td>-0.787099</td><td>-0.446518</td><td>3.64045</td><td>0</td></tr><tr><th>13</th><td>HERB_COVER_PCT</td><td>-4.27735e-17</td><td>-0.886179</td><td>-0.513392</td><td>3.64051</td><td>0</td></tr><tr><th>14</th><td>LAND_COVER_CLASS_CD_1__HE</td><td>0.0509915</td><td>0.0</td><td>0.0</td><td>1.0</td><td>0</td></tr><tr><th>15</th><td>LAND_COVER_CLASS_CD_1__HG</td><td>0.0424929</td><td>0.0</td><td>0.0</td><td>1.0</td><td>0</td></tr><tr><th>16</th><td>LAND_COVER_CLASS_CD_1__SL</td><td>0.0878187</td><td>0.0</td><td>0.0</td><td>1.0</td><td>0</td></tr><tr><th>17</th><td>LAND_COVER_CLASS_CD_1__TA</td><td>0.0283286</td><td>0.0</td><td>0.0</td><td>1.0</td><td>0</td></tr><tr><th>18</th><td>LAND_COVER_CLASS_CD_1__TC</td><td>0.770538</td><td>0.0</td><td>1.0</td><td>1.0</td><td>0</td></tr><tr><th>19</th><td>LAND_COVER_CLASS_CD_1__TM</td><td>0.01983</td><td>0.0</td><td>0.0</td><td>1.0</td><td>0</td></tr><tr><th>20</th><td>SOIL_MOISTURE_REGIME_1__1.0</td><td>0.0339943</td><td>0.0</td><td>0.0</td><td>1.0</td><td>0</td></tr><tr><th>21</th><td>SOIL_MOISTURE_REGIME_1__2.0</td><td>0.113314</td><td>0.0</td><td>0.0</td><td>1.0</td><td>0</td></tr><tr><th>22</th><td>SOIL_MOISTURE_REGIME_1__3.0</td><td>0.25779</td><td>0.0</td><td>0.0</td><td>1.0</td><td>0</td></tr><tr><th>23</th><td>SOIL_MOISTURE_REGIME_1__4.0</td><td>0.507082</td><td>0.0</td><td>1.0</td><td>1.0</td><td>0</td></tr><tr><th>24</th><td>SOIL_MOISTURE_REGIME_1__5.0</td><td>0.0651558</td><td>0.0</td><td>0.0</td><td>1.0</td><td>0</td></tr><tr><th>&vellip;</th><td>&vellip;</td><td>&vellip;</td><td>&vellip;</td><td>&vellip;</td><td>&vellip;</td><td>&vellip;</td></tr></tbody></table></div>"
      ],
      "text/latex": [
       "\\begin{tabular}{r|ccccccc}\n",
       "\t& variable & mean & min & median & max & nmissing & \\\\\n",
       "\t\\hline\n",
       "\t& Symbol & Float64 & Float64 & Float64 & Float64 & Int64 & \\\\\n",
       "\t\\hline\n",
       "\t1 & Lat & -1.21464e-14 & -1.31336 & -0.301442 & 2.67439 & 0 & $\\dots$ \\\\\n",
       "\t2 & Lon & 4.31509e-14 & -2.27548 & -0.0205652 & 1.30577 & 0 & $\\dots$ \\\\\n",
       "\t3 & SITE\\_POSITION\\_MESO\\_\\_C & 0.0283286 & 0.0 & 0.0 & 1.0 & 0 & $\\dots$ \\\\\n",
       "\t4 & SITE\\_POSITION\\_MESO\\_\\_F & 0.206799 & 0.0 & 0.0 & 1.0 & 0 & $\\dots$ \\\\\n",
       "\t5 & SITE\\_POSITION\\_MESO\\_\\_L & 0.0793201 & 0.0 & 0.0 & 1.0 & 0 & $\\dots$ \\\\\n",
       "\t6 & SITE\\_POSITION\\_MESO\\_\\_M & 0.498584 & 0.0 & 0.0 & 1.0 & 0 & $\\dots$ \\\\\n",
       "\t7 & SITE\\_POSITION\\_MESO\\_\\_T & 0.0538244 & 0.0 & 0.0 & 1.0 & 0 & $\\dots$ \\\\\n",
       "\t8 & SITE\\_POSITION\\_MESO\\_\\_U & 0.133144 & 0.0 & 0.0 & 1.0 & 0 & $\\dots$ \\\\\n",
       "\t9 & SOIL\\_NUTRIENT\\_REGIME\\_\\_A & 0.0708215 & 0.0 & 0.0 & 1.0 & 0 & $\\dots$ \\\\\n",
       "\t10 & SOIL\\_NUTRIENT\\_REGIME\\_\\_B & 0.271955 & 0.0 & 0.0 & 1.0 & 0 & $\\dots$ \\\\\n",
       "\t11 & SOIL\\_NUTRIENT\\_REGIME\\_\\_C & 0.657224 & 0.0 & 1.0 & 1.0 & 0 & $\\dots$ \\\\\n",
       "\t12 & SHRUB\\_CROWN\\_CLOSURE & 1.06934e-17 & -0.787099 & -0.446518 & 3.64045 & 0 & $\\dots$ \\\\\n",
       "\t13 & HERB\\_COVER\\_PCT & -4.27735e-17 & -0.886179 & -0.513392 & 3.64051 & 0 & $\\dots$ \\\\\n",
       "\t14 & LAND\\_COVER\\_CLASS\\_CD\\_1\\_\\_HE & 0.0509915 & 0.0 & 0.0 & 1.0 & 0 & $\\dots$ \\\\\n",
       "\t15 & LAND\\_COVER\\_CLASS\\_CD\\_1\\_\\_HG & 0.0424929 & 0.0 & 0.0 & 1.0 & 0 & $\\dots$ \\\\\n",
       "\t16 & LAND\\_COVER\\_CLASS\\_CD\\_1\\_\\_SL & 0.0878187 & 0.0 & 0.0 & 1.0 & 0 & $\\dots$ \\\\\n",
       "\t17 & LAND\\_COVER\\_CLASS\\_CD\\_1\\_\\_TA & 0.0283286 & 0.0 & 0.0 & 1.0 & 0 & $\\dots$ \\\\\n",
       "\t18 & LAND\\_COVER\\_CLASS\\_CD\\_1\\_\\_TC & 0.770538 & 0.0 & 1.0 & 1.0 & 0 & $\\dots$ \\\\\n",
       "\t19 & LAND\\_COVER\\_CLASS\\_CD\\_1\\_\\_TM & 0.01983 & 0.0 & 0.0 & 1.0 & 0 & $\\dots$ \\\\\n",
       "\t20 & SOIL\\_MOISTURE\\_REGIME\\_1\\_\\_1.0 & 0.0339943 & 0.0 & 0.0 & 1.0 & 0 & $\\dots$ \\\\\n",
       "\t21 & SOIL\\_MOISTURE\\_REGIME\\_1\\_\\_2.0 & 0.113314 & 0.0 & 0.0 & 1.0 & 0 & $\\dots$ \\\\\n",
       "\t22 & SOIL\\_MOISTURE\\_REGIME\\_1\\_\\_3.0 & 0.25779 & 0.0 & 0.0 & 1.0 & 0 & $\\dots$ \\\\\n",
       "\t23 & SOIL\\_MOISTURE\\_REGIME\\_1\\_\\_4.0 & 0.507082 & 0.0 & 1.0 & 1.0 & 0 & $\\dots$ \\\\\n",
       "\t24 & SOIL\\_MOISTURE\\_REGIME\\_1\\_\\_5.0 & 0.0651558 & 0.0 & 0.0 & 1.0 & 0 & $\\dots$ \\\\\n",
       "\t$\\dots$ & $\\dots$ & $\\dots$ & $\\dots$ & $\\dots$ & $\\dots$ & $\\dots$ &  \\\\\n",
       "\\end{tabular}\n"
      ],
      "text/plain": [
       "\u001b[1m40×7 DataFrame\u001b[0m\n",
       "\u001b[1m Row \u001b[0m│\u001b[1m variable                \u001b[0m\u001b[1m mean         \u001b[0m\u001b[1m min      \u001b[0m\u001b[1m median     \u001b[0m\u001b[1m max      \u001b[0m\u001b[1m \u001b[0m ⋯\n",
       "\u001b[1m     \u001b[0m│\u001b[90m Symbol                  \u001b[0m\u001b[90m Float64      \u001b[0m\u001b[90m Float64  \u001b[0m\u001b[90m Float64    \u001b[0m\u001b[90m Float64  \u001b[0m\u001b[90m \u001b[0m ⋯\n",
       "─────┼──────────────────────────────────────────────────────────────────────────\n",
       "   1 │ Lat                      -1.21464e-14  -1.31336  -0.301442   2.67439    ⋯\n",
       "   2 │ Lon                       4.31509e-14  -2.27548  -0.0205652  1.30577\n",
       "   3 │ SITE_POSITION_MESO__C     0.0283286     0.0       0.0        1.0\n",
       "   4 │ SITE_POSITION_MESO__F     0.206799      0.0       0.0        1.0\n",
       "   5 │ SITE_POSITION_MESO__L     0.0793201     0.0       0.0        1.0        ⋯\n",
       "   6 │ SITE_POSITION_MESO__M     0.498584      0.0       0.0        1.0\n",
       "   7 │ SITE_POSITION_MESO__T     0.0538244     0.0       0.0        1.0\n",
       "   8 │ SITE_POSITION_MESO__U     0.133144      0.0       0.0        1.0\n",
       "  ⋮  │            ⋮                  ⋮           ⋮          ⋮          ⋮       ⋱\n",
       "  34 │ SPECIES_CD_1__SW          0.0283286     0.0       0.0        1.0        ⋯\n",
       "  35 │ SPECIES_CD_1__SX          0.101983      0.0       0.0        1.0\n",
       "  36 │ SPECIES_PCT_1            -3.73639e-16  -2.92145   0.639805   0.639805\n",
       "  37 │ ELE                      -3.28123e-17  -1.53995  -0.321067   1.7856\n",
       "  38 │ SLP                      -7.54826e-17  -1.00677  -0.378712   3.58235    ⋯\n",
       "  39 │ TWI                       4.5148e-16   -2.01942   0.142102   2.19655\n",
       "  40 │ SOUTH                    -9.83161e-16  -3.27068   0.0641603  1.20829\n",
       "\u001b[36m                                                   2 columns and 25 rows omitted\u001b[0m"
      ]
     },
     "metadata": {},
     "output_type": "display_data"
    }
   ],
   "source": [
    "describe(Xohe)"
   ]
  },
  {
   "cell_type": "code",
   "execution_count": 37,
   "metadata": {},
   "outputs": [
    {
     "name": "stdout",
     "output_type": "stream",
     "text": [
      "import MLJFlux ✔\n",
      "import MLJFlux ✔\n",
      "import MLJFlux ✔\n",
      "import MLJFlux ✔\n"
     ]
    },
    {
     "name": "stderr",
     "output_type": "stream",
     "text": [
      "┌ Info: For silent loading, specify `verbosity=0`. \n",
      "└ @ Main C:\\Users\\jnovoa\\.julia\\packages\\MLJModels\\GKDnU\\src\\loading.jl:168\n",
      "┌ Info: For silent loading, specify `verbosity=0`. \n",
      "└ @ Main C:\\Users\\jnovoa\\.julia\\packages\\MLJModels\\GKDnU\\src\\loading.jl:168\n",
      "┌ Info: For silent loading, specify `verbosity=0`. \n",
      "└ @ Main C:\\Users\\jnovoa\\.julia\\packages\\MLJModels\\GKDnU\\src\\loading.jl:168\n",
      "┌ Info: For silent loading, specify `verbosity=0`. \n",
      "└ @ Main C:\\Users\\jnovoa\\.julia\\packages\\MLJModels\\GKDnU\\src\\loading.jl:168\n"
     ]
    },
    {
     "data": {
      "text/plain": [
       "NeuralNetworkRegressor(\n",
       "    builder = Linear(\n",
       "            σ = NNlib.relu),\n",
       "    optimiser = Flux.Optimise.ADAM(0.001, (0.9, 0.999), IdDict{Any, Any}()),\n",
       "    loss = Flux.Losses.mse,\n",
       "    epochs = 10,\n",
       "    batch_size = 1,\n",
       "    lambda = 0.0,\n",
       "    alpha = 0.0,\n",
       "    rng = Random._GLOBAL_RNG(),\n",
       "    optimiser_changes_trigger_retraining = false,\n",
       "    acceleration = CPU1{Nothing}(nothing))"
      ]
     },
     "metadata": {},
     "output_type": "display_data"
    }
   ],
   "source": [
    "# Load a model and create a pipeline\n",
    "model = @load NeuralNetworkRegressor pkg=MLJFlux\n",
    "nnr = model()"
   ]
  },
  {
   "cell_type": "code",
   "execution_count": 51,
   "metadata": {},
   "outputs": [
    {
     "name": "stderr",
     "output_type": "stream",
     "text": [
      "┌ Info: Training Machine{NeuralNetworkRegressor{Linear,…},…}.\n",
      "└ @ MLJBase C:\\Users\\jnovoa\\.julia\\packages\\MLJBase\\QXObv\\src\\machines.jl:403\n",
      "\r\u001b[33mOptimising neural net: 18%[====>                    ]  ETA: 0:00:28\u001b[39m\u001b[K"
     ]
    },
    {
     "name": "stderr",
     "output_type": "stream",
     "text": [
      "\r\u001b[33mOptimising neural net: 82%[====================>    ]  ETA: 0:00:02\u001b[39m\u001b[K"
     ]
    },
    {
     "name": "stderr",
     "output_type": "stream",
     "text": [
      "\r\u001b[33mOptimising neural net: 91%[======================>  ]  ETA: 0:00:01\u001b[39m\u001b[K"
     ]
    },
    {
     "name": "stderr",
     "output_type": "stream",
     "text": [
      "\r\u001b[33mOptimising neural net:100%[=========================] Time: 0:00:08\u001b[39m\u001b[K\n"
     ]
    },
    {
     "data": {
      "text/plain": [
       "Machine{NeuralNetworkRegressor{Linear,…},…} trained 1 time; caches data\n",
       "  args: \n",
       "    1:\tSource @512 ⏎ `Table{AbstractVector{Continuous}}`\n",
       "    2:\tSource @234 ⏎ `AbstractVector{Continuous}`\n"
      ]
     },
     "metadata": {},
     "output_type": "display_data"
    }
   ],
   "source": [
    "mach = machine(nnr, Xohe, y) |> fit!"
   ]
  },
  {
   "cell_type": "code",
   "execution_count": 58,
   "metadata": {},
   "outputs": [
    {
     "data": {
      "text/plain": [
       "15"
      ]
     },
     "metadata": {},
     "output_type": "display_data"
    }
   ],
   "source": [
    "# Increasing learning rate and adding iterations:\n",
    "nnr.optimiser.eta = nnr.optimiser.eta * 2\n",
    "nnr.epochs = nnr.epochs + 5"
   ]
  },
  {
   "cell_type": "code",
   "execution_count": 59,
   "metadata": {},
   "outputs": [
    {
     "name": "stderr",
     "output_type": "stream",
     "text": [
      "┌ Info: Updating Machine{NeuralNetworkRegressor{Linear,…},…}.\n",
      "└ @ MLJBase C:\\Users\\jnovoa\\.julia\\packages\\MLJBase\\QXObv\\src\\machines.jl:404\n",
      "\r\u001b[33mOptimising neural net: 33%[========>                ]  ETA: 0:00:00\u001b[39m\u001b[K"
     ]
    },
    {
     "name": "stderr",
     "output_type": "stream",
     "text": [
      "\r\u001b[33mOptimising neural net: 50%[============>            ]  ETA: 0:00:00\u001b[39m\u001b[K"
     ]
    },
    {
     "name": "stderr",
     "output_type": "stream",
     "text": [
      "\r\u001b[33mOptimising neural net: 67%[================>        ]  ETA: 0:00:00\u001b[39m\u001b[K"
     ]
    },
    {
     "name": "stderr",
     "output_type": "stream",
     "text": [
      "\r\u001b[33mOptimising neural net: 83%[====================>    ]  ETA: 0:00:00\u001b[39m\u001b[K"
     ]
    },
    {
     "name": "stderr",
     "output_type": "stream",
     "text": [
      "\r\u001b[33mOptimising neural net:100%[=========================] Time: 0:00:00\u001b[39m\u001b[K\n"
     ]
    },
    {
     "data": {
      "text/plain": [
       "Machine{NeuralNetworkRegressor{Linear,…},…} trained 2 times; caches data\n",
       "  args: \n",
       "    1:\tSource @512 ⏎ `Table{AbstractVector{Continuous}}`\n",
       "    2:\tSource @234 ⏎ `AbstractVector{Continuous}`\n"
      ]
     },
     "metadata": {},
     "output_type": "display_data"
    }
   ],
   "source": [
    "fit!(mach)"
   ]
  },
  {
   "cell_type": "code",
   "execution_count": 74,
   "metadata": {},
   "outputs": [
    {
     "data": {
      "text/plain": [
       "1.3138722852601062e8"
      ]
     },
     "metadata": {},
     "output_type": "display_data"
    }
   ],
   "source": [
    "training_loss = Flux.mse(predict(mach, Xohe), y) |> mean"
   ]
  },
  {
   "cell_type": "code",
   "execution_count": 66,
   "metadata": {},
   "outputs": [
    {
     "data": {
      "text/plain": [
       "Chain(\n",
       "  Dense(40, 1, relu),                   \u001b[90m# 41 parameters\u001b[39m\n",
       ")"
      ]
     },
     "metadata": {},
     "output_type": "display_data"
    }
   ],
   "source": [
    "fitted_params(mach).chain"
   ]
  },
  {
   "cell_type": "code",
   "execution_count": 75,
   "metadata": {},
   "outputs": [
    {
     "name": "stderr",
     "output_type": "stream",
     "text": [
      "┌ Info: Training Machine{DeterministicTunedModel{Grid,…},…}.\n",
      "└ @ MLJBase C:\\Users\\jnovoa\\.julia\\packages\\MLJBase\\QXObv\\src\\machines.jl:403\n",
      "┌ Info: Attempting to evaluate 30 models.\n",
      "└ @ MLJTuning C:\\Users\\jnovoa\\.julia\\packages\\MLJTuning\\Al9yX\\src\\tuned_models.jl:680\n",
      "\r\u001b[33mEvaluating over 30 metamodels:   7%[=>                       ]  ETA: 0:06:35\u001b[39m\u001b[K"
     ]
    },
    {
     "name": "stderr",
     "output_type": "stream",
     "text": [
      "\r\u001b[33mEvaluating over 30 metamodels:  10%[==>                      ]  ETA: 0:04:18\u001b[39m\u001b[K"
     ]
    },
    {
     "name": "stderr",
     "output_type": "stream",
     "text": [
      "\r\u001b[33mEvaluating over 30 metamodels:  13%[===>                     ]  ETA: 0:03:11\u001b[39m\u001b[K"
     ]
    },
    {
     "name": "stderr",
     "output_type": "stream",
     "text": [
      "\r\u001b[33mEvaluating over 30 metamodels:  17%[====>                    ]  ETA: 0:02:30\u001b[39m\u001b[K"
     ]
    },
    {
     "name": "stderr",
     "output_type": "stream",
     "text": [
      "\r\u001b[33mEvaluating over 30 metamodels:  20%[=====>                   ]  ETA: 0:02:02\u001b[39m\u001b[K"
     ]
    },
    {
     "name": "stderr",
     "output_type": "stream",
     "text": [
      "\r\u001b[33mEvaluating over 30 metamodels:  23%[=====>                   ]  ETA: 0:01:43\u001b[39m\u001b[K"
     ]
    },
    {
     "name": "stderr",
     "output_type": "stream",
     "text": [
      "\r\u001b[33mEvaluating over 30 metamodels:  27%[======>                  ]  ETA: 0:01:28\u001b[39m\u001b[K"
     ]
    },
    {
     "name": "stderr",
     "output_type": "stream",
     "text": [
      "\r\u001b[33mEvaluating over 30 metamodels:  30%[=======>                 ]  ETA: 0:01:16\u001b[39m\u001b[K"
     ]
    },
    {
     "name": "stderr",
     "output_type": "stream",
     "text": [
      "\r\u001b[33mEvaluating over 30 metamodels:  33%[========>                ]  ETA: 0:01:07\u001b[39m\u001b[K"
     ]
    },
    {
     "name": "stderr",
     "output_type": "stream",
     "text": [
      "\r\u001b[33mEvaluating over 30 metamodels:  37%[=========>               ]  ETA: 0:00:59\u001b[39m\u001b[K"
     ]
    },
    {
     "name": "stderr",
     "output_type": "stream",
     "text": [
      "\r\u001b[33mEvaluating over 30 metamodels:  40%[==========>              ]  ETA: 0:00:53\u001b[39m\u001b[K"
     ]
    },
    {
     "name": "stderr",
     "output_type": "stream",
     "text": [
      "\r\u001b[33mEvaluating over 30 metamodels:  43%[==========>              ]  ETA: 0:00:47\u001b[39m\u001b[K"
     ]
    },
    {
     "name": "stderr",
     "output_type": "stream",
     "text": [
      "\r\u001b[33mEvaluating over 30 metamodels:  47%[===========>             ]  ETA: 0:00:42\u001b[39m\u001b[K"
     ]
    },
    {
     "name": "stderr",
     "output_type": "stream",
     "text": [
      "\r\u001b[33mEvaluating over 30 metamodels:  50%[============>            ]  ETA: 0:00:38\u001b[39m\u001b[K"
     ]
    },
    {
     "name": "stderr",
     "output_type": "stream",
     "text": [
      "\r\u001b[33mEvaluating over 30 metamodels:  53%[=============>           ]  ETA: 0:00:34\u001b[39m\u001b[K"
     ]
    },
    {
     "name": "stderr",
     "output_type": "stream",
     "text": [
      "\r\u001b[33mEvaluating over 30 metamodels:  57%[==============>          ]  ETA: 0:00:31\u001b[39m\u001b[K"
     ]
    },
    {
     "name": "stderr",
     "output_type": "stream",
     "text": [
      "\r\u001b[33mEvaluating over 30 metamodels:  60%[===============>         ]  ETA: 0:00:27\u001b[39m\u001b[K"
     ]
    },
    {
     "name": "stderr",
     "output_type": "stream",
     "text": [
      "\r\u001b[33mEvaluating over 30 metamodels:  63%[===============>         ]  ETA: 0:00:24\u001b[39m\u001b[K"
     ]
    },
    {
     "name": "stderr",
     "output_type": "stream",
     "text": [
      "\r\u001b[33mEvaluating over 30 metamodels:  67%[================>        ]  ETA: 0:00:22\u001b[39m\u001b[K"
     ]
    },
    {
     "name": "stderr",
     "output_type": "stream",
     "text": [
      "\r\u001b[33mEvaluating over 30 metamodels:  70%[=================>       ]  ETA: 0:00:19\u001b[39m\u001b[K"
     ]
    },
    {
     "name": "stderr",
     "output_type": "stream",
     "text": [
      "\r\u001b[33mEvaluating over 30 metamodels:  73%[==================>      ]  ETA: 0:00:17\u001b[39m\u001b[K"
     ]
    },
    {
     "name": "stderr",
     "output_type": "stream",
     "text": [
      "\r\u001b[33mEvaluating over 30 metamodels:  77%[===================>     ]  ETA: 0:00:14\u001b[39m\u001b[K"
     ]
    },
    {
     "name": "stderr",
     "output_type": "stream",
     "text": [
      "\r\u001b[33mEvaluating over 30 metamodels:  80%[====================>    ]  ETA: 0:00:12\u001b[39m\u001b[K"
     ]
    },
    {
     "name": "stderr",
     "output_type": "stream",
     "text": [
      "\r\u001b[33mEvaluating over 30 metamodels:  83%[====================>    ]  ETA: 0:00:10\u001b[39m\u001b[K"
     ]
    },
    {
     "name": "stderr",
     "output_type": "stream",
     "text": [
      "\r\u001b[33mEvaluating over 30 metamodels:  87%[=====================>   ]  ETA: 0:00:08\u001b[39m\u001b[K"
     ]
    },
    {
     "name": "stderr",
     "output_type": "stream",
     "text": [
      "\r\u001b[33mEvaluating over 30 metamodels:  90%[======================>  ]  ETA: 0:00:06\u001b[39m\u001b[K"
     ]
    },
    {
     "name": "stderr",
     "output_type": "stream",
     "text": [
      "\r\u001b[33mEvaluating over 30 metamodels:  93%[=======================> ]  ETA: 0:00:04\u001b[39m\u001b[K"
     ]
    },
    {
     "name": "stderr",
     "output_type": "stream",
     "text": [
      "\r\u001b[33mEvaluating over 30 metamodels:  97%[========================>]  ETA: 0:00:02\u001b[39m\u001b[K"
     ]
    },
    {
     "name": "stderr",
     "output_type": "stream",
     "text": [
      "\r\u001b[33mEvaluating over 30 metamodels: 100%[=========================] Time: 0:00:55\u001b[39m\u001b[K\n"
     ]
    },
    {
     "data": {
      "text/plain": [
       "(parameter_name = \"epochs\",\n",
       " parameter_scale = :log10,\n",
       " parameter_values = [500, 512, 524, 537, 550, 563, 577, 591, 605, 620  …  806, 826, 846, 866, 887, 909, 931, 953, 976, 1000],\n",
       " measurements = [9.52228227725029e7, 9.507502750511436e7, 9.492784791087434e7, 9.476910182328668e7, 9.461107309138313e7, 9.445376378782994e7, 9.428515448697148e7, 9.411737185005507e7, 9.395041612574397e7, 9.377244999785303e7  …  9.16431517336055e7, 9.142251979538189e7, 9.120353257861239e7, 9.098611962134841e7, 9.07595520917961e7, 9.052403572934234e7, 9.029039535585377e7, 9.005862237589933e7, 8.98182928646992e7, 8.956967274760252e7],)"
      ]
     },
     "metadata": {},
     "output_type": "display_data"
    }
   ],
   "source": [
    "r = range(nnr, :epochs, lower=500, upper=1000, scale=:log10)\n",
    "curve = learning_curve(nnr, Xohe, y,\n",
    "                       range=r,\n",
    "                       resampling=Holdout(fraction_train=0.7),\n",
    "                       measure=Flux.mse)"
   ]
  },
  {
   "cell_type": "code",
   "execution_count": 76,
   "metadata": {},
   "outputs": [
    {
     "data": {
      "image/png": "[encoded data removed]",
      "text/plain": [
       "Scene (800px, 600px):\n",
       "  18 Plots:\n",
       "    ├ Mesh{Tuple{GeometryBasics.Mesh{2, Float32, GeometryBasics.TriangleP{2, Float32, GeometryBasics.PointMeta{2, Float32, Point{2, Float32}, (:uv, :normals), Tuple{Vec{2, Float32}, Vec{3, Float32}}}}, GeometryBasics.FaceView{GeometryBasics.TriangleP{2, Float32, GeometryBasics.PointMeta{2, Float32, Point{2, Float32}, (:uv, :normals), Tuple{Vec{2, Float32}, Vec{3, Float32}}}}, GeometryBasics.PointMeta{2, Float32, Point{2, Float32}, (:uv, :normals), Tuple{Vec{2, Float32}, Vec{3, Float32}}}, GeometryBasics.NgonFace{3, GeometryBasics.OffsetInteger{-1, UInt32}}, StructArrays.StructVector{GeometryBasics.PointMeta{2, Float32, Point{2, Float32}, (:uv, :normals), Tuple{Vec{2, Float32}, Vec{3, Float32}}}, NamedTuple{(:position, :uv, :normals), Tuple{Vector{Point{2, Float32}}, Vector{Vec{2, Float32}}, Vector{Vec{3, Float32}}}}, Int64}, Vector{GeometryBasics.NgonFace{3, GeometryBasics.OffsetInteger{-1, UInt32}}}}}}}\n",
       "    ├ LineSegments{Tuple{Vector{Point{2, Float32}}}}\n",
       "    ├ LineSegments{Tuple{Vector{Point{2, Float32}}}}\n",
       "    ├ LineSegments{Tuple{Vector{Point{2, Float32}}}}\n",
       "    ├ LineSegments{Tuple{Vector{Point{2, Float32}}}}\n",
       "    ├ LineSegments{Tuple{Vector{Point{2, Float32}}}}\n",
       "    ├ LineSegments{Tuple{Vector{Point{2, Float32}}}}\n",
       "    ├ MakieCore.Text{Tuple{String}}\n",
       "    ├ Lines{Tuple{Vector{Point{2, Float32}}}}\n",
       "    ├ MakieCore.Text{Tuple{Vector{Tuple{AbstractString, Point{2, Float32}}}}}\n",
       "    ├ LineSegments{Tuple{Vector{Point{2, Float32}}}}\n",
       "    ├ LineSegments{Tuple{Vector{Point{2, Float32}}}}\n",
       "    ├ MakieCore.Text{Tuple{String}}\n",
       "    ├ Lines{Tuple{Vector{Point{2, Float32}}}}\n",
       "    ├ MakieCore.Text{Tuple{Vector{Tuple{AbstractString, Point{2, Float32}}}}}\n",
       "    ├ Lines{Tuple{Vector{Point{2, Float32}}}}\n",
       "    ├ Lines{Tuple{Vector{Point{2, Float32}}}}\n",
       "    └ MakieCore.Text{Tuple{String}}\n",
       "  1 Child Scene:\n",
       "    └ Scene (660px, 520px)"
      ]
     },
     "metadata": {},
     "output_type": "display_data"
    }
   ],
   "source": [
    "fig = Figure()\n",
    "ax = Axis(fig[1, 1], xlabel=\"epochs\", ylabel=\"mse\")\n",
    "stairs!(ax, curve.parameter_values, curve.measurements)\n",
    "fig"
   ]
  },
  {
   "cell_type": "code",
   "execution_count": 77,
   "metadata": {},
   "outputs": [
    {
     "data": {
      "text/plain": [
       "1.3138722852601062e8"
      ]
     },
     "metadata": {},
     "output_type": "display_data"
    }
   ],
   "source": [
    "training_loss = Flux.mse(predict(mach, Xohe), y) |> mean"
   ]
  }
 ],
 "metadata": {
  "kernelspec": {
   "display_name": "Julia 1.7.1",
   "language": "julia",
   "name": "julia-1.7"
  },
  "language_info": {
   "file_extension": ".jl",
   "mimetype": "application/julia",
   "name": "julia",
   "version": "1.7.1"
  },
  "orig_nbformat": 4
 },
 "nbformat": 4,
 "nbformat_minor": 2
}
