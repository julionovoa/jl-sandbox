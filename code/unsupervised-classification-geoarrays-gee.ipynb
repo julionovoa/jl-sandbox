{
 "cells": [
  {
   "cell_type": "code",
   "execution_count": 1,
   "metadata": {},
   "outputs": [],
   "source": [
    "using GeoArrays\n",
    "using DataFrames\n",
    "using EarthEngine\n",
    "using MLJ\n",
    "using Plots"
   ]
  },
  {
   "cell_type": "code",
   "execution_count": 2,
   "metadata": {},
   "outputs": [],
   "source": [
    "# Initialize the EE API\n",
    "EE.Initialize()"
   ]
  },
  {
   "cell_type": "code",
   "execution_count": null,
   "metadata": {},
   "outputs": [],
   "source": [
    "# Read a Sentinel-2 image\n",
    "# Note: pipe doesn't work\n",
    "\n",
    "# s2 = EE.ImageCollection(\"COPERNICUS/S2_SR\") |>\n",
    "# □ -> EE.filterBounds(□ -> Point(-123.70, 48.55)) |>\n",
    "# □ -> EE.filterDate(□, \"2021-10-29\", \"2021-10-31\") |>\n",
    "# □ -> EE.sort(□, \"CLOUDY_PIXEL_PERCENTAGE\") |>\n",
    "# EE.first"
   ]
  },
  {
   "cell_type": "code",
   "execution_count": 62,
   "metadata": {},
   "outputs": [
    {
     "data": {
      "text/plain": [
       "EarthEngine.Image(PyObject <ee.image.Image object at 0x000000009A355610>)"
      ]
     },
     "metadata": {},
     "output_type": "display_data"
    }
   ],
   "source": [
    "# Read a Sentinel-2 image\n",
    "ic = EE.ImageCollection(\"COPERNICUS/S2_SR\")\n",
    "fb = EE.filterBounds(ic, Point(-123.70, 48.55))\n",
    "fd = EE.filterDate(fb, \"2021-10-29\", \"2021-10-31\")\n",
    "sr = EE.sort(fd, \"CLOUDY_PIXEL_PERCENTAGE\")\n",
    "s2 = EE.first(sr)"
   ]
  },
  {
   "cell_type": "code",
   "execution_count": 63,
   "metadata": {},
   "outputs": [
    {
     "name": "stdout",
     "output_type": "stream",
     "text": [
      "[\"B1\", \"B2\", \"B3\", \"B4\", \"B5\", \"B6\", \"B7\", \"B8\", \"B8A\", \"B9\", \"B11\", \"B12\", \"AOT\", \"WVP\", \"SCL\", \"TCI_R\", \"TCI_G\", \"TCI_B\", \"MSK_CLDPRB\", \"MSK_SNWPRB\", \"QA10\", \"QA20\", \"QA60\"]"
     ]
    }
   ],
   "source": [
    "print(getInfo(bandNames(s2)))"
   ]
  },
  {
   "cell_type": "code",
   "execution_count": 11,
   "metadata": {},
   "outputs": [
    {
     "data": {
      "text/plain": [
       "EarthEngine.Image(PyObject <ee.image.Image object at 0x000000009A358880>)"
      ]
     },
     "metadata": {},
     "output_type": "display_data"
    }
   ],
   "source": [
    "s2 = EE.select(s2, [\"B2\", \"B3\", \"B4\", \"B8\"])"
   ]
  },
  {
   "cell_type": "code",
   "execution_count": 58,
   "metadata": {},
   "outputs": [
    {
     "data": {
      "text/plain": [
       "Dict{Any, Any} with 5 entries:\n",
       "  \"data_type\"     => Dict{Any, Any}(\"max\"=>65535, \"min\"=>0, \"precision\"=>\"int\",…\n",
       "  \"dimensions\"    => [10980, 10980]\n",
       "  \"crs_transform\" => [10, 0, 399960, 0, -10, 5400000]\n",
       "  \"id\"            => \"B2\"\n",
       "  \"crs\"           => \"EPSG:32610\""
      ]
     },
     "metadata": {},
     "output_type": "display_data"
    }
   ],
   "source": [
    "# Properties of band 2\n",
    "EE.getInfo(s2)[\"bands\"][1]"
   ]
  },
  {
   "cell_type": "code",
   "execution_count": 29,
   "metadata": {},
   "outputs": [
    {
     "data": {
      "text/plain": [
       "EarthEngine.Image(PyObject <ee.image.Image object at 0x000000009A356FA0>)"
      ]
     },
     "metadata": {},
     "output_type": "display_data"
    }
   ],
   "source": [
    "s2_clip = EE.clip(s2, EE.BBox(-123.90, 48.35, -123.50, 48.85))"
   ]
  },
  {
   "cell_type": "code",
   "execution_count": 39,
   "metadata": {},
   "outputs": [
    {
     "data": {
      "text/plain": [
       "Dict{Any, Any} with 5 entries:\n",
       "  \"bands\"      => Dict{Any, Any}[Dict(\"crs\"=>\"EPSG:32610\", \"data_type\"=>Dict{An…\n",
       "  \"properties\" => Dict{Any, Any}(\"REFLECTANCE_CONVERSION_CORRECTION\"=>1.01298, …\n",
       "  \"id\"         => \"COPERNICUS/S2_SR/20211030T192529_20211030T192531_T10UDU\"\n",
       "  \"type\"       => \"Image\"\n",
       "  \"version\"    => 1635703671627943"
      ]
     },
     "metadata": {},
     "output_type": "display_data"
    }
   ],
   "source": [
    "s2_info = EE.getInfo(s2_clip)"
   ]
  },
  {
   "cell_type": "code",
   "execution_count": 55,
   "metadata": {},
   "outputs": [
    {
     "data": {
      "text/plain": [
       "Dict{Any, Any} with 6 entries:\n",
       "  \"crs\"           => \"EPSG:32610\"\n",
       "  \"data_type\"     => Dict{Any, Any}(\"max\"=>65535, \"min\"=>0, \"precision\"=>\"int\",…\n",
       "  \"dimensions\"    => [3001, 4468]\n",
       "  \"crs_transform\" => [10, 0, 399960, 0, -10, 5400000]\n",
       "  \"id\"            => \"B2\"\n",
       "  \"origin\"        => [3335, 0]"
      ]
     },
     "metadata": {},
     "output_type": "display_data"
    }
   ],
   "source": [
    "# EE.getInfo creates a dictionary with all the image properties\n",
    "# s2_info[\"properties\"][\"SPACECRAFT_NAME\"]*\" : \"*s2_info[\"id\"]\n",
    "s2_info[\"bands\"][1]"
   ]
  },
  {
   "cell_type": "code",
   "execution_count": null,
   "metadata": {},
   "outputs": [],
   "source": [
    "s2 = GeoArrays.read(\"../../sentinel2.tif\")"
   ]
  },
  {
   "cell_type": "code",
   "execution_count": null,
   "metadata": {},
   "outputs": [],
   "source": [
    "df = reshape(s2, (size(s2)[1]*size(s2)[2], size(s2)[3])) |>\n",
    "x -> DataFrame(x, :auto)"
   ]
  },
  {
   "cell_type": "code",
   "execution_count": null,
   "metadata": {},
   "outputs": [],
   "source": [
    "df = coerce(df, Count=>Continuous)"
   ]
  },
  {
   "cell_type": "code",
   "execution_count": null,
   "metadata": {},
   "outputs": [],
   "source": [
    "# K-Means\n",
    "model_kmeans = @load KMeans pkg=Clustering\n",
    "pipe_kmeans = @pipeline Standardizer() model_kmeans(k=10)\n",
    "mach_kmeans = machine(pipe_kmeans, df) |> fit!;"
   ]
  },
  {
   "cell_type": "code",
   "execution_count": null,
   "metadata": {},
   "outputs": [],
   "source": [
    "rep_kmeans = report(mach_kmeans)"
   ]
  },
  {
   "cell_type": "code",
   "execution_count": null,
   "metadata": {},
   "outputs": [],
   "source": [
    "df[!, :clusters] = collect(rep_kmeans.k_means[1]);"
   ]
  },
  {
   "cell_type": "code",
   "execution_count": null,
   "metadata": {},
   "outputs": [],
   "source": [
    "kmeans_raster = reshape(Array(df), (size(s2)[1], size(s2)[2], size(s2)[3]+1)) |>\n",
    "x -> reverse(x, dims=2) |>\n",
    "GeoArray"
   ]
  },
  {
   "cell_type": "code",
   "execution_count": null,
   "metadata": {},
   "outputs": [],
   "source": [
    "GeoArrays.bbox!(kmeans_raster, GeoArrays.bbox(s2))\n",
    "GeoArrays.epsg!(kmeans_raster, 32610)\n",
    "GeoArrays.write!(\"../../sentinel2_kmeans.tif\", kmeans_raster)"
   ]
  },
  {
   "cell_type": "code",
   "execution_count": null,
   "metadata": {},
   "outputs": [],
   "source": [
    "p1 = plot(s2, band=7)\n",
    "p2 = plot(kmeans_raster, band=14)\n",
    "plot(p1, p2, layout=(2,1))"
   ]
  }
 ],
 "metadata": {
  "kernelspec": {
   "display_name": "Julia 1.7.1",
   "language": "julia",
   "name": "julia-1.7"
  },
  "language_info": {
   "file_extension": ".jl",
   "mimetype": "application/julia",
   "name": "julia",
   "version": "1.7.1"
  },
  "orig_nbformat": 4
 },
 "nbformat": 4,
 "nbformat_minor": 2
}
