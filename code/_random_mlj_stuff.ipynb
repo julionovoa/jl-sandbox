{
 "cells": [
  {
   "cell_type": "code",
   "execution_count": 57,
   "metadata": {},
   "outputs": [],
   "source": [
    "using DataFrames, MLJ"
   ]
  },
  {
   "cell_type": "code",
   "execution_count": 58,
   "metadata": {},
   "outputs": [],
   "source": [
    "X, y = @load_boston;\n",
    "X = DataFrame(X)\n",
    "y = Vector(y);"
   ]
  },
  {
   "cell_type": "code",
   "execution_count": 61,
   "metadata": {},
   "outputs": [
    {
     "name": "stdout",
     "output_type": "stream",
     "text": [
      "import MLJLinearModels ✔\n"
     ]
    },
    {
     "name": "stderr",
     "output_type": "stream",
     "text": [
      "┌ Info: For silent loading, specify `verbosity=0`. \n",
      "└ @ Main C:\\Users\\jnovoa\\.julia\\packages\\MLJModels\\GKDnU\\src\\loading.jl:168\n"
     ]
    },
    {
     "name": "stderr",
     "output_type": "stream",
     "text": [
      "┌ Info: Training Machine{Pipeline300,…}.\n",
      "└ @ MLJBase C:\\Users\\jnovoa\\.julia\\packages\\MLJBase\\QXObv\\src\\machines.jl:403\n",
      "┌ Info: Training Machine{Standardizer,…}.\n",
      "└ @ MLJBase C:\\Users\\jnovoa\\.julia\\packages\\MLJBase\\QXObv\\src\\machines.jl:403\n",
      "┌ Info: Training Machine{RidgeRegressor,…}.\n",
      "└ @ MLJBase C:\\Users\\jnovoa\\.julia\\packages\\MLJBase\\QXObv\\src\\machines.jl:403\n"
     ]
    },
    {
     "data": {
      "text/plain": [
       "Machine{Pipeline300,…} trained 1 time; caches data\n",
       "  args: \n",
       "    1:\tSource @361 ⏎ `Table{AbstractVector{Continuous}}`\n",
       "    2:\tSource @731 ⏎ `AbstractVector{Continuous}`\n"
      ]
     },
     "metadata": {},
     "output_type": "display_data"
    }
   ],
   "source": [
    "rr = @load RidgeRegressor pkg=MLJLinearModels\n",
    "rrp = @pipeline Standardizer rr\n",
    "rrm = machine(rrp, X, y) |> fit!"
   ]
  },
  {
   "cell_type": "code",
   "execution_count": 62,
   "metadata": {},
   "outputs": [
    {
     "data": {
      "text/plain": [
       "(coefs = [:Crim => -0.9646555579091941, :Zn => 1.0815183340302263, :Indus => 0.2509115424946997, :NOx => -1.9841636009758719, :Rm => 2.7145852017736862, :Age => 0.0717900614211485, :Dis => -3.1014908014507743, :Rad => 2.7825167847728576, :Tax => -2.245987542695771, :PTRatio => -2.1371965934286146, :Black => 0.88901331420523, :LStat => -3.8012748459584698],\n",
       " intercept = 22.488362919132154,)"
      ]
     },
     "metadata": {},
     "output_type": "display_data"
    }
   ],
   "source": [
    "fitted_params(rrm).ridge_regressor"
   ]
  },
  {
   "cell_type": "code",
   "execution_count": 63,
   "metadata": {},
   "outputs": [
    {
     "data": {
      "text/plain": [
       "(ridge_regressor = (),\n",
       " standardizer = (features_fit = [:Zn, :Rad, :Tax, :LStat, :Rm, :Age, :NOx, :Indus, :Dis, :PTRatio, :Crim, :Black],),\n",
       " machines = Machine[Machine{Standardizer,…}, Machine{RidgeRegressor,…}],\n",
       " report_given_machine = OrderedCollections.LittleDict{Any, Any, Vector{Any}, Vector{Any}}(Machine{Standardizer,…} => (features_fit = [:Zn, :Rad, :Tax, :LStat, :Rm, :Age, :NOx, :Indus, :Dis, :PTRatio, :Crim, :Black],), Machine{RidgeRegressor,…} => NamedTuple()),)"
      ]
     },
     "metadata": {},
     "output_type": "display_data"
    }
   ],
   "source": [
    "report(rrm)"
   ]
  }
 ],
 "metadata": {
  "kernelspec": {
   "display_name": "Julia 1.7.0",
   "language": "julia",
   "name": "julia-1.7"
  },
  "language_info": {
   "file_extension": ".jl",
   "mimetype": "application/julia",
   "name": "julia",
   "version": "1.7.0"
  },
  "orig_nbformat": 4
 },
 "nbformat": 4,
 "nbformat_minor": 2
}
