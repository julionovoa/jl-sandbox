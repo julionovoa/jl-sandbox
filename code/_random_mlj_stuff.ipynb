{
 "cells": [
  {
   "cell_type": "code",
   "execution_count": 1,
   "metadata": {},
   "outputs": [],
   "source": [
    "using DataFrames, MLJ"
   ]
  },
  {
   "cell_type": "code",
   "execution_count": 2,
   "metadata": {},
   "outputs": [],
   "source": [
    "X, y = @load_boston;\n",
    "X = DataFrame(X)\n",
    "y = Vector(y);"
   ]
  },
  {
   "cell_type": "code",
   "execution_count": 10,
   "metadata": {},
   "outputs": [
    {
     "name": "stdout",
     "output_type": "stream",
     "text": [
      "import MLJLinearModels ✔\n",
      "import MLJLinearModels ✔\n",
      "import MLJLinearModels ✔\n"
     ]
    },
    {
     "name": "stderr",
     "output_type": "stream",
     "text": [
      "┌ Info: For silent loading, specify `verbosity=0`. \n",
      "└ @ Main C:\\Users\\julio\\.julia\\packages\\MLJModels\\GKDnU\\src\\loading.jl:168\n",
      "┌ Info: For silent loading, specify `verbosity=0`. \n",
      "└ @ Main C:\\Users\\julio\\.julia\\packages\\MLJModels\\GKDnU\\src\\loading.jl:168\n",
      "┌ Info: For silent loading, specify `verbosity=0`. \n",
      "└ @ Main C:\\Users\\julio\\.julia\\packages\\MLJModels\\GKDnU\\src\\loading.jl:168\n"
     ]
    },
    {
     "data": {
      "text/plain": [
       "Pipeline284(\n",
       "    standardizer = Standardizer(\n",
       "            features = Symbol[],\n",
       "            ignore = false,\n",
       "            ordered_factor = false,\n",
       "            count = false),\n",
       "    ridge_regressor = RidgeRegressor(\n",
       "            lambda = 1.0,\n",
       "            fit_intercept = true,\n",
       "            penalize_intercept = false,\n",
       "            solver = nothing))"
      ]
     },
     "metadata": {},
     "output_type": "display_data"
    }
   ],
   "source": [
    "rr_model = @load RidgeRegressor pkg=MLJLinearModels add=true\n",
    "rr_pipe = @pipeline Standardizer rr_model"
   ]
  },
  {
   "cell_type": "code",
   "execution_count": 4,
   "metadata": {},
   "outputs": [
    {
     "data": {
      "text/plain": [
       "(:lambda, :fit_intercept, :penalize_intercept, :solver)"
      ]
     },
     "metadata": {},
     "output_type": "display_data"
    }
   ],
   "source": [
    "fieldnames(rr_model)"
   ]
  },
  {
   "cell_type": "code",
   "execution_count": 9,
   "metadata": {},
   "outputs": [
    {
     "name": "stdout",
     "output_type": "stream",
     "text": [
      "import MLJDecisionTreeInterface ✔\n"
     ]
    },
    {
     "name": "stderr",
     "output_type": "stream",
     "text": [
      "┌ Info: For silent loading, specify `verbosity=0`. \n",
      "└ @ Main C:\\Users\\julio\\.julia\\packages\\MLJModels\\GKDnU\\src\\loading.jl:168\n"
     ]
    },
    {
     "data": {
      "text/plain": [
       "Pipeline290(\n",
       "    standardizer = Standardizer(\n",
       "            features = Symbol[],\n",
       "            ignore = false,\n",
       "            ordered_factor = false,\n",
       "            count = false),\n",
       "    random_forest_regressor = RandomForestRegressor(\n",
       "            max_depth = -1,\n",
       "            min_samples_leaf = 1,\n",
       "            min_samples_split = 2,\n",
       "            min_purity_increase = 0.0,\n",
       "            n_subfeatures = -1,\n",
       "            n_trees = 10,\n",
       "            sampling_fraction = 0.7,\n",
       "            pdf_smoothing = 0.0,\n",
       "            rng = Random._GLOBAL_RNG()))"
      ]
     },
     "metadata": {},
     "output_type": "display_data"
    }
   ],
   "source": [
    "rf_model = @load RandomForestRegressor pkg=DecisionTree add=true\n",
    "rf_pipe = @pipeline Standardizer rf_model"
   ]
  },
  {
   "cell_type": "code",
   "execution_count": 37,
   "metadata": {},
   "outputs": [
    {
     "name": "stderr",
     "output_type": "stream",
     "text": [
      "┌ Info: Training Machine{DeterministicTunedModel{Grid,…},…}.\n",
      "└ @ MLJBase C:\\Users\\julio\\.julia\\packages\\MLJBase\\QXObv\\src\\machines.jl:403\n",
      "┌ Info: Attempting to evaluate 50 models.\n",
      "└ @ MLJTuning C:\\Users\\julio\\.julia\\packages\\MLJTuning\\bjRHJ\\src\\tuned_models.jl:680\n",
      "\r\u001b[33mEvaluating over 50 metamodels:   4%[=>                       ]  ETA: 0:00:26\u001b[39m\u001b[K"
     ]
    },
    {
     "name": "stderr",
     "output_type": "stream",
     "text": [
      "\r\u001b[33mEvaluating over 50 metamodels: 100%[=========================] Time: 0:00:02\u001b[39m\u001b[K\n"
     ]
    },
    {
     "data": {
      "text/plain": [
       "Pipeline290(\n",
       "    standardizer = Standardizer(\n",
       "            features = Symbol[],\n",
       "            ignore = false,\n",
       "            ordered_factor = false,\n",
       "            count = false),\n",
       "    random_forest_regressor = RandomForestRegressor(\n",
       "            max_depth = 5,\n",
       "            min_samples_leaf = 1,\n",
       "            min_samples_split = 2,\n",
       "            min_purity_increase = 0.0,\n",
       "            n_subfeatures = -1,\n",
       "            n_trees = 23,\n",
       "            sampling_fraction = 0.7,\n",
       "            pdf_smoothing = 0.0,\n",
       "            rng = Random._GLOBAL_RNG()))"
      ]
     },
     "metadata": {},
     "output_type": "display_data"
    }
   ],
   "source": [
    "r = [\n",
    "    range(rf_pipe, :(random_forest_regressor.max_depth), lower=1, upper=5),\n",
    "    range(rf_pipe, :(random_forest_regressor.n_trees), lower=10, upper=50)\n",
    "    ]\n",
    "\n",
    "tuned2 = TunedModel(model=rf_pipe,\n",
    "                    range=r,\n",
    "                    measure=rms);\n",
    "m = machine(tuned2, X, y) |> fit!\n",
    "fitted_params(m).best_model"
   ]
  },
  {
   "cell_type": "code",
   "execution_count": 11,
   "metadata": {},
   "outputs": [
    {
     "data": {
      "text/plain": [
       "DeterministicTunedModel(\n",
       "    model = Pipeline297(\n",
       "            standardizer = Standardizer,\n",
       "            ridge_regressor = RidgeRegressor),\n",
       "    tuning = Explicit(),\n",
       "    resampling = Holdout(\n",
       "            fraction_train = 0.7,\n",
       "            shuffle = false,\n",
       "            rng = Random._GLOBAL_RNG()),\n",
       "    measure = RootMeanSquaredError(),\n",
       "    weights = nothing,\n",
       "    operation = nothing,\n",
       "    range = DeterministicComposite[Pipeline297, Pipeline290],\n",
       "    selection_heuristic = MLJTuning.NaiveSelection(nothing),\n",
       "    train_best = true,\n",
       "    repeats = 1,\n",
       "    n = nothing,\n",
       "    acceleration = CPU1{Nothing}(nothing),\n",
       "    acceleration_resampling = CPU1{Nothing}(nothing),\n",
       "    check_measure = true,\n",
       "    cache = true)"
      ]
     },
     "metadata": {},
     "output_type": "display_data"
    }
   ],
   "source": [
    "tuned_model = TunedModel(\n",
    "    models=[rr_pipe, rf_pipe],\n",
    "    measure=rms,\n",
    "    train_best=true\n",
    ")"
   ]
  },
  {
   "cell_type": "code",
   "execution_count": 13,
   "metadata": {},
   "outputs": [
    {
     "name": "stderr",
     "output_type": "stream",
     "text": [
      "┌ Info: Training Machine{DeterministicTunedModel{Explicit,…},…}.\n",
      "└ @ MLJBase C:\\Users\\julio\\.julia\\packages\\MLJBase\\QXObv\\src\\machines.jl:403\n",
      "┌ Info: Attempting to evaluate 2 models.\n",
      "└ @ MLJTuning C:\\Users\\julio\\.julia\\packages\\MLJTuning\\bjRHJ\\src\\tuned_models.jl:680\n"
     ]
    },
    {
     "data": {
      "text/plain": [
       "Machine{DeterministicTunedModel{Explicit,…},…} trained 1 time; caches data\n",
       "  args: \n",
       "    1:\tSource @961 ⏎ `Table{AbstractVector{Continuous}}`\n",
       "    2:\tSource @390 ⏎ `AbstractVector{Continuous}`\n"
      ]
     },
     "metadata": {},
     "output_type": "display_data"
    }
   ],
   "source": [
    "m = machine(tuned_model, X, y) |> fit!"
   ]
  },
  {
   "cell_type": "code",
   "execution_count": 15,
   "metadata": {},
   "outputs": [
    {
     "data": {
      "text/plain": [
       "(best_model = Pipeline290,\n",
       " best_fitted_params = (random_forest_regressor = (forest = Ensemble of Decision Trees\n",
       "Trees:      10\n",
       "Avg Leaves: 247.7\n",
       "Avg Depth:  17.0,),\n",
       "                       standardizer = Dict(:Zn => (11.363636363636363, 23.322452994515135), :Rad => (9.549407114624506, 8.707259384239368), :Tax => (408.2371541501976, 168.537116054959), :LStat => (12.653063241106722, 7.141061511348569), :Rm => (6.284634387351778, 0.7026171434153233), :Age => (68.57490118577076, 28.148861406903617), :NOx => (0.5546950592885372, 0.11587767566755595), :Indus => (11.136778656126486, 6.8603529408975845), :Dis => (3.795042687747036, 2.105710126627611), :PTRatio => (18.45553359683795, 2.1649455237144406)…),\n",
       "                       machines = Machine[Machine{Standardizer,…}, Machine{RandomForestRegressor,…}],\n",
       "                       fitted_params_given_machine = OrderedCollections.LittleDict{Any, Any, Vector{Any}, Vector{Any}}(Machine{Standardizer,…} => Dict(:Zn => (11.363636363636363, 23.322452994515135), :Rad => (9.549407114624506, 8.707259384239368), :Tax => (408.2371541501976, 168.537116054959), :LStat => (12.653063241106722, 7.141061511348569), :Rm => (6.284634387351778, 0.7026171434153233), :Age => (68.57490118577076, 28.148861406903617), :NOx => (0.5546950592885372, 0.11587767566755595), :Indus => (11.136778656126486, 6.8603529408975845), :Dis => (3.795042687747036, 2.105710126627611), :PTRatio => (18.45553359683795, 2.1649455237144406)…), Machine{RandomForestRegressor,…} => (forest = Ensemble of Decision Trees\n",
       "Trees:      10\n",
       "Avg Leaves: 247.7\n",
       "Avg Depth:  17.0,)),),)"
      ]
     },
     "metadata": {},
     "output_type": "display_data"
    }
   ],
   "source": [
    "fitted_params(m)"
   ]
  },
  {
   "cell_type": "code",
   "execution_count": 21,
   "metadata": {},
   "outputs": [
    {
     "name": "stdout",
     "output_type": "stream",
     "text": [
      "r.best_history_entry.measurement = [7.69887765231161]\n"
     ]
    }
   ],
   "source": [
    "r = report(m)\n",
    "@show r.best_history_entry.measurement;"
   ]
  },
  {
   "cell_type": "code",
   "execution_count": 27,
   "metadata": {},
   "outputs": [
    {
     "data": {
      "text/plain": [
       "Pipeline290(\n",
       "    standardizer = Standardizer(\n",
       "            features = Symbol[],\n",
       "            ignore = false,\n",
       "            ordered_factor = false,\n",
       "            count = false),\n",
       "    random_forest_regressor = RandomForestRegressor(\n",
       "            max_depth = -1,\n",
       "            min_samples_leaf = 1,\n",
       "            min_samples_split = 2,\n",
       "            min_purity_increase = 0.0,\n",
       "            n_subfeatures = -1,\n",
       "            n_trees = 10,\n",
       "            sampling_fraction = 0.7,\n",
       "            pdf_smoothing = 0.0,\n",
       "            rng = Random._GLOBAL_RNG()))"
      ]
     },
     "metadata": {},
     "output_type": "display_data"
    }
   ],
   "source": [
    "r.best_model"
   ]
  },
  {
   "cell_type": "code",
   "execution_count": 26,
   "metadata": {},
   "outputs": [
    {
     "data": {
      "text/plain": [
       "(random_forest_regressor = (),\n",
       " standardizer = (features_fit = [:Zn, :Rad, :Tax, :LStat, :Rm, :Age, :NOx, :Indus, :Dis, :PTRatio, :Crim, :Black],),\n",
       " machines = Machine[Machine{Standardizer,…}, Machine{RandomForestRegressor,…}],\n",
       " report_given_machine = OrderedCollections.LittleDict{Any, Any, Vector{Any}, Vector{Any}}(Machine{Standardizer,…} => (features_fit = [:Zn, :Rad, :Tax, :LStat, :Rm, :Age, :NOx, :Indus, :Dis, :PTRatio, :Crim, :Black],), Machine{RandomForestRegressor,…} => NamedTuple()),)"
      ]
     },
     "metadata": {},
     "output_type": "display_data"
    }
   ],
   "source": [
    "r.best_report"
   ]
  }
 ],
 "metadata": {
  "kernelspec": {
   "display_name": "Julia 1.7.0",
   "language": "julia",
   "name": "julia-1.7"
  },
  "language_info": {
   "file_extension": ".jl",
   "mimetype": "application/julia",
   "name": "julia",
   "version": "1.7.0"
  },
  "orig_nbformat": 4
 },
 "nbformat": 4,
 "nbformat_minor": 2
}
