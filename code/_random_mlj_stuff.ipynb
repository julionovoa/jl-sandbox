{
 "cells": [
  {
   "cell_type": "code",
   "execution_count": null,
   "metadata": {},
   "outputs": [],
   "source": [
    "using DataFrames, MLJ"
   ]
  },
  {
   "cell_type": "code",
   "execution_count": null,
   "metadata": {},
   "outputs": [],
   "source": [
    "X, y = @load_boston;\n",
    "X = DataFrame(X)\n",
    "y = Vector(y);"
   ]
  },
  {
   "cell_type": "code",
   "execution_count": null,
   "metadata": {},
   "outputs": [],
   "source": [
    "rr_model = @load RidgeRegressor pkg=MLJLinearModels\n",
    "rr_pipe = @pipeline Standardizer rr_model"
   ]
  },
  {
   "cell_type": "code",
   "execution_count": null,
   "metadata": {},
   "outputs": [],
   "source": [
    "fieldnames(rr_model)"
   ]
  },
  {
   "cell_type": "code",
   "execution_count": null,
   "metadata": {},
   "outputs": [],
   "source": [
    "rf_model = @load RandomForestRegressor pkg=DecisionTree add=true\n",
    "rf_pipe = @pipeline Standardizer rf_model"
   ]
  },
  {
   "cell_type": "code",
   "execution_count": null,
   "metadata": {},
   "outputs": [],
   "source": [
    "r = [\n",
    "    range(rf_pipe, :(random_forest_regressor.max_depth), lower=1, upper=5),\n",
    "    range(rf_pipe, :(random_forest_regressor.n_trees), lower=10, upper=50)\n",
    "    ]\n",
    "\n",
    "tuned2 = TunedModel(model=rf_pipe,\n",
    "                    range=r,\n",
    "                    measure=rms);\n",
    "m = machine(tuned2, X, y) |> fit!\n",
    "fitted_params(m).best_model"
   ]
  },
  {
   "cell_type": "code",
   "execution_count": null,
   "metadata": {},
   "outputs": [],
   "source": [
    "tuned_model = TunedModel(\n",
    "    models=[rr_pipe, rf_pipe],\n",
    "    measure=rms,\n",
    "    train_best=true\n",
    ")"
   ]
  },
  {
   "cell_type": "code",
   "execution_count": null,
   "metadata": {},
   "outputs": [],
   "source": [
    "m = machine(tuned_model, X, y) |> fit!"
   ]
  },
  {
   "cell_type": "code",
   "execution_count": null,
   "metadata": {},
   "outputs": [],
   "source": [
    "fitted_params(m)"
   ]
  },
  {
   "cell_type": "code",
   "execution_count": null,
   "metadata": {},
   "outputs": [],
   "source": [
    "r = report(m)\n",
    "@show r.best_history_entry.measurement;"
   ]
  },
  {
   "cell_type": "code",
   "execution_count": null,
   "metadata": {},
   "outputs": [],
   "source": [
    "r.best_model"
   ]
  },
  {
   "cell_type": "code",
   "execution_count": null,
   "metadata": {},
   "outputs": [],
   "source": [
    "r.best_report"
   ]
  },
  {
   "cell_type": "markdown",
   "metadata": {},
   "source": [
    "# Testing `@pipelines`"
   ]
  },
  {
   "cell_type": "code",
   "execution_count": null,
   "metadata": {},
   "outputs": [],
   "source": [
    "using DataFrames, MLJ, VegaLite\n",
    "X, y = @load_boston;\n",
    "X = DataFrame(X)\n",
    "y = Vector(y);"
   ]
  },
  {
   "cell_type": "code",
   "execution_count": null,
   "metadata": {},
   "outputs": [],
   "source": [
    "rr_model = @load RidgeRegressor pkg=MLJLinearModels"
   ]
  },
  {
   "cell_type": "code",
   "execution_count": null,
   "metadata": {},
   "outputs": [],
   "source": [
    "# pipeline with target transformation (log) and inverse transformation (exp)\n",
    "rr_pipe = @pipeline(Standardizer,\n",
    "                    rr_model,\n",
    "                    target=UnivariateBoxCoxTransformer)\n",
    "                    # ,\n",
    "                    # inverse=exp)"
   ]
  },
  {
   "cell_type": "code",
   "execution_count": null,
   "metadata": {},
   "outputs": [],
   "source": [
    "m = machine(rr_pipe, X, y)\n",
    "fit!(m)"
   ]
  },
  {
   "cell_type": "code",
   "execution_count": null,
   "metadata": {},
   "outputs": [],
   "source": [
    "fitted_params(m)"
   ]
  },
  {
   "cell_type": "code",
   "execution_count": null,
   "metadata": {},
   "outputs": [],
   "source": [
    "r = report(m)"
   ]
  },
  {
   "cell_type": "code",
   "execution_count": null,
   "metadata": {},
   "outputs": [],
   "source": [
    "X"
   ]
  },
  {
   "cell_type": "code",
   "execution_count": null,
   "metadata": {},
   "outputs": [],
   "source": [
    "boxcox = UnivariateBoxCoxTransformer();\n",
    "mach = fit!(machine(boxcox, y))\n",
    "a, b = MLJ.transform(mach, y), y"
   ]
  },
  {
   "cell_type": "code",
   "execution_count": null,
   "metadata": {},
   "outputs": [],
   "source": [
    "DataFrame(a=a,b=b) |>\n",
    "[\n",
    "    @vlplot(:bar, x=a, y=\"count()\");\n",
    "    @vlplot(:bar, x=b, y=\"count()\")\n",
    "]\n"
   ]
  },
  {
   "cell_type": "markdown",
   "metadata": {},
   "source": [
    "# Testing a simple workflow\n",
    "\n",
    "- Import dataset, do some clean up, fix scitypes\n",
    "- Unpack predictors and response variable\n",
    "- Load a ridge regressor model\n",
    "- Create a pipeline with the following steps:\n",
    "    - Standardize all continuous predictors\n",
    "    - One hot encode all multiclass predictors\n",
    "    - Transform target using log\n",
    "    - Inverse target using exp"
   ]
  },
  {
   "cell_type": "code",
   "execution_count": 1,
   "metadata": {},
   "outputs": [],
   "source": [
    "using CSV, DataFrames, MLJ, MLJLinearModels"
   ]
  },
  {
   "cell_type": "code",
   "execution_count": null,
   "metadata": {},
   "outputs": [],
   "source": [
    "# Import CSV to dataframe, select some columns\n",
    "lichen_training = CSV.read(\"C:/Users/julio/Downloads/lichen_training.csv\", DataFrame; missingstring=\"NA\") |>\n",
    "dropmissing |>\n",
    "x -> select(x, \"Total.lichen\", \"basal_area\", \"PL\", \"mean_Long\", \"mean_Lat\", \"SX\", \"SNR\") |>\n",
    "x -> rename(x, [\"biomass\", \"basalarea\", \"pl\", \"lon\", \"lat\", \"sx\", \"snr\"]) |>\n",
    "x -> coerce(x, Count => Continuous, Textual => Multiclass)\n",
    "\n",
    "schema(lichen_training)"
   ]
  },
  {
   "cell_type": "code",
   "execution_count": null,
   "metadata": {},
   "outputs": [],
   "source": [
    "# Unpack predictors and response variable\n",
    "y, X = unpack(lichen_training, ==(:biomass), _->true);"
   ]
  },
  {
   "cell_type": "code",
   "execution_count": null,
   "metadata": {},
   "outputs": [],
   "source": [
    "# Testing OneHotEncoder\n",
    "# hot = OneHotEncoder()\n",
    "# m = fit!(machine(hot, X))\n",
    "# transform(m, X)"
   ]
  },
  {
   "cell_type": "code",
   "execution_count": null,
   "metadata": {},
   "outputs": [],
   "source": [
    "model = @load RidgeRegressor pkg=MLJLinearModels\n",
    "pipe = @pipeline Standardizer OneHotEncoder model target=log inverse=exp"
   ]
  },
  {
   "cell_type": "code",
   "execution_count": null,
   "metadata": {},
   "outputs": [],
   "source": [
    "mach = machine(pipe, X, y)"
   ]
  },
  {
   "cell_type": "code",
   "execution_count": null,
   "metadata": {},
   "outputs": [],
   "source": [
    "fit!(mach)"
   ]
  }
 ],
 "metadata": {
  "kernelspec": {
   "display_name": "Julia 1.7.0",
   "language": "julia",
   "name": "julia-1.7"
  },
  "language_info": {
   "file_extension": ".jl",
   "mimetype": "application/julia",
   "name": "julia",
   "version": "1.7.0"
  },
  "orig_nbformat": 4
 },
 "nbformat": 4,
 "nbformat_minor": 2
}
