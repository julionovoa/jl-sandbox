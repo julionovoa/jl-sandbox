{
 "cells": [
  {
   "cell_type": "code",
   "execution_count": 1,
   "metadata": {},
   "outputs": [],
   "source": [
    "using ArchGDAL\n",
    "using DataFrames"
   ]
  },
  {
   "cell_type": "code",
   "execution_count": 2,
   "metadata": {},
   "outputs": [
    {
     "data": {
      "text/html": [
       "<div class=\"data-frame\"><p>181 rows × 27 columns (omitted printing of 21 columns)</p><table class=\"data-frame\"><thead><tr><th></th><th></th><th>track_fid</th><th>track_seg_id</th><th>track_seg_point_id</th><th>ele</th><th>time</th></tr><tr><th></th><th title=\"ArchGDAL.IGeometry{ArchGDAL.wkbPoint}\">IGeomet…</th><th title=\"Int32\">Int32</th><th title=\"Int32\">Int32</th><th title=\"Int32\">Int32</th><th title=\"Float64\">Float64</th><th title=\"Dates.DateTime\">DateTim…</th></tr></thead><tbody><tr><th>1</th><td>Geometry: wkbPoint</td><td>0</td><td>0</td><td>0</td><td>444.795</td><td>2021-09-28T19:13:52</td></tr><tr><th>2</th><td>Geometry: wkbPoint</td><td>0</td><td>0</td><td>1</td><td>444.953</td><td>2021-09-28T19:13:53</td></tr><tr><th>3</th><td>Geometry: wkbPoint</td><td>0</td><td>0</td><td>2</td><td>449.556</td><td>2021-09-28T19:14:19</td></tr><tr><th>4</th><td>Geometry: wkbPoint</td><td>0</td><td>0</td><td>3</td><td>450.036</td><td>2021-09-28T19:14:29</td></tr><tr><th>5</th><td>Geometry: wkbPoint</td><td>0</td><td>0</td><td>4</td><td>450.005</td><td>2021-09-28T19:14:43</td></tr><tr><th>6</th><td>Geometry: wkbPoint</td><td>0</td><td>0</td><td>5</td><td>449.555</td><td>2021-09-28T19:14:47</td></tr><tr><th>7</th><td>Geometry: wkbPoint</td><td>0</td><td>0</td><td>6</td><td>444.306</td><td>2021-09-28T19:15:12</td></tr><tr><th>8</th><td>Geometry: wkbPoint</td><td>0</td><td>0</td><td>7</td><td>444.232</td><td>2021-09-28T19:15:30</td></tr><tr><th>9</th><td>Geometry: wkbPoint</td><td>0</td><td>0</td><td>8</td><td>446.173</td><td>2021-09-28T19:15:36</td></tr><tr><th>10</th><td>Geometry: wkbPoint</td><td>0</td><td>0</td><td>9</td><td>445.683</td><td>2021-09-28T19:15:46</td></tr><tr><th>11</th><td>Geometry: wkbPoint</td><td>0</td><td>0</td><td>10</td><td>443.749</td><td>2021-09-28T19:15:53</td></tr><tr><th>12</th><td>Geometry: wkbPoint</td><td>0</td><td>0</td><td>11</td><td>443.996</td><td>2021-09-28T19:16:02</td></tr><tr><th>13</th><td>Geometry: wkbPoint</td><td>0</td><td>0</td><td>12</td><td>443.24</td><td>2021-09-28T19:16:07</td></tr><tr><th>14</th><td>Geometry: wkbPoint</td><td>0</td><td>0</td><td>13</td><td>442.944</td><td>2021-09-28T19:16:12</td></tr><tr><th>15</th><td>Geometry: wkbPoint</td><td>0</td><td>0</td><td>14</td><td>441.64</td><td>2021-09-28T19:16:17</td></tr><tr><th>16</th><td>Geometry: wkbPoint</td><td>0</td><td>0</td><td>15</td><td>441.096</td><td>2021-09-28T19:16:22</td></tr><tr><th>17</th><td>Geometry: wkbPoint</td><td>0</td><td>0</td><td>16</td><td>441.945</td><td>2021-09-28T19:16:30</td></tr><tr><th>18</th><td>Geometry: wkbPoint</td><td>0</td><td>0</td><td>17</td><td>441.233</td><td>2021-09-28T19:16:40</td></tr><tr><th>19</th><td>Geometry: wkbPoint</td><td>0</td><td>0</td><td>18</td><td>441.511</td><td>2021-09-28T19:16:49</td></tr><tr><th>20</th><td>Geometry: wkbPoint</td><td>0</td><td>0</td><td>19</td><td>441.436</td><td>2021-09-28T19:16:55</td></tr><tr><th>21</th><td>Geometry: wkbPoint</td><td>0</td><td>0</td><td>20</td><td>441.457</td><td>2021-09-28T19:17:01</td></tr><tr><th>22</th><td>Geometry: wkbPoint</td><td>0</td><td>0</td><td>21</td><td>442.893</td><td>2021-09-28T19:17:36</td></tr><tr><th>23</th><td>Geometry: wkbPoint</td><td>0</td><td>0</td><td>22</td><td>445.571</td><td>2021-09-28T19:17:45</td></tr><tr><th>24</th><td>Geometry: wkbPoint</td><td>0</td><td>0</td><td>23</td><td>445.306</td><td>2021-09-28T19:17:51</td></tr><tr><th>&vellip;</th><td>&vellip;</td><td>&vellip;</td><td>&vellip;</td><td>&vellip;</td><td>&vellip;</td><td>&vellip;</td></tr></tbody></table></div>"
      ],
      "text/latex": [
       "\\begin{tabular}{r|ccccccc}\n",
       "\t&  & track\\_fid & track\\_seg\\_id & track\\_seg\\_point\\_id & ele & time & \\\\\n",
       "\t\\hline\n",
       "\t& IGeomet… & Int32 & Int32 & Int32 & Float64 & DateTim… & \\\\\n",
       "\t\\hline\n",
       "\t1 & Geometry: wkbPoint & 0 & 0 & 0 & 444.795 & 2021-09-28T19:13:52 & $\\dots$ \\\\\n",
       "\t2 & Geometry: wkbPoint & 0 & 0 & 1 & 444.953 & 2021-09-28T19:13:53 & $\\dots$ \\\\\n",
       "\t3 & Geometry: wkbPoint & 0 & 0 & 2 & 449.556 & 2021-09-28T19:14:19 & $\\dots$ \\\\\n",
       "\t4 & Geometry: wkbPoint & 0 & 0 & 3 & 450.036 & 2021-09-28T19:14:29 & $\\dots$ \\\\\n",
       "\t5 & Geometry: wkbPoint & 0 & 0 & 4 & 450.005 & 2021-09-28T19:14:43 & $\\dots$ \\\\\n",
       "\t6 & Geometry: wkbPoint & 0 & 0 & 5 & 449.555 & 2021-09-28T19:14:47 & $\\dots$ \\\\\n",
       "\t7 & Geometry: wkbPoint & 0 & 0 & 6 & 444.306 & 2021-09-28T19:15:12 & $\\dots$ \\\\\n",
       "\t8 & Geometry: wkbPoint & 0 & 0 & 7 & 444.232 & 2021-09-28T19:15:30 & $\\dots$ \\\\\n",
       "\t9 & Geometry: wkbPoint & 0 & 0 & 8 & 446.173 & 2021-09-28T19:15:36 & $\\dots$ \\\\\n",
       "\t10 & Geometry: wkbPoint & 0 & 0 & 9 & 445.683 & 2021-09-28T19:15:46 & $\\dots$ \\\\\n",
       "\t11 & Geometry: wkbPoint & 0 & 0 & 10 & 443.749 & 2021-09-28T19:15:53 & $\\dots$ \\\\\n",
       "\t12 & Geometry: wkbPoint & 0 & 0 & 11 & 443.996 & 2021-09-28T19:16:02 & $\\dots$ \\\\\n",
       "\t13 & Geometry: wkbPoint & 0 & 0 & 12 & 443.24 & 2021-09-28T19:16:07 & $\\dots$ \\\\\n",
       "\t14 & Geometry: wkbPoint & 0 & 0 & 13 & 442.944 & 2021-09-28T19:16:12 & $\\dots$ \\\\\n",
       "\t15 & Geometry: wkbPoint & 0 & 0 & 14 & 441.64 & 2021-09-28T19:16:17 & $\\dots$ \\\\\n",
       "\t16 & Geometry: wkbPoint & 0 & 0 & 15 & 441.096 & 2021-09-28T19:16:22 & $\\dots$ \\\\\n",
       "\t17 & Geometry: wkbPoint & 0 & 0 & 16 & 441.945 & 2021-09-28T19:16:30 & $\\dots$ \\\\\n",
       "\t18 & Geometry: wkbPoint & 0 & 0 & 17 & 441.233 & 2021-09-28T19:16:40 & $\\dots$ \\\\\n",
       "\t19 & Geometry: wkbPoint & 0 & 0 & 18 & 441.511 & 2021-09-28T19:16:49 & $\\dots$ \\\\\n",
       "\t20 & Geometry: wkbPoint & 0 & 0 & 19 & 441.436 & 2021-09-28T19:16:55 & $\\dots$ \\\\\n",
       "\t21 & Geometry: wkbPoint & 0 & 0 & 20 & 441.457 & 2021-09-28T19:17:01 & $\\dots$ \\\\\n",
       "\t22 & Geometry: wkbPoint & 0 & 0 & 21 & 442.893 & 2021-09-28T19:17:36 & $\\dots$ \\\\\n",
       "\t23 & Geometry: wkbPoint & 0 & 0 & 22 & 445.571 & 2021-09-28T19:17:45 & $\\dots$ \\\\\n",
       "\t24 & Geometry: wkbPoint & 0 & 0 & 23 & 445.306 & 2021-09-28T19:17:51 & $\\dots$ \\\\\n",
       "\t$\\dots$ & $\\dots$ & $\\dots$ & $\\dots$ & $\\dots$ & $\\dots$ & $\\dots$ &  \\\\\n",
       "\\end{tabular}\n"
      ],
      "text/plain": [
       "\u001b[1m181×27 DataFrame\u001b[0m\n",
       "\u001b[1m Row \u001b[0m│\u001b[1m                    \u001b[0m\u001b[1m track_fid \u001b[0m\u001b[1m track_seg_id \u001b[0m\u001b[1m track_seg_point_id \u001b[0m\u001b[1m ele   \u001b[0m ⋯\n",
       "\u001b[1m     \u001b[0m│\u001b[90m IGeometr…          \u001b[0m\u001b[90m Int32     \u001b[0m\u001b[90m Int32        \u001b[0m\u001b[90m Int32              \u001b[0m\u001b[90m Float6\u001b[0m ⋯\n",
       "─────┼──────────────────────────────────────────────────────────────────────────\n",
       "   1 │ Geometry: wkbPoint          0             0                   0  444.79 ⋯\n",
       "   2 │ Geometry: wkbPoint          0             0                   1  444.95\n",
       "   3 │ Geometry: wkbPoint          0             0                   2  449.55\n",
       "   4 │ Geometry: wkbPoint          0             0                   3  450.03\n",
       "   5 │ Geometry: wkbPoint          0             0                   4  450.00 ⋯\n",
       "   6 │ Geometry: wkbPoint          0             0                   5  449.55\n",
       "   7 │ Geometry: wkbPoint          0             0                   6  444.30\n",
       "   8 │ Geometry: wkbPoint          0             0                   7  444.23\n",
       "  ⋮  │         ⋮               ⋮           ⋮                ⋮              ⋮   ⋱\n",
       " 175 │ Geometry: wkbPoint          0             0                 174  442.46 ⋯\n",
       " 176 │ Geometry: wkbPoint          0             0                 175  442.24\n",
       " 177 │ Geometry: wkbPoint          0             0                 176  443.73\n",
       " 178 │ Geometry: wkbPoint          0             0                 177  444.23\n",
       " 179 │ Geometry: wkbPoint          0             0                 178  441.15 ⋯\n",
       " 180 │ Geometry: wkbPoint          0             0                 179  443.38\n",
       " 181 │ Geometry: wkbPoint          0             0                 180  442.56\n",
       "\u001b[36m                                                 23 columns and 166 rows omitted\u001b[0m"
      ]
     },
     "metadata": {},
     "output_type": "display_data"
    }
   ],
   "source": [
    "# Import track points\n",
    "tracks_path = \"C:/Users/julio/Desktop/sandbox/data/tracks.gpx\"\n",
    "tr = ArchGDAL.read(tracks_path) |>\n",
    "x -> DataFrame(ArchGDAL.getlayer(x, 4))"
   ]
  },
  {
   "cell_type": "code",
   "execution_count": 3,
   "metadata": {},
   "outputs": [
    {
     "data": {
      "text/html": [
       "<div class=\"data-frame\"><p>3 rows × 24 columns (omitted printing of 17 columns)</p><table class=\"data-frame\"><thead><tr><th></th><th></th><th>ele</th><th>time</th><th>magvar</th><th>geoidheight</th><th>name</th><th>cmt</th></tr><tr><th></th><th title=\"ArchGDAL.IGeometry{ArchGDAL.wkbPoint}\">IGeomet…</th><th title=\"Missing\">Missing</th><th title=\"Missing\">Missing</th><th title=\"Missing\">Missing</th><th title=\"Missing\">Missing</th><th title=\"String\">String</th><th title=\"Missing\">Missing</th></tr></thead><tbody><tr><th>1</th><td>Geometry: wkbPoint</td><td><em>missing</em></td><td><em>missing</em></td><td><em>missing</em></td><td><em>missing</em></td><td>Antenna_A</td><td><em>missing</em></td></tr><tr><th>2</th><td>Geometry: wkbPoint</td><td><em>missing</em></td><td><em>missing</em></td><td><em>missing</em></td><td><em>missing</em></td><td>Antenna_B</td><td><em>missing</em></td></tr><tr><th>3</th><td>Geometry: wkbPoint</td><td><em>missing</em></td><td><em>missing</em></td><td><em>missing</em></td><td><em>missing</em></td><td>Antenna_C</td><td><em>missing</em></td></tr></tbody></table></div>"
      ],
      "text/latex": [
       "\\begin{tabular}{r|cccccccc}\n",
       "\t&  & ele & time & magvar & geoidheight & name & cmt & \\\\\n",
       "\t\\hline\n",
       "\t& IGeomet… & Missing & Missing & Missing & Missing & String & Missing & \\\\\n",
       "\t\\hline\n",
       "\t1 & Geometry: wkbPoint & \\emph{missing} & \\emph{missing} & \\emph{missing} & \\emph{missing} & Antenna\\_A & \\emph{missing} & $\\dots$ \\\\\n",
       "\t2 & Geometry: wkbPoint & \\emph{missing} & \\emph{missing} & \\emph{missing} & \\emph{missing} & Antenna\\_B & \\emph{missing} & $\\dots$ \\\\\n",
       "\t3 & Geometry: wkbPoint & \\emph{missing} & \\emph{missing} & \\emph{missing} & \\emph{missing} & Antenna\\_C & \\emph{missing} & $\\dots$ \\\\\n",
       "\\end{tabular}\n"
      ],
      "text/plain": [
       "\u001b[1m3×24 DataFrame\u001b[0m\n",
       "\u001b[1m Row \u001b[0m│\u001b[1m                    \u001b[0m\u001b[1m ele     \u001b[0m\u001b[1m time    \u001b[0m\u001b[1m magvar  \u001b[0m\u001b[1m geoidheight \u001b[0m\u001b[1m name      \u001b[0m\u001b[1m \u001b[0m ⋯\n",
       "\u001b[1m     \u001b[0m│\u001b[90m IGeometr…          \u001b[0m\u001b[90m Missing \u001b[0m\u001b[90m Missing \u001b[0m\u001b[90m Missing \u001b[0m\u001b[90m Missing     \u001b[0m\u001b[90m String    \u001b[0m\u001b[90m \u001b[0m ⋯\n",
       "─────┼──────────────────────────────────────────────────────────────────────────\n",
       "   1 │ Geometry: wkbPoint \u001b[90m missing \u001b[0m\u001b[90m missing \u001b[0m\u001b[90m missing \u001b[0m\u001b[90m     missing \u001b[0m Antenna_A \u001b[90m \u001b[0m ⋯\n",
       "   2 │ Geometry: wkbPoint \u001b[90m missing \u001b[0m\u001b[90m missing \u001b[0m\u001b[90m missing \u001b[0m\u001b[90m     missing \u001b[0m Antenna_B \u001b[90m\u001b[0m\n",
       "   3 │ Geometry: wkbPoint \u001b[90m missing \u001b[0m\u001b[90m missing \u001b[0m\u001b[90m missing \u001b[0m\u001b[90m     missing \u001b[0m Antenna_C \u001b[90m\u001b[0m\n",
       "\u001b[36m                                                              18 columns omitted\u001b[0m"
      ]
     },
     "metadata": {},
     "output_type": "display_data"
    }
   ],
   "source": [
    "# Import waypoints\n",
    "waypoints_path = \"C:/Users/julio/Desktop/sandbox/data/waypoints.gpx\"\n",
    "wp = ArchGDAL.read(waypoints_path) |>\n",
    "x -> DataFrame(ArchGDAL.getlayer(x, 0))"
   ]
  },
  {
   "cell_type": "code",
   "execution_count": null,
   "metadata": {},
   "outputs": [],
   "source": [
    "# Function for calculating distances"
   ]
  }
 ],
 "metadata": {
  "kernelspec": {
   "display_name": "Julia 1.6.3",
   "language": "julia",
   "name": "julia-1.6"
  },
  "language_info": {
   "file_extension": ".jl",
   "mimetype": "application/julia",
   "name": "julia",
   "version": "1.6.3"
  },
  "orig_nbformat": 4
 },
 "nbformat": 4,
 "nbformat_minor": 2
}
