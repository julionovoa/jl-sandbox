{
 "cells": [
  {
   "cell_type": "markdown",
   "metadata": {},
   "source": [
    "# Testing an MLJ random forest classifier with the penguins dataset"
   ]
  },
  {
   "cell_type": "code",
   "execution_count": 38,
   "metadata": {},
   "outputs": [],
   "source": [
    "# Load packages\n",
    "using MLJ, CSV, DataFrames, VegaLite"
   ]
  },
  {
   "cell_type": "code",
   "execution_count": 39,
   "metadata": {},
   "outputs": [
    {
     "data": {
      "text/html": [
       "<div class=\"data-frame\"><p>342 rows × 5 columns</p><table class=\"data-frame\"><thead><tr><th></th><th>species</th><th>bill_length_mm</th><th>bill_depth_mm</th><th>flipper_length_mm</th><th>body_mass_g</th></tr><tr><th></th><th title=\"String15\">String15</th><th title=\"Float64\">Float64</th><th title=\"Float64\">Float64</th><th title=\"Int64\">Int64</th><th title=\"Int64\">Int64</th></tr></thead><tbody><tr><th>1</th><td>Adelie</td><td>39.1</td><td>18.7</td><td>181</td><td>3750</td></tr><tr><th>2</th><td>Adelie</td><td>39.5</td><td>17.4</td><td>186</td><td>3800</td></tr><tr><th>3</th><td>Adelie</td><td>40.3</td><td>18.0</td><td>195</td><td>3250</td></tr><tr><th>4</th><td>Adelie</td><td>36.7</td><td>19.3</td><td>193</td><td>3450</td></tr><tr><th>5</th><td>Adelie</td><td>39.3</td><td>20.6</td><td>190</td><td>3650</td></tr><tr><th>6</th><td>Adelie</td><td>38.9</td><td>17.8</td><td>181</td><td>3625</td></tr><tr><th>7</th><td>Adelie</td><td>39.2</td><td>19.6</td><td>195</td><td>4675</td></tr><tr><th>8</th><td>Adelie</td><td>34.1</td><td>18.1</td><td>193</td><td>3475</td></tr><tr><th>9</th><td>Adelie</td><td>42.0</td><td>20.2</td><td>190</td><td>4250</td></tr><tr><th>10</th><td>Adelie</td><td>37.8</td><td>17.1</td><td>186</td><td>3300</td></tr><tr><th>11</th><td>Adelie</td><td>37.8</td><td>17.3</td><td>180</td><td>3700</td></tr><tr><th>12</th><td>Adelie</td><td>41.1</td><td>17.6</td><td>182</td><td>3200</td></tr><tr><th>13</th><td>Adelie</td><td>38.6</td><td>21.2</td><td>191</td><td>3800</td></tr><tr><th>14</th><td>Adelie</td><td>34.6</td><td>21.1</td><td>198</td><td>4400</td></tr><tr><th>15</th><td>Adelie</td><td>36.6</td><td>17.8</td><td>185</td><td>3700</td></tr><tr><th>16</th><td>Adelie</td><td>38.7</td><td>19.0</td><td>195</td><td>3450</td></tr><tr><th>17</th><td>Adelie</td><td>42.5</td><td>20.7</td><td>197</td><td>4500</td></tr><tr><th>18</th><td>Adelie</td><td>34.4</td><td>18.4</td><td>184</td><td>3325</td></tr><tr><th>19</th><td>Adelie</td><td>46.0</td><td>21.5</td><td>194</td><td>4200</td></tr><tr><th>20</th><td>Adelie</td><td>37.8</td><td>18.3</td><td>174</td><td>3400</td></tr><tr><th>21</th><td>Adelie</td><td>37.7</td><td>18.7</td><td>180</td><td>3600</td></tr><tr><th>22</th><td>Adelie</td><td>35.9</td><td>19.2</td><td>189</td><td>3800</td></tr><tr><th>23</th><td>Adelie</td><td>38.2</td><td>18.1</td><td>185</td><td>3950</td></tr><tr><th>24</th><td>Adelie</td><td>38.8</td><td>17.2</td><td>180</td><td>3800</td></tr><tr><th>&vellip;</th><td>&vellip;</td><td>&vellip;</td><td>&vellip;</td><td>&vellip;</td><td>&vellip;</td></tr></tbody></table></div>"
      ],
      "text/latex": [
       "\\begin{tabular}{r|ccccc}\n",
       "\t& species & bill\\_length\\_mm & bill\\_depth\\_mm & flipper\\_length\\_mm & body\\_mass\\_g\\\\\n",
       "\t\\hline\n",
       "\t& String15 & Float64 & Float64 & Int64 & Int64\\\\\n",
       "\t\\hline\n",
       "\t1 & Adelie & 39.1 & 18.7 & 181 & 3750 \\\\\n",
       "\t2 & Adelie & 39.5 & 17.4 & 186 & 3800 \\\\\n",
       "\t3 & Adelie & 40.3 & 18.0 & 195 & 3250 \\\\\n",
       "\t4 & Adelie & 36.7 & 19.3 & 193 & 3450 \\\\\n",
       "\t5 & Adelie & 39.3 & 20.6 & 190 & 3650 \\\\\n",
       "\t6 & Adelie & 38.9 & 17.8 & 181 & 3625 \\\\\n",
       "\t7 & Adelie & 39.2 & 19.6 & 195 & 4675 \\\\\n",
       "\t8 & Adelie & 34.1 & 18.1 & 193 & 3475 \\\\\n",
       "\t9 & Adelie & 42.0 & 20.2 & 190 & 4250 \\\\\n",
       "\t10 & Adelie & 37.8 & 17.1 & 186 & 3300 \\\\\n",
       "\t11 & Adelie & 37.8 & 17.3 & 180 & 3700 \\\\\n",
       "\t12 & Adelie & 41.1 & 17.6 & 182 & 3200 \\\\\n",
       "\t13 & Adelie & 38.6 & 21.2 & 191 & 3800 \\\\\n",
       "\t14 & Adelie & 34.6 & 21.1 & 198 & 4400 \\\\\n",
       "\t15 & Adelie & 36.6 & 17.8 & 185 & 3700 \\\\\n",
       "\t16 & Adelie & 38.7 & 19.0 & 195 & 3450 \\\\\n",
       "\t17 & Adelie & 42.5 & 20.7 & 197 & 4500 \\\\\n",
       "\t18 & Adelie & 34.4 & 18.4 & 184 & 3325 \\\\\n",
       "\t19 & Adelie & 46.0 & 21.5 & 194 & 4200 \\\\\n",
       "\t20 & Adelie & 37.8 & 18.3 & 174 & 3400 \\\\\n",
       "\t21 & Adelie & 37.7 & 18.7 & 180 & 3600 \\\\\n",
       "\t22 & Adelie & 35.9 & 19.2 & 189 & 3800 \\\\\n",
       "\t23 & Adelie & 38.2 & 18.1 & 185 & 3950 \\\\\n",
       "\t24 & Adelie & 38.8 & 17.2 & 180 & 3800 \\\\\n",
       "\t$\\dots$ & $\\dots$ & $\\dots$ & $\\dots$ & $\\dots$ & $\\dots$ \\\\\n",
       "\\end{tabular}\n"
      ],
      "text/plain": [
       "\u001b[1m342×5 DataFrame\u001b[0m\n",
       "\u001b[1m Row \u001b[0m│\u001b[1m species   \u001b[0m\u001b[1m bill_length_mm \u001b[0m\u001b[1m bill_depth_mm \u001b[0m\u001b[1m flipper_length_mm \u001b[0m\u001b[1m body_mass_\u001b[0m ⋯\n",
       "\u001b[1m     \u001b[0m│\u001b[90m String15  \u001b[0m\u001b[90m Float64        \u001b[0m\u001b[90m Float64       \u001b[0m\u001b[90m Int64             \u001b[0m\u001b[90m Int64     \u001b[0m ⋯\n",
       "─────┼──────────────────────────────────────────────────────────────────────────\n",
       "   1 │ Adelie               39.1           18.7                181         375 ⋯\n",
       "   2 │ Adelie               39.5           17.4                186         380\n",
       "   3 │ Adelie               40.3           18.0                195         325\n",
       "   4 │ Adelie               36.7           19.3                193         345\n",
       "   5 │ Adelie               39.3           20.6                190         365 ⋯\n",
       "   6 │ Adelie               38.9           17.8                181         362\n",
       "   7 │ Adelie               39.2           19.6                195         467\n",
       "   8 │ Adelie               34.1           18.1                193         347\n",
       "  ⋮  │     ⋮            ⋮               ⋮                ⋮               ⋮     ⋱\n",
       " 336 │ Chinstrap            46.8           16.5                189         365 ⋯\n",
       " 337 │ Chinstrap            45.7           17.0                195         365\n",
       " 338 │ Chinstrap            55.8           19.8                207         400\n",
       " 339 │ Chinstrap            43.5           18.1                202         340\n",
       " 340 │ Chinstrap            49.6           18.2                193         377 ⋯\n",
       " 341 │ Chinstrap            50.8           19.0                210         410\n",
       " 342 │ Chinstrap            50.2           18.7                198         377\n",
       "\u001b[36m                                                   1 column and 327 rows omitted\u001b[0m"
      ]
     },
     "metadata": {},
     "output_type": "display_data"
    }
   ],
   "source": [
    "# Import CSV to dataframe, select some columns, drop missing values\n",
    "penguins = CSV.read(\"penguins.csv\", missingstring=\"NA\", DataFrame) |>\n",
    "x -> select(x, :species, :bill_length_mm, :bill_depth_mm, :flipper_length_mm, :body_mass_g) |>\n",
    "dropmissing"
   ]
  },
  {
   "cell_type": "code",
   "execution_count": 40,
   "metadata": {},
   "outputs": [
    {
     "data": {
      "text/plain": [
       "┌───────────────────┬──────────┬────────────┐\n",
       "│\u001b[22m _.names           \u001b[0m│\u001b[22m _.types  \u001b[0m│\u001b[22m _.scitypes \u001b[0m│\n",
       "├───────────────────┼──────────┼────────────┤\n",
       "│ species           │ String15 │ Textual    │\n",
       "│ bill_length_mm    │ Float64  │ Continuous │\n",
       "│ bill_depth_mm     │ Float64  │ Continuous │\n",
       "│ flipper_length_mm │ Int64    │ Count      │\n",
       "│ body_mass_g       │ Int64    │ Count      │\n",
       "└───────────────────┴──────────┴────────────┘\n",
       "_.nrows = 342\n"
      ]
     },
     "metadata": {},
     "output_type": "display_data"
    }
   ],
   "source": [
    "schema(penguins)"
   ]
  },
  {
   "cell_type": "code",
   "execution_count": 41,
   "metadata": {},
   "outputs": [],
   "source": [
    "# Modify data schema\n",
    "coerce!(penguins,\n",
    ":species            => Multiclass,\n",
    ":flipper_length_mm  => Continuous,\n",
    ":body_mass_g        => Continuous);"
   ]
  },
  {
   "cell_type": "code",
   "execution_count": 42,
   "metadata": {},
   "outputs": [
    {
     "data": {
      "text/plain": [
       "┌───────────────────┬────────────────────────────────────┬───────────────┐\n",
       "│\u001b[22m _.names           \u001b[0m│\u001b[22m _.types                            \u001b[0m│\u001b[22m _.scitypes    \u001b[0m│\n",
       "├───────────────────┼────────────────────────────────────┼───────────────┤\n",
       "│ species           │ CategoricalValue{String15, UInt32} │ Multiclass{3} │\n",
       "│ bill_length_mm    │ Float64                            │ Continuous    │\n",
       "│ bill_depth_mm     │ Float64                            │ Continuous    │\n",
       "│ flipper_length_mm │ Float64                            │ Continuous    │\n",
       "│ body_mass_g       │ Float64                            │ Continuous    │\n",
       "└───────────────────┴────────────────────────────────────┴───────────────┘\n",
       "_.nrows = 342\n"
      ]
     },
     "metadata": {},
     "output_type": "display_data"
    }
   ],
   "source": [
    "# Check data schema\n",
    "schema(penguins)"
   ]
  },
  {
   "cell_type": "code",
   "execution_count": 43,
   "metadata": {},
   "outputs": [],
   "source": [
    "# Split predictors (X) and response variable (y)\n",
    "y, X = unpack(penguins, ==(:species), _ -> true; rng=1010);"
   ]
  },
  {
   "cell_type": "code",
   "execution_count": 44,
   "metadata": {},
   "outputs": [
    {
     "name": "stdout",
     "output_type": "stream",
     "text": [
      "AdaBoostStumpClassifier                 (DecisionTree)\n",
      "BayesianLDA                             (MultivariateStats)\n",
      "BayesianSubspaceLDA                     (MultivariateStats)\n",
      "ConstantClassifier                      (MLJModels)\n",
      "DecisionTreeClassifier                  (BetaML)\n",
      "DecisionTreeClassifier                  (DecisionTree)\n",
      "DeterministicConstantClassifier         (MLJModels)\n",
      "EvoTreeClassifier                       (EvoTrees)\n",
      "GaussianNBClassifier                    (NaiveBayes)\n",
      "KNNClassifier                           (NearestNeighborModels)\n",
      "KernelPerceptronClassifier              (BetaML)\n",
      "LDA                                     (MultivariateStats)\n",
      "LogisticClassifier                      (MLJLinearModels)\n",
      "MultinomialClassifier                   (MLJLinearModels)\n",
      "NeuralNetworkClassifier                 (MLJFlux)\n",
      "PegasosClassifier                       (BetaML)\n",
      "PerceptronClassifier                    (BetaML)\n",
      "RandomForestClassifier                  (BetaML)\n",
      "RandomForestClassifier                  (DecisionTree)\n",
      "SubspaceLDA                             (MultivariateStats)\n"
     ]
    }
   ],
   "source": [
    "# Search for models that match the data scitype and are pure Julia\n",
    "for m in models(matching(X, y))\n",
    "    if m.is_pure_julia == true\n",
    "        println(rpad(m.name, 40), \"($(m.package_name))\")\n",
    "    end\n",
    "end"
   ]
  },
  {
   "cell_type": "code",
   "execution_count": 45,
   "metadata": {},
   "outputs": [
    {
     "data": {
      "text/plain": [
       "2-element Vector{NamedTuple{(:name, :package_name, :is_supervised, :abstract_type, :deep_properties, :docstring, :fit_data_scitype, :hyperparameter_ranges, :hyperparameter_types, :hyperparameters, :implemented_methods, :inverse_transform_scitype, :is_pure_julia, :is_wrapper, :iteration_parameter, :load_path, :package_license, :package_url, :package_uuid, :predict_scitype, :prediction_type, :supports_class_weights, :supports_online, :supports_training_losses, :supports_weights, :transform_scitype, :input_scitype, :target_scitype, :output_scitype), T} where T<:Tuple}:\n",
       " (name = RandomForestClassifier, package_name = BetaML, ... )\n",
       " (name = RandomForestClassifier, package_name = DecisionTree, ... )"
      ]
     },
     "metadata": {},
     "output_type": "display_data"
    }
   ],
   "source": [
    "# Search for random forest classifier models that match the data scitype and are pure Julia\n",
    "[m for m in models(matching(X, y)) if m.name == \"RandomForestClassifier\" && m.is_pure_julia == true]"
   ]
  },
  {
   "cell_type": "code",
   "execution_count": 46,
   "metadata": {},
   "outputs": [
    {
     "data": {
      "text/plain": [
       "MLJDecisionTreeInterface.RandomForestClassifier"
      ]
     },
     "metadata": {},
     "output_type": "display_data"
    }
   ],
   "source": [
    "# Create a model using the DecisionTree package\n",
    "model = @load RandomForestClassifier pkg=\"DecisionTree\" add=true verbosity=0"
   ]
  },
  {
   "cell_type": "code",
   "execution_count": 47,
   "metadata": {},
   "outputs": [
    {
     "data": {
      "text/plain": [
       "\u001b[35mRandom forest classifier.\u001b[39m\n",
       "\u001b[35m→ based on [DecisionTree](https://github.com/bensadeghi/DecisionTree.jl).\u001b[39m\n",
       "\u001b[35m→ do `@load RandomForestClassifier pkg=\"DecisionTree\"` to use the model.\u001b[39m\n",
       "\u001b[35m→ do `?RandomForestClassifier` for documentation.\u001b[39m\n",
       "(name = \"RandomForestClassifier\",\n",
       " package_name = \"DecisionTree\",\n",
       " is_supervised = true,\n",
       " abstract_type = Probabilistic,\n",
       " deep_properties = (),\n",
       " docstring = \"Random forest classifier.\\n→ based on [DecisionTree](https://github.com/bensadeghi/DecisionTree.jl).\\n→ do `@load RandomForestClassifier pkg=\\\"DecisionTree\\\"` to use the model.\\n→ do `?RandomForestClassifier` for documentation.\",\n",
       " fit_data_scitype = Tuple{Table{var\"#s53\"} where var\"#s53\"<:Union{AbstractVector{var\"#s52\"} where var\"#s52\"<:Count, AbstractVector{var\"#s52\"} where var\"#s52\"<:OrderedFactor, AbstractVector{var\"#s52\"} where var\"#s52\"<:Continuous}, AbstractVector{var\"#s41\"} where var\"#s41\"<:Finite},\n",
       " hyperparameter_ranges = (nothing, nothing, nothing, nothing, nothing, nothing, nothing, nothing, nothing),\n",
       " hyperparameter_types = (\"Int64\", \"Int64\", \"Int64\", \"Float64\", \"Int64\", \"Int64\", \"Float64\", \"Float64\", \"Union{Integer, Random.AbstractRNG}\"),\n",
       " hyperparameters = (:max_depth, :min_samples_leaf, :min_samples_split, :min_purity_increase, :n_subfeatures, :n_trees, :sampling_fraction, :pdf_smoothing, :rng),\n",
       " implemented_methods = [:clean!, :fit, :fitted_params, :predict],\n",
       " inverse_transform_scitype = Unknown,\n",
       " is_pure_julia = true,\n",
       " is_wrapper = false,\n",
       " iteration_parameter = nothing,\n",
       " load_path = \"MLJDecisionTreeInterface.RandomForestClassifier\",\n",
       " package_license = \"MIT\",\n",
       " package_url = \"https://github.com/bensadeghi/DecisionTree.jl\",\n",
       " package_uuid = \"7806a523-6efd-50cb-b5f6-3fa6f1930dbb\",\n",
       " predict_scitype = AbstractVector{ScientificTypesBase.Density{_s25} where _s25<:Finite},\n",
       " prediction_type = :probabilistic,\n",
       " supports_class_weights = false,\n",
       " supports_online = false,\n",
       " supports_training_losses = false,\n",
       " supports_weights = false,\n",
       " transform_scitype = Unknown,\n",
       " input_scitype = Table{var\"#s53\"} where var\"#s53\"<:Union{AbstractVector{var\"#s52\"} where var\"#s52\"<:Count, AbstractVector{var\"#s52\"} where var\"#s52\"<:OrderedFactor, AbstractVector{var\"#s52\"} where var\"#s52\"<:Continuous},\n",
       " target_scitype = AbstractVector{var\"#s41\"} where var\"#s41\"<:Finite,\n",
       " output_scitype = Unknown,)"
      ]
     },
     "metadata": {},
     "output_type": "display_data"
    }
   ],
   "source": [
    "# Get model info\n",
    "info(model)"
   ]
  },
  {
   "cell_type": "code",
   "execution_count": 48,
   "metadata": {},
   "outputs": [
    {
     "data": {
      "text/plain": [
       "RandomForestClassifier(\n",
       "    max_depth = -1,\n",
       "    min_samples_leaf = 1,\n",
       "    min_samples_split = 2,\n",
       "    min_purity_increase = 0.0,\n",
       "    n_subfeatures = -1,\n",
       "    n_trees = 10,\n",
       "    sampling_fraction = 0.7,\n",
       "    pdf_smoothing = 0.0,\n",
       "    rng = Random._GLOBAL_RNG())"
      ]
     },
     "metadata": {},
     "output_type": "display_data"
    }
   ],
   "source": [
    "# Instantiate the random forest classifier\n",
    "model_rf = model()"
   ]
  },
  {
   "cell_type": "code",
   "execution_count": 49,
   "metadata": {},
   "outputs": [
    {
     "data": {
      "text/plain": [
       "Machine{RandomForestClassifier,…} trained 0 times; caches data\n",
       "  args: \n",
       "    1:\tSource @785 ⏎ `Table{AbstractVector{Continuous}}`\n",
       "    2:\tSource @009 ⏎ `AbstractVector{Multiclass{3}}`\n"
      ]
     },
     "metadata": {},
     "output_type": "display_data"
    }
   ],
   "source": [
    "# Create an MLJ machine (model + data)\n",
    "mach_rf = machine(model_rf, X, y)"
   ]
  },
  {
   "cell_type": "code",
   "execution_count": 50,
   "metadata": {},
   "outputs": [
    {
     "data": {
      "text/plain": [
       "([58, 318, 278, 89, 200, 38, 219, 332, 237, 133  …  336, 126, 177, 14, 65, 333, 252, 183, 239, 196], [62, 176, 264, 212, 129, 310, 181, 101, 151, 211  …  69, 241, 7, 316, 315, 145, 158, 110, 43, 179])"
      ]
     },
     "metadata": {},
     "output_type": "display_data"
    }
   ],
   "source": [
    "# Split train/test\n",
    "train, test = partition(eachindex(y), 0.7, shuffle=true, rng=1010)"
   ]
  },
  {
   "cell_type": "code",
   "execution_count": 51,
   "metadata": {},
   "outputs": [
    {
     "name": "stderr",
     "output_type": "stream",
     "text": [
      "┌ Info: Training Machine{RandomForestClassifier,…}.\n",
      "└ @ MLJBase C:\\Users\\julio\\.julia\\packages\\MLJBase\\QXObv\\src\\machines.jl:403\n"
     ]
    },
    {
     "data": {
      "text/plain": [
       "Machine{RandomForestClassifier,…} trained 1 time; caches data\n",
       "  args: \n",
       "    1:\tSource @785 ⏎ `Table{AbstractVector{Continuous}}`\n",
       "    2:\tSource @009 ⏎ `AbstractVector{Multiclass{3}}`\n"
      ]
     },
     "metadata": {},
     "output_type": "display_data"
    }
   ],
   "source": [
    "# Fit the model\n",
    "fit!(mach_rf, rows=train)"
   ]
  },
  {
   "cell_type": "code",
   "execution_count": 52,
   "metadata": {},
   "outputs": [
    {
     "data": {
      "text/plain": [
       "(forest = Ensemble of Decision Trees\n",
       "Trees:      10\n",
       "Avg Leaves: 9.3\n",
       "Avg Depth:  5.6,)"
      ]
     },
     "metadata": {},
     "output_type": "display_data"
    }
   ],
   "source": [
    "# Check trained parameters\n",
    "fitted_params(mach_rf)"
   ]
  },
  {
   "cell_type": "code",
   "execution_count": 53,
   "metadata": {},
   "outputs": [
    {
     "data": {
      "text/plain": [
       "103-element MLJBase.UnivariateFiniteVector{Multiclass{3}, String15, UInt32, Float64}:\n",
       " UnivariateFinite{Multiclass{3}}(Adelie=>0.3, Chinstrap=>0.7, Gentoo=>0.0)\n",
       " UnivariateFinite{Multiclass{3}}(Adelie=>0.9, Chinstrap=>0.1, Gentoo=>0.0)\n",
       " UnivariateFinite{Multiclass{3}}(Adelie=>0.1, Chinstrap=>0.9, Gentoo=>0.0)\n",
       " UnivariateFinite{Multiclass{3}}(Adelie=>0.7, Chinstrap=>0.1, Gentoo=>0.2)\n",
       " UnivariateFinite{Multiclass{3}}(Adelie=>0.9, Chinstrap=>0.1, Gentoo=>0.0)\n",
       " UnivariateFinite{Multiclass{3}}(Adelie=>1.0, Chinstrap=>0.0, Gentoo=>0.0)\n",
       " UnivariateFinite{Multiclass{3}}(Adelie=>1.0, Chinstrap=>0.0, Gentoo=>0.0)\n",
       " UnivariateFinite{Multiclass{3}}(Adelie=>0.0, Chinstrap=>1.0, Gentoo=>0.0)\n",
       " UnivariateFinite{Multiclass{3}}(Adelie=>0.7, Chinstrap=>0.3, Gentoo=>0.0)\n",
       " UnivariateFinite{Multiclass{3}}(Adelie=>1.0, Chinstrap=>0.0, Gentoo=>0.0)\n",
       " ⋮\n",
       " UnivariateFinite{Multiclass{3}}(Adelie=>0.0, Chinstrap=>0.1, Gentoo=>0.9)\n",
       " UnivariateFinite{Multiclass{3}}(Adelie=>0.0, Chinstrap=>0.0, Gentoo=>1.0)\n",
       " UnivariateFinite{Multiclass{3}}(Adelie=>0.0, Chinstrap=>1.0, Gentoo=>0.0)\n",
       " UnivariateFinite{Multiclass{3}}(Adelie=>0.9, Chinstrap=>0.1, Gentoo=>0.0)\n",
       " UnivariateFinite{Multiclass{3}}(Adelie=>0.0, Chinstrap=>1.0, Gentoo=>0.0)\n",
       " UnivariateFinite{Multiclass{3}}(Adelie=>1.0, Chinstrap=>0.0, Gentoo=>0.0)\n",
       " UnivariateFinite{Multiclass{3}}(Adelie=>1.0, Chinstrap=>0.0, Gentoo=>0.0)\n",
       " UnivariateFinite{Multiclass{3}}(Adelie=>1.0, Chinstrap=>0.0, Gentoo=>0.0)\n",
       " UnivariateFinite{Multiclass{3}}(Adelie=>1.0, Chinstrap=>0.0, Gentoo=>0.0)"
      ]
     },
     "metadata": {},
     "output_type": "display_data"
    }
   ],
   "source": [
    "# Make predictions\n",
    "y_test_pred = predict(mach_rf, rows=test)"
   ]
  },
  {
   "cell_type": "code",
   "execution_count": 54,
   "metadata": {},
   "outputs": [
    {
     "data": {
      "text/plain": [
       "103-element CategoricalArrays.CategoricalArray{String15,1,UInt32}:\n",
       " \"Chinstrap\"\n",
       " \"Adelie\"\n",
       " \"Chinstrap\"\n",
       " \"Adelie\"\n",
       " \"Adelie\"\n",
       " \"Adelie\"\n",
       " \"Adelie\"\n",
       " \"Chinstrap\"\n",
       " \"Adelie\"\n",
       " \"Adelie\"\n",
       " ⋮\n",
       " \"Gentoo\"\n",
       " \"Gentoo\"\n",
       " \"Chinstrap\"\n",
       " \"Adelie\"\n",
       " \"Chinstrap\"\n",
       " \"Adelie\"\n",
       " \"Adelie\"\n",
       " \"Adelie\"\n",
       " \"Adelie\""
      ]
     },
     "metadata": {},
     "output_type": "display_data"
    }
   ],
   "source": [
    "# Extract best prediction\n",
    "# predict(mach_rf, rows=test)\n",
    "mode.(y_test_pred)"
   ]
  },
  {
   "cell_type": "code",
   "execution_count": 55,
   "metadata": {},
   "outputs": [
    {
     "data": {
      "text/plain": [
       "0.074"
      ]
     },
     "metadata": {},
     "output_type": "display_data"
    }
   ],
   "source": [
    "# Calculate the average cross entropy between y_test_pred and y_test\n",
    "cross_entropy(y_test_pred, y[test]) |> mean |> x -> round(x, digits=3)"
   ]
  },
  {
   "cell_type": "markdown",
   "metadata": {},
   "source": [
    "# Model tuning"
   ]
  },
  {
   "cell_type": "code",
   "execution_count": 56,
   "metadata": {},
   "outputs": [
    {
     "data": {
      "text/plain": [
       "NominalRange(n_trees = 100, 200, 300, ...)"
      ]
     },
     "metadata": {},
     "output_type": "display_data"
    }
   ],
   "source": [
    "# Define a range for the :max_depth parameters\n",
    "r_maxdepth = range(model_rf, :max_depth, lower=1, upper=5)\n",
    "r_ntrees = range(model_rf, :n_trees, values=[100, 200, 300, 400, 500])"
   ]
  },
  {
   "cell_type": "code",
   "execution_count": 57,
   "metadata": {},
   "outputs": [
    {
     "data": {
      "text/plain": [
       "ProbabilisticTunedModel(\n",
       "    model = RandomForestClassifier(\n",
       "            max_depth = -1,\n",
       "            min_samples_leaf = 1,\n",
       "            min_samples_split = 2,\n",
       "            min_purity_increase = 0.0,\n",
       "            n_subfeatures = -1,\n",
       "            n_trees = 10,\n",
       "            sampling_fraction = 0.7,\n",
       "            pdf_smoothing = 0.0,\n",
       "            rng = Random._GLOBAL_RNG()),\n",
       "    tuning = Grid(\n",
       "            goal = nothing,\n",
       "            resolution = 10,\n",
       "            shuffle = true,\n",
       "            rng = Random._GLOBAL_RNG()),\n",
       "    resampling = Holdout(\n",
       "            fraction_train = 0.7,\n",
       "            shuffle = false,\n",
       "            rng = Random._GLOBAL_RNG()),\n",
       "    measure = LogLoss(tol = 2.220446049250313e-16),\n",
       "    weights = nothing,\n",
       "    operation = nothing,\n",
       "    range = MLJBase.ParamRange{Int64}[NumericRange(1 ≤ max_depth ≤ 5; origin=3.0, unit=2.0), NominalRange(n_trees = 100, 200, 300, ...)],\n",
       "    selection_heuristic = MLJTuning.NaiveSelection(nothing),\n",
       "    train_best = true,\n",
       "    repeats = 1,\n",
       "    n = nothing,\n",
       "    acceleration = CPU1{Nothing}(nothing),\n",
       "    acceleration_resampling = CPU1{Nothing}(nothing),\n",
       "    check_measure = true,\n",
       "    cache = true)"
      ]
     },
     "metadata": {},
     "output_type": "display_data"
    }
   ],
   "source": [
    "# Wrap the model into a TunedModel\n",
    "tm = TunedModel(model=model_rf, ranges=[r_maxdepth, r_ntrees], measure=cross_entropy)"
   ]
  },
  {
   "cell_type": "code",
   "execution_count": 58,
   "metadata": {},
   "outputs": [
    {
     "name": "stderr",
     "output_type": "stream",
     "text": [
      "┌ Info: Training Machine{ProbabilisticTunedModel{Grid,…},…}.\n",
      "└ @ MLJBase C:\\Users\\julio\\.julia\\packages\\MLJBase\\QXObv\\src\\machines.jl:403\n"
     ]
    },
    {
     "name": "stderr",
     "output_type": "stream",
     "text": [
      "┌ Info: Attempting to evaluate 25 models.\n",
      "└ @ MLJTuning C:\\Users\\julio\\.julia\\packages\\MLJTuning\\bjRHJ\\src\\tuned_models.jl:680\n",
      "\r\u001b[33mEvaluating over 25 metamodels:   8%[==>                      ]  ETA: 0:00:02\u001b[39m\u001b[K"
     ]
    },
    {
     "name": "stderr",
     "output_type": "stream",
     "text": [
      "\r\u001b[33mEvaluating over 25 metamodels:  12%[===>                     ]  ETA: 0:00:02\u001b[39m\u001b[K"
     ]
    },
    {
     "name": "stderr",
     "output_type": "stream",
     "text": [
      "\r\u001b[33mEvaluating over 25 metamodels:  16%[====>                    ]  ETA: 0:00:02\u001b[39m\u001b[K"
     ]
    },
    {
     "name": "stderr",
     "output_type": "stream",
     "text": [
      "\r\u001b[33mEvaluating over 25 metamodels:  20%[=====>                   ]  ETA: 0:00:02\u001b[39m\u001b[K"
     ]
    },
    {
     "name": "stderr",
     "output_type": "stream",
     "text": [
      "\r\u001b[33mEvaluating over 25 metamodels:  24%[======>                  ]  ETA: 0:00:02\u001b[39m\u001b[K"
     ]
    },
    {
     "name": "stderr",
     "output_type": "stream",
     "text": [
      "\r\u001b[33mEvaluating over 25 metamodels:  28%[=======>                 ]  ETA: 0:00:02\u001b[39m"
     ]
    },
    {
     "name": "stderr",
     "output_type": "stream",
     "text": [
      "\u001b[K"
     ]
    },
    {
     "name": "stderr",
     "output_type": "stream",
     "text": [
      "\r\u001b[33mEvaluating over 25 metamodels:  32%[========>                ]  ETA: 0:00:01\u001b[39m\u001b[K"
     ]
    },
    {
     "name": "stderr",
     "output_type": "stream",
     "text": [
      "\r\u001b[33mEvaluating over 25 metamodels:  36%[=========>               ]  ETA: 0:00:01\u001b[39m\u001b[K"
     ]
    },
    {
     "name": "stderr",
     "output_type": "stream",
     "text": [
      "\r\u001b[33mEvaluating over 25 metamodels:  40%[==========>              ]  ETA: 0:00:01\u001b[39m\u001b[K"
     ]
    },
    {
     "name": "stderr",
     "output_type": "stream",
     "text": [
      "\r\u001b[33mEvaluating over 25 metamodels:  44%[===========>             ]  ETA: 0:00:01\u001b[39m\u001b[K"
     ]
    },
    {
     "name": "stderr",
     "output_type": "stream",
     "text": [
      "\r\u001b[33mEvaluating over 25 metamodels:  48%[============>            ]  ETA: 0:00:01\u001b[39m\u001b[K"
     ]
    },
    {
     "name": "stderr",
     "output_type": "stream",
     "text": [
      "\r\u001b[33mEvaluating over 25 metamodels:  52%[=============>           ]  ETA: 0:00:01\u001b[39m\u001b[K"
     ]
    },
    {
     "name": "stderr",
     "output_type": "stream",
     "text": [
      "\r\u001b[33mEvaluating over 25 metamodels:  56%[==============>          ]  ETA: 0:00:01\u001b[39m\u001b[K"
     ]
    },
    {
     "name": "stderr",
     "output_type": "stream",
     "text": [
      "\r\u001b[33mEvaluating over 25 metamodels:  60%[===============>         ]  ETA: 0:00:01\u001b[39m\u001b[K"
     ]
    },
    {
     "name": "stderr",
     "output_type": "stream",
     "text": [
      "\r\u001b[33mEvaluating over 25 metamodels:  64%[================>        ]  ETA: 0:00:01\u001b[39m\u001b[K"
     ]
    },
    {
     "name": "stderr",
     "output_type": "stream",
     "text": [
      "\r\u001b[33mEvaluating over 25 metamodels:  68%[=================>       ]  ETA: 0:00:01\u001b[39m\u001b[K"
     ]
    },
    {
     "name": "stderr",
     "output_type": "stream",
     "text": [
      "\r\u001b[33mEvaluating over 25 metamodels:  72%[==================>      ]  ETA: 0:00:01\u001b[39m\u001b[K"
     ]
    },
    {
     "name": "stderr",
     "output_type": "stream",
     "text": [
      "\r\u001b[33mEvaluating over 25 metamodels:  76%[===================>     ]  ETA: 0:00:00\u001b[39m\u001b[K"
     ]
    },
    {
     "name": "stderr",
     "output_type": "stream",
     "text": [
      "\r\u001b[33mEvaluating over 25 metamodels:  80%[====================>    ]  ETA: 0:00:00\u001b[39m\u001b[K"
     ]
    },
    {
     "name": "stderr",
     "output_type": "stream",
     "text": [
      "\r\u001b[33mEvaluating over 25 metamodels:  84%[=====================>   ]  ETA: 0:00:00\u001b[39m\u001b[K"
     ]
    },
    {
     "name": "stderr",
     "output_type": "stream",
     "text": [
      "\r\u001b[33mEvaluating over 25 metamodels:  88%[======================>  ]  ETA: 0:00:00\u001b[39m\u001b[K"
     ]
    },
    {
     "name": "stderr",
     "output_type": "stream",
     "text": [
      "\r\u001b[33mEvaluating over 25 metamodels:  92%[=======================> ]  ETA: 0:00:00\u001b[39m\u001b[K"
     ]
    },
    {
     "name": "stderr",
     "output_type": "stream",
     "text": [
      "\r\u001b[33mEvaluating over 25 metamodels:  96%[========================>]  ETA: 0:00:00\u001b[39m\u001b[K"
     ]
    },
    {
     "name": "stderr",
     "output_type": "stream",
     "text": [
      "\r\u001b[33mEvaluating over 25 metamodels: 100%[=========================] Time: 0:00:01\u001b[39m\u001b[K\n"
     ]
    },
    {
     "data": {
      "text/plain": [
       "Machine{ProbabilisticTunedModel{Grid,…},…} trained 1 time; caches data\n",
       "  args: \n",
       "    1:\tSource @409 ⏎ `Table{AbstractVector{Continuous}}`\n",
       "    2:\tSource @449 ⏎ `AbstractVector{Multiclass{3}}`\n"
      ]
     },
     "metadata": {},
     "output_type": "display_data"
    }
   ],
   "source": [
    "# Fit the tuned model\n",
    "m = machine(tm, X, y)\n",
    "fit!(m)"
   ]
  },
  {
   "cell_type": "code",
   "execution_count": 59,
   "metadata": {},
   "outputs": [
    {
     "data": {
      "text/plain": [
       "(5, 500)"
      ]
     },
     "metadata": {},
     "output_type": "display_data"
    }
   ],
   "source": [
    "# Inspect fitted parameters\n",
    "fitted_params(m).best_model.max_depth, fitted_params(m).best_model.n_trees"
   ]
  },
  {
   "cell_type": "code",
   "execution_count": 60,
   "metadata": {},
   "outputs": [
    {
     "name": "stderr",
     "output_type": "stream",
     "text": [
      "┌ Info: Training Machine{ProbabilisticTunedModel{Grid,…},…}.\n",
      "└ @ MLJBase C:\\Users\\julio\\.julia\\packages\\MLJBase\\QXObv\\src\\machines.jl:403\n",
      "┌ Info: Attempting to evaluate 25 models.\n",
      "└ @ MLJTuning C:\\Users\\julio\\.julia\\packages\\MLJTuning\\bjRHJ\\src\\tuned_models.jl:680\n",
      "\r\u001b[33mEvaluating over 25 metamodels:   8%[==>                      ]  ETA: 0:00:01\u001b[39m\u001b[K"
     ]
    },
    {
     "name": "stderr",
     "output_type": "stream",
     "text": [
      "\r\u001b[33mEvaluating over 25 metamodels:  12%[===>                     ]  ETA: 0:00:01\u001b[39m\u001b[K"
     ]
    },
    {
     "name": "stderr",
     "output_type": "stream",
     "text": [
      "\r\u001b[33mEvaluating over 25 metamodels:  16%[====>                    ]  ETA: 0:00:01\u001b[39m\u001b[K"
     ]
    },
    {
     "name": "stderr",
     "output_type": "stream",
     "text": [
      "\r\u001b[33mEvaluating over 25 metamodels:  20%[=====>                   ]  ETA: 0:00:02\u001b[39m\u001b[K"
     ]
    },
    {
     "name": "stderr",
     "output_type": "stream",
     "text": [
      "\r\u001b[33mEvaluating over 25 metamodels:  28%[=======>                 ]  ETA: 0:00:01\u001b[39m\u001b[K"
     ]
    },
    {
     "name": "stderr",
     "output_type": "stream",
     "text": [
      "\r\u001b[33mEvaluating over 25 metamodels:  32%[========>                ]  ETA: 0:00:01\u001b[39m\u001b[K"
     ]
    },
    {
     "name": "stderr",
     "output_type": "stream",
     "text": [
      "\r\u001b[33mEvaluating over 25 metamodels:  36%[=========>               ]  ETA: 0:00:01\u001b[39m\u001b[K"
     ]
    },
    {
     "name": "stderr",
     "output_type": "stream",
     "text": [
      "\r\u001b[33mEvaluating over 25 metamodels:  40%[==========>              ]  ETA: 0:00:01\u001b[39m\u001b[K"
     ]
    },
    {
     "name": "stderr",
     "output_type": "stream",
     "text": [
      "\r\u001b[33mEvaluating over 25 metamodels:  44%[===========>             ]  ETA: 0:00:01\u001b[39m\u001b[K"
     ]
    },
    {
     "name": "stderr",
     "output_type": "stream",
     "text": [
      "\r\u001b[33mEvaluating over 25 metamodels:  48%[============>            ]  ETA: 0:00:01\u001b[39m\u001b[K"
     ]
    },
    {
     "name": "stderr",
     "output_type": "stream",
     "text": [
      "\r\u001b[33mEvaluating over 25 metamodels:  52%[=============>           ]  ETA: 0:00:01\u001b[39m\u001b[K"
     ]
    },
    {
     "name": "stderr",
     "output_type": "stream",
     "text": [
      "\r\u001b[33mEvaluating over 25 metamodels:  56%[==============>          ]  ETA: 0:00:01\u001b[39m\u001b[K"
     ]
    },
    {
     "name": "stderr",
     "output_type": "stream",
     "text": [
      "\r\u001b[33mEvaluating over 25 metamodels:  60%[===============>         ]  ETA: 0:00:01\u001b[39m\u001b[K"
     ]
    },
    {
     "name": "stderr",
     "output_type": "stream",
     "text": [
      "\r\u001b[33mEvaluating over 25 metamodels:  64%[================>        ]  ETA: 0:00:01\u001b[39m\u001b[K"
     ]
    },
    {
     "name": "stderr",
     "output_type": "stream",
     "text": [
      "\r\u001b[33mEvaluating over 25 metamodels:  68%[=================>       ]  ETA: 0:00:00\u001b[39m\u001b[K"
     ]
    },
    {
     "name": "stderr",
     "output_type": "stream",
     "text": [
      "\r\u001b[33mEvaluating over 25 metamodels:  72%[==================>      ]  ETA: 0:00:00\u001b[39m\u001b[K"
     ]
    },
    {
     "name": "stderr",
     "output_type": "stream",
     "text": [
      "\r\u001b[33mEvaluating over 25 metamodels:  76%[===================>     ]  ETA: 0:00:00\u001b[39m\u001b[K"
     ]
    },
    {
     "name": "stderr",
     "output_type": "stream",
     "text": [
      "\r\u001b[33mEvaluating over 25 metamodels:  80%[====================>    ]  ETA: 0:00:00\u001b[39m\u001b[K"
     ]
    },
    {
     "name": "stderr",
     "output_type": "stream",
     "text": [
      "\r\u001b[33mEvaluating over 25 metamodels:  84%[=====================>   ]  ETA: 0:00:00\u001b[39m\u001b[K"
     ]
    },
    {
     "name": "stderr",
     "output_type": "stream",
     "text": [
      "\r\u001b[33mEvaluating over 25 metamodels:  88%[======================>  ]  ETA: 0:00:00\u001b[39m\u001b[K"
     ]
    },
    {
     "name": "stderr",
     "output_type": "stream",
     "text": [
      "\r\u001b[33mEvaluating over 25 metamodels:  92%[=======================> ]  ETA: 0:00:00\u001b[39m\u001b[K"
     ]
    },
    {
     "name": "stderr",
     "output_type": "stream",
     "text": [
      "\r\u001b[33mEvaluating over 25 metamodels:  96%[========================>]  ETA: 0:00:00\u001b[39m\u001b[K"
     ]
    },
    {
     "name": "stderr",
     "output_type": "stream",
     "text": [
      "\r\u001b[33mEvaluating over 25 metamodels: 100%[=========================] Time: 0:00:01\u001b[39m\u001b[K\n"
     ]
    },
    {
     "data": {
      "text/plain": [
       "(5, 400)"
      ]
     },
     "metadata": {},
     "output_type": "display_data"
    }
   ],
   "source": [
    "# Use operation=predict_mode to care only about the mode and the misclassification rate\n",
    "tm = TunedModel(model=model_rf, ranges=[r_maxdepth, r_ntrees], operation=predict_mode, measure=misclassification_rate)\n",
    "m = machine(tm, X, y)\n",
    "fit!(m)\n",
    "fitted_params(m).best_model.max_depth, fitted_params(m).best_model.n_trees"
   ]
  },
  {
   "cell_type": "code",
   "execution_count": 61,
   "metadata": {},
   "outputs": [
    {
     "data": {
      "text/plain": [
       "0.02912621359223301"
      ]
     },
     "metadata": {},
     "output_type": "display_data"
    }
   ],
   "source": [
    "# Get the model report\n",
    "model_report = report(m)\n",
    "model_report.best_history_entry.measurement[1]"
   ]
  },
  {
   "cell_type": "code",
   "execution_count": 62,
   "metadata": {},
   "outputs": [
    {
     "data": {
      "text/plain": [
       "25-element Vector{String}:\n",
       " \"3-100\"\n",
       " \"5-400\"\n",
       " \"1-400\"\n",
       " \"4-400\"\n",
       " \"5-500\"\n",
       " \"5-100\"\n",
       " \"4-300\"\n",
       " \"1-500\"\n",
       " \"2-100\"\n",
       " \"3-400\"\n",
       " ⋮\n",
       " \"2-200\"\n",
       " \"3-500\"\n",
       " \"1-300\"\n",
       " \"1-200\"\n",
       " \"2-300\"\n",
       " \"5-200\"\n",
       " \"2-400\"\n",
       " \"1-100\"\n",
       " \"5-300\""
      ]
     },
     "metadata": {},
     "output_type": "display_data"
    }
   ],
   "source": [
    "# Get plotting data\n",
    "res = model_report.plotting\n",
    "res_df = DataFrame(max_depth=res.parameter_values[:, 1],\n",
    "                   n_trees=res.parameter_values[:, 2],\n",
    "                   miss_rate=res.measurements)\n",
    "res_df[!, \"maxdepth_ntrees\"] = [\"$(row[:max_depth])-$(row[:n_trees])\" for row in eachrow(res_df)]"
   ]
  },
  {
   "cell_type": "code",
   "execution_count": 74,
   "metadata": {},
   "outputs": [
    {
     "data": {
      "application/vnd.vegalite.v4+json": {
       "data": {
        "values": [
         {
          "max_depth": 3,
          "maxdepth_ntrees": "3-100",
          "miss_rate": 0.05825242718446602,
          "n_trees": 100
         },
         {
          "max_depth": 5,
          "maxdepth_ntrees": "5-400",
          "miss_rate": 0.02912621359223301,
          "n_trees": 400
         },
         {
          "max_depth": 1,
          "maxdepth_ntrees": "1-400",
          "miss_rate": 0.1941747572815534,
          "n_trees": 400
         },
         {
          "max_depth": 4,
          "maxdepth_ntrees": "4-400",
          "miss_rate": 0.038834951456310676,
          "n_trees": 400
         },
         {
          "max_depth": 5,
          "maxdepth_ntrees": "5-500",
          "miss_rate": 0.02912621359223301,
          "n_trees": 500
         },
         {
          "max_depth": 5,
          "maxdepth_ntrees": "5-100",
          "miss_rate": 0.038834951456310676,
          "n_trees": 100
         },
         {
          "max_depth": 4,
          "maxdepth_ntrees": "4-300",
          "miss_rate": 0.04854368932038835,
          "n_trees": 300
         },
         {
          "max_depth": 1,
          "maxdepth_ntrees": "1-500",
          "miss_rate": 0.1941747572815534,
          "n_trees": 500
         },
         {
          "max_depth": 2,
          "maxdepth_ntrees": "2-100",
          "miss_rate": 0.05825242718446602,
          "n_trees": 100
         },
         {
          "max_depth": 3,
          "maxdepth_ntrees": "3-400",
          "miss_rate": 0.05825242718446602,
          "n_trees": 400
         },
         {
          "max_depth": 4,
          "maxdepth_ntrees": "4-500",
          "miss_rate": 0.04854368932038835,
          "n_trees": 500
         },
         {
          "max_depth": 4,
          "maxdepth_ntrees": "4-200",
          "miss_rate": 0.05825242718446602,
          "n_trees": 200
         },
         {
          "max_depth": 3,
          "maxdepth_ntrees": "3-300",
          "miss_rate": 0.05825242718446602,
          "n_trees": 300
         },
         {
          "max_depth": 2,
          "maxdepth_ntrees": "2-500",
          "miss_rate": 0.05825242718446602,
          "n_trees": 500
         },
         {
          "max_depth": 3,
          "maxdepth_ntrees": "3-200",
          "miss_rate": 0.05825242718446602,
          "n_trees": 200
         },
         {
          "max_depth": 4,
          "maxdepth_ntrees": "4-100",
          "miss_rate": 0.05825242718446602,
          "n_trees": 100
         },
         {
          "max_depth": 2,
          "maxdepth_ntrees": "2-200",
          "miss_rate": 0.05825242718446602,
          "n_trees": 200
         },
         {
          "max_depth": 3,
          "maxdepth_ntrees": "3-500",
          "miss_rate": 0.05825242718446602,
          "n_trees": 500
         },
         {
          "max_depth": 1,
          "maxdepth_ntrees": "1-300",
          "miss_rate": 0.1941747572815534,
          "n_trees": 300
         },
         {
          "max_depth": 1,
          "maxdepth_ntrees": "1-200",
          "miss_rate": 0.1941747572815534,
          "n_trees": 200
         },
         {
          "max_depth": 2,
          "maxdepth_ntrees": "2-300",
          "miss_rate": 0.05825242718446602,
          "n_trees": 300
         },
         {
          "max_depth": 5,
          "maxdepth_ntrees": "5-200",
          "miss_rate": 0.038834951456310676,
          "n_trees": 200
         },
         {
          "max_depth": 2,
          "maxdepth_ntrees": "2-400",
          "miss_rate": 0.05825242718446602,
          "n_trees": 400
         },
         {
          "max_depth": 1,
          "maxdepth_ntrees": "1-100",
          "miss_rate": 0.1941747572815534,
          "n_trees": 100
         },
         {
          "max_depth": 5,
          "maxdepth_ntrees": "5-300",
          "miss_rate": 0.038834951456310676,
          "n_trees": 300
         }
        ]
       },
       "encoding": {
        "x": {
         "field": "maxdepth_ntrees",
         "type": "nominal"
        },
        "y": {
         "field": "miss_rate",
         "type": "quantitative"
        }
       },
       "height": 300,
       "mark": "line",
       "width": 500
      },
      "image/png": "[encoded data removed]",
      "image/svg+xml": "<?xml version=\"1.0\" encoding=\"utf-8\"?>\n<!DOCTYPE svg PUBLIC \"-//W3C//DTD SVG 1.1//EN\" \"http://www.w3.org/Graphics/SVG/1.1/DTD/svg11.dtd\">\n<svg xmlns=\"http://www.w3.org/2000/svg\" xmlns:xlink=\"http://www.w3.org/1999/xlink\" version=\"1.1\" class=\"marks\" width=\"550\" height=\"361\" viewBox=\"0 0 550 361\"><rect width=\"550\" height=\"361\" fill=\"white\"/><g fill=\"none\" stroke-miterlimit=\"10\" transform=\"translate(45,10)\"><g class=\"mark-group role-frame root\" role=\"graphics-object\" aria-roledescription=\"group mark container\"><g transform=\"translate(0,0)\"><path class=\"background\" aria-hidden=\"true\" d=\"M0.5,0.5h500v300h-500Z\" stroke=\"#ddd\"/><g><g class=\"mark-group role-axis\" aria-hidden=\"true\"><g transform=\"translate(0.5,0.5)\"><path class=\"background\" aria-hidden=\"true\" d=\"M0,0h0v0h0Z\" pointer-events=\"none\"/><g><g class=\"mark-rule role-axis-grid\" pointer-events=\"none\"><line transform=\"translate(0,300)\" x2=\"500\" y2=\"0\" stroke=\"#ddd\" stroke-width=\"1\" opacity=\"1\"/><line transform=\"translate(0,270)\" x2=\"500\" y2=\"0\" stroke=\"#ddd\" stroke-width=\"1\" opacity=\"1\"/><line transform=\"translate(0,240)\" x2=\"500\" y2=\"0\" stroke=\"#ddd\" stroke-width=\"1\" opacity=\"1\"/><line transform=\"translate(0,210)\" x2=\"500\" y2=\"0\" stroke=\"#ddd\" stroke-width=\"1\" opacity=\"1\"/><line transform=\"translate(0,180)\" x2=\"500\" y2=\"0\" stroke=\"#ddd\" stroke-width=\"1\" opacity=\"1\"/><line transform=\"translate(0,150)\" x2=\"500\" y2=\"0\" stroke=\"#ddd\" stroke-width=\"1\" opacity=\"1\"/><line transform=\"translate(0,120)\" x2=\"500\" y2=\"0\" stroke=\"#ddd\" stroke-width=\"1\" opacity=\"1\"/><line transform=\"translate(0,90)\" x2=\"500\" y2=\"0\" stroke=\"#ddd\" stroke-width=\"1\" opacity=\"1\"/><line transform=\"translate(0,60)\" x2=\"500\" y2=\"0\" stroke=\"#ddd\" stroke-width=\"1\" opacity=\"1\"/><line transform=\"translate(0,30)\" x2=\"500\" y2=\"0\" stroke=\"#ddd\" stroke-width=\"1\" opacity=\"1\"/><line transform=\"translate(0,0)\" x2=\"500\" y2=\"0\" stroke=\"#ddd\" stroke-width=\"1\" opacity=\"1\"/></g></g><path class=\"foreground\" aria-hidden=\"true\" d=\"\" pointer-events=\"none\" display=\"none\"/></g></g><g class=\"mark-group role-axis\" role=\"graphics-symbol\" aria-roledescription=\"axis\" aria-label=\"X-axis titled 'maxdepth_ntrees' for a discrete scale with 25 values: 1-100, 1-200, 1-300, 1-400, 1-500, ending with 5-500\"><g transform=\"translate(0.5,300.5)\"><path class=\"background\" aria-hidden=\"true\" d=\"M0,0h0v0h0Z\" pointer-events=\"none\"/><g><g class=\"mark-rule role-axis-tick\" pointer-events=\"none\"><line transform=\"translate(10,0)\" x2=\"0\" y2=\"5\" stroke=\"#888\" stroke-width=\"1\" opacity=\"1\"/><line transform=\"translate(30,0)\" x2=\"0\" y2=\"5\" stroke=\"#888\" stroke-width=\"1\" opacity=\"1\"/><line transform=\"translate(50,0)\" x2=\"0\" y2=\"5\" stroke=\"#888\" stroke-width=\"1\" opacity=\"1\"/><line transform=\"translate(70,0)\" x2=\"0\" y2=\"5\" stroke=\"#888\" stroke-width=\"1\" opacity=\"1\"/><line transform=\"translate(90,0)\" x2=\"0\" y2=\"5\" stroke=\"#888\" stroke-width=\"1\" opacity=\"1\"/><line transform=\"translate(110,0)\" x2=\"0\" y2=\"5\" stroke=\"#888\" stroke-width=\"1\" opacity=\"1\"/><line transform=\"translate(130,0)\" x2=\"0\" y2=\"5\" stroke=\"#888\" stroke-width=\"1\" opacity=\"1\"/><line transform=\"translate(150,0)\" x2=\"0\" y2=\"5\" stroke=\"#888\" stroke-width=\"1\" opacity=\"1\"/><line transform=\"translate(170,0)\" x2=\"0\" y2=\"5\" stroke=\"#888\" stroke-width=\"1\" opacity=\"1\"/><line transform=\"translate(190,0)\" x2=\"0\" y2=\"5\" stroke=\"#888\" stroke-width=\"1\" opacity=\"1\"/><line transform=\"translate(210,0)\" x2=\"0\" y2=\"5\" stroke=\"#888\" stroke-width=\"1\" opacity=\"1\"/><line transform=\"translate(230,0)\" x2=\"0\" y2=\"5\" stroke=\"#888\" stroke-width=\"1\" opacity=\"1\"/><line transform=\"translate(250,0)\" x2=\"0\" y2=\"5\" stroke=\"#888\" stroke-width=\"1\" opacity=\"1\"/><line transform=\"translate(270,0)\" x2=\"0\" y2=\"5\" stroke=\"#888\" stroke-width=\"1\" opacity=\"1\"/><line transform=\"translate(290,0)\" x2=\"0\" y2=\"5\" stroke=\"#888\" stroke-width=\"1\" opacity=\"1\"/><line transform=\"translate(310,0)\" x2=\"0\" y2=\"5\" stroke=\"#888\" stroke-width=\"1\" opacity=\"1\"/><line transform=\"translate(330,0)\" x2=\"0\" y2=\"5\" stroke=\"#888\" stroke-width=\"1\" opacity=\"1\"/><line transform=\"translate(350,0)\" x2=\"0\" y2=\"5\" stroke=\"#888\" stroke-width=\"1\" opacity=\"1\"/><line transform=\"translate(370,0)\" x2=\"0\" y2=\"5\" stroke=\"#888\" stroke-width=\"1\" opacity=\"1\"/><line transform=\"translate(390,0)\" x2=\"0\" y2=\"5\" stroke=\"#888\" stroke-width=\"1\" opacity=\"1\"/><line transform=\"translate(410,0)\" x2=\"0\" y2=\"5\" stroke=\"#888\" stroke-width=\"1\" opacity=\"1\"/><line transform=\"translate(430,0)\" x2=\"0\" y2=\"5\" stroke=\"#888\" stroke-width=\"1\" opacity=\"1\"/><line transform=\"translate(450,0)\" x2=\"0\" y2=\"5\" stroke=\"#888\" stroke-width=\"1\" opacity=\"1\"/><line transform=\"translate(470,0)\" x2=\"0\" y2=\"5\" stroke=\"#888\" stroke-width=\"1\" opacity=\"1\"/><line transform=\"translate(490,0)\" x2=\"0\" y2=\"5\" stroke=\"#888\" stroke-width=\"1\" opacity=\"1\"/></g><g class=\"mark-text role-axis-label\" pointer-events=\"none\"><text text-anchor=\"end\" transform=\"translate(10,7) rotate(270) translate(0,3)\" font-family=\"sans-serif\" font-size=\"10px\" fill=\"#000\" opacity=\"1\">1-100</text><text text-anchor=\"end\" transform=\"translate(30,7) rotate(270) translate(0,3)\" font-family=\"sans-serif\" font-size=\"10px\" fill=\"#000\" opacity=\"1\">1-200</text><text text-anchor=\"end\" transform=\"translate(50,7) rotate(270) translate(0,3)\" font-family=\"sans-serif\" font-size=\"10px\" fill=\"#000\" opacity=\"1\">1-300</text><text text-anchor=\"end\" transform=\"translate(70,7) rotate(270) translate(0,3)\" font-family=\"sans-serif\" font-size=\"10px\" fill=\"#000\" opacity=\"1\">1-400</text><text text-anchor=\"end\" transform=\"translate(90,7) rotate(270) translate(0,3)\" font-family=\"sans-serif\" font-size=\"10px\" fill=\"#000\" opacity=\"1\">1-500</text><text text-anchor=\"end\" transform=\"translate(110,7) rotate(270) translate(0,3)\" font-family=\"sans-serif\" font-size=\"10px\" fill=\"#000\" opacity=\"1\">2-100</text><text text-anchor=\"end\" transform=\"translate(130,7) rotate(270) translate(0,3)\" font-family=\"sans-serif\" font-size=\"10px\" fill=\"#000\" opacity=\"1\">2-200</text><text text-anchor=\"end\" transform=\"translate(150,7) rotate(270) translate(0,3)\" font-family=\"sans-serif\" font-size=\"10px\" fill=\"#000\" opacity=\"1\">2-300</text><text text-anchor=\"end\" transform=\"translate(170,7) rotate(270) translate(0,3)\" font-family=\"sans-serif\" font-size=\"10px\" fill=\"#000\" opacity=\"1\">2-400</text><text text-anchor=\"end\" transform=\"translate(190,7) rotate(270) translate(0,3)\" font-family=\"sans-serif\" font-size=\"10px\" fill=\"#000\" opacity=\"1\">2-500</text><text text-anchor=\"end\" transform=\"translate(210,7) rotate(270) translate(0,3)\" font-family=\"sans-serif\" font-size=\"10px\" fill=\"#000\" opacity=\"1\">3-100</text><text text-anchor=\"end\" transform=\"translate(230,7) rotate(270) translate(0,3)\" font-family=\"sans-serif\" font-size=\"10px\" fill=\"#000\" opacity=\"1\">3-200</text><text text-anchor=\"end\" transform=\"translate(250,7) rotate(270) translate(0,3)\" font-family=\"sans-serif\" font-size=\"10px\" fill=\"#000\" opacity=\"1\">3-300</text><text text-anchor=\"end\" transform=\"translate(270,7) rotate(270) translate(0,3)\" font-family=\"sans-serif\" font-size=\"10px\" fill=\"#000\" opacity=\"1\">3-400</text><text text-anchor=\"end\" transform=\"translate(290,7) rotate(270) translate(0,3)\" font-family=\"sans-serif\" font-size=\"10px\" fill=\"#000\" opacity=\"1\">3-500</text><text text-anchor=\"end\" transform=\"translate(310,7) rotate(270) translate(0,3)\" font-family=\"sans-serif\" font-size=\"10px\" fill=\"#000\" opacity=\"1\">4-100</text><text text-anchor=\"end\" transform=\"translate(330,7) rotate(270) translate(0,3)\" font-family=\"sans-serif\" font-size=\"10px\" fill=\"#000\" opacity=\"1\">4-200</text><text text-anchor=\"end\" transform=\"translate(350,7) rotate(270) translate(0,3)\" font-family=\"sans-serif\" font-size=\"10px\" fill=\"#000\" opacity=\"1\">4-300</text><text text-anchor=\"end\" transform=\"translate(370,7) rotate(270) translate(0,3)\" font-family=\"sans-serif\" font-size=\"10px\" fill=\"#000\" opacity=\"1\">4-400</text><text text-anchor=\"end\" transform=\"translate(390,7) rotate(270) translate(0,3)\" font-family=\"sans-serif\" font-size=\"10px\" fill=\"#000\" opacity=\"1\">4-500</text><text text-anchor=\"end\" transform=\"translate(410,7) rotate(270) translate(0,3)\" font-family=\"sans-serif\" font-size=\"10px\" fill=\"#000\" opacity=\"1\">5-100</text><text text-anchor=\"end\" transform=\"translate(430,7) rotate(270) translate(0,3)\" font-family=\"sans-serif\" font-size=\"10px\" fill=\"#000\" opacity=\"1\">5-200</text><text text-anchor=\"end\" transform=\"translate(450,7) rotate(270) translate(0,3)\" font-family=\"sans-serif\" font-size=\"10px\" fill=\"#000\" opacity=\"1\">5-300</text><text text-anchor=\"end\" transform=\"translate(470,7) rotate(270) translate(0,3)\" font-family=\"sans-serif\" font-size=\"10px\" fill=\"#000\" opacity=\"1\">5-400</text><text text-anchor=\"end\" transform=\"translate(490,7) rotate(270) translate(0,3)\" font-family=\"sans-serif\" font-size=\"10px\" fill=\"#000\" opacity=\"1\">5-500</text></g><g class=\"mark-rule role-axis-domain\" pointer-events=\"none\"><line transform=\"translate(0,0)\" x2=\"500\" y2=\"0\" stroke=\"#888\" stroke-width=\"1\" opacity=\"1\"/></g><g class=\"mark-text role-axis-title\" pointer-events=\"none\"><text text-anchor=\"middle\" transform=\"translate(250,44)\" font-family=\"sans-serif\" font-size=\"11px\" font-weight=\"bold\" fill=\"#000\" opacity=\"1\">maxdepth_ntrees</text></g></g><path class=\"foreground\" aria-hidden=\"true\" d=\"\" pointer-events=\"none\" display=\"none\"/></g></g><g class=\"mark-group role-axis\" role=\"graphics-symbol\" aria-roledescription=\"axis\" aria-label=\"Y-axis titled 'miss_rate' for a linear scale with values from 0.00 to 0.20\"><g transform=\"translate(0.5,0.5)\"><path class=\"background\" aria-hidden=\"true\" d=\"M0,0h0v0h0Z\" pointer-events=\"none\"/><g><g class=\"mark-rule role-axis-tick\" pointer-events=\"none\"><line transform=\"translate(0,300)\" x2=\"-5\" y2=\"0\" stroke=\"#888\" stroke-width=\"1\" opacity=\"1\"/><line transform=\"translate(0,270)\" x2=\"-5\" y2=\"0\" stroke=\"#888\" stroke-width=\"1\" opacity=\"1\"/><line transform=\"translate(0,240)\" x2=\"-5\" y2=\"0\" stroke=\"#888\" stroke-width=\"1\" opacity=\"1\"/><line transform=\"translate(0,210)\" x2=\"-5\" y2=\"0\" stroke=\"#888\" stroke-width=\"1\" opacity=\"1\"/><line transform=\"translate(0,180)\" x2=\"-5\" y2=\"0\" stroke=\"#888\" stroke-width=\"1\" opacity=\"1\"/><line transform=\"translate(0,150)\" x2=\"-5\" y2=\"0\" stroke=\"#888\" stroke-width=\"1\" opacity=\"1\"/><line transform=\"translate(0,120)\" x2=\"-5\" y2=\"0\" stroke=\"#888\" stroke-width=\"1\" opacity=\"1\"/><line transform=\"translate(0,90)\" x2=\"-5\" y2=\"0\" stroke=\"#888\" stroke-width=\"1\" opacity=\"1\"/><line transform=\"translate(0,60)\" x2=\"-5\" y2=\"0\" stroke=\"#888\" stroke-width=\"1\" opacity=\"1\"/><line transform=\"translate(0,30)\" x2=\"-5\" y2=\"0\" stroke=\"#888\" stroke-width=\"1\" opacity=\"1\"/><line transform=\"translate(0,0)\" x2=\"-5\" y2=\"0\" stroke=\"#888\" stroke-width=\"1\" opacity=\"1\"/></g><g class=\"mark-text role-axis-label\" pointer-events=\"none\"><text text-anchor=\"end\" transform=\"translate(-7,303)\" font-family=\"sans-serif\" font-size=\"10px\" fill=\"#000\" opacity=\"1\">0.00</text><text text-anchor=\"end\" transform=\"translate(-7,273)\" font-family=\"sans-serif\" font-size=\"10px\" fill=\"#000\" opacity=\"1\">0.02</text><text text-anchor=\"end\" transform=\"translate(-7,243)\" font-family=\"sans-serif\" font-size=\"10px\" fill=\"#000\" opacity=\"1\">0.04</text><text text-anchor=\"end\" transform=\"translate(-7,213)\" font-family=\"sans-serif\" font-size=\"10px\" fill=\"#000\" opacity=\"1\">0.06</text><text text-anchor=\"end\" transform=\"translate(-7,183.00000000000003)\" font-family=\"sans-serif\" font-size=\"10px\" fill=\"#000\" opacity=\"1\">0.08</text><text text-anchor=\"end\" transform=\"translate(-7,153)\" font-family=\"sans-serif\" font-size=\"10px\" fill=\"#000\" opacity=\"1\">0.10</text><text text-anchor=\"end\" transform=\"translate(-7,123)\" font-family=\"sans-serif\" font-size=\"10px\" fill=\"#000\" opacity=\"1\">0.12</text><text text-anchor=\"end\" transform=\"translate(-7,92.99999999999999)\" font-family=\"sans-serif\" font-size=\"10px\" fill=\"#000\" opacity=\"1\">0.14</text><text text-anchor=\"end\" transform=\"translate(-7,63.00000000000002)\" font-family=\"sans-serif\" font-size=\"10px\" fill=\"#000\" opacity=\"1\">0.16</text><text text-anchor=\"end\" transform=\"translate(-7,33.00000000000003)\" font-family=\"sans-serif\" font-size=\"10px\" fill=\"#000\" opacity=\"1\">0.18</text><text text-anchor=\"end\" transform=\"translate(-7,3)\" font-family=\"sans-serif\" font-size=\"10px\" fill=\"#000\" opacity=\"1\">0.20</text></g><g class=\"mark-rule role-axis-domain\" pointer-events=\"none\"><line transform=\"translate(0,300)\" x2=\"0\" y2=\"-300\" stroke=\"#888\" stroke-width=\"1\" opacity=\"1\"/></g><g class=\"mark-text role-axis-title\" pointer-events=\"none\"><text text-anchor=\"middle\" transform=\"translate(-29,150) rotate(-90) translate(0,-2)\" font-family=\"sans-serif\" font-size=\"11px\" font-weight=\"bold\" fill=\"#000\" opacity=\"1\">miss_rate</text></g></g><path class=\"foreground\" aria-hidden=\"true\" d=\"\" pointer-events=\"none\" display=\"none\"/></g></g><g class=\"mark-line role-mark marks\" role=\"graphics-object\" aria-roledescription=\"line mark container\"><path aria-label=\"maxdepth_ntrees: 1-100; miss_rate: 0.194174757282\" role=\"graphics-symbol\" aria-roledescription=\"line mark\" d=\"M10,8.737864077669933L30,8.737864077669933L50,8.737864077669933L70,8.737864077669933L90,8.737864077669933L110,212.62135922330097L130,212.62135922330097L150,212.62135922330097L170,212.62135922330097L190,212.62135922330097L210,212.62135922330097L230,212.62135922330097L250,212.62135922330097L270,212.62135922330097L290,212.62135922330097L310,212.62135922330097L330,212.62135922330097L350,227.18446601941747L370,241.747572815534L390,227.18446601941747L410,241.747572815534L430,241.747572815534L450,241.747572815534L470,256.3106796116505L490,256.3106796116505\" stroke=\"#4c78a8\" stroke-width=\"2\"/></g></g><path class=\"foreground\" aria-hidden=\"true\" d=\"\" display=\"none\"/></g></g></g></svg>\n",
      "text/plain": [
       "@vlplot(\n",
       "    width=500,\n",
       "    height=300,\n",
       "    mark=\"line\",\n",
       "    encoding={\n",
       "        x={\n",
       "            field=\"maxdepth_ntrees\"\n",
       "        },\n",
       "        y={\n",
       "            field=\"miss_rate\"\n",
       "        }\n",
       "    },\n",
       "    data={\n",
       "        values=...\n",
       "    }\n",
       ")"
      ]
     },
     "metadata": {},
     "output_type": "display_data"
    }
   ],
   "source": [
    "# Plot results\n",
    "res_df |>\n",
    "@vlplot(\n",
    "    :line,\n",
    "    x=:maxdepth_ntrees,\n",
    "    y=:miss_rate,\n",
    "    width=500,\n",
    "    height=300)"
   ]
  }
 ],
 "metadata": {
  "kernelspec": {
   "display_name": "Julia 1.6.3",
   "language": "julia",
   "name": "julia-1.6"
  },
  "language_info": {
   "file_extension": ".jl",
   "mimetype": "application/julia",
   "name": "julia",
   "version": "1.6.3"
  },
  "orig_nbformat": 4
 },
 "nbformat": 4,
 "nbformat_minor": 2
}
