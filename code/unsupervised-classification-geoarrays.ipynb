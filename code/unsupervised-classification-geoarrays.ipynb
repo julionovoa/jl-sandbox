{
 "cells": [
  {
   "cell_type": "code",
   "execution_count": null,
   "metadata": {},
   "outputs": [],
   "source": [
    "using DataFrames\n",
    "using GeoArrays\n",
    "using MLJ\n",
    "using Plots"
   ]
  },
  {
   "cell_type": "code",
   "execution_count": null,
   "metadata": {},
   "outputs": [],
   "source": [
    "function sentinel2df(s2_path, bands)\n",
    "    # Get [nrows, ncols, bbox, epsg] from the first band\n",
    "    first_band = GeoArrays.read(s2_path, band=bands[begin])\n",
    "    nrows, ncols = size(first_band)\n",
    "    boundary_box = GeoArrays.bbox(first_band)\n",
    "    # TODO: get EPSG ?\n",
    "    bands_names = [\"B\"*string(b) for b in bands]\n",
    "\n",
    "    # Create dataframe, one column per band\n",
    "    df = [GeoArrays.read(s2_path, band=i) for i in bands] |> \n",
    "    □ -> cat(□..., dims=3) |>\n",
    "    □ -> reshape(□, (nrows*ncols, length(bands))) |>\n",
    "    □ -> DataFrame(□, bands_names)\n",
    "\n",
    "    return nrows, ncols, boundary_box, df\n",
    "end"
   ]
  },
  {
   "cell_type": "code",
   "execution_count": null,
   "metadata": {},
   "outputs": [],
   "source": [
    "# Read Sentinel-2 10-m bands: 2, 3, 4, 8\n",
    "nrows, ncols, boundary_box, df = sentinel2df(\"../../sentinel2_subset.tif\", [2, 3, 4, 8])"
   ]
  },
  {
   "cell_type": "code",
   "execution_count": null,
   "metadata": {},
   "outputs": [],
   "source": [
    "# K-Means pipeline\n",
    "model_kmeans = @load KMeans pkg=Clustering\n",
    "pipe_kmeans = @pipeline Standardizer(count=true) model_kmeans(k=10)"
   ]
  },
  {
   "cell_type": "code",
   "execution_count": null,
   "metadata": {},
   "outputs": [],
   "source": [
    "# Fit the model and get the report\n",
    "machine_kmeans = machine(pipe_kmeans, df) |> fit!\n",
    "report_kmeans = report(machine_kmeans)"
   ]
  },
  {
   "cell_type": "code",
   "execution_count": null,
   "metadata": {},
   "outputs": [],
   "source": [
    "# Add a new column with the clusters\n",
    "df[!, :clusters] = collect(report_kmeans.k_means.assignments);"
   ]
  },
  {
   "cell_type": "code",
   "execution_count": null,
   "metadata": {},
   "outputs": [],
   "source": [
    "# Create the output raster\n",
    "kmeans_raster = reshape(Array(df.clusters), (nrows, ncols, 1)) |>\n",
    "□ -> reverse(□, dims=2) |>\n",
    "□ -> GeoArray(□) |>\n",
    "□ -> GeoArrays.bbox!(□, boundary_box) |>\n",
    "□ -> GeoArrays.epsg!(□, 32610)"
   ]
  },
  {
   "cell_type": "code",
   "execution_count": null,
   "metadata": {},
   "outputs": [],
   "source": [
    "# Export to TIFF\n",
    "GeoArrays.write!(\"../../sentinel2_kmeans.tif\", kmeans_raster)"
   ]
  },
  {
   "cell_type": "code",
   "execution_count": null,
   "metadata": {},
   "outputs": [],
   "source": [
    "# Plots\n",
    "s2 = GeoArrays.read(\"../../sentinel2_subset.tif\", band=8)\n",
    "p1 = plot(s2)\n",
    "p2 = plot(kmeans_raster, color=palette(:tab10))\n",
    "plot(p1, p2, layout=(2,1), size=(800,800))"
   ]
  }
 ],
 "metadata": {
  "kernelspec": {
   "display_name": "Julia 1.7.1",
   "language": "julia",
   "name": "julia-1.7"
  },
  "language_info": {
   "file_extension": ".jl",
   "mimetype": "application/julia",
   "name": "julia",
   "version": "1.7.1"
  },
  "orig_nbformat": 4
 },
 "nbformat": 4,
 "nbformat_minor": 2
}
