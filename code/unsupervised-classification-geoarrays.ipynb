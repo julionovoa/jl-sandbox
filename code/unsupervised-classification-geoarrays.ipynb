{
 "cells": [
  {
   "cell_type": "code",
   "execution_count": null,
   "metadata": {},
   "outputs": [],
   "source": [
    "using GeoArrays\n",
    "using DataFrames\n",
    "using MLJ\n",
    "using Plots"
   ]
  },
  {
   "cell_type": "code",
   "execution_count": null,
   "metadata": {},
   "outputs": [],
   "source": [
    "s2 = GeoArrays.read(\"../../sentinel2.tif\")"
   ]
  },
  {
   "cell_type": "code",
   "execution_count": null,
   "metadata": {},
   "outputs": [],
   "source": [
    "df = reshape(s2, (size(s2)[1]*size(s2)[2], size(s2)[3])) |>\n",
    "x -> DataFrame(x, :auto)"
   ]
  },
  {
   "cell_type": "code",
   "execution_count": null,
   "metadata": {},
   "outputs": [],
   "source": [
    "df = coerce(df, Count=>Continuous)"
   ]
  },
  {
   "cell_type": "code",
   "execution_count": null,
   "metadata": {},
   "outputs": [],
   "source": [
    "# K-Means\n",
    "model_kmeans = @load KMeans pkg=Clustering\n",
    "pipe_kmeans = @pipeline Standardizer() model_kmeans(k=10)\n",
    "mach_kmeans = machine(pipe_kmeans, df) |> fit!;"
   ]
  },
  {
   "cell_type": "code",
   "execution_count": null,
   "metadata": {},
   "outputs": [],
   "source": [
    "rep_kmeans = report(mach_kmeans)"
   ]
  },
  {
   "cell_type": "code",
   "execution_count": null,
   "metadata": {},
   "outputs": [],
   "source": [
    "df[!, :clusters] = collect(rep_kmeans.k_means[1]);"
   ]
  },
  {
   "cell_type": "code",
   "execution_count": null,
   "metadata": {},
   "outputs": [],
   "source": [
    "kmeans_raster = reshape(Array(df), (size(s2)[1], size(s2)[2], size(s2)[3]+1)) |>\n",
    "x -> reverse(x, dims=2) |>\n",
    "GeoArray"
   ]
  },
  {
   "cell_type": "code",
   "execution_count": null,
   "metadata": {},
   "outputs": [],
   "source": [
    "GeoArrays.bbox!(kmeans_raster, GeoArrays.bbox(s2))\n",
    "GeoArrays.epsg!(kmeans_raster, 32610)\n",
    "GeoArrays.write!(\"../../sentinel2_kmeans.tif\", kmeans_raster)"
   ]
  },
  {
   "cell_type": "code",
   "execution_count": null,
   "metadata": {},
   "outputs": [],
   "source": [
    "p1 = plot(s2, band=7)\n",
    "p2 = plot(kmeans_raster, band=14)\n",
    "plot(p1, p2, layout=(2,1), size=(800,800))"
   ]
  }
 ],
 "metadata": {
  "kernelspec": {
   "display_name": "Julia 1.7.1",
   "language": "julia",
   "name": "julia-1.7"
  },
  "language_info": {
   "file_extension": ".jl",
   "mimetype": "application/julia",
   "name": "julia",
   "version": "1.7.1"
  },
  "orig_nbformat": 4
 },
 "nbformat": 4,
 "nbformat_minor": 2
}
