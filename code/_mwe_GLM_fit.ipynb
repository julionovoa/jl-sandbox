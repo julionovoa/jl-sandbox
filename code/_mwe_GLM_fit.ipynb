{
 "cells": [
  {
   "cell_type": "code",
   "execution_count": 1,
   "metadata": {},
   "outputs": [],
   "source": [
    "using DataFrames, MLJ"
   ]
  },
  {
   "cell_type": "code",
   "execution_count": 7,
   "metadata": {},
   "outputs": [],
   "source": [
    "X, y = @load_boston\n",
    "# X = DataFrame(X)\n",
    "# y = Vector(y);"
   ]
  },
  {
   "cell_type": "code",
   "execution_count": 10,
   "metadata": {},
   "outputs": [
    {
     "ename": "MethodError",
     "evalue": "MethodError: no method matching (::Pipeline283)()\nClosest candidates are:\n  (::Supervised)(!Matched::Tuple{AbstractMatrix, Any}) at C:\\Users\\julio\\.julia\\packages\\MLJBase\\QXObv\\src\\composition\\learning_networks\\arrows.jl:25\n  (::Supervised)(!Matched::Tuple{AbstractNode, AbstractNode}) at C:\\Users\\julio\\.julia\\packages\\MLJBase\\QXObv\\src\\composition\\learning_networks\\arrows.jl:21\n  (::Supervised)(!Matched::Tuple{AbstractNode, Any}) at C:\\Users\\julio\\.julia\\packages\\MLJBase\\QXObv\\src\\composition\\learning_networks\\arrows.jl:22\n  ...",
     "output_type": "error",
     "traceback": [
      "MethodError: no method matching (::Pipeline283)()\n",
      "Closest candidates are:\n",
      "  (::Supervised)(!Matched::Tuple{AbstractMatrix, Any}) at C:\\Users\\julio\\.julia\\packages\\MLJBase\\QXObv\\src\\composition\\learning_networks\\arrows.jl:25\n",
      "  (::Supervised)(!Matched::Tuple{AbstractNode, AbstractNode}) at C:\\Users\\julio\\.julia\\packages\\MLJBase\\QXObv\\src\\composition\\learning_networks\\arrows.jl:21\n",
      "  (::Supervised)(!Matched::Tuple{AbstractNode, Any}) at C:\\Users\\julio\\.julia\\packages\\MLJBase\\QXObv\\src\\composition\\learning_networks\\arrows.jl:22\n",
      "  ...\n",
      "\n",
      "Stacktrace:\n",
      "  [1] top-level scope\n",
      "    @ c:\\Users\\julio\\Desktop\\jl-sandbox\\code\\_mwe_GLM_fit.ipynb:3\n",
      "  [2] eval\n",
      "    @ .\\boot.jl:373 [inlined]\n",
      "  [3] include_string(mapexpr::typeof(REPL.softscope), mod::Module, code::String, filename::String)\n",
      "    @ Base .\\loading.jl:1196\n",
      "  [4] #invokelatest#2\n",
      "    @ .\\essentials.jl:716 [inlined]\n",
      "  [5] invokelatest\n",
      "    @ .\\essentials.jl:714 [inlined]\n",
      "  [6] (::VSCodeServer.var\"#150#151\"{VSCodeServer.NotebookRunCellArguments, String})()\n",
      "    @ VSCodeServer c:\\Users\\julio\\.vscode\\extensions\\julialang.language-julia-1.5.6\\scripts\\packages\\VSCodeServer\\src\\serve_notebook.jl:18\n",
      "  [7] withpath(f::VSCodeServer.var\"#150#151\"{VSCodeServer.NotebookRunCellArguments, String}, path::String)\n",
      "    @ VSCodeServer c:\\Users\\julio\\.vscode\\extensions\\julialang.language-julia-1.5.6\\scripts\\packages\\VSCodeServer\\src\\repl.jl:185\n",
      "  [8] notebook_runcell_request(conn::VSCodeServer.JSONRPC.JSONRPCEndpoint{Base.PipeEndpoint, Base.PipeEndpoint}, params::VSCodeServer.NotebookRunCellArguments)\n",
      "    @ VSCodeServer c:\\Users\\julio\\.vscode\\extensions\\julialang.language-julia-1.5.6\\scripts\\packages\\VSCodeServer\\src\\serve_notebook.jl:14\n",
      "  [9] dispatch_msg(x::VSCodeServer.JSONRPC.JSONRPCEndpoint{Base.PipeEndpoint, Base.PipeEndpoint}, dispatcher::VSCodeServer.JSONRPC.MsgDispatcher, msg::Dict{String, Any})\n",
      "    @ VSCodeServer.JSONRPC c:\\Users\\julio\\.vscode\\extensions\\julialang.language-julia-1.5.6\\scripts\\packages\\JSONRPC\\src\\typed.jl:67\n",
      " [10] serve_notebook(pipename::String; crashreporting_pipename::String)\n",
      "    @ VSCodeServer c:\\Users\\julio\\.vscode\\extensions\\julialang.language-julia-1.5.6\\scripts\\packages\\VSCodeServer\\src\\serve_notebook.jl:94\n",
      " [11] top-level scope\n",
      "    @ c:\\Users\\julio\\.vscode\\extensions\\julialang.language-julia-1.5.6\\scripts\\notebook\\notebook.jl:12\n",
      " [12] include(mod::Module, _path::String)\n",
      "    @ Base .\\Base.jl:418\n",
      " [13] exec_options(opts::Base.JLOptions)\n",
      "    @ Base .\\client.jl:292\n",
      " [14] _start()\n",
      "    @ Base .\\client.jl:495"
     ]
    }
   ],
   "source": [
    "lr = @load LinearRegressor pkg=GLM\n",
    "lrp = @pipeline(Standardizer(), lr())\n",
    "lm = machine(lrp(), X, y)"
   ]
  },
  {
   "cell_type": "code",
   "execution_count": 9,
   "metadata": {},
   "outputs": [
    {
     "ename": "MethodError",
     "evalue": "MethodError: no method matching fit!(::Machine{MLJGLMInterface.LinearRegressor, true}, ::NamedTuple{(:Crim, :Zn, :Indus, :NOx, :Rm, :Age, :Dis, :Rad, :Tax, :PTRatio, :Black, :LStat), NTuple{12, SubArray{Float64, 1, Matrix{Float64}, Tuple{Base.Slice{Base.OneTo{Int64}}, Int64}, true}}})\nClosest candidates are:\n  fit!(::Machine; kwargs...) at C:\\Users\\julio\\.julia\\packages\\MLJBase\\QXObv\\src\\machines.jl:595\n  fit!(!Matched::GLM.AbstractGLM, ::Any; wts, offset, dofit, verbose, maxiter, minstepfac, atol, rtol, start, kwargs...) at C:\\Users\\julio\\.julia\\packages\\GLM\\5CcRd\\src\\glmfit.jl:376\n  fit!(!Matched::StatsBase.StatisticalModel, ::Any...) at C:\\Users\\julio\\.julia\\packages\\StatsBase\\CuCbN\\src\\statmodels.jl:183",
     "output_type": "error",
     "traceback": [
      "MethodError: no method matching fit!(::Machine{MLJGLMInterface.LinearRegressor, true}, ::NamedTuple{(:Crim, :Zn, :Indus, :NOx, :Rm, :Age, :Dis, :Rad, :Tax, :PTRatio, :Black, :LStat), NTuple{12, SubArray{Float64, 1, Matrix{Float64}, Tuple{Base.Slice{Base.OneTo{Int64}}, Int64}, true}}})\n",
      "Closest candidates are:\n",
      "  fit!(::Machine; kwargs...) at C:\\Users\\julio\\.julia\\packages\\MLJBase\\QXObv\\src\\machines.jl:595\n",
      "  fit!(!Matched::GLM.AbstractGLM, ::Any; wts, offset, dofit, verbose, maxiter, minstepfac, atol, rtol, start, kwargs...) at C:\\Users\\julio\\.julia\\packages\\GLM\\5CcRd\\src\\glmfit.jl:376\n",
      "  fit!(!Matched::StatsBase.StatisticalModel, ::Any...) at C:\\Users\\julio\\.julia\\packages\\StatsBase\\CuCbN\\src\\statmodels.jl:183\n",
      "\n",
      "Stacktrace:\n",
      "  [1] top-level scope\n",
      "    @ c:\\Users\\julio\\Desktop\\jl-sandbox\\code\\_mwe_GLM_fit.ipynb:1\n",
      "  [2] eval\n",
      "    @ .\\boot.jl:373 [inlined]\n",
      "  [3] include_string(mapexpr::typeof(REPL.softscope), mod::Module, code::String, filename::String)\n",
      "    @ Base .\\loading.jl:1196\n",
      "  [4] #invokelatest#2\n",
      "    @ .\\essentials.jl:716 [inlined]\n",
      "  [5] invokelatest\n",
      "    @ .\\essentials.jl:714 [inlined]\n",
      "  [6] (::VSCodeServer.var\"#150#151\"{VSCodeServer.NotebookRunCellArguments, String})()\n",
      "    @ VSCodeServer c:\\Users\\julio\\.vscode\\extensions\\julialang.language-julia-1.5.6\\scripts\\packages\\VSCodeServer\\src\\serve_notebook.jl:18\n",
      "  [7] withpath(f::VSCodeServer.var\"#150#151\"{VSCodeServer.NotebookRunCellArguments, String}, path::String)\n",
      "    @ VSCodeServer c:\\Users\\julio\\.vscode\\extensions\\julialang.language-julia-1.5.6\\scripts\\packages\\VSCodeServer\\src\\repl.jl:185\n",
      "  [8] notebook_runcell_request(conn::VSCodeServer.JSONRPC.JSONRPCEndpoint{Base.PipeEndpoint, Base.PipeEndpoint}, params::VSCodeServer.NotebookRunCellArguments)\n",
      "    @ VSCodeServer c:\\Users\\julio\\.vscode\\extensions\\julialang.language-julia-1.5.6\\scripts\\packages\\VSCodeServer\\src\\serve_notebook.jl:14\n",
      "  [9] dispatch_msg(x::VSCodeServer.JSONRPC.JSONRPCEndpoint{Base.PipeEndpoint, Base.PipeEndpoint}, dispatcher::VSCodeServer.JSONRPC.MsgDispatcher, msg::Dict{String, Any})\n",
      "    @ VSCodeServer.JSONRPC c:\\Users\\julio\\.vscode\\extensions\\julialang.language-julia-1.5.6\\scripts\\packages\\JSONRPC\\src\\typed.jl:67\n",
      " [10] serve_notebook(pipename::String; crashreporting_pipename::String)\n",
      "    @ VSCodeServer c:\\Users\\julio\\.vscode\\extensions\\julialang.language-julia-1.5.6\\scripts\\packages\\VSCodeServer\\src\\serve_notebook.jl:94\n",
      " [11] top-level scope\n",
      "    @ c:\\Users\\julio\\.vscode\\extensions\\julialang.language-julia-1.5.6\\scripts\\notebook\\notebook.jl:12\n",
      " [12] include(mod::Module, _path::String)\n",
      "    @ Base .\\Base.jl:418\n",
      " [13] exec_options(opts::Base.JLOptions)\n",
      "    @ Base .\\client.jl:292\n",
      " [14] _start()\n",
      "    @ Base .\\client.jl:495"
     ]
    }
   ],
   "source": [
    "fit!(lm, X)"
   ]
  }
 ],
 "metadata": {
  "kernelspec": {
   "display_name": "Julia 1.7.0",
   "language": "julia",
   "name": "julia-1.7"
  },
  "language_info": {
   "file_extension": ".jl",
   "mimetype": "application/julia",
   "name": "julia",
   "version": "1.7.0"
  },
  "orig_nbformat": 4
 },
 "nbformat": 4,
 "nbformat_minor": 2
}
