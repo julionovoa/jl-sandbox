{
 "cells": [
  {
   "cell_type": "markdown",
   "metadata": {},
   "source": [
    "# Testing a simple workflow\n",
    "\n",
    "- Import dataset, do some clean up, fix scitypes\n",
    "- Unpack predictors and response variable\n",
    "- Load a ridge regressor model\n",
    "- Create a pipeline with the following steps:\n",
    "    - Standardize all continuous predictors\n",
    "    - One hot encode all multiclass predictors\n",
    "    - Transform target using log\n",
    "    - Inverse target using exp"
   ]
  },
  {
   "cell_type": "code",
   "execution_count": 1,
   "metadata": {},
   "outputs": [],
   "source": [
    "using CSV, DataFrames, MLJ, MLJLinearModels"
   ]
  },
  {
   "cell_type": "code",
   "execution_count": null,
   "metadata": {},
   "outputs": [],
   "source": [
    "# Import CSV to dataframe, select some columns\n",
    "lichen_training = CSV.read(\"C:/Users/julio/Downloads/lichen_training.csv\", DataFrame; missingstring=\"NA\") |>\n",
    "dropmissing |>\n",
    "x -> select(x, \"Total.lichen\", \"basal_area\", \"PL\", \"mean_Long\", \"mean_Lat\", \"SX\", \"SNR\") |>\n",
    "x -> rename(x, [\"biomass\", \"basalarea\", \"pl\", \"lon\", \"lat\", \"sx\", \"snr\"]) |>\n",
    "x -> coerce(x, Count => Continuous, Textual => Multiclass)\n",
    "\n",
    "schema(lichen_training)"
   ]
  },
  {
   "cell_type": "code",
   "execution_count": null,
   "metadata": {},
   "outputs": [],
   "source": [
    "# Unpack predictors and response variable\n",
    "y, X = unpack(lichen_training, ==(:biomass), _->true);"
   ]
  },
  {
   "cell_type": "code",
   "execution_count": null,
   "metadata": {},
   "outputs": [],
   "source": [
    "# Testing OneHotEncoder\n",
    "# hot = OneHotEncoder()\n",
    "# m = fit!(machine(hot, X))\n",
    "# transform(m, X)"
   ]
  },
  {
   "cell_type": "code",
   "execution_count": null,
   "metadata": {},
   "outputs": [],
   "source": [
    "model = @load RidgeRegressor pkg=MLJLinearModels\n",
    "pipe = @pipeline Standardizer OneHotEncoder model target=log inverse=exp"
   ]
  },
  {
   "cell_type": "code",
   "execution_count": null,
   "metadata": {},
   "outputs": [],
   "source": [
    "mach = machine(pipe, X, y)"
   ]
  },
  {
   "cell_type": "code",
   "execution_count": null,
   "metadata": {},
   "outputs": [],
   "source": [
    "fit!(mach)"
   ]
  }
 ],
 "metadata": {
  "kernelspec": {
   "display_name": "Julia 1.7.0",
   "language": "julia",
   "name": "julia-1.7"
  },
  "language_info": {
   "file_extension": ".jl",
   "mimetype": "application/julia",
   "name": "julia",
   "version": "1.7.0"
  },
  "orig_nbformat": 4
 },
 "nbformat": 4,
 "nbformat_minor": 2
}
