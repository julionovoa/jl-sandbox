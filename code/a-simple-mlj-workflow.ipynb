{
 "cells": [
  {
   "cell_type": "markdown",
   "metadata": {},
   "source": [
    "# Testing a simple workflow\n",
    "\n",
    "- Import dataset, do some clean up, fix scitypes\n",
    "- Unpack predictors and response variable\n",
    "- Load a ridge regressor model\n",
    "- Create a pipeline with the following steps:\n",
    "    - Standardize all continuous predictors\n",
    "    - One hot encode all multiclass predictors\n",
    "    - Transform target using log\n",
    "    - Inverse target using exp"
   ]
  },
  {
   "cell_type": "code",
   "execution_count": 1,
   "metadata": {},
   "outputs": [],
   "source": [
    "using MLJ, MLJBase, CSV, DataFrames, CairoMakie"
   ]
  },
  {
   "cell_type": "code",
   "execution_count": 2,
   "metadata": {},
   "outputs": [
    {
     "data": {
      "text/html": [
       "<div class=\"data-frame\"><p>77 rows × 7 columns</p><table class=\"data-frame\"><thead><tr><th></th><th>biomass</th><th>basalarea</th><th>pl</th><th>lon</th><th>lat</th><th>sx</th><th>snr</th></tr><tr><th></th><th title=\"Float64\">Float64</th><th title=\"Float64\">Float64</th><th title=\"Float64\">Float64</th><th title=\"Float64\">Float64</th><th title=\"Float64\">Float64</th><th title=\"Float64\">Float64</th><th title=\"CategoricalArrays.CategoricalValue{String1, UInt32}\">Cat…</th></tr></thead><tbody><tr><th>1</th><td>3.3</td><td>5.52</td><td>0.0</td><td>-124.205</td><td>55.2704</td><td>0.0</td><td>B</td></tr><tr><th>2</th><td>1.97</td><td>10.44</td><td>0.0</td><td>-124.202</td><td>55.2649</td><td>60.0</td><td>C</td></tr><tr><th>3</th><td>1158.52</td><td>16.42</td><td>100.0</td><td>-124.633</td><td>55.4289</td><td>0.0</td><td>C</td></tr><tr><th>4</th><td>3474.61</td><td>7.77</td><td>100.0</td><td>-124.622</td><td>55.4232</td><td>0.0</td><td>C</td></tr><tr><th>5</th><td>1.72</td><td>22.54</td><td>0.0</td><td>-124.625</td><td>55.4193</td><td>60.0</td><td>C</td></tr><tr><th>6</th><td>3462.56</td><td>15.24</td><td>100.0</td><td>-124.64</td><td>55.4299</td><td>0.0</td><td>C</td></tr><tr><th>7</th><td>1.93</td><td>30.54</td><td>0.0</td><td>-124.33</td><td>55.3043</td><td>0.0</td><td>C</td></tr><tr><th>8</th><td>3.53</td><td>16.0</td><td>0.0</td><td>-124.323</td><td>55.3038</td><td>0.0</td><td>C</td></tr><tr><th>9</th><td>1.56</td><td>36.82</td><td>0.0</td><td>-124.323</td><td>55.3021</td><td>80.0</td><td>C</td></tr><tr><th>10</th><td>0.54</td><td>19.89</td><td>0.0</td><td>-124.325</td><td>55.3049</td><td>65.0</td><td>C</td></tr><tr><th>11</th><td>24.81</td><td>16.53</td><td>0.0</td><td>-124.589</td><td>55.5116</td><td>0.0</td><td>C</td></tr><tr><th>12</th><td>67.36</td><td>8.72</td><td>0.0</td><td>-124.596</td><td>55.522</td><td>0.0</td><td>C</td></tr><tr><th>13</th><td>1104.72</td><td>7.85</td><td>0.0</td><td>-124.592</td><td>55.5171</td><td>0.0</td><td>C</td></tr><tr><th>14</th><td>618.62</td><td>8.78</td><td>64.0</td><td>-124.603</td><td>55.5262</td><td>0.0</td><td>C</td></tr><tr><th>15</th><td>1917.77</td><td>19.94</td><td>100.0</td><td>-124.691</td><td>55.6586</td><td>0.0</td><td>B</td></tr><tr><th>16</th><td>1295.12</td><td>26.89</td><td>94.0</td><td>-124.702</td><td>55.665</td><td>0.0</td><td>B</td></tr><tr><th>17</th><td>523.83</td><td>34.04</td><td>89.0</td><td>-124.681</td><td>55.6625</td><td>0.0</td><td>C</td></tr><tr><th>18</th><td>1274.84</td><td>15.22</td><td>71.0</td><td>-124.681</td><td>55.6697</td><td>0.0</td><td>B</td></tr><tr><th>19</th><td>2223.54</td><td>10.14</td><td>100.0</td><td>-125.465</td><td>55.6917</td><td>0.0</td><td>C</td></tr><tr><th>20</th><td>315.69</td><td>18.35</td><td>100.0</td><td>-125.461</td><td>55.6688</td><td>0.0</td><td>C</td></tr><tr><th>21</th><td>2.79</td><td>25.22</td><td>95.0</td><td>-125.5</td><td>55.7406</td><td>0.0</td><td>C</td></tr><tr><th>22</th><td>892.2</td><td>10.06</td><td>100.0</td><td>-125.46</td><td>55.6745</td><td>0.0</td><td>C</td></tr><tr><th>23</th><td>1.49</td><td>24.79</td><td>80.0</td><td>-125.487</td><td>55.7387</td><td>0.0</td><td>C</td></tr><tr><th>24</th><td>3350.92</td><td>14.26</td><td>100.0</td><td>-125.479</td><td>55.7219</td><td>0.0</td><td>B</td></tr><tr><th>&vellip;</th><td>&vellip;</td><td>&vellip;</td><td>&vellip;</td><td>&vellip;</td><td>&vellip;</td><td>&vellip;</td><td>&vellip;</td></tr></tbody></table></div>"
      ],
      "text/latex": [
       "\\begin{tabular}{r|ccccccc}\n",
       "\t& biomass & basalarea & pl & lon & lat & sx & snr\\\\\n",
       "\t\\hline\n",
       "\t& Float64 & Float64 & Float64 & Float64 & Float64 & Float64 & Cat…\\\\\n",
       "\t\\hline\n",
       "\t1 & 3.3 & 5.52 & 0.0 & -124.205 & 55.2704 & 0.0 & B \\\\\n",
       "\t2 & 1.97 & 10.44 & 0.0 & -124.202 & 55.2649 & 60.0 & C \\\\\n",
       "\t3 & 1158.52 & 16.42 & 100.0 & -124.633 & 55.4289 & 0.0 & C \\\\\n",
       "\t4 & 3474.61 & 7.77 & 100.0 & -124.622 & 55.4232 & 0.0 & C \\\\\n",
       "\t5 & 1.72 & 22.54 & 0.0 & -124.625 & 55.4193 & 60.0 & C \\\\\n",
       "\t6 & 3462.56 & 15.24 & 100.0 & -124.64 & 55.4299 & 0.0 & C \\\\\n",
       "\t7 & 1.93 & 30.54 & 0.0 & -124.33 & 55.3043 & 0.0 & C \\\\\n",
       "\t8 & 3.53 & 16.0 & 0.0 & -124.323 & 55.3038 & 0.0 & C \\\\\n",
       "\t9 & 1.56 & 36.82 & 0.0 & -124.323 & 55.3021 & 80.0 & C \\\\\n",
       "\t10 & 0.54 & 19.89 & 0.0 & -124.325 & 55.3049 & 65.0 & C \\\\\n",
       "\t11 & 24.81 & 16.53 & 0.0 & -124.589 & 55.5116 & 0.0 & C \\\\\n",
       "\t12 & 67.36 & 8.72 & 0.0 & -124.596 & 55.522 & 0.0 & C \\\\\n",
       "\t13 & 1104.72 & 7.85 & 0.0 & -124.592 & 55.5171 & 0.0 & C \\\\\n",
       "\t14 & 618.62 & 8.78 & 64.0 & -124.603 & 55.5262 & 0.0 & C \\\\\n",
       "\t15 & 1917.77 & 19.94 & 100.0 & -124.691 & 55.6586 & 0.0 & B \\\\\n",
       "\t16 & 1295.12 & 26.89 & 94.0 & -124.702 & 55.665 & 0.0 & B \\\\\n",
       "\t17 & 523.83 & 34.04 & 89.0 & -124.681 & 55.6625 & 0.0 & C \\\\\n",
       "\t18 & 1274.84 & 15.22 & 71.0 & -124.681 & 55.6697 & 0.0 & B \\\\\n",
       "\t19 & 2223.54 & 10.14 & 100.0 & -125.465 & 55.6917 & 0.0 & C \\\\\n",
       "\t20 & 315.69 & 18.35 & 100.0 & -125.461 & 55.6688 & 0.0 & C \\\\\n",
       "\t21 & 2.79 & 25.22 & 95.0 & -125.5 & 55.7406 & 0.0 & C \\\\\n",
       "\t22 & 892.2 & 10.06 & 100.0 & -125.46 & 55.6745 & 0.0 & C \\\\\n",
       "\t23 & 1.49 & 24.79 & 80.0 & -125.487 & 55.7387 & 0.0 & C \\\\\n",
       "\t24 & 3350.92 & 14.26 & 100.0 & -125.479 & 55.7219 & 0.0 & B \\\\\n",
       "\t$\\dots$ & $\\dots$ & $\\dots$ & $\\dots$ & $\\dots$ & $\\dots$ & $\\dots$ & $\\dots$ \\\\\n",
       "\\end{tabular}\n"
      ],
      "text/plain": [
       "\u001b[1m77×7 DataFrame\u001b[0m\n",
       "\u001b[1m Row \u001b[0m│\u001b[1m biomass \u001b[0m\u001b[1m basalarea \u001b[0m\u001b[1m pl      \u001b[0m\u001b[1m lon      \u001b[0m\u001b[1m lat     \u001b[0m\u001b[1m sx      \u001b[0m\u001b[1m snr  \u001b[0m\n",
       "\u001b[1m     \u001b[0m│\u001b[90m Float64 \u001b[0m\u001b[90m Float64   \u001b[0m\u001b[90m Float64 \u001b[0m\u001b[90m Float64  \u001b[0m\u001b[90m Float64 \u001b[0m\u001b[90m Float64 \u001b[0m\u001b[90m Cat… \u001b[0m\n",
       "─────┼───────────────────────────────────────────────────────────────\n",
       "   1 │    3.3        5.52      0.0  -124.205  55.2704      0.0  B\n",
       "   2 │    1.97      10.44      0.0  -124.202  55.2649     60.0  C\n",
       "   3 │ 1158.52      16.42    100.0  -124.633  55.4289      0.0  C\n",
       "   4 │ 3474.61       7.77    100.0  -124.622  55.4232      0.0  C\n",
       "   5 │    1.72      22.54      0.0  -124.625  55.4193     60.0  C\n",
       "   6 │ 3462.56      15.24    100.0  -124.64   55.4299      0.0  C\n",
       "   7 │    1.93      30.54      0.0  -124.33   55.3043      0.0  C\n",
       "   8 │    3.53      16.0       0.0  -124.323  55.3038      0.0  C\n",
       "  ⋮  │    ⋮         ⋮         ⋮        ⋮         ⋮        ⋮      ⋮\n",
       "  71 │  224.57      32.16     88.0  -126.827  57.0046      0.0  C\n",
       "  72 │  934.37      37.32     82.0  -126.825  56.994       0.0  A\n",
       "  73 │  375.57      17.72      0.0  -126.834  57.0034      0.0  C\n",
       "  74 │  195.72      17.41     79.0  -126.782  56.9905      0.0  C\n",
       "  75 │  509.78      34.47      0.0  -126.784  56.9807     83.0  C\n",
       "  76 │   41.94      16.35     56.0  -126.708  57.0222      0.0  C\n",
       "  77 │   88.07      12.43      0.0  -126.78   56.9854     44.0  B\n",
       "\u001b[36m                                                      62 rows omitted\u001b[0m"
      ]
     },
     "metadata": {},
     "output_type": "display_data"
    }
   ],
   "source": [
    "# Import training dataset\n",
    "lichen_training = CSV.read(\"C:/Users/julio/Downloads/lichen_training.csv\", DataFrame; missingstring=\"NA\") |>\n",
    "dropmissing |>\n",
    "x -> DataFrames.select(x, \"Total.lichen\", \"basal_area\", \"PL\", \"mean_Long\", \"mean_Lat\", \"SX\", \"SNR\") |>\n",
    "x -> rename(x, [\"biomass\", \"basalarea\", \"pl\", \"lon\", \"lat\", \"sx\", \"snr\"]) |>\n",
    "x -> coerce(x, Count => Continuous, Textual => Multiclass)"
   ]
  },
  {
   "cell_type": "code",
   "execution_count": 3,
   "metadata": {},
   "outputs": [],
   "source": [
    "# Unpack predictors and response variable\n",
    "y, X = unpack(lichen_training, ==(:biomass), _->true);"
   ]
  },
  {
   "cell_type": "code",
   "execution_count": 12,
   "metadata": {},
   "outputs": [
    {
     "name": "stderr",
     "output_type": "stream",
     "text": [
      "┌ Info: Treating pipeline as a `Deterministic` predictor.\n",
      "│ To override, specify `prediction_type=...` (options: :deterministic, :probabilistic, :interval). \n",
      "└ @ MLJBase C:\\Users\\julio\\.julia\\packages\\MLJBase\\QXObv\\src\\composition\\models\\pipelines.jl:372\n",
      "┌ Info: Training Machine{DeterministicTunedModel{Grid,…},…}.\n",
      "└ @ MLJBase C:\\Users\\julio\\.julia\\packages\\MLJBase\\QXObv\\src\\machines.jl:403\n",
      "┌ Info: Attempting to evaluate 50 models.\n",
      "└ @ MLJTuning C:\\Users\\julio\\.julia\\packages\\MLJTuning\\bjRHJ\\src\\tuned_models.jl:680\n",
      "\r\u001b[33mEvaluating over 50 metamodels:   4%[=>                       ]  ETA: 0:00:46\u001b[39m\u001b[K"
     ]
    },
    {
     "name": "stderr",
     "output_type": "stream",
     "text": [
      "\r\u001b[33mEvaluating over 50 metamodels:   6%[=>                       ]  ETA: 0:00:30\u001b[39m\u001b[K"
     ]
    },
    {
     "name": "stderr",
     "output_type": "stream",
     "text": [
      "\r\u001b[33mEvaluating over 50 metamodels:   8%[==>                      ]  ETA: 0:00:22\u001b[39m\u001b[K"
     ]
    },
    {
     "name": "stderr",
     "output_type": "stream",
     "text": [
      "\r\u001b[33mEvaluating over 50 metamodels:  10%[==>                      ]  ETA: 0:00:17\u001b[39m\u001b[K"
     ]
    },
    {
     "name": "stderr",
     "output_type": "stream",
     "text": [
      "\r\u001b[33mEvaluating over 50 metamodels:  12%[===>                     ]  ETA: 0:00:14\u001b[39m\u001b[K"
     ]
    },
    {
     "name": "stderr",
     "output_type": "stream",
     "text": [
      "\r\u001b[33mEvaluating over 50 metamodels:  14%[===>                     ]  ETA: 0:00:12\u001b[39m\u001b[K"
     ]
    },
    {
     "name": "stderr",
     "output_type": "stream",
     "text": [
      "\r\u001b[33mEvaluating over 50 metamodels:  16%[====>                    ]  ETA: 0:00:10\u001b[39m\u001b[K"
     ]
    },
    {
     "name": "stderr",
     "output_type": "stream",
     "text": [
      "\r\u001b[33mEvaluating over 50 metamodels:  18%[====>                    ]  ETA: 0:00:09\u001b[39m\u001b[K"
     ]
    },
    {
     "name": "stderr",
     "output_type": "stream",
     "text": [
      "\r\u001b[33mEvaluating over 50 metamodels:  20%[=====>                   ]  ETA: 0:00:08\u001b[39m\u001b[K"
     ]
    },
    {
     "name": "stderr",
     "output_type": "stream",
     "text": [
      "\r\u001b[33mEvaluating over 50 metamodels:  22%[=====>                   ]  ETA: 0:00:07\u001b[39m\u001b[K"
     ]
    },
    {
     "name": "stderr",
     "output_type": "stream",
     "text": [
      "\r\u001b[33mEvaluating over 50 metamodels:  24%[======>                  ]  ETA: 0:00:06\u001b[39m\u001b[K"
     ]
    },
    {
     "name": "stderr",
     "output_type": "stream",
     "text": [
      "\r\u001b[33mEvaluating over 50 metamodels:  26%[======>                  ]  ETA: 0:00:06\u001b[39m\u001b[K"
     ]
    },
    {
     "name": "stderr",
     "output_type": "stream",
     "text": [
      "\r\u001b[33mEvaluating over 50 metamodels:  28%[=======>                 ]  ETA: 0:00:05\u001b[39m\u001b[K"
     ]
    },
    {
     "name": "stderr",
     "output_type": "stream",
     "text": [
      "\r\u001b[33mEvaluating over 50 metamodels:  30%[=======>                 ]  ETA: 0:00:05\u001b[39m\u001b[K"
     ]
    },
    {
     "name": "stderr",
     "output_type": "stream",
     "text": [
      "\r\u001b[33mEvaluating over 50 metamodels:  32%[========>                ]  ETA: 0:00:04\u001b[39m\u001b[K"
     ]
    },
    {
     "name": "stderr",
     "output_type": "stream",
     "text": [
      "\r\u001b[33mEvaluating over 50 metamodels:  34%[========>                ]  ETA: 0:00:04\u001b[39m\u001b[K"
     ]
    },
    {
     "name": "stderr",
     "output_type": "stream",
     "text": [
      "\r\u001b[33mEvaluating over 50 metamodels:  36%[=========>               ]  ETA: 0:00:04\u001b[39m\u001b[K"
     ]
    },
    {
     "name": "stderr",
     "output_type": "stream",
     "text": [
      "\r\u001b[33mEvaluating over 50 metamodels:  38%[=========>               ]  ETA: 0:00:03\u001b[39m\u001b[K"
     ]
    },
    {
     "name": "stderr",
     "output_type": "stream",
     "text": [
      "\r\u001b[33mEvaluating over 50 metamodels:  40%[==========>              ]  ETA: 0:00:03\u001b[39m\u001b[K"
     ]
    },
    {
     "name": "stderr",
     "output_type": "stream",
     "text": [
      "\r\u001b[33mEvaluating over 50 metamodels:  42%[==========>              ]  ETA: 0:00:03\u001b[39m\u001b[K"
     ]
    },
    {
     "name": "stderr",
     "output_type": "stream",
     "text": [
      "\r\u001b[33mEvaluating over 50 metamodels:  44%[===========>             ]  ETA: 0:00:03\u001b[39m\u001b[K"
     ]
    },
    {
     "name": "stderr",
     "output_type": "stream",
     "text": [
      "\r\u001b[33mEvaluating over 50 metamodels:  46%[===========>             ]  ETA: 0:00:03\u001b[39m\u001b[K"
     ]
    },
    {
     "name": "stderr",
     "output_type": "stream",
     "text": [
      "\r\u001b[33mEvaluating over 50 metamodels:  48%[============>            ]  ETA: 0:00:02\u001b[39m\u001b[K"
     ]
    },
    {
     "name": "stderr",
     "output_type": "stream",
     "text": [
      "\r\u001b[33mEvaluating over 50 metamodels:  50%[============>            ]  ETA: 0:00:02\u001b[39m\u001b[K"
     ]
    },
    {
     "name": "stderr",
     "output_type": "stream",
     "text": [
      "\r\u001b[33mEvaluating over 50 metamodels:  52%[=============>           ]  ETA: 0:00:02\u001b[39m\u001b[K"
     ]
    },
    {
     "name": "stderr",
     "output_type": "stream",
     "text": [
      "\r\u001b[33mEvaluating over 50 metamodels:  54%[=============>           ]  ETA: 0:00:02\u001b[39m\u001b[K"
     ]
    },
    {
     "name": "stderr",
     "output_type": "stream",
     "text": [
      "\r\u001b[33mEvaluating over 50 metamodels:  56%[==============>          ]  ETA: 0:00:02\u001b[39m\u001b[K"
     ]
    },
    {
     "name": "stderr",
     "output_type": "stream",
     "text": [
      "\r\u001b[33mEvaluating over 50 metamodels:  58%[==============>          ]  ETA: 0:00:02\u001b[39m\u001b[K"
     ]
    },
    {
     "name": "stderr",
     "output_type": "stream",
     "text": [
      "\r\u001b[33mEvaluating over 50 metamodels:  60%[===============>         ]  ETA: 0:00:02\u001b[39m\u001b[K"
     ]
    },
    {
     "name": "stderr",
     "output_type": "stream",
     "text": [
      "\r\u001b[33mEvaluating over 50 metamodels:  62%[===============>         ]  ETA: 0:00:01\u001b[39m\u001b[K"
     ]
    },
    {
     "name": "stderr",
     "output_type": "stream",
     "text": [
      "\r\u001b[33mEvaluating over 50 metamodels:  66%[================>        ]  ETA: 0:00:01\u001b[39m\u001b[K"
     ]
    },
    {
     "name": "stderr",
     "output_type": "stream",
     "text": [
      "\r\u001b[33mEvaluating over 50 metamodels:  68%[=================>       ]  ETA: 0:00:01\u001b[39m\u001b[K"
     ]
    },
    {
     "name": "stderr",
     "output_type": "stream",
     "text": [
      "\r\u001b[33mEvaluating over 50 metamodels:  70%[=================>       ]  ETA: 0:00:01\u001b[39m\u001b[K"
     ]
    },
    {
     "name": "stderr",
     "output_type": "stream",
     "text": [
      "\r\u001b[33mEvaluating over 50 metamodels:  72%[==================>      ]  ETA: 0:00:01\u001b[39m\u001b[K"
     ]
    },
    {
     "name": "stderr",
     "output_type": "stream",
     "text": [
      "\r\u001b[33mEvaluating over 50 metamodels:  76%[===================>     ]  ETA: 0:00:01\u001b[39m\u001b[K"
     ]
    },
    {
     "name": "stderr",
     "output_type": "stream",
     "text": [
      "\r\u001b[33mEvaluating over 50 metamodels:  78%[===================>     ]  ETA: 0:00:01\u001b[39m\u001b[K"
     ]
    },
    {
     "name": "stderr",
     "output_type": "stream",
     "text": [
      "\r\u001b[33mEvaluating over 50 metamodels:  80%[====================>    ]  ETA: 0:00:01\u001b[39m\u001b[K"
     ]
    },
    {
     "name": "stderr",
     "output_type": "stream",
     "text": [
      "\r\u001b[33mEvaluating over 50 metamodels:  82%[====================>    ]  ETA: 0:00:01\u001b[39m\u001b[K"
     ]
    },
    {
     "name": "stderr",
     "output_type": "stream",
     "text": [
      "\r\u001b[33mEvaluating over 50 metamodels:  84%[=====================>   ]  ETA: 0:00:00\u001b[39m\u001b[K"
     ]
    },
    {
     "name": "stderr",
     "output_type": "stream",
     "text": [
      "\r\u001b[33mEvaluating over 50 metamodels:  86%[=====================>   ]  ETA: 0:00:00\u001b[39m\u001b[K"
     ]
    },
    {
     "name": "stderr",
     "output_type": "stream",
     "text": [
      "\r\u001b[33mEvaluating over 50 metamodels:  88%[======================>  ]  ETA: 0:00:00\u001b[39m\u001b[K"
     ]
    },
    {
     "name": "stderr",
     "output_type": "stream",
     "text": [
      "\r\u001b[33mEvaluating over 50 metamodels:  90%[======================>  ]  ETA: 0:00:00\u001b[39m\u001b[K"
     ]
    },
    {
     "name": "stderr",
     "output_type": "stream",
     "text": [
      "\r\u001b[33mEvaluating over 50 metamodels:  92%[=======================> ]  ETA: 0:00:00\u001b[39m\u001b[K"
     ]
    },
    {
     "name": "stderr",
     "output_type": "stream",
     "text": [
      "\r\u001b[33mEvaluating over 50 metamodels:  96%[========================>]  ETA: 0:00:00\u001b[39m\u001b[K"
     ]
    },
    {
     "name": "stderr",
     "output_type": "stream",
     "text": [
      "\r\u001b[33mEvaluating over 50 metamodels:  98%[========================>]  ETA: 0:00:00\u001b[39m\u001b[K"
     ]
    },
    {
     "name": "stderr",
     "output_type": "stream",
     "text": [
      "\r\u001b[33mEvaluating over 50 metamodels: 100%[=========================] Time: 0:00:02\u001b[39m\u001b[K\n"
     ]
    },
    {
     "data": {
      "text/plain": [
       "3.130612244897959"
      ]
     },
     "metadata": {},
     "output_type": "display_data"
    }
   ],
   "source": [
    "# Ridge Regressor Model\n",
    "model = @load RidgeRegressor pkg=MLJLinearModels verbosity=0\n",
    "pipe = @pipeline Standardizer OneHotEncoder model target=x -> log.(x) inverse=x -> exp.(x)\n",
    "r = range(pipe, :(ridge_regressor.lambda), lower=0.1, upper=10)\n",
    "tunned = TunedModel(model=pipe, ranges=r, tuning=Grid(resolution=50), resampling=CV(nfolds=3, rng=4141), measure=rms)\n",
    "mach = machine(tunned, X, y)\n",
    "fit!(mach)\n",
    "\n",
    "best = fitted_params(mach).best_model\n",
    "best.ridge_regressor.lambda"
   ]
  },
  {
   "cell_type": "code",
   "execution_count": 13,
   "metadata": {},
   "outputs": [],
   "source": [
    "# Get the fitted parameters\n",
    "fp = fitted_params(mach);"
   ]
  },
  {
   "cell_type": "code",
   "execution_count": 15,
   "metadata": {},
   "outputs": [
    {
     "data": {
      "text/plain": [
       "(best_model = Pipeline306,\n",
       " best_fitted_params = (inverse = (fitresult = nothing,),\n",
       "                       ridge_regressor = (coefs = [:basalarea => -0.6905307788073289, :pl => 0.916804772865311, :lon => -0.8373423878482915, :lat => 0.12049581373939725, :sx => 0.12586070726639248, :snr__A => 0.6273249652049521, :snr__B => 1.655554499410423, :snr__C => 1.0995830130862663],\n",
       "                                          intercept = 3.3824624777016474,),\n",
       "                       one_hot_encoder = (fitresult = OneHotEncoderResult,),\n",
       "                       standardizer = Dict(:basalarea => (19.905974025974025, 9.59526339559761), :sx => (9.883116883116884, 23.760301935201667), :lat => (55.97332400649351, 0.5664634649325857), :pl => (57.05194805194805, 43.025052709193105), :lon => (-125.32716337662336, 0.8816506583042382)),\n",
       "                       target = (fitresult = nothing,),\n",
       "                       machines = Machine[Machine{WrappedFunction,…}, Machine{Standardizer,…}, Machine{OneHotEncoder,…}, Machine{RidgeRegressor,…}, Machine{WrappedFunction,…}],\n",
       "                       fitted_params_given_machine = LittleDict{Any, Any, Vector{Any}, Vector{Any}}(Machine{WrappedFunction,…} => (fitresult = nothing,), Machine{Standardizer,…} => Dict(:basalarea => (19.905974025974025, 9.59526339559761), :sx => (9.883116883116884, 23.760301935201667), :lat => (55.97332400649351, 0.5664634649325857), :pl => (57.05194805194805, 43.025052709193105), :lon => (-125.32716337662336, 0.8816506583042382)), Machine{OneHotEncoder,…} => (fitresult = OneHotEncoderResult,), Machine{RidgeRegressor,…} => (coefs = [:basalarea => -0.6905307788073289, :pl => 0.916804772865311, :lon => -0.8373423878482915, :lat => 0.12049581373939725, :sx => 0.12586070726639248, :snr__A => 0.6273249652049521, :snr__B => 1.655554499410423, :snr__C => 1.0995830130862663], intercept = 3.3824624777016474), Machine{WrappedFunction,…} => (fitresult = nothing,)),),)"
      ]
     },
     "metadata": {},
     "output_type": "display_data"
    }
   ],
   "source": [
    "# Regressor coefficients\n",
    "fp"
   ]
  },
  {
   "cell_type": "code",
   "execution_count": 17,
   "metadata": {},
   "outputs": [
    {
     "name": "stdout",
     "output_type": "stream",
     "text": [
      "rms(yhat, y) ^ 2 = 1.0913891573717303e6\n"
     ]
    }
   ],
   "source": [
    "# Predict\n",
    "yhat = predict(mach)\n",
    "@show rms(yhat, y)^2;"
   ]
  },
  {
   "cell_type": "code",
   "execution_count": 18,
   "metadata": {},
   "outputs": [
    {
     "data": {
      "image/png": "[encoded data removed]",
      "text/plain": [
       "Scene (800px, 600px):\n",
       "  18 Plots:\n",
       "    ├ Combined{Makie.poly, Tuple{Vector{Vector{Point{2, Float32}}}}}\n",
       "    ├ LineSegments{Tuple{Vector{Point{2, Float32}}}}\n",
       "    ├ LineSegments{Tuple{Vector{Point{2, Float32}}}}\n",
       "    ├ LineSegments{Tuple{Vector{Point{2, Float32}}}}\n",
       "    ├ LineSegments{Tuple{Vector{Point{2, Float32}}}}\n",
       "    ├ LineSegments{Tuple{Vector{Point{2, Float32}}}}\n",
       "    ├ LineSegments{Tuple{Vector{Point{2, Float32}}}}\n",
       "    ├ MakieCore.Text{Tuple{String}}\n",
       "    ├ Lines{Tuple{Vector{Point{2, Float32}}}}\n",
       "    ├ MakieCore.Text{Tuple{Vector{Tuple{AbstractString, Point{2, Float32}}}}}\n",
       "    ├ LineSegments{Tuple{Vector{Point{2, Float32}}}}\n",
       "    ├ LineSegments{Tuple{Vector{Point{2, Float32}}}}\n",
       "    ├ MakieCore.Text{Tuple{String}}\n",
       "    ├ Lines{Tuple{Vector{Point{2, Float32}}}}\n",
       "    ├ MakieCore.Text{Tuple{Vector{Tuple{AbstractString, Point{2, Float32}}}}}\n",
       "    ├ Lines{Tuple{Vector{Point{2, Float32}}}}\n",
       "    ├ Lines{Tuple{Vector{Point{2, Float32}}}}\n",
       "    └ MakieCore.Text{Tuple{String}}\n",
       "  1 Child Scene:\n",
       "    └ Scene (713px, 541px)"
      ]
     },
     "metadata": {},
     "output_type": "display_data"
    }
   ],
   "source": [
    "# Residuals\n",
    "stem(yhat - y)"
   ]
  },
  {
   "cell_type": "code",
   "execution_count": 19,
   "metadata": {},
   "outputs": [
    {
     "data": {
      "image/png": "[encoded data removed]",
      "text/plain": [
       "Scene (800px, 600px):\n",
       "  18 Plots:\n",
       "    ├ Combined{Makie.poly, Tuple{Vector{Vector{Point{2, Float32}}}}}\n",
       "    ├ LineSegments{Tuple{Vector{Point{2, Float32}}}}\n",
       "    ├ LineSegments{Tuple{Vector{Point{2, Float32}}}}\n",
       "    ├ LineSegments{Tuple{Vector{Point{2, Float32}}}}\n",
       "    ├ LineSegments{Tuple{Vector{Point{2, Float32}}}}\n",
       "    ├ LineSegments{Tuple{Vector{Point{2, Float32}}}}\n",
       "    ├ LineSegments{Tuple{Vector{Point{2, Float32}}}}\n",
       "    ├ MakieCore.Text{Tuple{String}}\n",
       "    ├ Lines{Tuple{Vector{Point{2, Float32}}}}\n",
       "    ├ MakieCore.Text{Tuple{Vector{Tuple{AbstractString, Point{2, Float32}}}}}\n",
       "    ├ LineSegments{Tuple{Vector{Point{2, Float32}}}}\n",
       "    ├ LineSegments{Tuple{Vector{Point{2, Float32}}}}\n",
       "    ├ MakieCore.Text{Tuple{String}}\n",
       "    ├ Lines{Tuple{Vector{Point{2, Float32}}}}\n",
       "    ├ MakieCore.Text{Tuple{Vector{Tuple{AbstractString, Point{2, Float32}}}}}\n",
       "    ├ Lines{Tuple{Vector{Point{2, Float32}}}}\n",
       "    ├ Lines{Tuple{Vector{Point{2, Float32}}}}\n",
       "    └ MakieCore.Text{Tuple{String}}\n",
       "  1 Child Scene:\n",
       "    └ Scene (704px, 541px)"
      ]
     },
     "metadata": {},
     "output_type": "display_data"
    }
   ],
   "source": [
    "# Residuals density\n",
    "density(yhat - y)"
   ]
  }
 ],
 "metadata": {
  "kernelspec": {
   "display_name": "Julia 1.7.0",
   "language": "julia",
   "name": "julia-1.7"
  },
  "language_info": {
   "file_extension": ".jl",
   "mimetype": "application/julia",
   "name": "julia",
   "version": "1.7.0"
  },
  "orig_nbformat": 4
 },
 "nbformat": 4,
 "nbformat_minor": 2
}
