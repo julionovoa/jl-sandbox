{
 "cells": [
  {
   "cell_type": "code",
   "execution_count": 35,
   "metadata": {},
   "outputs": [],
   "source": [
    "using DataFrames, CSV, MLJLinearModels, MLJ, VegaLite"
   ]
  },
  {
   "cell_type": "code",
   "execution_count": 72,
   "metadata": {},
   "outputs": [],
   "source": [
    "# Import training dataset\n",
    "lichen_training = CSV.read(\"C:/Users/julio/Downloads/lichen_training.csv\", DataFrame) |>\n",
    "x -> select(x, \"Total.lichen\", \"basal_area\", \"PL\", \"mean_Long\", \"mean_Lat\", \"Aspect_south\", \"SX\") |>\n",
    "x -> rename(x, [\"biomass\", \"basalarea\", \"pl\", \"lon\", \"lat\", \"south\", \"sx\"]) |>\n",
    "x -> coerce(x, Count => Continuous);"
   ]
  },
  {
   "cell_type": "code",
   "execution_count": 73,
   "metadata": {},
   "outputs": [
    {
     "data": {
      "text/plain": [
       "┌───────────┬─────────┬────────────┐\n",
       "│\u001b[22m _.names   \u001b[0m│\u001b[22m _.types \u001b[0m│\u001b[22m _.scitypes \u001b[0m│\n",
       "├───────────┼─────────┼────────────┤\n",
       "│ biomass   │ Float64 │ Continuous │\n",
       "│ basalarea │ Float64 │ Continuous │\n",
       "│ pl        │ Float64 │ Continuous │\n",
       "│ lon       │ Float64 │ Continuous │\n",
       "│ lat       │ Float64 │ Continuous │\n",
       "│ south     │ Float64 │ Continuous │\n",
       "│ sx        │ Float64 │ Continuous │\n",
       "└───────────┴─────────┴────────────┘\n",
       "_.nrows = 78\n"
      ]
     },
     "metadata": {},
     "output_type": "display_data"
    }
   ],
   "source": [
    "schema(lichen_training)"
   ]
  },
  {
   "cell_type": "code",
   "execution_count": 74,
   "metadata": {},
   "outputs": [],
   "source": [
    "# Split predictors (X) and response variable (y)\n",
    "y, X = unpack(lichen_training, ==(:biomass), _ -> true);"
   ]
  },
  {
   "cell_type": "code",
   "execution_count": 75,
   "metadata": {},
   "outputs": [
    {
     "name": "stdout",
     "output_type": "stream",
     "text": [
      "import MLJLinearModels ✔\n"
     ]
    },
    {
     "name": "stderr",
     "output_type": "stream",
     "text": [
      "┌ Info: For silent loading, specify `verbosity=0`. \n",
      "└ @ Main C:\\Users\\julio\\.julia\\packages\\MLJModels\\GKDnU\\src\\loading.jl:168\n"
     ]
    },
    {
     "data": {
      "text/plain": [
       "MLJLinearModels.LinearRegressor"
      ]
     },
     "metadata": {},
     "output_type": "display_data"
    }
   ],
   "source": [
    "# Load a LinearRegressor using the GLM package\n",
    "LinearRegressor = @load LinearRegressor pkg=MLJLinearModels"
   ]
  },
  {
   "cell_type": "code",
   "execution_count": 76,
   "metadata": {},
   "outputs": [
    {
     "data": {
      "text/plain": [
       "Pipeline280(\n",
       "    standardizer = Standardizer(\n",
       "            features = Symbol[],\n",
       "            ignore = false,\n",
       "            ordered_factor = false,\n",
       "            count = false),\n",
       "    linear_regressor = LinearRegressor(\n",
       "            fit_intercept = true,\n",
       "            solver = nothing))"
      ]
     },
     "metadata": {},
     "output_type": "display_data"
    }
   ],
   "source": [
    "# Instantiate a linear regressor model using a pipeline\n",
    "LinearRegressorPipe = @pipeline(Standardizer(), LinearRegressor())"
   ]
  },
  {
   "cell_type": "code",
   "execution_count": 77,
   "metadata": {},
   "outputs": [
    {
     "data": {
      "text/plain": [
       "Machine{LinearRegressor,…} trained 0 times; caches data\n",
       "  args: \n",
       "    1:\tSource @333 ⏎ `Table{AbstractVector{Continuous}}`\n",
       "    2:\tSource @714 ⏎ `AbstractVector{Continuous}`\n"
      ]
     },
     "metadata": {},
     "output_type": "display_data"
    }
   ],
   "source": [
    "# Create an MLJ machine (model + data)\n",
    "LinearModel = machine(LinearRegressor(), X, y)"
   ]
  },
  {
   "cell_type": "code",
   "execution_count": 78,
   "metadata": {},
   "outputs": [
    {
     "data": {
      "text/plain": [
       "([66, 63, 5, 22, 49, 15, 47, 64, 35, 12  …  11, 67, 54, 73, 32, 4, 62, 61, 57, 21], [14, 78, 40, 27, 74, 68, 18, 2, 53, 50  …  77, 29, 69, 7, 60, 59, 17, 30, 43, 51])"
      ]
     },
     "metadata": {},
     "output_type": "display_data"
    }
   ],
   "source": [
    "# Split into train/test datasets\n",
    "train, test = partition(eachindex(y), 0.7, shuffle=true, rng=1010)"
   ]
  },
  {
   "cell_type": "code",
   "execution_count": 79,
   "metadata": {},
   "outputs": [
    {
     "name": "stderr",
     "output_type": "stream",
     "text": [
      "┌ Info: Training Machine{LinearRegressor,…}.\n",
      "└ @ MLJBase C:\\Users\\julio\\.julia\\packages\\MLJBase\\QXObv\\src\\machines.jl:403\n"
     ]
    },
    {
     "data": {
      "text/plain": [
       "Machine{LinearRegressor,…} trained 1 time; caches data\n",
       "  args: \n",
       "    1:\tSource @333 ⏎ `Table{AbstractVector{Continuous}}`\n",
       "    2:\tSource @714 ⏎ `AbstractVector{Continuous}`\n"
      ]
     },
     "metadata": {},
     "output_type": "display_data"
    }
   ],
   "source": [
    "# Fit the machine\n",
    "fit!(LinearModel, rows=train)"
   ]
  },
  {
   "cell_type": "code",
   "execution_count": 80,
   "metadata": {},
   "outputs": [
    {
     "data": {
      "text/plain": [
       "(coefs = [:basalarea => -27.47074270396439, :pl => 7.676320940401087, :lon => -146.45163457348735, :lat => -122.86240941507849, :south => -212.46989463113562, :sx => 5.998208027586419],\n",
       " intercept = -10596.646306509354,)"
      ]
     },
     "metadata": {},
     "output_type": "display_data"
    }
   ],
   "source": [
    "# Check trained parameters\n",
    "fp = fitted_params(LinearModel)"
   ]
  },
  {
   "cell_type": "code",
   "execution_count": 81,
   "metadata": {},
   "outputs": [
    {
     "data": {
      "text/plain": [
       "23-element Vector{Float64}:\n",
       "  894.7820135144575\n",
       "  687.6893417791052\n",
       "  317.14895879768846\n",
       " 1265.7536969317825\n",
       "  305.3678696534498\n",
       "  579.388518850461\n",
       "  818.4860103393221\n",
       "  665.6670287380475\n",
       "  274.79228856591544\n",
       "  658.8677247451342\n",
       "    ⋮\n",
       " 1093.4869382757606\n",
       "  359.9791331606666\n",
       " -179.3166878261418\n",
       "  590.4633078640418\n",
       " 1006.5220281687398\n",
       "  404.43392835669147\n",
       "  647.6588529887576\n",
       "  375.7584071333349\n",
       " 1018.9577228878043"
      ]
     },
     "metadata": {},
     "output_type": "display_data"
    }
   ],
   "source": [
    "# Make predictions on test\n",
    "y_test_pred = predict(LinearModel, rows=test)"
   ]
  },
  {
   "cell_type": "code",
   "execution_count": 82,
   "metadata": {},
   "outputs": [
    {
     "data": {
      "text/plain": [
       "865.3096052696646"
      ]
     },
     "metadata": {},
     "output_type": "display_data"
    }
   ],
   "source": [
    "rms(y_test_pred, y[test])"
   ]
  },
  {
   "cell_type": "code",
   "execution_count": 83,
   "metadata": {},
   "outputs": [
    {
     "data": {
      "application/vnd.vegalite.v4+json": {
       "data": {
        "values": [
         {
          "x": 276.1620135144575
         },
         {
          "x": 599.6193417791053
         },
         {
          "x": -991.2710412023116
         },
         {
          "x": -1560.3963030682175
         },
         {
          "x": -70.20213034655018
         },
         {
          "x": -52.391481149539004
         },
         {
          "x": -456.3539896606778
         },
         {
          "x": 663.6970287380475
         },
         {
          "x": 272.36228856591543
         },
         {
          "x": 656.9977247451342
         },
         {
          "x": 914.8079962843922
         },
         {
          "x": 833.2931829182384
         },
         {
          "x": -1661.9495898557188
         },
         {
          "x": 786.6022168270033
         },
         {
          "x": -2116.233061724239
         },
         {
          "x": -325.10086683933343
         },
         {
          "x": -181.2466878261418
         },
         {
          "x": 587.4733078640418
         },
         {
          "x": 915.8920281687398
         },
         {
          "x": -119.39607164330857
         },
         {
          "x": 597.4688529887576
         },
         {
          "x": 290.79840713333493
         },
         {
          "x": 1018.4077228878043
         }
        ]
       },
       "encoding": {
        "x": {
         "bin": true,
         "field": "x",
         "title": null,
         "type": "quantitative"
        },
        "y": {
         "aggregate": "count",
         "type": "quantitative"
        }
       },
       "height": 300,
       "mark": "bar",
       "width": 500
      },
      "image/png": "[encoded data removed]",
      "image/svg+xml": "<?xml version=\"1.0\" encoding=\"utf-8\"?>\n<!DOCTYPE svg PUBLIC \"-//W3C//DTD SVG 1.1//EN\" \"http://www.w3.org/Graphics/SVG/1.1/DTD/svg11.dtd\">\n<svg xmlns=\"http://www.w3.org/2000/svg\" xmlns:xlink=\"http://www.w3.org/1999/xlink\" version=\"1.1\" class=\"marks\" width=\"538\" height=\"332\" viewBox=\"0 0 538 332\"><rect width=\"538\" height=\"332\" fill=\"white\"/><g fill=\"none\" stroke-miterlimit=\"10\" transform=\"translate(32,10)\"><g class=\"mark-group role-frame root\" role=\"graphics-object\" aria-roledescription=\"group mark container\"><g transform=\"translate(0,0)\"><path class=\"background\" aria-hidden=\"true\" d=\"M0.5,0.5h500v300h-500Z\" stroke=\"#ddd\"/><g><g class=\"mark-group role-axis\" aria-hidden=\"true\"><g transform=\"translate(0.5,0.5)\"><path class=\"background\" aria-hidden=\"true\" d=\"M0,0h0v0h0Z\" pointer-events=\"none\"/><g><g class=\"mark-rule role-axis-grid\" pointer-events=\"none\"><line transform=\"translate(0,300)\" x2=\"500\" y2=\"0\" stroke=\"#ddd\" stroke-width=\"1\" opacity=\"1\"/><line transform=\"translate(0,267)\" x2=\"500\" y2=\"0\" stroke=\"#ddd\" stroke-width=\"1\" opacity=\"1\"/><line transform=\"translate(0,233)\" x2=\"500\" y2=\"0\" stroke=\"#ddd\" stroke-width=\"1\" opacity=\"1\"/><line transform=\"translate(0,200)\" x2=\"500\" y2=\"0\" stroke=\"#ddd\" stroke-width=\"1\" opacity=\"1\"/><line transform=\"translate(0,167)\" x2=\"500\" y2=\"0\" stroke=\"#ddd\" stroke-width=\"1\" opacity=\"1\"/><line transform=\"translate(0,133)\" x2=\"500\" y2=\"0\" stroke=\"#ddd\" stroke-width=\"1\" opacity=\"1\"/><line transform=\"translate(0,100)\" x2=\"500\" y2=\"0\" stroke=\"#ddd\" stroke-width=\"1\" opacity=\"1\"/><line transform=\"translate(0,67)\" x2=\"500\" y2=\"0\" stroke=\"#ddd\" stroke-width=\"1\" opacity=\"1\"/><line transform=\"translate(0,33)\" x2=\"500\" y2=\"0\" stroke=\"#ddd\" stroke-width=\"1\" opacity=\"1\"/><line transform=\"translate(0,0)\" x2=\"500\" y2=\"0\" stroke=\"#ddd\" stroke-width=\"1\" opacity=\"1\"/></g></g><path class=\"foreground\" aria-hidden=\"true\" d=\"\" pointer-events=\"none\" display=\"none\"/></g></g><g class=\"mark-group role-axis\" role=\"graphics-symbol\" aria-roledescription=\"axis\" aria-label=\"X-axis for a linear scale with values from −2,500 to 1,500\"><g transform=\"translate(0.5,300.5)\"><path class=\"background\" aria-hidden=\"true\" d=\"M0,0h0v0h0Z\" pointer-events=\"none\"/><g><g class=\"mark-rule role-axis-tick\" pointer-events=\"none\"><line transform=\"translate(0,0)\" x2=\"0\" y2=\"5\" stroke=\"#888\" stroke-width=\"1\" opacity=\"1\"/><line transform=\"translate(63,0)\" x2=\"0\" y2=\"5\" stroke=\"#888\" stroke-width=\"1\" opacity=\"1\"/><line transform=\"translate(125,0)\" x2=\"0\" y2=\"5\" stroke=\"#888\" stroke-width=\"1\" opacity=\"1\"/><line transform=\"translate(188,0)\" x2=\"0\" y2=\"5\" stroke=\"#888\" stroke-width=\"1\" opacity=\"1\"/><line transform=\"translate(250,0)\" x2=\"0\" y2=\"5\" stroke=\"#888\" stroke-width=\"1\" opacity=\"1\"/><line transform=\"translate(313,0)\" x2=\"0\" y2=\"5\" stroke=\"#888\" stroke-width=\"1\" opacity=\"1\"/><line transform=\"translate(375,0)\" x2=\"0\" y2=\"5\" stroke=\"#888\" stroke-width=\"1\" opacity=\"1\"/><line transform=\"translate(438,0)\" x2=\"0\" y2=\"5\" stroke=\"#888\" stroke-width=\"1\" opacity=\"1\"/><line transform=\"translate(500,0)\" x2=\"0\" y2=\"5\" stroke=\"#888\" stroke-width=\"1\" opacity=\"1\"/></g><g class=\"mark-text role-axis-label\" pointer-events=\"none\"><text text-anchor=\"start\" transform=\"translate(0,15)\" font-family=\"sans-serif\" font-size=\"10px\" fill=\"#000\" opacity=\"1\">−2,500</text><text text-anchor=\"middle\" transform=\"translate(62.5,15)\" font-family=\"sans-serif\" font-size=\"10px\" fill=\"#000\" opacity=\"1\">−2,000</text><text text-anchor=\"middle\" transform=\"translate(125,15)\" font-family=\"sans-serif\" font-size=\"10px\" fill=\"#000\" opacity=\"1\">−1,500</text><text text-anchor=\"middle\" transform=\"translate(187.5,15)\" font-family=\"sans-serif\" font-size=\"10px\" fill=\"#000\" opacity=\"1\">−1,000</text><text text-anchor=\"middle\" transform=\"translate(250,15)\" font-family=\"sans-serif\" font-size=\"10px\" fill=\"#000\" opacity=\"1\">−500</text><text text-anchor=\"middle\" transform=\"translate(312.5,15)\" font-family=\"sans-serif\" font-size=\"10px\" fill=\"#000\" opacity=\"1\">0</text><text text-anchor=\"middle\" transform=\"translate(375,15)\" font-family=\"sans-serif\" font-size=\"10px\" fill=\"#000\" opacity=\"1\">500</text><text text-anchor=\"middle\" transform=\"translate(437.5,15)\" font-family=\"sans-serif\" font-size=\"10px\" fill=\"#000\" opacity=\"1\">1,000</text><text text-anchor=\"end\" transform=\"translate(500,15)\" font-family=\"sans-serif\" font-size=\"10px\" fill=\"#000\" opacity=\"1\">1,500</text></g><g class=\"mark-rule role-axis-domain\" pointer-events=\"none\"><line transform=\"translate(0,0)\" x2=\"500\" y2=\"0\" stroke=\"#888\" stroke-width=\"1\" opacity=\"1\"/></g></g><path class=\"foreground\" aria-hidden=\"true\" d=\"\" pointer-events=\"none\" display=\"none\"/></g></g><g class=\"mark-group role-axis\" role=\"graphics-symbol\" aria-roledescription=\"axis\" aria-label=\"Y-axis titled 'Count of Records' for a linear scale with values from 0 to 9\"><g transform=\"translate(0.5,0.5)\"><path class=\"background\" aria-hidden=\"true\" d=\"M0,0h0v0h0Z\" pointer-events=\"none\"/><g><g class=\"mark-rule role-axis-tick\" pointer-events=\"none\"><line transform=\"translate(0,300)\" x2=\"-5\" y2=\"0\" stroke=\"#888\" stroke-width=\"1\" opacity=\"1\"/><line transform=\"translate(0,267)\" x2=\"-5\" y2=\"0\" stroke=\"#888\" stroke-width=\"1\" opacity=\"1\"/><line transform=\"translate(0,233)\" x2=\"-5\" y2=\"0\" stroke=\"#888\" stroke-width=\"1\" opacity=\"1\"/><line transform=\"translate(0,200)\" x2=\"-5\" y2=\"0\" stroke=\"#888\" stroke-width=\"1\" opacity=\"1\"/><line transform=\"translate(0,167)\" x2=\"-5\" y2=\"0\" stroke=\"#888\" stroke-width=\"1\" opacity=\"1\"/><line transform=\"translate(0,133)\" x2=\"-5\" y2=\"0\" stroke=\"#888\" stroke-width=\"1\" opacity=\"1\"/><line transform=\"translate(0,100)\" x2=\"-5\" y2=\"0\" stroke=\"#888\" stroke-width=\"1\" opacity=\"1\"/><line transform=\"translate(0,67)\" x2=\"-5\" y2=\"0\" stroke=\"#888\" stroke-width=\"1\" opacity=\"1\"/><line transform=\"translate(0,33)\" x2=\"-5\" y2=\"0\" stroke=\"#888\" stroke-width=\"1\" opacity=\"1\"/><line transform=\"translate(0,0)\" x2=\"-5\" y2=\"0\" stroke=\"#888\" stroke-width=\"1\" opacity=\"1\"/></g><g class=\"mark-text role-axis-label\" pointer-events=\"none\"><text text-anchor=\"end\" transform=\"translate(-7,303)\" font-family=\"sans-serif\" font-size=\"10px\" fill=\"#000\" opacity=\"1\">0</text><text text-anchor=\"end\" transform=\"translate(-7,269.66666666666663)\" font-family=\"sans-serif\" font-size=\"10px\" fill=\"#000\" opacity=\"1\">1</text><text text-anchor=\"end\" transform=\"translate(-7,236.33333333333334)\" font-family=\"sans-serif\" font-size=\"10px\" fill=\"#000\" opacity=\"1\">2</text><text text-anchor=\"end\" transform=\"translate(-7,203.00000000000003)\" font-family=\"sans-serif\" font-size=\"10px\" fill=\"#000\" opacity=\"1\">3</text><text text-anchor=\"end\" transform=\"translate(-7,169.66666666666669)\" font-family=\"sans-serif\" font-size=\"10px\" fill=\"#000\" opacity=\"1\">4</text><text text-anchor=\"end\" transform=\"translate(-7,136.33333333333331)\" font-family=\"sans-serif\" font-size=\"10px\" fill=\"#000\" opacity=\"1\">5</text><text text-anchor=\"end\" transform=\"translate(-7,103.00000000000001)\" font-family=\"sans-serif\" font-size=\"10px\" fill=\"#000\" opacity=\"1\">6</text><text text-anchor=\"end\" transform=\"translate(-7,69.66666666666666)\" font-family=\"sans-serif\" font-size=\"10px\" fill=\"#000\" opacity=\"1\">7</text><text text-anchor=\"end\" transform=\"translate(-7,36.33333333333335)\" font-family=\"sans-serif\" font-size=\"10px\" fill=\"#000\" opacity=\"1\">8</text><text text-anchor=\"end\" transform=\"translate(-7,3)\" font-family=\"sans-serif\" font-size=\"10px\" fill=\"#000\" opacity=\"1\">9</text></g><g class=\"mark-rule role-axis-domain\" pointer-events=\"none\"><line transform=\"translate(0,300)\" x2=\"0\" y2=\"-300\" stroke=\"#888\" stroke-width=\"1\" opacity=\"1\"/></g><g class=\"mark-text role-axis-title\" pointer-events=\"none\"><text text-anchor=\"middle\" transform=\"translate(-16,150) rotate(-90) translate(0,-2)\" font-family=\"sans-serif\" font-size=\"11px\" font-weight=\"bold\" fill=\"#000\" opacity=\"1\">Count of Records</text></g></g><path class=\"foreground\" aria-hidden=\"true\" d=\"\" pointer-events=\"none\" display=\"none\"/></g></g><g class=\"mark-rect role-mark marks\" role=\"graphics-object\" aria-roledescription=\"rect mark container\"><path aria-label=\"x (binned): 0 – 500; Count of Records: 3\" role=\"graphics-symbol\" aria-roledescription=\"bar\" d=\"M313.5,200.00000000000003h61.5v99.99999999999997h-61.5Z\" fill=\"#4c78a8\"/><path aria-label=\"x (binned): 500 – 1000; Count of Records: 9\" role=\"graphics-symbol\" aria-roledescription=\"bar\" d=\"M376,0h61.5v300h-61.5Z\" fill=\"#4c78a8\"/><path aria-label=\"x (binned): −1000 – −500; Count of Records: 1\" role=\"graphics-symbol\" aria-roledescription=\"bar\" d=\"M188.5,266.66666666666663h61.5v33.33333333333337h-61.5Z\" fill=\"#4c78a8\"/><path aria-label=\"x (binned): −2000 – −1500; Count of Records: 2\" role=\"graphics-symbol\" aria-roledescription=\"bar\" d=\"M63.5,233.33333333333334h61.5v66.66666666666666h-61.5Z\" fill=\"#4c78a8\"/><path aria-label=\"x (binned): −500 – 0; Count of Records: 6\" role=\"graphics-symbol\" aria-roledescription=\"bar\" d=\"M251,100.00000000000001h61.5v200h-61.5Z\" fill=\"#4c78a8\"/><path aria-label=\"x (binned): −2500 – −2000; Count of Records: 1\" role=\"graphics-symbol\" aria-roledescription=\"bar\" d=\"M1,266.66666666666663h61.5v33.33333333333337h-61.5Z\" fill=\"#4c78a8\"/><path aria-label=\"x (binned): 1000 – 1500; Count of Records: 1\" role=\"graphics-symbol\" aria-roledescription=\"bar\" d=\"M438.5,266.66666666666663h61.5v33.33333333333337h-61.5Z\" fill=\"#4c78a8\"/></g></g><path class=\"foreground\" aria-hidden=\"true\" d=\"\" display=\"none\"/></g></g></g></svg>\n",
      "text/plain": [
       "@vlplot(\n",
       "    width=500,\n",
       "    height=300,\n",
       "    mark=\"bar\",\n",
       "    encoding={\n",
       "        x={\n",
       "            bin=true,\n",
       "            field=\"x\",\n",
       "            title=nothing\n",
       "        },\n",
       "        y={\n",
       "            aggregate=\"count\",\n",
       "            type=\"quantitative\"\n",
       "        }\n",
       "    },\n",
       "    data={\n",
       "        values=...\n",
       "    }\n",
       ")"
      ]
     },
     "metadata": {},
     "output_type": "display_data"
    }
   ],
   "source": [
    "residuals = y_test_pred - y[test]\n",
    "@vlplot(\n",
    "    width=500,\n",
    "    height=300,\n",
    "    :bar, x={residuals, bin=true}, y=\"count()\")"
   ]
  },
  {
   "cell_type": "markdown",
   "metadata": {},
   "source": [
    "# Predict on new dataset"
   ]
  },
  {
   "cell_type": "code",
   "execution_count": 11,
   "metadata": {},
   "outputs": [],
   "source": [
    "# Import CSV to dataframe, select the same columns used for training\n",
    "lichen = CSV.read(\"C:/Users/julio/Downloads/predicted_biomass_Nov2021.csv\", DataFrame; missingstring=\"\") |>\n",
    "x -> select(x, :BASAL_AREA, :PL, :LON) |>\n",
    "x -> rename(x, [\"basalarea\", \"pl\", \"lon\"]);"
   ]
  },
  {
   "cell_type": "code",
   "execution_count": 12,
   "metadata": {},
   "outputs": [
    {
     "data": {
      "text/plain": [
       "213821-element Vector{Float64}:\n",
       "  717.7831826806851\n",
       "  487.9561812325737\n",
       "  611.1903162110848\n",
       "  950.6845916459515\n",
       " 1230.6339243731927\n",
       "  523.4791277369459\n",
       "  523.0290931091513\n",
       "  581.7236368235353\n",
       "  496.66319059141097\n",
       "  731.7563375983846\n",
       "    ⋮\n",
       "  647.3013626223183\n",
       "   35.21271513672582\n",
       "  819.481575762582\n",
       "  285.14750389258916\n",
       "  -59.814468698155906\n",
       " -331.44522683402283\n",
       "  -80.05253386673758\n",
       "  442.1927789772835\n",
       "  525.8023712031008"
      ]
     },
     "metadata": {},
     "output_type": "display_data"
    }
   ],
   "source": [
    "biomass = predict(LinearModel, lichen)"
   ]
  }
 ],
 "metadata": {
  "kernelspec": {
   "display_name": "Julia 1.6.3",
   "language": "julia",
   "name": "julia-1.6"
  },
  "language_info": {
   "file_extension": ".jl",
   "mimetype": "application/julia",
   "name": "julia",
   "version": "1.6.3"
  },
  "orig_nbformat": 4
 },
 "nbformat": 4,
 "nbformat_minor": 2
}
