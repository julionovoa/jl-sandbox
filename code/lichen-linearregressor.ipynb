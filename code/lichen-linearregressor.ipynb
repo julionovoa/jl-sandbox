{
 "cells": [
  {
   "cell_type": "code",
   "execution_count": 1,
   "metadata": {},
   "outputs": [],
   "source": [
    "using DataFrames, CSV, MLJ, MLJLinearModels, DecisionTree, VegaLite"
   ]
  },
  {
   "cell_type": "code",
   "execution_count": 39,
   "metadata": {},
   "outputs": [],
   "source": [
    "# Import training dataset\n",
    "lichen_training = CSV.read(\"C:/Users/jnovoa/Downloads/lichen_training.csv\", DataFrame) |>\n",
    "x -> select(x, \"Total.lichen\", \"basal_area\", \"PL\", \"mean_Long\") |>\n",
    "x -> rename(x, [\"biomass\", \"basalarea\", \"pl\", \"lon\"]) |>\n",
    "x -> coerce(x, Count => Continuous);"
   ]
  },
  {
   "cell_type": "code",
   "execution_count": 40,
   "metadata": {},
   "outputs": [],
   "source": [
    "lichen_training[!, \"biomass_log\"] = log.(lichen_training[!, :biomass])\n",
    "select!(lichen_training, Not(:biomass));"
   ]
  },
  {
   "cell_type": "code",
   "execution_count": 41,
   "metadata": {},
   "outputs": [
    {
     "data": {
      "text/plain": [
       "┌─────────────┬─────────┬────────────┐\n",
       "│\u001b[22m _.names     \u001b[0m│\u001b[22m _.types \u001b[0m│\u001b[22m _.scitypes \u001b[0m│\n",
       "├─────────────┼─────────┼────────────┤\n",
       "│ basalarea   │ Float64 │ Continuous │\n",
       "│ pl          │ Float64 │ Continuous │\n",
       "│ lon         │ Float64 │ Continuous │\n",
       "│ biomass_log │ Float64 │ Continuous │\n",
       "└─────────────┴─────────┴────────────┘\n",
       "_.nrows = 78\n"
      ]
     },
     "metadata": {},
     "output_type": "display_data"
    }
   ],
   "source": [
    "schema(lichen_training)"
   ]
  },
  {
   "cell_type": "code",
   "execution_count": 42,
   "metadata": {},
   "outputs": [],
   "source": [
    "# Split predictors (X) and response variable (y)\n",
    "y, X = unpack(lichen_training, ==(:biomass_log), _ -> true);"
   ]
  },
  {
   "cell_type": "code",
   "execution_count": 43,
   "metadata": {},
   "outputs": [
    {
     "name": "stdout",
     "output_type": "stream",
     "text": [
      "import MLJLinearModels ✔\n"
     ]
    },
    {
     "name": "stderr",
     "output_type": "stream",
     "text": [
      "┌ Info: For silent loading, specify `verbosity=0`. \n",
      "└ @ Main C:\\Users\\jnovoa\\.julia\\packages\\MLJModels\\GKDnU\\src\\loading.jl:168\n"
     ]
    },
    {
     "data": {
      "text/plain": [
       "MLJLinearModels.LinearRegressor"
      ]
     },
     "metadata": {},
     "output_type": "display_data"
    }
   ],
   "source": [
    "# Load a LinearRegressor using the GLM package\n",
    "LinearRegressor = @load LinearRegressor pkg=MLJLinearModels"
   ]
  },
  {
   "cell_type": "code",
   "execution_count": 44,
   "metadata": {},
   "outputs": [
    {
     "data": {
      "text/plain": [
       "Pipeline266(\n",
       "    standardizer = Standardizer(\n",
       "            features = Symbol[],\n",
       "            ignore = false,\n",
       "            ordered_factor = false,\n",
       "            count = false),\n",
       "    linear_regressor = LinearRegressor(\n",
       "            fit_intercept = true,\n",
       "            solver = nothing))"
      ]
     },
     "metadata": {},
     "output_type": "display_data"
    }
   ],
   "source": [
    "# Instantiate a linear regressor model using a pipeline\n",
    "LinearRegressorPipe = @pipeline(Standardizer(), LinearRegressor())"
   ]
  },
  {
   "cell_type": "code",
   "execution_count": 45,
   "metadata": {},
   "outputs": [
    {
     "data": {
      "text/plain": [
       "Machine{LinearRegressor,…} trained 0 times; caches data\n",
       "  args: \n",
       "    1:\tSource @948 ⏎ `Table{AbstractVector{Continuous}}`\n",
       "    2:\tSource @296 ⏎ `AbstractVector{Continuous}`\n"
      ]
     },
     "metadata": {},
     "output_type": "display_data"
    }
   ],
   "source": [
    "# Create an MLJ machine (model + data)\n",
    "LinearModel = machine(LinearRegressor(), X, y)"
   ]
  },
  {
   "cell_type": "code",
   "execution_count": 46,
   "metadata": {},
   "outputs": [
    {
     "data": {
      "text/plain": [
       "([66, 63, 5, 22, 49, 15, 47, 64, 35, 12  …  61, 57, 21, 14, 78, 40, 27, 74, 68, 18], [2, 53, 50, 39, 38, 46, 77, 29, 69, 7, 60, 59, 17, 30, 43, 51])"
      ]
     },
     "metadata": {},
     "output_type": "display_data"
    }
   ],
   "source": [
    "# Split into train/test datasets\n",
    "train, test = partition(eachindex(y), 0.8, shuffle=true, rng=1010)"
   ]
  },
  {
   "cell_type": "code",
   "execution_count": 47,
   "metadata": {},
   "outputs": [
    {
     "name": "stderr",
     "output_type": "stream",
     "text": [
      "┌ Info: Training Machine{LinearRegressor,…}.\n",
      "└ @ MLJBase C:\\Users\\jnovoa\\.julia\\packages\\MLJBase\\QXObv\\src\\machines.jl:403\n"
     ]
    },
    {
     "data": {
      "text/plain": [
       "Machine{LinearRegressor,…} trained 1 time; caches data\n",
       "  args: \n",
       "    1:\tSource @948 ⏎ `Table{AbstractVector{Continuous}}`\n",
       "    2:\tSource @296 ⏎ `AbstractVector{Continuous}`\n"
      ]
     },
     "metadata": {},
     "output_type": "display_data"
    }
   ],
   "source": [
    "# Fit the machine\n",
    "fit!(LinearModel, rows=train)"
   ]
  },
  {
   "cell_type": "code",
   "execution_count": 48,
   "metadata": {},
   "outputs": [
    {
     "data": {
      "text/plain": [
       "(coefs = [:basalarea => -0.07331667711224661, :pl => 0.023510643528123275, :lon => -0.9440052662173859],\n",
       " intercept = -113.12285731640532,)"
      ]
     },
     "metadata": {},
     "output_type": "display_data"
    }
   ],
   "source": [
    "# Check trained parameters\n",
    "fp = fitted_params(LinearModel)"
   ]
  },
  {
   "cell_type": "code",
   "execution_count": 49,
   "metadata": {},
   "outputs": [
    {
     "data": {
      "text/plain": [
       "62-element Vector{Float64}:\n",
       " 4.954982896576951\n",
       " 2.8421040027484565\n",
       " 2.8712542999000874\n",
       " 6.925332395121941\n",
       " 4.595659103169396\n",
       " 5.475291673027385\n",
       " 2.7065777748370436\n",
       " 7.59689677346168\n",
       " 4.135787959144196\n",
       " 3.8573355221033268\n",
       " ⋮\n",
       " 6.273143597555077\n",
       " 5.734281348351189\n",
       " 5.363681997106667\n",
       " 5.6472316725152325\n",
       " 4.281840860041882\n",
       " 6.817216183985053\n",
       " 5.310255118366854\n",
       " 6.101027205398296\n",
       " 5.129597351228341"
      ]
     },
     "metadata": {},
     "output_type": "display_data"
    }
   ],
   "source": [
    "# Make predictions on test\n",
    "y_test_pred = predict(LinearModel, rows=test)\n",
    "y_train_pred = predict(LinearModel, rows=train)"
   ]
  },
  {
   "cell_type": "code",
   "execution_count": 50,
   "metadata": {},
   "outputs": [
    {
     "name": "stdout",
     "output_type": "stream",
     "text": [
      "Summary Stats:\n",
      "Length:         16\n",
      "Missing Count:  0\n",
      "Mean:           5.058194\n",
      "Minimum:        2.006203\n",
      "1st Quartile:   4.146763\n",
      "Median:         5.290936\n",
      "3rd Quartile:   6.274129\n",
      "Maximum:        6.607970\n",
      "Type:           Float64\n"
     ]
    }
   ],
   "source": [
    "describe(y_test_pred)"
   ]
  },
  {
   "cell_type": "code",
   "execution_count": 51,
   "metadata": {},
   "outputs": [
    {
     "data": {
      "text/plain": [
       "3.075046956584085"
      ]
     },
     "metadata": {},
     "output_type": "display_data"
    }
   ],
   "source": [
    "rms(y_test_pred, y[test])"
   ]
  },
  {
   "cell_type": "code",
   "execution_count": 52,
   "metadata": {},
   "outputs": [
    {
     "data": {
      "application/vnd.vegalite.v4+json": {
       "data": {
        "values": [
         {
          "x": 2.6807456809659027
         },
         {
          "x": 3.1800618096693185
         },
         {
          "x": 4.0987636707974415
         },
         {
          "x": 5.481138689435507
         },
         {
          "x": 2.3762740176843224
         },
         {
          "x": -1.6886752366406785
         },
         {
          "x": 2.871729880446071
         },
         {
          "x": -1.6484799167532902
         },
         {
          "x": -1.6763577420571991
         },
         {
          "x": 1.3486834543510784
         },
         {
          "x": 4.138871709853807
         },
         {
          "x": 1.9006135471036787
         },
         {
          "x": -2.0881339403619643
         },
         {
          "x": 1.4319102533306594
         },
         {
          "x": -0.5835687018808215
         },
         {
          "x": 5.963818264839563
         }
        ]
       },
       "encoding": {
        "x": {
         "bin": true,
         "field": "x",
         "title": null,
         "type": "quantitative"
        },
        "y": {
         "aggregate": "count",
         "type": "quantitative"
        }
       },
       "height": 300,
       "mark": "bar",
       "width": 500
      },
      "image/png": "[encoded data removed]",
      "image/svg+xml": "<?xml version=\"1.0\" encoding=\"utf-8\"?>\n<!DOCTYPE svg PUBLIC \"-//W3C//DTD SVG 1.1//EN\" \"http://www.w3.org/Graphics/SVG/1.1/DTD/svg11.dtd\">\n<svg xmlns=\"http://www.w3.org/2000/svg\" xmlns:xlink=\"http://www.w3.org/1999/xlink\" version=\"1.1\" class=\"marks\" width=\"546\" height=\"332\" viewBox=\"0 0 546 332\"><rect width=\"546\" height=\"332\" fill=\"white\"/><g fill=\"none\" stroke-miterlimit=\"10\" transform=\"translate(40,10)\"><g class=\"mark-group role-frame root\" role=\"graphics-object\" aria-roledescription=\"group mark container\"><g transform=\"translate(0,0)\"><path class=\"background\" aria-hidden=\"true\" d=\"M0.5,0.5h500v300h-500Z\" stroke=\"#ddd\"/><g><g class=\"mark-group role-axis\" aria-hidden=\"true\"><g transform=\"translate(0.5,0.5)\"><path class=\"background\" aria-hidden=\"true\" d=\"M0,0h0v0h0Z\" pointer-events=\"none\"/><g><g class=\"mark-rule role-axis-grid\" pointer-events=\"none\"><line transform=\"translate(0,300)\" x2=\"500\" y2=\"0\" stroke=\"#ddd\" stroke-width=\"1\" opacity=\"1\"/><line transform=\"translate(0,250)\" x2=\"500\" y2=\"0\" stroke=\"#ddd\" stroke-width=\"1\" opacity=\"1\"/><line transform=\"translate(0,200)\" x2=\"500\" y2=\"0\" stroke=\"#ddd\" stroke-width=\"1\" opacity=\"1\"/><line transform=\"translate(0,150)\" x2=\"500\" y2=\"0\" stroke=\"#ddd\" stroke-width=\"1\" opacity=\"1\"/><line transform=\"translate(0,100)\" x2=\"500\" y2=\"0\" stroke=\"#ddd\" stroke-width=\"1\" opacity=\"1\"/><line transform=\"translate(0,50)\" x2=\"500\" y2=\"0\" stroke=\"#ddd\" stroke-width=\"1\" opacity=\"1\"/><line transform=\"translate(0,0)\" x2=\"500\" y2=\"0\" stroke=\"#ddd\" stroke-width=\"1\" opacity=\"1\"/></g></g><path class=\"foreground\" aria-hidden=\"true\" d=\"\" pointer-events=\"none\" display=\"none\"/></g></g><g class=\"mark-group role-axis\" role=\"graphics-symbol\" aria-roledescription=\"axis\" aria-label=\"X-axis for a linear scale with values from −3 to 6\"><g transform=\"translate(0.5,300.5)\"><path class=\"background\" aria-hidden=\"true\" d=\"M0,0h0v0h0Z\" pointer-events=\"none\"/><g><g class=\"mark-rule role-axis-tick\" pointer-events=\"none\"><line transform=\"translate(0,0)\" x2=\"0\" y2=\"5\" stroke=\"#888\" stroke-width=\"1\" opacity=\"1\"/><line transform=\"translate(56,0)\" x2=\"0\" y2=\"5\" stroke=\"#888\" stroke-width=\"1\" opacity=\"1\"/><line transform=\"translate(111,0)\" x2=\"0\" y2=\"5\" stroke=\"#888\" stroke-width=\"1\" opacity=\"1\"/><line transform=\"translate(167,0)\" x2=\"0\" y2=\"5\" stroke=\"#888\" stroke-width=\"1\" opacity=\"1\"/><line transform=\"translate(222,0)\" x2=\"0\" y2=\"5\" stroke=\"#888\" stroke-width=\"1\" opacity=\"1\"/><line transform=\"translate(278,0)\" x2=\"0\" y2=\"5\" stroke=\"#888\" stroke-width=\"1\" opacity=\"1\"/><line transform=\"translate(333,0)\" x2=\"0\" y2=\"5\" stroke=\"#888\" stroke-width=\"1\" opacity=\"1\"/><line transform=\"translate(389,0)\" x2=\"0\" y2=\"5\" stroke=\"#888\" stroke-width=\"1\" opacity=\"1\"/><line transform=\"translate(444,0)\" x2=\"0\" y2=\"5\" stroke=\"#888\" stroke-width=\"1\" opacity=\"1\"/><line transform=\"translate(500,0)\" x2=\"0\" y2=\"5\" stroke=\"#888\" stroke-width=\"1\" opacity=\"1\"/></g><g class=\"mark-text role-axis-label\" pointer-events=\"none\"><text text-anchor=\"start\" transform=\"translate(0,15)\" font-family=\"sans-serif\" font-size=\"10px\" fill=\"#000\" opacity=\"1\">−3.0</text><text text-anchor=\"middle\" transform=\"translate(55.55555555555555,15)\" font-family=\"sans-serif\" font-size=\"10px\" fill=\"#000\" opacity=\"1\">−2.0</text><text text-anchor=\"middle\" transform=\"translate(111.1111111111111,15)\" font-family=\"sans-serif\" font-size=\"10px\" fill=\"#000\" opacity=\"1\">−1.0</text><text text-anchor=\"middle\" transform=\"translate(166.66666666666666,15)\" font-family=\"sans-serif\" font-size=\"10px\" fill=\"#000\" opacity=\"1\">0.0</text><text text-anchor=\"middle\" transform=\"translate(222.2222222222222,15)\" font-family=\"sans-serif\" font-size=\"10px\" fill=\"#000\" opacity=\"1\">1.0</text><text text-anchor=\"middle\" transform=\"translate(277.77777777777777,15)\" font-family=\"sans-serif\" font-size=\"10px\" fill=\"#000\" opacity=\"1\">2.0</text><text text-anchor=\"middle\" transform=\"translate(333.3333333333333,15)\" font-family=\"sans-serif\" font-size=\"10px\" fill=\"#000\" opacity=\"1\">3.0</text><text text-anchor=\"middle\" transform=\"translate(388.8888888888889,15)\" font-family=\"sans-serif\" font-size=\"10px\" fill=\"#000\" opacity=\"1\">4.0</text><text text-anchor=\"middle\" transform=\"translate(444.4444444444444,15)\" font-family=\"sans-serif\" font-size=\"10px\" fill=\"#000\" opacity=\"1\">5.0</text><text text-anchor=\"end\" transform=\"translate(500,15)\" font-family=\"sans-serif\" font-size=\"10px\" fill=\"#000\" opacity=\"1\">6.0</text></g><g class=\"mark-rule role-axis-domain\" pointer-events=\"none\"><line transform=\"translate(0,0)\" x2=\"500\" y2=\"0\" stroke=\"#888\" stroke-width=\"1\" opacity=\"1\"/></g></g><path class=\"foreground\" aria-hidden=\"true\" d=\"\" pointer-events=\"none\" display=\"none\"/></g></g><g class=\"mark-group role-axis\" role=\"graphics-symbol\" aria-roledescription=\"axis\" aria-label=\"Y-axis titled 'Count of Records' for a linear scale with values from 0.0 to 3.0\"><g transform=\"translate(0.5,0.5)\"><path class=\"background\" aria-hidden=\"true\" d=\"M0,0h0v0h0Z\" pointer-events=\"none\"/><g><g class=\"mark-rule role-axis-tick\" pointer-events=\"none\"><line transform=\"translate(0,300)\" x2=\"-5\" y2=\"0\" stroke=\"#888\" stroke-width=\"1\" opacity=\"1\"/><line transform=\"translate(0,250)\" x2=\"-5\" y2=\"0\" stroke=\"#888\" stroke-width=\"1\" opacity=\"1\"/><line transform=\"translate(0,200)\" x2=\"-5\" y2=\"0\" stroke=\"#888\" stroke-width=\"1\" opacity=\"1\"/><line transform=\"translate(0,150)\" x2=\"-5\" y2=\"0\" stroke=\"#888\" stroke-width=\"1\" opacity=\"1\"/><line transform=\"translate(0,100)\" x2=\"-5\" y2=\"0\" stroke=\"#888\" stroke-width=\"1\" opacity=\"1\"/><line transform=\"translate(0,50)\" x2=\"-5\" y2=\"0\" stroke=\"#888\" stroke-width=\"1\" opacity=\"1\"/><line transform=\"translate(0,0)\" x2=\"-5\" y2=\"0\" stroke=\"#888\" stroke-width=\"1\" opacity=\"1\"/></g><g class=\"mark-text role-axis-label\" pointer-events=\"none\"><text text-anchor=\"end\" transform=\"translate(-7,303)\" font-family=\"sans-serif\" font-size=\"10px\" fill=\"#000\" opacity=\"1\">0.0</text><text text-anchor=\"end\" transform=\"translate(-7,253)\" font-family=\"sans-serif\" font-size=\"10px\" fill=\"#000\" opacity=\"1\">0.5</text><text text-anchor=\"end\" transform=\"translate(-7,203.00000000000003)\" font-family=\"sans-serif\" font-size=\"10px\" fill=\"#000\" opacity=\"1\">1.0</text><text text-anchor=\"end\" transform=\"translate(-7,153)\" font-family=\"sans-serif\" font-size=\"10px\" fill=\"#000\" opacity=\"1\">1.5</text><text text-anchor=\"end\" transform=\"translate(-7,103.00000000000001)\" font-family=\"sans-serif\" font-size=\"10px\" fill=\"#000\" opacity=\"1\">2.0</text><text text-anchor=\"end\" transform=\"translate(-7,52.999999999999986)\" font-family=\"sans-serif\" font-size=\"10px\" fill=\"#000\" opacity=\"1\">2.5</text><text text-anchor=\"end\" transform=\"translate(-7,3)\" font-family=\"sans-serif\" font-size=\"10px\" fill=\"#000\" opacity=\"1\">3.0</text></g><g class=\"mark-rule role-axis-domain\" pointer-events=\"none\"><line transform=\"translate(0,300)\" x2=\"0\" y2=\"-300\" stroke=\"#888\" stroke-width=\"1\" opacity=\"1\"/></g><g class=\"mark-text role-axis-title\" pointer-events=\"none\"><text text-anchor=\"middle\" transform=\"translate(-24,150) rotate(-90) translate(0,-2)\" font-family=\"sans-serif\" font-size=\"11px\" font-weight=\"bold\" fill=\"#000\" opacity=\"1\">Count of Records</text></g></g><path class=\"foreground\" aria-hidden=\"true\" d=\"\" pointer-events=\"none\" display=\"none\"/></g></g><g class=\"mark-rect role-mark marks\" role=\"graphics-object\" aria-roledescription=\"rect mark container\"><path aria-label=\"x (binned): 2 – 3; Count of Records: 3\" role=\"graphics-symbol\" aria-roledescription=\"bar\" d=\"M278.77777777777777,0h54.55555555555554v300h-54.55555555555554Z\" fill=\"#4c78a8\"/><path aria-label=\"x (binned): 3 – 4; Count of Records: 1\" role=\"graphics-symbol\" aria-roledescription=\"bar\" d=\"M334.3333333333333,200.00000000000003h54.5555555555556v99.99999999999997h-54.5555555555556Z\" fill=\"#4c78a8\"/><path aria-label=\"x (binned): 4 – 5; Count of Records: 2\" role=\"graphics-symbol\" aria-roledescription=\"bar\" d=\"M389.8888888888889,100.00000000000001h54.555555555555486v200h-54.555555555555486Z\" fill=\"#4c78a8\"/><path aria-label=\"x (binned): 5 – 6; Count of Records: 2\" role=\"graphics-symbol\" aria-roledescription=\"bar\" d=\"M445.4444444444444,100.00000000000001h54.5555555555556v200h-54.5555555555556Z\" fill=\"#4c78a8\"/><path aria-label=\"x (binned): −2 – −1; Count of Records: 3\" role=\"graphics-symbol\" aria-roledescription=\"bar\" d=\"M56.55555555555555,0h54.55555555555555v300h-54.55555555555555Z\" fill=\"#4c78a8\"/><path aria-label=\"x (binned): 1 – 2; Count of Records: 3\" role=\"graphics-symbol\" aria-roledescription=\"bar\" d=\"M223.2222222222222,0h54.55555555555557v300h-54.55555555555557Z\" fill=\"#4c78a8\"/><path aria-label=\"x (binned): −3 – −2; Count of Records: 1\" role=\"graphics-symbol\" aria-roledescription=\"bar\" d=\"M1,200.00000000000003h54.55555555555555v99.99999999999997h-54.55555555555555Z\" fill=\"#4c78a8\"/><path aria-label=\"x (binned): −1 – 0; Count of Records: 1\" role=\"graphics-symbol\" aria-roledescription=\"bar\" d=\"M112.1111111111111,200.00000000000003h54.55555555555556v99.99999999999997h-54.55555555555556Z\" fill=\"#4c78a8\"/></g></g><path class=\"foreground\" aria-hidden=\"true\" d=\"\" display=\"none\"/></g></g></g></svg>\n",
      "text/plain": [
       "@vlplot(\n",
       "    width=500,\n",
       "    height=300,\n",
       "    mark=\"bar\",\n",
       "    encoding={\n",
       "        x={\n",
       "            bin=true,\n",
       "            field=\"x\",\n",
       "            title=nothing\n",
       "        },\n",
       "        y={\n",
       "            aggregate=\"count\",\n",
       "            type=\"quantitative\"\n",
       "        }\n",
       "    },\n",
       "    data={\n",
       "        values=...\n",
       "    }\n",
       ")"
      ]
     },
     "metadata": {},
     "output_type": "display_data"
    }
   ],
   "source": [
    "residuals = y_test_pred - y[test]\n",
    "@vlplot(\n",
    "    width=500,\n",
    "    height=300,\n",
    "    :bar, x={residuals, bin=true}, y=\"count()\")"
   ]
  },
  {
   "cell_type": "code",
   "execution_count": 53,
   "metadata": {},
   "outputs": [
    {
     "data": {
      "application/vnd.vegalite.v4+json": {
       "data": {
        "values": [
         {
          "x": 6.308244150383459,
          "y": 4.954982896576951
         },
         {
          "x": 5.902114072925917,
          "y": 2.8421040027484565
         },
         {
          "x": 0.5423242908253617,
          "y": 2.8712542999000874
         },
         {
          "x": 6.7936903226941645,
          "y": 6.925332395121941
         },
         {
          "x": 4.522766359733276,
          "y": 4.595659103169396
         },
         {
          "x": 7.558918331673045,
          "y": 5.475291673027385
         },
         {
          "x": 4.286753954166449,
          "y": 2.7065777748370436
         },
         {
          "x": 6.835388866355948,
          "y": 7.59689677346168
         },
         {
          "x": 0.6780335427498971,
          "y": 4.135787959144196
         },
         {
          "x": 4.210051369934071,
          "y": 3.8573355221033268
         },
         {
          "x": 4.645544080126364,
          "y": 3.760394276607954
         },
         {
          "x": 8.149763478865312,
          "y": 5.772068076731571
         },
         {
          "x": 5.660561772201637,
          "y": 5.622814506463399
         },
         {
          "x": 0.4382549309311553,
          "y": 5.293128071297446
         },
         {
          "x": 1.2612978709452054,
          "y": 3.0659068832173517
         },
         {
          "x": 0.3987761199573678,
          "y": 5.401058463145787
         },
         {
          "x": 6.12225155234404,
          "y": 6.067393092661163
         },
         {
          "x": 5.539575847287417,
          "y": 3.61913051765616
         },
         {
          "x": 8.03823115519814,
          "y": 6.968882227776817
         },
         {
          "x": 5.664348405410794,
          "y": 6.298001797313091
         },
         {
          "x": 5.754760719420831,
          "y": 6.318608115835957
         },
         {
          "x": 5.710095836712793,
          "y": 6.661174809363601
         },
         {
          "x": 4.645832167706981,
          "y": 4.735386902491214
         },
         {
          "x": 7.0073471881770955,
          "y": 3.9175073790319175
         },
         {
          "x": 1.1939224684724346,
          "y": 3.722629484581347
         },
         {
          "x": 8.11699021398173,
          "y": 6.635140210202735
         },
         {
          "x": 6.2339792601014485,
          "y": 4.035105298010393
         },
         {
          "x": 3.079613757534693,
          "y": 2.7981368363019214
         },
         {
          "x": 6.492239835020471,
          "y": 4.649402948379745
         },
         {
          "x": 7.060158718988807,
          "y": 3.7043091162175728
         },
         {
          "x": 6.91818074446572,
          "y": 6.067705041779419
         },
         {
          "x": 6.2648067939549374,
          "y": 6.204435441420586
         },
         {
          "x": -0.616186139423817,
          "y": 2.78251183533024
         },
         {
          "x": 6.149920232799955,
          "y": 7.0803094143561225
         },
         {
          "x": 7.706855799444887,
          "y": 6.9241851992735235
         },
         {
          "x": 7.0548986074264795,
          "y": 5.678961464959855
         },
         {
          "x": 7.166358633933251,
          "y": 4.834583297192211
         },
         {
          "x": 0.44468582126144574,
          "y": 1.5389929911704598
         },
         {
          "x": 5.41418746259045,
          "y": 6.313598252844798
         },
         {
          "x": 6.789917241813198,
          "y": 4.96576264354573
         },
         {
          "x": 5.276685066420923,
          "y": 7.140830874890867
         },
         {
          "x": 4.6480380862152675,
          "y": 5.818418681807756
         },
         {
          "x": 5.686500667421674,
          "y": 6.192983631245909
         },
         {
          "x": 3.0851158346886765,
          "y": 4.725449744969055
         },
         {
          "x": 4.475858449507752,
          "y": 6.147454118364891
         },
         {
          "x": 3.21124679770371,
          "y": 3.2778580275080884
         },
         {
          "x": 7.827743167940527,
          "y": 4.28526298080385
         },
         {
          "x": -1.0498221244986778,
          "y": 1.7518483001177998
         },
         {
          "x": 6.839872505394165,
          "y": 5.79276845767744
         },
         {
          "x": 5.469830724625388,
          "y": 3.4164019826948646
         },
         {
          "x": 8.153237521484783,
          "y": 6.302160612671486
         },
         {
          "x": -1.0788096613719298,
          "y": 3.9736136465659797
         },
         {
          "x": 6.677133837811969,
          "y": 6.322786034193101
         },
         {
          "x": 5.253999685896911,
          "y": 6.273143597555077
         },
         {
          "x": 1.0260415958332743,
          "y": 5.734281348351189
         },
         {
          "x": 6.42749119079849,
          "y": 5.363681997106667
         },
         {
          "x": 4.478131952817368,
          "y": 5.6472316725152325
         },
         {
          "x": 7.176575581392709,
          "y": 4.281840860041882
         },
         {
          "x": 7.946670640392119,
          "y": 6.817216183985053
         },
         {
          "x": 5.92844487193968,
          "y": 5.310255118366854
         },
         {
          "x": 6.448541232279725,
          "y": 6.101027205398296
         },
         {
          "x": 7.150575959521895,
          "y": 5.129597351228341
         }
        ]
       },
       "encoding": {
        "x": {
         "field": "x",
         "title": null,
         "type": "quantitative"
        },
        "y": {
         "field": "y",
         "title": null,
         "type": "quantitative"
        }
       },
       "height": 300,
       "mark": "point",
       "title": "Training",
       "width": 500
      },
      "image/png": "[encoded data removed]",
      "image/svg+xml": "<?xml version=\"1.0\" encoding=\"utf-8\"?>\n<!DOCTYPE svg PUBLIC \"-//W3C//DTD SVG 1.1//EN\" \"http://www.w3.org/Graphics/SVG/1.1/DTD/svg11.dtd\">\n<svg xmlns=\"http://www.w3.org/2000/svg\" xmlns:xlink=\"http://www.w3.org/1999/xlink\" version=\"1.1\" class=\"marks\" width=\"523\" height=\"349\" viewBox=\"0 0 523 349\"><rect width=\"523\" height=\"349\" fill=\"white\"/><g fill=\"none\" stroke-miterlimit=\"10\" transform=\"translate(17,27)\"><g class=\"mark-group role-frame root\" role=\"graphics-object\" aria-roledescription=\"group mark container\"><g transform=\"translate(0,0)\"><path class=\"background\" aria-hidden=\"true\" d=\"M0.5,0.5h500v300h-500Z\" stroke=\"#ddd\"/><g><g class=\"mark-group role-axis\" aria-hidden=\"true\"><g transform=\"translate(0.5,300.5)\"><path class=\"background\" aria-hidden=\"true\" d=\"M0,0h0v0h0Z\" pointer-events=\"none\"/><g><g class=\"mark-rule role-axis-grid\" pointer-events=\"none\"><line transform=\"translate(0,-300)\" x2=\"0\" y2=\"300\" stroke=\"#ddd\" stroke-width=\"1\" opacity=\"1\"/><line transform=\"translate(45,-300)\" x2=\"0\" y2=\"300\" stroke=\"#ddd\" stroke-width=\"1\" opacity=\"1\"/><line transform=\"translate(91,-300)\" x2=\"0\" y2=\"300\" stroke=\"#ddd\" stroke-width=\"1\" opacity=\"1\"/><line transform=\"translate(136,-300)\" x2=\"0\" y2=\"300\" stroke=\"#ddd\" stroke-width=\"1\" opacity=\"1\"/><line transform=\"translate(182,-300)\" x2=\"0\" y2=\"300\" stroke=\"#ddd\" stroke-width=\"1\" opacity=\"1\"/><line transform=\"translate(227,-300)\" x2=\"0\" y2=\"300\" stroke=\"#ddd\" stroke-width=\"1\" opacity=\"1\"/><line transform=\"translate(273,-300)\" x2=\"0\" y2=\"300\" stroke=\"#ddd\" stroke-width=\"1\" opacity=\"1\"/><line transform=\"translate(318,-300)\" x2=\"0\" y2=\"300\" stroke=\"#ddd\" stroke-width=\"1\" opacity=\"1\"/><line transform=\"translate(364,-300)\" x2=\"0\" y2=\"300\" stroke=\"#ddd\" stroke-width=\"1\" opacity=\"1\"/><line transform=\"translate(409,-300)\" x2=\"0\" y2=\"300\" stroke=\"#ddd\" stroke-width=\"1\" opacity=\"1\"/><line transform=\"translate(455,-300)\" x2=\"0\" y2=\"300\" stroke=\"#ddd\" stroke-width=\"1\" opacity=\"1\"/><line transform=\"translate(500,-300)\" x2=\"0\" y2=\"300\" stroke=\"#ddd\" stroke-width=\"1\" opacity=\"1\"/></g></g><path class=\"foreground\" aria-hidden=\"true\" d=\"\" pointer-events=\"none\" display=\"none\"/></g></g><g class=\"mark-group role-axis\" aria-hidden=\"true\"><g transform=\"translate(0.5,0.5)\"><path class=\"background\" aria-hidden=\"true\" d=\"M0,0h0v0h0Z\" pointer-events=\"none\"/><g><g class=\"mark-rule role-axis-grid\" pointer-events=\"none\"><line transform=\"translate(0,300)\" x2=\"500\" y2=\"0\" stroke=\"#ddd\" stroke-width=\"1\" opacity=\"1\"/><line transform=\"translate(0,263)\" x2=\"500\" y2=\"0\" stroke=\"#ddd\" stroke-width=\"1\" opacity=\"1\"/><line transform=\"translate(0,225)\" x2=\"500\" y2=\"0\" stroke=\"#ddd\" stroke-width=\"1\" opacity=\"1\"/><line transform=\"translate(0,188)\" x2=\"500\" y2=\"0\" stroke=\"#ddd\" stroke-width=\"1\" opacity=\"1\"/><line transform=\"translate(0,150)\" x2=\"500\" y2=\"0\" stroke=\"#ddd\" stroke-width=\"1\" opacity=\"1\"/><line transform=\"translate(0,113)\" x2=\"500\" y2=\"0\" stroke=\"#ddd\" stroke-width=\"1\" opacity=\"1\"/><line transform=\"translate(0,75)\" x2=\"500\" y2=\"0\" stroke=\"#ddd\" stroke-width=\"1\" opacity=\"1\"/><line transform=\"translate(0,38)\" x2=\"500\" y2=\"0\" stroke=\"#ddd\" stroke-width=\"1\" opacity=\"1\"/><line transform=\"translate(0,0)\" x2=\"500\" y2=\"0\" stroke=\"#ddd\" stroke-width=\"1\" opacity=\"1\"/></g></g><path class=\"foreground\" aria-hidden=\"true\" d=\"\" pointer-events=\"none\" display=\"none\"/></g></g><g class=\"mark-group role-axis\" role=\"graphics-symbol\" aria-roledescription=\"axis\" aria-label=\"X-axis for a linear scale with values from −2 to 9\"><g transform=\"translate(0.5,300.5)\"><path class=\"background\" aria-hidden=\"true\" d=\"M0,0h0v0h0Z\" pointer-events=\"none\"/><g><g class=\"mark-rule role-axis-tick\" pointer-events=\"none\"><line transform=\"translate(0,0)\" x2=\"0\" y2=\"5\" stroke=\"#888\" stroke-width=\"1\" opacity=\"1\"/><line transform=\"translate(45,0)\" x2=\"0\" y2=\"5\" stroke=\"#888\" stroke-width=\"1\" opacity=\"1\"/><line transform=\"translate(91,0)\" x2=\"0\" y2=\"5\" stroke=\"#888\" stroke-width=\"1\" opacity=\"1\"/><line transform=\"translate(136,0)\" x2=\"0\" y2=\"5\" stroke=\"#888\" stroke-width=\"1\" opacity=\"1\"/><line transform=\"translate(182,0)\" x2=\"0\" y2=\"5\" stroke=\"#888\" stroke-width=\"1\" opacity=\"1\"/><line transform=\"translate(227,0)\" x2=\"0\" y2=\"5\" stroke=\"#888\" stroke-width=\"1\" opacity=\"1\"/><line transform=\"translate(273,0)\" x2=\"0\" y2=\"5\" stroke=\"#888\" stroke-width=\"1\" opacity=\"1\"/><line transform=\"translate(318,0)\" x2=\"0\" y2=\"5\" stroke=\"#888\" stroke-width=\"1\" opacity=\"1\"/><line transform=\"translate(364,0)\" x2=\"0\" y2=\"5\" stroke=\"#888\" stroke-width=\"1\" opacity=\"1\"/><line transform=\"translate(409,0)\" x2=\"0\" y2=\"5\" stroke=\"#888\" stroke-width=\"1\" opacity=\"1\"/><line transform=\"translate(455,0)\" x2=\"0\" y2=\"5\" stroke=\"#888\" stroke-width=\"1\" opacity=\"1\"/><line transform=\"translate(500,0)\" x2=\"0\" y2=\"5\" stroke=\"#888\" stroke-width=\"1\" opacity=\"1\"/></g><g class=\"mark-text role-axis-label\" pointer-events=\"none\"><text text-anchor=\"start\" transform=\"translate(0,15)\" font-family=\"sans-serif\" font-size=\"10px\" fill=\"#000\" opacity=\"1\">−2</text><text text-anchor=\"middle\" transform=\"translate(45.45454545454545,15)\" font-family=\"sans-serif\" font-size=\"10px\" fill=\"#000\" opacity=\"1\">−1</text><text text-anchor=\"middle\" transform=\"translate(90.9090909090909,15)\" font-family=\"sans-serif\" font-size=\"10px\" fill=\"#000\" opacity=\"1\">0</text><text text-anchor=\"middle\" transform=\"translate(136.36363636363635,15)\" font-family=\"sans-serif\" font-size=\"10px\" fill=\"#000\" opacity=\"1\">1</text><text text-anchor=\"middle\" transform=\"translate(181.8181818181818,15)\" font-family=\"sans-serif\" font-size=\"10px\" fill=\"#000\" opacity=\"1\">2</text><text text-anchor=\"middle\" transform=\"translate(227.27272727272725,15)\" font-family=\"sans-serif\" font-size=\"10px\" fill=\"#000\" opacity=\"1\">3</text><text text-anchor=\"middle\" transform=\"translate(272.7272727272727,15)\" font-family=\"sans-serif\" font-size=\"10px\" fill=\"#000\" opacity=\"1\">4</text><text text-anchor=\"middle\" transform=\"translate(318.1818181818182,15)\" font-family=\"sans-serif\" font-size=\"10px\" fill=\"#000\" opacity=\"1\">5</text><text text-anchor=\"middle\" transform=\"translate(363.6363636363636,15)\" font-family=\"sans-serif\" font-size=\"10px\" fill=\"#000\" opacity=\"1\">6</text><text text-anchor=\"middle\" transform=\"translate(409.0909090909091,15)\" font-family=\"sans-serif\" font-size=\"10px\" fill=\"#000\" opacity=\"1\">7</text><text text-anchor=\"middle\" transform=\"translate(454.5454545454545,15)\" font-family=\"sans-serif\" font-size=\"10px\" fill=\"#000\" opacity=\"1\">8</text><text text-anchor=\"end\" transform=\"translate(500,15)\" font-family=\"sans-serif\" font-size=\"10px\" fill=\"#000\" opacity=\"1\">9</text></g><g class=\"mark-rule role-axis-domain\" pointer-events=\"none\"><line transform=\"translate(0,0)\" x2=\"500\" y2=\"0\" stroke=\"#888\" stroke-width=\"1\" opacity=\"1\"/></g></g><path class=\"foreground\" aria-hidden=\"true\" d=\"\" pointer-events=\"none\" display=\"none\"/></g></g><g class=\"mark-group role-axis\" role=\"graphics-symbol\" aria-roledescription=\"axis\" aria-label=\"Y-axis for a linear scale with values from 0 to 8\"><g transform=\"translate(0.5,0.5)\"><path class=\"background\" aria-hidden=\"true\" d=\"M0,0h0v0h0Z\" pointer-events=\"none\"/><g><g class=\"mark-rule role-axis-tick\" pointer-events=\"none\"><line transform=\"translate(0,300)\" x2=\"-5\" y2=\"0\" stroke=\"#888\" stroke-width=\"1\" opacity=\"1\"/><line transform=\"translate(0,263)\" x2=\"-5\" y2=\"0\" stroke=\"#888\" stroke-width=\"1\" opacity=\"1\"/><line transform=\"translate(0,225)\" x2=\"-5\" y2=\"0\" stroke=\"#888\" stroke-width=\"1\" opacity=\"1\"/><line transform=\"translate(0,188)\" x2=\"-5\" y2=\"0\" stroke=\"#888\" stroke-width=\"1\" opacity=\"1\"/><line transform=\"translate(0,150)\" x2=\"-5\" y2=\"0\" stroke=\"#888\" stroke-width=\"1\" opacity=\"1\"/><line transform=\"translate(0,113)\" x2=\"-5\" y2=\"0\" stroke=\"#888\" stroke-width=\"1\" opacity=\"1\"/><line transform=\"translate(0,75)\" x2=\"-5\" y2=\"0\" stroke=\"#888\" stroke-width=\"1\" opacity=\"1\"/><line transform=\"translate(0,38)\" x2=\"-5\" y2=\"0\" stroke=\"#888\" stroke-width=\"1\" opacity=\"1\"/><line transform=\"translate(0,0)\" x2=\"-5\" y2=\"0\" stroke=\"#888\" stroke-width=\"1\" opacity=\"1\"/></g><g class=\"mark-text role-axis-label\" pointer-events=\"none\"><text text-anchor=\"end\" transform=\"translate(-7,303)\" font-family=\"sans-serif\" font-size=\"10px\" fill=\"#000\" opacity=\"1\">0</text><text text-anchor=\"end\" transform=\"translate(-7,265.5)\" font-family=\"sans-serif\" font-size=\"10px\" fill=\"#000\" opacity=\"1\">1</text><text text-anchor=\"end\" transform=\"translate(-7,228)\" font-family=\"sans-serif\" font-size=\"10px\" fill=\"#000\" opacity=\"1\">2</text><text text-anchor=\"end\" transform=\"translate(-7,190.5)\" font-family=\"sans-serif\" font-size=\"10px\" fill=\"#000\" opacity=\"1\">3</text><text text-anchor=\"end\" transform=\"translate(-7,153)\" font-family=\"sans-serif\" font-size=\"10px\" fill=\"#000\" opacity=\"1\">4</text><text text-anchor=\"end\" transform=\"translate(-7,115.5)\" font-family=\"sans-serif\" font-size=\"10px\" fill=\"#000\" opacity=\"1\">5</text><text text-anchor=\"end\" transform=\"translate(-7,78)\" font-family=\"sans-serif\" font-size=\"10px\" fill=\"#000\" opacity=\"1\">6</text><text text-anchor=\"end\" transform=\"translate(-7,40.5)\" font-family=\"sans-serif\" font-size=\"10px\" fill=\"#000\" opacity=\"1\">7</text><text text-anchor=\"end\" transform=\"translate(-7,3)\" font-family=\"sans-serif\" font-size=\"10px\" fill=\"#000\" opacity=\"1\">8</text></g><g class=\"mark-rule role-axis-domain\" pointer-events=\"none\"><line transform=\"translate(0,300)\" x2=\"0\" y2=\"-300\" stroke=\"#888\" stroke-width=\"1\" opacity=\"1\"/></g></g><path class=\"foreground\" aria-hidden=\"true\" d=\"\" pointer-events=\"none\" display=\"none\"/></g></g><g class=\"mark-symbol role-mark marks\" role=\"graphics-object\" aria-roledescription=\"symbol mark container\"><path aria-label=\"x: 6.30824415038; y: 4.95498289658\" role=\"graphics-symbol\" aria-roledescription=\"point\" transform=\"translate(377.6474613810663,114.18814137836435)\" d=\"M2.7386127875258306,0A2.7386127875258306,2.7386127875258306,0,1,1,-2.7386127875258306,0A2.7386127875258306,2.7386127875258306,0,1,1,2.7386127875258306,0\" stroke=\"#4c78a8\" stroke-width=\"2\" opacity=\"0.7\"/><path aria-label=\"x: 5.90211407293; y: 2.84210400275\" role=\"graphics-symbol\" aria-roledescription=\"point\" transform=\"translate(359.1870033148144,193.42109989693287)\" d=\"M2.7386127875258306,0A2.7386127875258306,2.7386127875258306,0,1,1,-2.7386127875258306,0A2.7386127875258306,2.7386127875258306,0,1,1,2.7386127875258306,0\" stroke=\"#4c78a8\" stroke-width=\"2\" opacity=\"0.7\"/><path aria-label=\"x: 0.542324290825; y: 2.8712542999\" role=\"graphics-symbol\" aria-roledescription=\"point\" transform=\"translate(115.56019503751645,192.32796375374673)\" d=\"M2.7386127875258306,0A2.7386127875258306,2.7386127875258306,0,1,1,-2.7386127875258306,0A2.7386127875258306,2.7386127875258306,0,1,1,2.7386127875258306,0\" stroke=\"#4c78a8\" stroke-width=\"2\" opacity=\"0.7\"/><path aria-label=\"x: 6.79369032269; y: 6.92533239512\" role=\"graphics-symbol\" aria-roledescription=\"point\" transform=\"translate(399.71319648609835,40.300035182927196)\" d=\"M2.7386127875258306,0A2.7386127875258306,2.7386127875258306,0,1,1,-2.7386127875258306,0A2.7386127875258306,2.7386127875258306,0,1,1,2.7386127875258306,0\" stroke=\"#4c78a8\" stroke-width=\"2\" opacity=\"0.7\"/><path aria-label=\"x: 4.52276635973; y: 4.59565910317\" role=\"graphics-symbol\" aria-roledescription=\"point\" transform=\"translate(296.4893799878762,127.66278363114765)\" d=\"M2.7386127875258306,0A2.7386127875258306,2.7386127875258306,0,1,1,-2.7386127875258306,0A2.7386127875258306,2.7386127875258306,0,1,1,2.7386127875258306,0\" stroke=\"#4c78a8\" stroke-width=\"2\" opacity=\"0.7\"/><path aria-label=\"x: 7.55891833167; y: 5.47529167303\" role=\"graphics-symbol\" aria-roledescription=\"point\" transform=\"translate(434.49628780332023,94.67656226147305)\" d=\"M2.7386127875258306,0A2.7386127875258306,2.7386127875258306,0,1,1,-2.7386127875258306,0A2.7386127875258306,2.7386127875258306,0,1,1,2.7386127875258306,0\" stroke=\"#4c78a8\" stroke-width=\"2\" opacity=\"0.7\"/><path aria-label=\"x: 4.28675395417; y: 2.70657777484\" role=\"graphics-symbol\" aria-roledescription=\"point\" transform=\"translate(285.76154337120227,198.50333344361087)\" d=\"M2.7386127875258306,0A2.7386127875258306,2.7386127875258306,0,1,1,-2.7386127875258306,0A2.7386127875258306,2.7386127875258306,0,1,1,2.7386127875258306,0\" stroke=\"#4c78a8\" stroke-width=\"2\" opacity=\"0.7\"/><path aria-label=\"x: 6.83538886636; y: 7.59689677346\" role=\"graphics-symbol\" aria-roledescription=\"point\" transform=\"translate(401.6085848343613,15.116370995187012)\" d=\"M2.7386127875258306,0A2.7386127875258306,2.7386127875258306,0,1,1,-2.7386127875258306,0A2.7386127875258306,2.7386127875258306,0,1,1,2.7386127875258306,0\" stroke=\"#4c78a8\" stroke-width=\"2\" opacity=\"0.7\"/><path aria-label=\"x: 0.67803354275; y: 4.13578795914\" role=\"graphics-symbol\" aria-roledescription=\"point\" transform=\"translate(121.72879739772259,144.90795153209265)\" d=\"M2.7386127875258306,0A2.7386127875258306,2.7386127875258306,0,1,1,-2.7386127875258306,0A2.7386127875258306,2.7386127875258306,0,1,1,2.7386127875258306,0\" stroke=\"#4c78a8\" stroke-width=\"2\" opacity=\"0.7\"/><path aria-label=\"x: 4.21005136993; y: 3.8573355221\" role=\"graphics-symbol\" aria-roledescription=\"point\" transform=\"translate(282.2750622697305,155.34991792112524)\" d=\"M2.7386127875258306,0A2.7386127875258306,2.7386127875258306,0,1,1,-2.7386127875258306,0A2.7386127875258306,2.7386127875258306,0,1,1,2.7386127875258306,0\" stroke=\"#4c78a8\" stroke-width=\"2\" opacity=\"0.7\"/><path aria-label=\"x: 4.64554408013; y: 3.76039427661\" role=\"graphics-symbol\" aria-roledescription=\"point\" transform=\"translate(302.0701854602893,158.9852146272017)\" d=\"M2.7386127875258306,0A2.7386127875258306,2.7386127875258306,0,1,1,-2.7386127875258306,0A2.7386127875258306,2.7386127875258306,0,1,1,2.7386127875258306,0\" stroke=\"#4c78a8\" stroke-width=\"2\" opacity=\"0.7\"/><path aria-label=\"x: 8.14976347887; y: 5.77206807673\" role=\"graphics-symbol\" aria-roledescription=\"point\" transform=\"translate(461.3528854029687,83.54744712256607)\" d=\"M2.7386127875258306,0A2.7386127875258306,2.7386127875258306,0,1,1,-2.7386127875258306,0A2.7386127875258306,2.7386127875258306,0,1,1,2.7386127875258306,0\" stroke=\"#4c78a8\" stroke-width=\"2\" opacity=\"0.7\"/><path aria-label=\"x: 5.6605617722; y: 5.62281450646\" role=\"graphics-symbol\" aria-roledescription=\"point\" transform=\"translate(348.2073532818926,89.14445600762252)\" d=\"M2.7386127875258306,0A2.7386127875258306,2.7386127875258306,0,1,1,-2.7386127875258306,0A2.7386127875258306,2.7386127875258306,0,1,1,2.7386127875258306,0\" stroke=\"#4c78a8\" stroke-width=\"2\" opacity=\"0.7\"/><path aria-label=\"x: 0.438254930931; y: 5.2931280713\" role=\"graphics-symbol\" aria-roledescription=\"point\" transform=\"translate(110.8297695877798,101.50769732634579)\" d=\"M2.7386127875258306,0A2.7386127875258306,2.7386127875258306,0,1,1,-2.7386127875258306,0A2.7386127875258306,2.7386127875258306,0,1,1,2.7386127875258306,0\" stroke=\"#4c78a8\" stroke-width=\"2\" opacity=\"0.7\"/><path aria-label=\"x: 1.26129787095; y: 3.06590688322\" role=\"graphics-symbol\" aria-roledescription=\"point\" transform=\"translate(148.24081231569116,185.0284918793493)\" d=\"M2.7386127875258306,0A2.7386127875258306,2.7386127875258306,0,1,1,-2.7386127875258306,0A2.7386127875258306,2.7386127875258306,0,1,1,2.7386127875258306,0\" stroke=\"#4c78a8\" stroke-width=\"2\" opacity=\"0.7\"/><path aria-label=\"x: 0.398776119957; y: 5.40105846315\" role=\"graphics-symbol\" aria-roledescription=\"point\" transform=\"translate(109.03527817988036,97.46030763203296)\" d=\"M2.7386127875258306,0A2.7386127875258306,2.7386127875258306,0,1,1,-2.7386127875258306,0A2.7386127875258306,2.7386127875258306,0,1,1,2.7386127875258306,0\" stroke=\"#4c78a8\" stroke-width=\"2\" opacity=\"0.7\"/><path aria-label=\"x: 6.12225155234; y: 6.06739309266\" role=\"graphics-symbol\" aria-roledescription=\"point\" transform=\"translate(369.19325237927455,72.47275902520639)\" d=\"M2.7386127875258306,0A2.7386127875258306,2.7386127875258306,0,1,1,-2.7386127875258306,0A2.7386127875258306,2.7386127875258306,0,1,1,2.7386127875258306,0\" stroke=\"#4c78a8\" stroke-width=\"2\" opacity=\"0.7\"/><path aria-label=\"x: 5.53957584729; y: 3.61913051766\" role=\"graphics-symbol\" aria-roledescription=\"point\" transform=\"translate(342.707993058519,164.282605587894)\" d=\"M2.7386127875258306,0A2.7386127875258306,2.7386127875258306,0,1,1,-2.7386127875258306,0A2.7386127875258306,2.7386127875258306,0,1,1,2.7386127875258306,0\" stroke=\"#4c78a8\" stroke-width=\"2\" opacity=\"0.7\"/><path aria-label=\"x: 8.0382311552; y: 6.96888222778\" role=\"graphics-symbol\" aria-roledescription=\"point\" transform=\"translate(456.2832343271882,38.66691645836937)\" d=\"M2.7386127875258306,0A2.7386127875258306,2.7386127875258306,0,1,1,-2.7386127875258306,0A2.7386127875258306,2.7386127875258306,0,1,1,2.7386127875258306,0\" stroke=\"#4c78a8\" stroke-width=\"2\" opacity=\"0.7\"/><path aria-label=\"x: 5.66434840541; y: 6.29800179731\" role=\"graphics-symbol\" aria-roledescription=\"point\" transform=\"translate(348.3794729732179,63.82493260075908)\" d=\"M2.7386127875258306,0A2.7386127875258306,2.7386127875258306,0,1,1,-2.7386127875258306,0A2.7386127875258306,2.7386127875258306,0,1,1,2.7386127875258306,0\" stroke=\"#4c78a8\" stroke-width=\"2\" opacity=\"0.7\"/><path aria-label=\"x: 5.75476071942; y: 6.31860811584\" role=\"graphics-symbol\" aria-roledescription=\"point\" transform=\"translate(352.4891236100378,63.05219565615161)\" d=\"M2.7386127875258306,0A2.7386127875258306,2.7386127875258306,0,1,1,-2.7386127875258306,0A2.7386127875258306,2.7386127875258306,0,1,1,2.7386127875258306,0\" stroke=\"#4c78a8\" stroke-width=\"2\" opacity=\"0.7\"/><path aria-label=\"x: 5.71009583671; y: 6.66117480936\" role=\"graphics-symbol\" aria-roledescription=\"point\" transform=\"translate(350.4589016687633,50.205944648864964)\" d=\"M2.7386127875258306,0A2.7386127875258306,2.7386127875258306,0,1,1,-2.7386127875258306,0A2.7386127875258306,2.7386127875258306,0,1,1,2.7386127875258306,0\" stroke=\"#4c78a8\" stroke-width=\"2\" opacity=\"0.7\"/><path aria-label=\"x: 4.64583216771; y: 4.73538690249\" role=\"graphics-symbol\" aria-roledescription=\"point\" transform=\"translate(302.08328035031735,122.42299115657946)\" d=\"M2.7386127875258306,0A2.7386127875258306,2.7386127875258306,0,1,1,-2.7386127875258306,0A2.7386127875258306,2.7386127875258306,0,1,1,2.7386127875258306,0\" stroke=\"#4c78a8\" stroke-width=\"2\" opacity=\"0.7\"/><path aria-label=\"x: 7.00734718818; y: 3.91750737903\" role=\"graphics-symbol\" aria-roledescription=\"point\" transform=\"translate(409.424872189868,153.0934732863031)\" d=\"M2.7386127875258306,0A2.7386127875258306,2.7386127875258306,0,1,1,-2.7386127875258306,0A2.7386127875258306,2.7386127875258306,0,1,1,2.7386127875258306,0\" stroke=\"#4c78a8\" stroke-width=\"2\" opacity=\"0.7\"/><path aria-label=\"x: 1.19392246847; y: 3.72262948458\" role=\"graphics-symbol\" aria-roledescription=\"point\" transform=\"translate(145.1782940214743,160.4013943281995)\" d=\"M2.7386127875258306,0A2.7386127875258306,2.7386127875258306,0,1,1,-2.7386127875258306,0A2.7386127875258306,2.7386127875258306,0,1,1,2.7386127875258306,0\" stroke=\"#4c78a8\" stroke-width=\"2\" opacity=\"0.7\"/><path aria-label=\"x: 8.11699021398; y: 6.6351402102\" role=\"graphics-symbol\" aria-roledescription=\"point\" transform=\"translate(459.8631915446241,51.182242117397436)\" d=\"M2.7386127875258306,0A2.7386127875258306,2.7386127875258306,0,1,1,-2.7386127875258306,0A2.7386127875258306,2.7386127875258306,0,1,1,2.7386127875258306,0\" stroke=\"#4c78a8\" stroke-width=\"2\" opacity=\"0.7\"/><path aria-label=\"x: 6.2339792601; y: 4.03510529801\" role=\"graphics-symbol\" aria-roledescription=\"point\" transform=\"translate(374.2717845500659,148.68355132461028)\" d=\"M2.7386127875258306,0A2.7386127875258306,2.7386127875258306,0,1,1,-2.7386127875258306,0A2.7386127875258306,2.7386127875258306,0,1,1,2.7386127875258306,0\" stroke=\"#4c78a8\" stroke-width=\"2\" opacity=\"0.7\"/><path aria-label=\"x: 3.07961375753; y: 2.7981368363\" role=\"graphics-symbol\" aria-roledescription=\"point\" transform=\"translate(230.89153443339512,195.06986863867795)\" d=\"M2.7386127875258306,0A2.7386127875258306,2.7386127875258306,0,1,1,-2.7386127875258306,0A2.7386127875258306,2.7386127875258306,0,1,1,2.7386127875258306,0\" stroke=\"#4c78a8\" stroke-width=\"2\" opacity=\"0.7\"/><path aria-label=\"x: 6.49223983502; y: 4.64940294838\" role=\"graphics-symbol\" aria-roledescription=\"point\" transform=\"translate(386.0109015918395,125.64738943575958)\" d=\"M2.7386127875258306,0A2.7386127875258306,2.7386127875258306,0,1,1,-2.7386127875258306,0A2.7386127875258306,2.7386127875258306,0,1,1,2.7386127875258306,0\" stroke=\"#4c78a8\" stroke-width=\"2\" opacity=\"0.7\"/><path aria-label=\"x: 7.06015871899; y: 3.70430911622\" role=\"graphics-symbol\" aria-roledescription=\"point\" transform=\"translate(411.825396317673,161.08840814184103)\" d=\"M2.7386127875258306,0A2.7386127875258306,2.7386127875258306,0,1,1,-2.7386127875258306,0A2.7386127875258306,2.7386127875258306,0,1,1,2.7386127875258306,0\" stroke=\"#4c78a8\" stroke-width=\"2\" opacity=\"0.7\"/><path aria-label=\"x: 6.91818074447; y: 6.06770504178\" role=\"graphics-symbol\" aria-roledescription=\"point\" transform=\"translate(405.37185202116905,72.46106093327178)\" d=\"M2.7386127875258306,0A2.7386127875258306,2.7386127875258306,0,1,1,-2.7386127875258306,0A2.7386127875258306,2.7386127875258306,0,1,1,2.7386127875258306,0\" stroke=\"#4c78a8\" stroke-width=\"2\" opacity=\"0.7\"/><path aria-label=\"x: 6.26480679395; y: 6.20443544142\" role=\"graphics-symbol\" aria-roledescription=\"point\" transform=\"translate(375.6730360888608,67.33367094672803)\" d=\"M2.7386127875258306,0A2.7386127875258306,2.7386127875258306,0,1,1,-2.7386127875258306,0A2.7386127875258306,2.7386127875258306,0,1,1,2.7386127875258306,0\" stroke=\"#4c78a8\" stroke-width=\"2\" opacity=\"0.7\"/><path aria-label=\"x: −0.616186139424; y: 2.78251183533\" role=\"graphics-symbol\" aria-roledescription=\"point\" transform=\"translate(62.90063002619014,195.655806175116)\" d=\"M2.7386127875258306,0A2.7386127875258306,2.7386127875258306,0,1,1,-2.7386127875258306,0A2.7386127875258306,2.7386127875258306,0,1,1,2.7386127875258306,0\" stroke=\"#4c78a8\" stroke-width=\"2\" opacity=\"0.7\"/><path aria-label=\"x: 6.1499202328; y: 7.08030941436\" role=\"graphics-symbol\" aria-roledescription=\"point\" transform=\"translate(370.45091967272526,34.48839696164541)\" d=\"M2.7386127875258306,0A2.7386127875258306,2.7386127875258306,0,1,1,-2.7386127875258306,0A2.7386127875258306,2.7386127875258306,0,1,1,2.7386127875258306,0\" stroke=\"#4c78a8\" stroke-width=\"2\" opacity=\"0.7\"/><path aria-label=\"x: 7.70685579944; y: 6.92418519927\" role=\"graphics-symbol\" aria-roledescription=\"point\" transform=\"translate(441.2207181565858,40.34305502724287)\" d=\"M2.7386127875258306,0A2.7386127875258306,2.7386127875258306,0,1,1,-2.7386127875258306,0A2.7386127875258306,2.7386127875258306,0,1,1,2.7386127875258306,0\" stroke=\"#4c78a8\" stroke-width=\"2\" opacity=\"0.7\"/><path aria-label=\"x: 7.05489860743; y: 5.67896146496\" role=\"graphics-symbol\" aria-roledescription=\"point\" transform=\"translate(411.58630033756725,87.03894506400545)\" d=\"M2.7386127875258306,0A2.7386127875258306,2.7386127875258306,0,1,1,-2.7386127875258306,0A2.7386127875258306,2.7386127875258306,0,1,1,2.7386127875258306,0\" stroke=\"#4c78a8\" stroke-width=\"2\" opacity=\"0.7\"/><path aria-label=\"x: 7.16635863393; y: 4.83458329719\" role=\"graphics-symbol\" aria-roledescription=\"point\" transform=\"translate(416.6526651787841,118.7031263552921)\" d=\"M2.7386127875258306,0A2.7386127875258306,2.7386127875258306,0,1,1,-2.7386127875258306,0A2.7386127875258306,2.7386127875258306,0,1,1,2.7386127875258306,0\" stroke=\"#4c78a8\" stroke-width=\"2\" opacity=\"0.7\"/><path aria-label=\"x: 0.444685821261; y: 1.53899299117\" role=\"graphics-symbol\" aria-roledescription=\"point\" transform=\"translate(111.12208278461117,242.28776283110776)\" d=\"M2.7386127875258306,0A2.7386127875258306,2.7386127875258306,0,1,1,-2.7386127875258306,0A2.7386127875258306,2.7386127875258306,0,1,1,2.7386127875258306,0\" stroke=\"#4c78a8\" stroke-width=\"2\" opacity=\"0.7\"/><path aria-label=\"x: 5.41418746259; y: 6.31359825284\" role=\"graphics-symbol\" aria-roledescription=\"point\" transform=\"translate(337.0085210268386,63.240065518320066)\" d=\"M2.7386127875258306,0A2.7386127875258306,2.7386127875258306,0,1,1,-2.7386127875258306,0A2.7386127875258306,2.7386127875258306,0,1,1,2.7386127875258306,0\" stroke=\"#4c78a8\" stroke-width=\"2\" opacity=\"0.7\"/><path aria-label=\"x: 6.78991724181; y: 4.96576264355\" role=\"graphics-symbol\" aria-roledescription=\"point\" transform=\"translate(399.5416928096908,113.78390086703511)\" d=\"M2.7386127875258306,0A2.7386127875258306,2.7386127875258306,0,1,1,-2.7386127875258306,0A2.7386127875258306,2.7386127875258306,0,1,1,2.7386127875258306,0\" stroke=\"#4c78a8\" stroke-width=\"2\" opacity=\"0.7\"/><path aria-label=\"x: 5.27668506642; y: 7.14083087489\" role=\"graphics-symbol\" aria-roledescription=\"point\" transform=\"translate(330.75841211004195,32.2188421915925)\" d=\"M2.7386127875258306,0A2.7386127875258306,2.7386127875258306,0,1,1,-2.7386127875258306,0A2.7386127875258306,2.7386127875258306,0,1,1,2.7386127875258306,0\" stroke=\"#4c78a8\" stroke-width=\"2\" opacity=\"0.7\"/><path aria-label=\"x: 4.64803808622; y: 5.81841868181\" role=\"graphics-symbol\" aria-roledescription=\"point\" transform=\"translate(302.1835493734212,81.80929943220914)\" d=\"M2.7386127875258306,0A2.7386127875258306,2.7386127875258306,0,1,1,-2.7386127875258306,0A2.7386127875258306,2.7386127875258306,0,1,1,2.7386127875258306,0\" stroke=\"#4c78a8\" stroke-width=\"2\" opacity=\"0.7\"/><path aria-label=\"x: 5.68650066742; y: 6.19298363125\" role=\"graphics-symbol\" aria-roledescription=\"point\" transform=\"translate(349.3863939737125,67.76311382827842)\" d=\"M2.7386127875258306,0A2.7386127875258306,2.7386127875258306,0,1,1,-2.7386127875258306,0A2.7386127875258306,2.7386127875258306,0,1,1,2.7386127875258306,0\" stroke=\"#4c78a8\" stroke-width=\"2\" opacity=\"0.7\"/><path aria-label=\"x: 3.08511583469; y: 4.72544974497\" role=\"graphics-symbol\" aria-roledescription=\"point\" transform=\"translate(231.1416288494853,122.79563456366046)\" d=\"M2.7386127875258306,0A2.7386127875258306,2.7386127875258306,0,1,1,-2.7386127875258306,0A2.7386127875258306,2.7386127875258306,0,1,1,2.7386127875258306,0\" stroke=\"#4c78a8\" stroke-width=\"2\" opacity=\"0.7\"/><path aria-label=\"x: 4.47585844951; y: 6.14745411836\" role=\"graphics-symbol\" aria-roledescription=\"point\" transform=\"translate(294.3572022503523,69.47047056131659)\" d=\"M2.7386127875258306,0A2.7386127875258306,2.7386127875258306,0,1,1,-2.7386127875258306,0A2.7386127875258306,2.7386127875258306,0,1,1,2.7386127875258306,0\" stroke=\"#4c78a8\" stroke-width=\"2\" opacity=\"0.7\"/><path aria-label=\"x: 3.2112467977; y: 3.27785802751\" role=\"graphics-symbol\" aria-roledescription=\"point\" transform=\"translate(236.87485444107773,177.0803239684467)\" d=\"M2.7386127875258306,0A2.7386127875258306,2.7386127875258306,0,1,1,-2.7386127875258306,0A2.7386127875258306,2.7386127875258306,0,1,1,2.7386127875258306,0\" stroke=\"#4c78a8\" stroke-width=\"2\" opacity=\"0.7\"/><path aria-label=\"x: 7.82774316794; y: 4.2852629808\" role=\"graphics-symbol\" aria-roledescription=\"point\" transform=\"translate(446.71559854275125,139.30263821985562)\" d=\"M2.7386127875258306,0A2.7386127875258306,2.7386127875258306,0,1,1,-2.7386127875258306,0A2.7386127875258306,2.7386127875258306,0,1,1,2.7386127875258306,0\" stroke=\"#4c78a8\" stroke-width=\"2\" opacity=\"0.7\"/><path aria-label=\"x: −1.0498221245; y: 1.75184830012\" role=\"graphics-symbol\" aria-roledescription=\"point\" transform=\"translate(43.18990343187828,234.3056887455825)\" d=\"M2.7386127875258306,0A2.7386127875258306,2.7386127875258306,0,1,1,-2.7386127875258306,0A2.7386127875258306,2.7386127875258306,0,1,1,2.7386127875258306,0\" stroke=\"#4c78a8\" stroke-width=\"2\" opacity=\"0.7\"/><path aria-label=\"x: 6.83987250539; y: 5.79276845768\" role=\"graphics-symbol\" aria-roledescription=\"point\" transform=\"translate(401.8123866088257,82.771182837096)\" d=\"M2.7386127875258306,0A2.7386127875258306,2.7386127875258306,0,1,1,-2.7386127875258306,0A2.7386127875258306,2.7386127875258306,0,1,1,2.7386127875258306,0\" stroke=\"#4c78a8\" stroke-width=\"2\" opacity=\"0.7\"/><path aria-label=\"x: 5.46983072463; y: 3.41640198269\" role=\"graphics-symbol\" aria-roledescription=\"point\" transform=\"translate(339.5377602102449,171.88492564894258)\" d=\"M2.7386127875258306,0A2.7386127875258306,2.7386127875258306,0,1,1,-2.7386127875258306,0A2.7386127875258306,2.7386127875258306,0,1,1,2.7386127875258306,0\" stroke=\"#4c78a8\" stroke-width=\"2\" opacity=\"0.7\"/><path aria-label=\"x: 8.15323752148; y: 6.30216061267\" role=\"graphics-symbol\" aria-roledescription=\"point\" transform=\"translate(461.51079643112655,63.668977024819284)\" d=\"M2.7386127875258306,0A2.7386127875258306,2.7386127875258306,0,1,1,-2.7386127875258306,0A2.7386127875258306,2.7386127875258306,0,1,1,2.7386127875258306,0\" stroke=\"#4c78a8\" stroke-width=\"2\" opacity=\"0.7\"/><path aria-label=\"x: −1.07880966137; y: 3.97361364657\" role=\"graphics-symbol\" aria-roledescription=\"point\" transform=\"translate(41.872288119457735,150.98948825377576)\" d=\"M2.7386127875258306,0A2.7386127875258306,2.7386127875258306,0,1,1,-2.7386127875258306,0A2.7386127875258306,2.7386127875258306,0,1,1,2.7386127875258306,0\" stroke=\"#4c78a8\" stroke-width=\"2\" opacity=\"0.7\"/><path aria-label=\"x: 6.67713383781; y: 6.32278603419\" role=\"graphics-symbol\" aria-roledescription=\"point\" transform=\"translate(394.41517444599856,62.89552371775873)\" d=\"M2.7386127875258306,0A2.7386127875258306,2.7386127875258306,0,1,1,-2.7386127875258306,0A2.7386127875258306,2.7386127875258306,0,1,1,2.7386127875258306,0\" stroke=\"#4c78a8\" stroke-width=\"2\" opacity=\"0.7\"/><path aria-label=\"x: 5.2539996859; y: 6.27314359756\" role=\"graphics-symbol\" aria-roledescription=\"point\" transform=\"translate(329.7272584498596,64.75711509168462)\" d=\"M2.7386127875258306,0A2.7386127875258306,2.7386127875258306,0,1,1,-2.7386127875258306,0A2.7386127875258306,2.7386127875258306,0,1,1,2.7386127875258306,0\" stroke=\"#4c78a8\" stroke-width=\"2\" opacity=\"0.7\"/><path aria-label=\"x: 1.02604159583; y: 5.73428134835\" role=\"graphics-symbol\" aria-roledescription=\"point\" transform=\"translate(137.54734526514883,84.96444943683042)\" d=\"M2.7386127875258306,0A2.7386127875258306,2.7386127875258306,0,1,1,-2.7386127875258306,0A2.7386127875258306,2.7386127875258306,0,1,1,2.7386127875258306,0\" stroke=\"#4c78a8\" stroke-width=\"2\" opacity=\"0.7\"/><path aria-label=\"x: 6.4274911908; y: 5.36368199711\" role=\"graphics-symbol\" aria-roledescription=\"point\" transform=\"translate(383.06778139993133,98.86192510849997)\" d=\"M2.7386127875258306,0A2.7386127875258306,2.7386127875258306,0,1,1,-2.7386127875258306,0A2.7386127875258306,2.7386127875258306,0,1,1,2.7386127875258306,0\" stroke=\"#4c78a8\" stroke-width=\"2\" opacity=\"0.7\"/><path aria-label=\"x: 4.47813195282; y: 5.64723167252\" role=\"graphics-symbol\" aria-roledescription=\"point\" transform=\"translate(294.46054330988034,88.22881228067878)\" d=\"M2.7386127875258306,0A2.7386127875258306,2.7386127875258306,0,1,1,-2.7386127875258306,0A2.7386127875258306,2.7386127875258306,0,1,1,2.7386127875258306,0\" stroke=\"#4c78a8\" stroke-width=\"2\" opacity=\"0.7\"/><path aria-label=\"x: 7.17657558139; y: 4.28184086004\" role=\"graphics-symbol\" aria-roledescription=\"point\" transform=\"translate(417.1170718814867,139.43096774842942)\" d=\"M2.7386127875258306,0A2.7386127875258306,2.7386127875258306,0,1,1,-2.7386127875258306,0A2.7386127875258306,2.7386127875258306,0,1,1,2.7386127875258306,0\" stroke=\"#4c78a8\" stroke-width=\"2\" opacity=\"0.7\"/><path aria-label=\"x: 7.94667064039; y: 6.81721618399\" role=\"graphics-symbol\" aria-roledescription=\"point\" transform=\"translate(452.12139274509633,44.35439310056051)\" d=\"M2.7386127875258306,0A2.7386127875258306,2.7386127875258306,0,1,1,-2.7386127875258306,0A2.7386127875258306,2.7386127875258306,0,1,1,2.7386127875258306,0\" stroke=\"#4c78a8\" stroke-width=\"2\" opacity=\"0.7\"/><path aria-label=\"x: 5.92844487194; y: 5.31025511837\" role=\"graphics-symbol\" aria-roledescription=\"point\" transform=\"translate(360.38385781544,100.86543306124298)\" d=\"M2.7386127875258306,0A2.7386127875258306,2.7386127875258306,0,1,1,-2.7386127875258306,0A2.7386127875258306,2.7386127875258306,0,1,1,2.7386127875258306,0\" stroke=\"#4c78a8\" stroke-width=\"2\" opacity=\"0.7\"/><path aria-label=\"x: 6.44854123228; y: 6.1010272054\" role=\"graphics-symbol\" aria-roledescription=\"point\" transform=\"translate(384.0246014672602,71.2114797975639)\" d=\"M2.7386127875258306,0A2.7386127875258306,2.7386127875258306,0,1,1,-2.7386127875258306,0A2.7386127875258306,2.7386127875258306,0,1,1,2.7386127875258306,0\" stroke=\"#4c78a8\" stroke-width=\"2\" opacity=\"0.7\"/><path aria-label=\"x: 7.15057595952; y: 5.12959735123\" role=\"graphics-symbol\" aria-roledescription=\"point\" transform=\"translate(415.93527088735885,107.64009932893721)\" d=\"M2.7386127875258306,0A2.7386127875258306,2.7386127875258306,0,1,1,-2.7386127875258306,0A2.7386127875258306,2.7386127875258306,0,1,1,2.7386127875258306,0\" stroke=\"#4c78a8\" stroke-width=\"2\" opacity=\"0.7\"/></g><g class=\"mark-group role-title\"><g transform=\"translate(250,-22)\"><path class=\"background\" aria-hidden=\"true\" d=\"M0,0h0v0h0Z\" pointer-events=\"none\"/><g><g class=\"mark-text role-title-text\" role=\"graphics-symbol\" aria-roledescription=\"title\" aria-label=\"Title text 'Training'\" pointer-events=\"none\"><text text-anchor=\"middle\" transform=\"translate(0,10)\" font-family=\"sans-serif\" font-size=\"13px\" font-weight=\"bold\" fill=\"#000\" opacity=\"1\">Training</text></g></g><path class=\"foreground\" aria-hidden=\"true\" d=\"\" pointer-events=\"none\" display=\"none\"/></g></g></g><path class=\"foreground\" aria-hidden=\"true\" d=\"\" display=\"none\"/></g></g></g></svg>\n",
      "text/plain": [
       "@vlplot(\n",
       "    width=500,\n",
       "    height=300,\n",
       "    title=\"Training\",\n",
       "    mark=\"point\",\n",
       "    encoding={\n",
       "        x={\n",
       "            field=\"x\",\n",
       "            title=nothing\n",
       "        },\n",
       "        y={\n",
       "            field=\"y\",\n",
       "            title=nothing\n",
       "        }\n",
       "    },\n",
       "    data={\n",
       "        values=...\n",
       "    }\n",
       ")"
      ]
     },
     "metadata": {},
     "output_type": "display_data"
    }
   ],
   "source": [
    "@vlplot(\n",
    "    width=500,\n",
    "    height=300,\n",
    "    :point,\n",
    "    x=y[train],\n",
    "    y=y_train_pred,\n",
    "    title=\"Training\"\n",
    ")"
   ]
  },
  {
   "cell_type": "markdown",
   "metadata": {},
   "source": [
    "# Predict on new dataset"
   ]
  },
  {
   "cell_type": "code",
   "execution_count": 55,
   "metadata": {},
   "outputs": [],
   "source": [
    "# Import CSV to dataframe, select the same columns used for training\n",
    "lichen = CSV.read(\"C:/Users/jnovoa/Downloads/predicted_biomass_Nov2021.csv\", DataFrame) |>\n",
    "x -> select(x, :BASAL_AREA, :PL, :LON) |>\n",
    "x -> rename(x, [\"basalarea\", \"pl\", \"lon\"]);"
   ]
  },
  {
   "cell_type": "code",
   "execution_count": 56,
   "metadata": {},
   "outputs": [
    {
     "data": {
      "text/plain": [
       "213821-element Vector{Float64}:\n",
       "  235.63390233319512\n",
       "  103.22982469348803\n",
       "  152.2533379781093\n",
       "  396.14168888031355\n",
       " 1018.2662663615342\n",
       "  119.71647081349874\n",
       "  119.19309382318978\n",
       "  149.6752131973856\n",
       "  110.72346452562448\n",
       "  223.91992448012823\n",
       "    ⋮\n",
       "  176.81836390056841\n",
       "   25.123394661866676\n",
       "  273.3574949476115\n",
       "   56.31347371240417\n",
       "   19.78893351598704\n",
       "    8.37129315363364\n",
       "   18.66901050631253\n",
       "   88.83952874006599\n",
       "  112.48843851512528"
      ]
     },
     "metadata": {},
     "output_type": "display_data"
    }
   ],
   "source": [
    "biomass = exp.(predict(LinearModel, lichen))"
   ]
  },
  {
   "cell_type": "code",
   "execution_count": 59,
   "metadata": {},
   "outputs": [
    {
     "data": {
      "text/plain": [
       "\"C:/Users/jnovoa/Downloads/predicted_biomass.csv\""
      ]
     },
     "metadata": {},
     "output_type": "display_data"
    }
   ],
   "source": [
    "CSV.write(\"C:/Users/jnovoa/Downloads/predicted_biomass.csv\", DataFrame(biomass=biomass))"
   ]
  }
 ],
 "metadata": {
  "kernelspec": {
   "display_name": "Julia 1.6.4",
   "language": "julia",
   "name": "julia-1.6"
  },
  "language_info": {
   "file_extension": ".jl",
   "mimetype": "application/julia",
   "name": "julia",
   "version": "1.6.4"
  },
  "orig_nbformat": 4
 },
 "nbformat": 4,
 "nbformat_minor": 2
}
